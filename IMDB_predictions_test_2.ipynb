{
 "cells": [
  {
   "cell_type": "markdown",
   "metadata": {},
   "source": [
    "# IMDB project: predicting movies scores\n",
    "### by Javier Alonso\n",
    "\n",
    "This Jupyter Notebook is part of \"My IMDB project\" and tries to predict the rates of the movies in IMDB, based on the database published by IMDB\n",
    "\n",
    "The database was downloaded from IMDB on 2020/05/25 but some days after they changed all the system for retrieving the data, so I won´t be able to upgrade easily the project with new data.\n",
    "\n",
    "In this case we narrow the database to a specific decade and genre, comedies of the 2010´s decade, to see if the results are better\n",
    "\n",
    "The results have been posted in my [\"My blog\"](https://javieralonsoalonso.com/category/my-imdb-project/)\n",
    "\n",
    "## Table of Contents\n",
    "\n",
    "1. [Preliminary Wrangling](#Preliminary_Wrangling)<br>\n",
    "1.a.-[Gathering Data](#Gathering_Data)<br>\n",
    "1.b.-[Assesing and Cleaning Data](#Assesing_cleaning_data)<br>\n",
    "1.c.-[Consolidation of Dataframes](#Consolidaion_dataframes)<br>\n",
    "2. [Machine Learning Algorithm](#MLA)<br>\n",
    "3.a.-[Data preparation](#Data_preparation)<br>\n",
    "3.b.-[Algorithm Selection](#Alg_Selection)<br>\n",
    "\n",
    "\n",
    "## <a class=\"anchor\" id=\"Preliminary_Wrangling\">Part 1: Preliminary Wrangling"
   ]
  },
  {
   "cell_type": "code",
   "execution_count": 1,
   "metadata": {},
   "outputs": [],
   "source": [
    "# import all packages and set plots to be embedded inline\n",
    "import numpy as np\n",
    "import pandas as pd\n",
    "import matplotlib.pyplot as plt\n",
    "import seaborn as sb\n",
    "import time\n",
    "\n",
    "%matplotlib inline\n",
    "\n",
    "# machine learning\n",
    "from sklearn.linear_model import LogisticRegression\n",
    "from sklearn.svm import SVC, LinearSVC\n",
    "from sklearn.ensemble import RandomForestClassifier\n",
    "from sklearn.neighbors import KNeighborsClassifier\n",
    "from sklearn.naive_bayes import GaussianNB\n",
    "from sklearn.linear_model import Perceptron\n",
    "from sklearn.linear_model import SGDClassifier\n",
    "from sklearn.tree import DecisionTreeClassifier\n",
    "from sklearn.model_selection import KFold\n",
    "from sklearn.model_selection import train_test_split\n",
    "from sklearn.model_selection import cross_val_score, cross_val_predict\n",
    "from sklearn.ensemble import AdaBoostClassifier\n",
    "from sklearn.metrics import confusion_matrix\n",
    "from sklearn.model_selection import GridSearchCV\n",
    "from sklearn.preprocessing import MinMaxScaler\n",
    "\n",
    "\n",
    "from sklearn.pipeline import Pipeline, FeatureUnion\n",
    "from sklearn.base import BaseEstimator, TransformerMixin\n",
    "from sklearn.feature_extraction.text import CountVectorizer, TfidfTransformer\n",
    "from sklearn.datasets import make_multilabel_classification\n",
    "from sklearn.multioutput import MultiOutputClassifier\n",
    "from sklearn.metrics import classification_report\n",
    "from sklearn.metrics import accuracy_score\n",
    "from sklearn import tree\n",
    "from sklearn.metrics import f1_score\n",
    "from sklearn import linear_model\n",
    "from sklearn.metrics import mean_squared_error\n",
    "from sklearn.linear_model import LinearRegression\n",
    "from sklearn.datasets import load_digits\n",
    "from sklearn.feature_selection import SelectPercentile, chi2\n",
    "from sklearn.linear_model import LinearRegression\n",
    "from sklearn.linear_model import Lasso\n",
    "from sklearn.linear_model import ElasticNet\n",
    "from sklearn.tree import DecisionTreeRegressor\n",
    "from sklearn.neighbors import KNeighborsRegressor\n",
    "from sklearn.ensemble import GradientBoostingRegressor\n",
    "from sklearn.decomposition import PCA\n",
    "from sklearn.model_selection import RandomizedSearchCV\n",
    "\n",
    "from scipy.stats import uniform as sp_rand\n",
    "from scipy.stats import uniform as sp_randFloat\n",
    "from scipy.stats import uniform as sp_randInt\n",
    "from scipy.stats import uniform as sp_random"
   ]
  },
  {
   "cell_type": "markdown",
   "metadata": {},
   "source": [
    "### <a class=\"anchor\" id=\"Gathering_Data\"> 1.a.- Gathering Data\n",
    "\n",
    "In this section we´ll gather data from the precleaned dataset for the EDA"
   ]
  },
  {
   "cell_type": "code",
   "execution_count": 2,
   "metadata": {},
   "outputs": [
    {
     "data": {
      "text/plain": [
       "(221748, 12)"
      ]
     },
     "execution_count": 2,
     "metadata": {},
     "output_type": "execute_result"
    }
   ],
   "source": [
    "df_movies = pd.read_csv('IMDB_clean_movies.csv')\n",
    "df_movies.shape"
   ]
  },
  {
   "cell_type": "markdown",
   "metadata": {},
   "source": [
    "A view of the dataframe"
   ]
  },
  {
   "cell_type": "code",
   "execution_count": 3,
   "metadata": {
    "scrolled": true
   },
   "outputs": [
    {
     "data": {
      "text/html": [
       "<div>\n",
       "<style scoped>\n",
       "    .dataframe tbody tr th:only-of-type {\n",
       "        vertical-align: middle;\n",
       "    }\n",
       "\n",
       "    .dataframe tbody tr th {\n",
       "        vertical-align: top;\n",
       "    }\n",
       "\n",
       "    .dataframe thead th {\n",
       "        text-align: right;\n",
       "    }\n",
       "</style>\n",
       "<table border=\"1\" class=\"dataframe\">\n",
       "  <thead>\n",
       "    <tr style=\"text-align: right;\">\n",
       "      <th></th>\n",
       "      <th>idMovie</th>\n",
       "      <th>originalTitle</th>\n",
       "      <th>Year</th>\n",
       "      <th>Minutes</th>\n",
       "      <th>Genres</th>\n",
       "      <th>averageRating</th>\n",
       "      <th>numVotes</th>\n",
       "      <th>decade</th>\n",
       "      <th>director</th>\n",
       "      <th>actors</th>\n",
       "      <th>actress</th>\n",
       "      <th>writers</th>\n",
       "    </tr>\n",
       "  </thead>\n",
       "  <tbody>\n",
       "    <tr>\n",
       "      <th>0</th>\n",
       "      <td>tt0000009</td>\n",
       "      <td>Miss Jerry</td>\n",
       "      <td>1894</td>\n",
       "      <td>45</td>\n",
       "      <td>Romance</td>\n",
       "      <td>5.9</td>\n",
       "      <td>153</td>\n",
       "      <td>1890</td>\n",
       "      <td>Alexander Black</td>\n",
       "      <td>William Courtenay,Chauncey Depew</td>\n",
       "      <td>Blanche Bayliss</td>\n",
       "      <td>Not available</td>\n",
       "    </tr>\n",
       "    <tr>\n",
       "      <th>1</th>\n",
       "      <td>tt0000147</td>\n",
       "      <td>The Corbett-Fitzsimmons Fight</td>\n",
       "      <td>1897</td>\n",
       "      <td>20</td>\n",
       "      <td>Documentary,News,Sport</td>\n",
       "      <td>5.2</td>\n",
       "      <td>346</td>\n",
       "      <td>1890</td>\n",
       "      <td>Enoch J. Rector</td>\n",
       "      <td>Not available</td>\n",
       "      <td>Not available</td>\n",
       "      <td>Not available</td>\n",
       "    </tr>\n",
       "    <tr>\n",
       "      <th>2</th>\n",
       "      <td>tt0000335</td>\n",
       "      <td>Soldiers of the Cross</td>\n",
       "      <td>1900</td>\n",
       "      <td>91</td>\n",
       "      <td>Biography,Drama</td>\n",
       "      <td>6.1</td>\n",
       "      <td>40</td>\n",
       "      <td>1900</td>\n",
       "      <td>Herbert Booth,Joseph Perry</td>\n",
       "      <td>Harold Graham,Mr. Graham,John Jones,Orrie Perr...</td>\n",
       "      <td>Beatrice Day</td>\n",
       "      <td>Not available</td>\n",
       "    </tr>\n",
       "    <tr>\n",
       "      <th>3</th>\n",
       "      <td>tt0000502</td>\n",
       "      <td>Bohemios</td>\n",
       "      <td>1905</td>\n",
       "      <td>100</td>\n",
       "      <td>No available</td>\n",
       "      <td>3.8</td>\n",
       "      <td>6</td>\n",
       "      <td>1900</td>\n",
       "      <td>Ricardo de Baños</td>\n",
       "      <td>Antonio del Pozo,El Mochuelo</td>\n",
       "      <td>Not available</td>\n",
       "      <td>Marguerite Thévenard,Bleuette Bernon</td>\n",
       "    </tr>\n",
       "    <tr>\n",
       "      <th>4</th>\n",
       "      <td>tt0000574</td>\n",
       "      <td>The Story of the Kelly Gang</td>\n",
       "      <td>1906</td>\n",
       "      <td>70</td>\n",
       "      <td>Biography,Crime,Drama</td>\n",
       "      <td>6.1</td>\n",
       "      <td>574</td>\n",
       "      <td>1900</td>\n",
       "      <td>Charles Tait</td>\n",
       "      <td>John Tait,Norman Campbell</td>\n",
       "      <td>Elizabeth Tait,Bella Cola</td>\n",
       "      <td>Not available</td>\n",
       "    </tr>\n",
       "  </tbody>\n",
       "</table>\n",
       "</div>"
      ],
      "text/plain": [
       "     idMovie                  originalTitle  Year  Minutes  \\\n",
       "0  tt0000009                     Miss Jerry  1894       45   \n",
       "1  tt0000147  The Corbett-Fitzsimmons Fight  1897       20   \n",
       "2  tt0000335          Soldiers of the Cross  1900       91   \n",
       "3  tt0000502                       Bohemios  1905      100   \n",
       "4  tt0000574    The Story of the Kelly Gang  1906       70   \n",
       "\n",
       "                   Genres  averageRating  numVotes  decade  \\\n",
       "0                 Romance            5.9       153    1890   \n",
       "1  Documentary,News,Sport            5.2       346    1890   \n",
       "2         Biography,Drama            6.1        40    1900   \n",
       "3            No available            3.8         6    1900   \n",
       "4   Biography,Crime,Drama            6.1       574    1900   \n",
       "\n",
       "                     director  \\\n",
       "0             Alexander Black   \n",
       "1             Enoch J. Rector   \n",
       "2  Herbert Booth,Joseph Perry   \n",
       "3            Ricardo de Baños   \n",
       "4                Charles Tait   \n",
       "\n",
       "                                              actors  \\\n",
       "0                   William Courtenay,Chauncey Depew   \n",
       "1                                      Not available   \n",
       "2  Harold Graham,Mr. Graham,John Jones,Orrie Perr...   \n",
       "3                       Antonio del Pozo,El Mochuelo   \n",
       "4                          John Tait,Norman Campbell   \n",
       "\n",
       "                     actress                               writers  \n",
       "0            Blanche Bayliss                         Not available  \n",
       "1              Not available                         Not available  \n",
       "2               Beatrice Day                         Not available  \n",
       "3              Not available  Marguerite Thévenard,Bleuette Bernon  \n",
       "4  Elizabeth Tait,Bella Cola                         Not available  "
      ]
     },
     "execution_count": 3,
     "metadata": {},
     "output_type": "execute_result"
    }
   ],
   "source": [
    "df_movies.head(5)"
   ]
  },
  {
   "cell_type": "markdown",
   "metadata": {},
   "source": [
    "### <a class=\"anchor\" id=\"Assesing_cleaning_data\"> 1.b.- Asessing and cleaning data\n",
    "\n",
    "Now, we´re going to assess the dataframe visually and programmatically for quality and tidiness issues, and do the cleaning of these issues\n",
    "\n",
    "First thing we do a copy of my dataframe\n"
   ]
  },
  {
   "cell_type": "code",
   "execution_count": 4,
   "metadata": {},
   "outputs": [],
   "source": [
    "movies = df_movies.copy()"
   ]
  },
  {
   "cell_type": "code",
   "execution_count": 5,
   "metadata": {},
   "outputs": [
    {
     "data": {
      "text/html": [
       "<div>\n",
       "<style scoped>\n",
       "    .dataframe tbody tr th:only-of-type {\n",
       "        vertical-align: middle;\n",
       "    }\n",
       "\n",
       "    .dataframe tbody tr th {\n",
       "        vertical-align: top;\n",
       "    }\n",
       "\n",
       "    .dataframe thead th {\n",
       "        text-align: right;\n",
       "    }\n",
       "</style>\n",
       "<table border=\"1\" class=\"dataframe\">\n",
       "  <thead>\n",
       "    <tr style=\"text-align: right;\">\n",
       "      <th></th>\n",
       "      <th>idMovie</th>\n",
       "      <th>originalTitle</th>\n",
       "      <th>Year</th>\n",
       "      <th>Minutes</th>\n",
       "      <th>Genres</th>\n",
       "      <th>averageRating</th>\n",
       "      <th>numVotes</th>\n",
       "      <th>decade</th>\n",
       "      <th>director</th>\n",
       "      <th>actors</th>\n",
       "      <th>actress</th>\n",
       "      <th>writers</th>\n",
       "    </tr>\n",
       "  </thead>\n",
       "  <tbody>\n",
       "    <tr>\n",
       "      <th>0</th>\n",
       "      <td>tt0000009</td>\n",
       "      <td>Miss Jerry</td>\n",
       "      <td>1894</td>\n",
       "      <td>45</td>\n",
       "      <td>Romance</td>\n",
       "      <td>5.9</td>\n",
       "      <td>153</td>\n",
       "      <td>1890</td>\n",
       "      <td>Alexander Black</td>\n",
       "      <td>William Courtenay,Chauncey Depew</td>\n",
       "      <td>Blanche Bayliss</td>\n",
       "      <td>Not available</td>\n",
       "    </tr>\n",
       "    <tr>\n",
       "      <th>1</th>\n",
       "      <td>tt0000147</td>\n",
       "      <td>The Corbett-Fitzsimmons Fight</td>\n",
       "      <td>1897</td>\n",
       "      <td>20</td>\n",
       "      <td>Documentary,News,Sport</td>\n",
       "      <td>5.2</td>\n",
       "      <td>346</td>\n",
       "      <td>1890</td>\n",
       "      <td>Enoch J. Rector</td>\n",
       "      <td>Not available</td>\n",
       "      <td>Not available</td>\n",
       "      <td>Not available</td>\n",
       "    </tr>\n",
       "    <tr>\n",
       "      <th>2</th>\n",
       "      <td>tt0000335</td>\n",
       "      <td>Soldiers of the Cross</td>\n",
       "      <td>1900</td>\n",
       "      <td>91</td>\n",
       "      <td>Biography,Drama</td>\n",
       "      <td>6.1</td>\n",
       "      <td>40</td>\n",
       "      <td>1900</td>\n",
       "      <td>Herbert Booth,Joseph Perry</td>\n",
       "      <td>Harold Graham,Mr. Graham,John Jones,Orrie Perr...</td>\n",
       "      <td>Beatrice Day</td>\n",
       "      <td>Not available</td>\n",
       "    </tr>\n",
       "    <tr>\n",
       "      <th>3</th>\n",
       "      <td>tt0000502</td>\n",
       "      <td>Bohemios</td>\n",
       "      <td>1905</td>\n",
       "      <td>100</td>\n",
       "      <td>No available</td>\n",
       "      <td>3.8</td>\n",
       "      <td>6</td>\n",
       "      <td>1900</td>\n",
       "      <td>Ricardo de Baños</td>\n",
       "      <td>Antonio del Pozo,El Mochuelo</td>\n",
       "      <td>Not available</td>\n",
       "      <td>Marguerite Thévenard,Bleuette Bernon</td>\n",
       "    </tr>\n",
       "    <tr>\n",
       "      <th>4</th>\n",
       "      <td>tt0000574</td>\n",
       "      <td>The Story of the Kelly Gang</td>\n",
       "      <td>1906</td>\n",
       "      <td>70</td>\n",
       "      <td>Biography,Crime,Drama</td>\n",
       "      <td>6.1</td>\n",
       "      <td>574</td>\n",
       "      <td>1900</td>\n",
       "      <td>Charles Tait</td>\n",
       "      <td>John Tait,Norman Campbell</td>\n",
       "      <td>Elizabeth Tait,Bella Cola</td>\n",
       "      <td>Not available</td>\n",
       "    </tr>\n",
       "  </tbody>\n",
       "</table>\n",
       "</div>"
      ],
      "text/plain": [
       "     idMovie                  originalTitle  Year  Minutes  \\\n",
       "0  tt0000009                     Miss Jerry  1894       45   \n",
       "1  tt0000147  The Corbett-Fitzsimmons Fight  1897       20   \n",
       "2  tt0000335          Soldiers of the Cross  1900       91   \n",
       "3  tt0000502                       Bohemios  1905      100   \n",
       "4  tt0000574    The Story of the Kelly Gang  1906       70   \n",
       "\n",
       "                   Genres  averageRating  numVotes  decade  \\\n",
       "0                 Romance            5.9       153    1890   \n",
       "1  Documentary,News,Sport            5.2       346    1890   \n",
       "2         Biography,Drama            6.1        40    1900   \n",
       "3            No available            3.8         6    1900   \n",
       "4   Biography,Crime,Drama            6.1       574    1900   \n",
       "\n",
       "                     director  \\\n",
       "0             Alexander Black   \n",
       "1             Enoch J. Rector   \n",
       "2  Herbert Booth,Joseph Perry   \n",
       "3            Ricardo de Baños   \n",
       "4                Charles Tait   \n",
       "\n",
       "                                              actors  \\\n",
       "0                   William Courtenay,Chauncey Depew   \n",
       "1                                      Not available   \n",
       "2  Harold Graham,Mr. Graham,John Jones,Orrie Perr...   \n",
       "3                       Antonio del Pozo,El Mochuelo   \n",
       "4                          John Tait,Norman Campbell   \n",
       "\n",
       "                     actress                               writers  \n",
       "0            Blanche Bayliss                         Not available  \n",
       "1              Not available                         Not available  \n",
       "2               Beatrice Day                         Not available  \n",
       "3              Not available  Marguerite Thévenard,Bleuette Bernon  \n",
       "4  Elizabeth Tait,Bella Cola                         Not available  "
      ]
     },
     "execution_count": 5,
     "metadata": {},
     "output_type": "execute_result"
    }
   ],
   "source": [
    "movies.head()"
   ]
  },
  {
   "cell_type": "markdown",
   "metadata": {},
   "source": [
    "#### Keeping movies with more than 1000 votes\n",
    "\n",
    "For the prediction we will keep only movies with more than 1000 votes"
   ]
  },
  {
   "cell_type": "code",
   "execution_count": 7,
   "metadata": {},
   "outputs": [
    {
     "data": {
      "text/plain": [
       "221748"
      ]
     },
     "execution_count": 7,
     "metadata": {},
     "output_type": "execute_result"
    }
   ],
   "source": [
    "len(movies)"
   ]
  },
  {
   "cell_type": "code",
   "execution_count": 8,
   "metadata": {},
   "outputs": [],
   "source": [
    "movies = movies[movies.numVotes>1000]"
   ]
  },
  {
   "cell_type": "code",
   "execution_count": 9,
   "metadata": {},
   "outputs": [
    {
     "data": {
      "text/plain": [
       "30381"
      ]
     },
     "execution_count": 9,
     "metadata": {},
     "output_type": "execute_result"
    }
   ],
   "source": [
    "len(movies)"
   ]
  },
  {
   "cell_type": "markdown",
   "metadata": {},
   "source": [
    "So we will try to predict the rates in 11.086 movies that are the top 5% most voted movies."
   ]
  },
  {
   "cell_type": "markdown",
   "metadata": {},
   "source": [
    "#### Incorrect datatypes\n",
    "\n",
    "Decade should be string. We change the datatype"
   ]
  },
  {
   "cell_type": "code",
   "execution_count": 10,
   "metadata": {},
   "outputs": [],
   "source": [
    "movies.decade = movies.decade.astype(str)"
   ]
  },
  {
   "cell_type": "code",
   "execution_count": 11,
   "metadata": {},
   "outputs": [
    {
     "name": "stdout",
     "output_type": "stream",
     "text": [
      "<class 'pandas.core.frame.DataFrame'>\n",
      "Int64Index: 30381 entries, 63 to 221712\n",
      "Data columns (total 12 columns):\n",
      " #   Column         Non-Null Count  Dtype  \n",
      "---  ------         --------------  -----  \n",
      " 0   idMovie        30381 non-null  object \n",
      " 1   originalTitle  30381 non-null  object \n",
      " 2   Year           30381 non-null  int64  \n",
      " 3   Minutes        30381 non-null  int64  \n",
      " 4   Genres         30381 non-null  object \n",
      " 5   averageRating  30381 non-null  float64\n",
      " 6   numVotes       30381 non-null  int64  \n",
      " 7   decade         30381 non-null  object \n",
      " 8   director       30381 non-null  object \n",
      " 9   actors         30381 non-null  object \n",
      " 10  actress        30379 non-null  object \n",
      " 11  writers        30381 non-null  object \n",
      "dtypes: float64(1), int64(3), object(8)\n",
      "memory usage: 3.0+ MB\n"
     ]
    }
   ],
   "source": [
    "movies.info()"
   ]
  },
  {
   "cell_type": "markdown",
   "metadata": {},
   "source": [
    "#### Deleting columns\n",
    "\n",
    "**Director, actors, actress and writers column** as we will get them from other dataframe"
   ]
  },
  {
   "cell_type": "code",
   "execution_count": 12,
   "metadata": {},
   "outputs": [],
   "source": [
    "movies = movies.drop(['director'], axis=1)\n",
    "movies = movies.drop(['actors'], axis=1)\n",
    "movies = movies.drop(['actress'], axis=1)\n",
    "movies = movies.drop(['writers'], axis=1)"
   ]
  },
  {
   "cell_type": "code",
   "execution_count": 13,
   "metadata": {
    "scrolled": true
   },
   "outputs": [
    {
     "name": "stdout",
     "output_type": "stream",
     "text": [
      "<class 'pandas.core.frame.DataFrame'>\n",
      "Int64Index: 30381 entries, 63 to 221712\n",
      "Data columns (total 8 columns):\n",
      " #   Column         Non-Null Count  Dtype  \n",
      "---  ------         --------------  -----  \n",
      " 0   idMovie        30381 non-null  object \n",
      " 1   originalTitle  30381 non-null  object \n",
      " 2   Year           30381 non-null  int64  \n",
      " 3   Minutes        30381 non-null  int64  \n",
      " 4   Genres         30381 non-null  object \n",
      " 5   averageRating  30381 non-null  float64\n",
      " 6   numVotes       30381 non-null  int64  \n",
      " 7   decade         30381 non-null  object \n",
      "dtypes: float64(1), int64(3), object(4)\n",
      "memory usage: 2.1+ MB\n"
     ]
    }
   ],
   "source": [
    "movies.info()"
   ]
  },
  {
   "cell_type": "markdown",
   "metadata": {},
   "source": [
    "#### Transforming Skewed Continuous Features"
   ]
  },
  {
   "cell_type": "code",
   "execution_count": 14,
   "metadata": {},
   "outputs": [
    {
     "data": {
      "text/plain": [
       "Year            -1.277185\n",
       "Minutes          2.977239\n",
       "averageRating   -0.886599\n",
       "numVotes         8.877122\n",
       "decade          -1.292822\n",
       "dtype: float64"
      ]
     },
     "execution_count": 14,
     "metadata": {},
     "output_type": "execute_result"
    }
   ],
   "source": [
    "movies.skew(axis = 0) "
   ]
  },
  {
   "cell_type": "markdown",
   "metadata": {},
   "source": [
    "The rating is aprox Symetric and decade is in reality a cathegory, so we don´t mind Skew of both of them.\n",
    "\n",
    "We are going to transform Minutes and numVotes for reducing Skewness, due to their high level"
   ]
  },
  {
   "cell_type": "code",
   "execution_count": 15,
   "metadata": {},
   "outputs": [],
   "source": [
    "movies.Minutes = movies.Minutes.apply(lambda x: np.log(x + 1))\n",
    "movies.numVotes = movies.numVotes.apply(lambda x: np.log(x + 1))"
   ]
  },
  {
   "cell_type": "markdown",
   "metadata": {},
   "source": [
    "The skewness has been reduced"
   ]
  },
  {
   "cell_type": "code",
   "execution_count": 16,
   "metadata": {},
   "outputs": [
    {
     "data": {
      "text/plain": [
       "Year            -1.277185\n",
       "Minutes          0.724885\n",
       "averageRating   -0.886599\n",
       "numVotes         1.100125\n",
       "decade          -1.292822\n",
       "dtype: float64"
      ]
     },
     "execution_count": 16,
     "metadata": {},
     "output_type": "execute_result"
    }
   ],
   "source": [
    "movies.skew(axis = 0) "
   ]
  },
  {
   "cell_type": "markdown",
   "metadata": {},
   "source": [
    "#### Normalizing Numerical Features"
   ]
  },
  {
   "cell_type": "code",
   "execution_count": 17,
   "metadata": {},
   "outputs": [
    {
     "data": {
      "text/html": [
       "<div>\n",
       "<style scoped>\n",
       "    .dataframe tbody tr th:only-of-type {\n",
       "        vertical-align: middle;\n",
       "    }\n",
       "\n",
       "    .dataframe tbody tr th {\n",
       "        vertical-align: top;\n",
       "    }\n",
       "\n",
       "    .dataframe thead th {\n",
       "        text-align: right;\n",
       "    }\n",
       "</style>\n",
       "<table border=\"1\" class=\"dataframe\">\n",
       "  <thead>\n",
       "    <tr style=\"text-align: right;\">\n",
       "      <th></th>\n",
       "      <th>Year</th>\n",
       "      <th>Minutes</th>\n",
       "      <th>averageRating</th>\n",
       "      <th>numVotes</th>\n",
       "    </tr>\n",
       "  </thead>\n",
       "  <tbody>\n",
       "    <tr>\n",
       "      <th>count</th>\n",
       "      <td>30381.000000</td>\n",
       "      <td>30381.000000</td>\n",
       "      <td>30381.000000</td>\n",
       "      <td>30381.000000</td>\n",
       "    </tr>\n",
       "    <tr>\n",
       "      <th>mean</th>\n",
       "      <td>1996.273296</td>\n",
       "      <td>4.646675</td>\n",
       "      <td>6.369715</td>\n",
       "      <td>8.618922</td>\n",
       "    </tr>\n",
       "    <tr>\n",
       "      <th>std</th>\n",
       "      <td>21.809789</td>\n",
       "      <td>0.190854</td>\n",
       "      <td>1.131128</td>\n",
       "      <td>1.485920</td>\n",
       "    </tr>\n",
       "    <tr>\n",
       "      <th>min</th>\n",
       "      <td>1911.000000</td>\n",
       "      <td>3.828641</td>\n",
       "      <td>1.000000</td>\n",
       "      <td>6.909753</td>\n",
       "    </tr>\n",
       "    <tr>\n",
       "      <th>25%</th>\n",
       "      <td>1986.000000</td>\n",
       "      <td>4.521789</td>\n",
       "      <td>5.700000</td>\n",
       "      <td>7.442493</td>\n",
       "    </tr>\n",
       "    <tr>\n",
       "      <th>50%</th>\n",
       "      <td>2004.000000</td>\n",
       "      <td>4.615121</td>\n",
       "      <td>6.500000</td>\n",
       "      <td>8.173011</td>\n",
       "    </tr>\n",
       "    <tr>\n",
       "      <th>75%</th>\n",
       "      <td>2013.000000</td>\n",
       "      <td>4.744932</td>\n",
       "      <td>7.200000</td>\n",
       "      <td>9.417192</td>\n",
       "    </tr>\n",
       "    <tr>\n",
       "      <th>max</th>\n",
       "      <td>2020.000000</td>\n",
       "      <td>6.593045</td>\n",
       "      <td>9.500000</td>\n",
       "      <td>14.622942</td>\n",
       "    </tr>\n",
       "  </tbody>\n",
       "</table>\n",
       "</div>"
      ],
      "text/plain": [
       "               Year       Minutes  averageRating      numVotes\n",
       "count  30381.000000  30381.000000   30381.000000  30381.000000\n",
       "mean    1996.273296      4.646675       6.369715      8.618922\n",
       "std       21.809789      0.190854       1.131128      1.485920\n",
       "min     1911.000000      3.828641       1.000000      6.909753\n",
       "25%     1986.000000      4.521789       5.700000      7.442493\n",
       "50%     2004.000000      4.615121       6.500000      8.173011\n",
       "75%     2013.000000      4.744932       7.200000      9.417192\n",
       "max     2020.000000      6.593045       9.500000     14.622942"
      ]
     },
     "execution_count": 17,
     "metadata": {},
     "output_type": "execute_result"
    }
   ],
   "source": [
    "movies.describe()"
   ]
  },
  {
   "cell_type": "code",
   "execution_count": 18,
   "metadata": {},
   "outputs": [],
   "source": [
    "# Initialize a scaler, then apply it to the features\n",
    "scaler = MinMaxScaler() # default=(0, 1)\n",
    "numerical = ['Minutes', 'averageRating', 'numVotes','Year']\n",
    "\n",
    "movies[numerical] = scaler.fit_transform(movies[numerical])"
   ]
  },
  {
   "cell_type": "code",
   "execution_count": 19,
   "metadata": {},
   "outputs": [
    {
     "data": {
      "text/html": [
       "<div>\n",
       "<style scoped>\n",
       "    .dataframe tbody tr th:only-of-type {\n",
       "        vertical-align: middle;\n",
       "    }\n",
       "\n",
       "    .dataframe tbody tr th {\n",
       "        vertical-align: top;\n",
       "    }\n",
       "\n",
       "    .dataframe thead th {\n",
       "        text-align: right;\n",
       "    }\n",
       "</style>\n",
       "<table border=\"1\" class=\"dataframe\">\n",
       "  <thead>\n",
       "    <tr style=\"text-align: right;\">\n",
       "      <th></th>\n",
       "      <th>Year</th>\n",
       "      <th>Minutes</th>\n",
       "      <th>averageRating</th>\n",
       "      <th>numVotes</th>\n",
       "    </tr>\n",
       "  </thead>\n",
       "  <tbody>\n",
       "    <tr>\n",
       "      <th>count</th>\n",
       "      <td>30381.000000</td>\n",
       "      <td>30381.000000</td>\n",
       "      <td>30381.000000</td>\n",
       "      <td>30381.000000</td>\n",
       "    </tr>\n",
       "    <tr>\n",
       "      <th>mean</th>\n",
       "      <td>0.782324</td>\n",
       "      <td>0.295917</td>\n",
       "      <td>0.631731</td>\n",
       "      <td>0.221590</td>\n",
       "    </tr>\n",
       "    <tr>\n",
       "      <th>std</th>\n",
       "      <td>0.200090</td>\n",
       "      <td>0.069040</td>\n",
       "      <td>0.133074</td>\n",
       "      <td>0.192647</td>\n",
       "    </tr>\n",
       "    <tr>\n",
       "      <th>min</th>\n",
       "      <td>0.000000</td>\n",
       "      <td>0.000000</td>\n",
       "      <td>0.000000</td>\n",
       "      <td>0.000000</td>\n",
       "    </tr>\n",
       "    <tr>\n",
       "      <th>25%</th>\n",
       "      <td>0.688073</td>\n",
       "      <td>0.250740</td>\n",
       "      <td>0.552941</td>\n",
       "      <td>0.069069</td>\n",
       "    </tr>\n",
       "    <tr>\n",
       "      <th>50%</th>\n",
       "      <td>0.853211</td>\n",
       "      <td>0.284502</td>\n",
       "      <td>0.647059</td>\n",
       "      <td>0.163779</td>\n",
       "    </tr>\n",
       "    <tr>\n",
       "      <th>75%</th>\n",
       "      <td>0.935780</td>\n",
       "      <td>0.331461</td>\n",
       "      <td>0.729412</td>\n",
       "      <td>0.325085</td>\n",
       "    </tr>\n",
       "    <tr>\n",
       "      <th>max</th>\n",
       "      <td>1.000000</td>\n",
       "      <td>1.000000</td>\n",
       "      <td>1.000000</td>\n",
       "      <td>1.000000</td>\n",
       "    </tr>\n",
       "  </tbody>\n",
       "</table>\n",
       "</div>"
      ],
      "text/plain": [
       "               Year       Minutes  averageRating      numVotes\n",
       "count  30381.000000  30381.000000   30381.000000  30381.000000\n",
       "mean       0.782324      0.295917       0.631731      0.221590\n",
       "std        0.200090      0.069040       0.133074      0.192647\n",
       "min        0.000000      0.000000       0.000000      0.000000\n",
       "25%        0.688073      0.250740       0.552941      0.069069\n",
       "50%        0.853211      0.284502       0.647059      0.163779\n",
       "75%        0.935780      0.331461       0.729412      0.325085\n",
       "max        1.000000      1.000000       1.000000      1.000000"
      ]
     },
     "execution_count": 19,
     "metadata": {},
     "output_type": "execute_result"
    }
   ],
   "source": [
    "movies.describe()"
   ]
  },
  {
   "cell_type": "code",
   "execution_count": 20,
   "metadata": {},
   "outputs": [
    {
     "data": {
      "text/html": [
       "<div>\n",
       "<style scoped>\n",
       "    .dataframe tbody tr th:only-of-type {\n",
       "        vertical-align: middle;\n",
       "    }\n",
       "\n",
       "    .dataframe tbody tr th {\n",
       "        vertical-align: top;\n",
       "    }\n",
       "\n",
       "    .dataframe thead th {\n",
       "        text-align: right;\n",
       "    }\n",
       "</style>\n",
       "<table border=\"1\" class=\"dataframe\">\n",
       "  <thead>\n",
       "    <tr style=\"text-align: right;\">\n",
       "      <th></th>\n",
       "      <th>idMovie</th>\n",
       "      <th>originalTitle</th>\n",
       "      <th>Year</th>\n",
       "      <th>Minutes</th>\n",
       "      <th>Genres</th>\n",
       "      <th>averageRating</th>\n",
       "      <th>numVotes</th>\n",
       "      <th>decade</th>\n",
       "    </tr>\n",
       "  </thead>\n",
       "  <tbody>\n",
       "    <tr>\n",
       "      <th>63</th>\n",
       "      <td>tt0002130</td>\n",
       "      <td>L'Inferno</td>\n",
       "      <td>0.000000</td>\n",
       "      <td>0.146674</td>\n",
       "      <td>Adventure,Drama,Fantasy</td>\n",
       "      <td>0.705882</td>\n",
       "      <td>0.100063</td>\n",
       "      <td>1910</td>\n",
       "    </tr>\n",
       "    <tr>\n",
       "      <th>92</th>\n",
       "      <td>tt0002844</td>\n",
       "      <td>Fantômas - À l'ombre de la guillotine</td>\n",
       "      <td>0.018349</td>\n",
       "      <td>0.064640</td>\n",
       "      <td>Crime,Drama</td>\n",
       "      <td>0.705882</td>\n",
       "      <td>0.084043</td>\n",
       "      <td>1910</td>\n",
       "    </tr>\n",
       "    <tr>\n",
       "      <th>102</th>\n",
       "      <td>tt0003037</td>\n",
       "      <td>Juve contre Fantômas</td>\n",
       "      <td>0.018349</td>\n",
       "      <td>0.107977</td>\n",
       "      <td>Crime,Drama</td>\n",
       "      <td>0.705882</td>\n",
       "      <td>0.037200</td>\n",
       "      <td>1910</td>\n",
       "    </tr>\n",
       "    <tr>\n",
       "      <th>107</th>\n",
       "      <td>tt0003165</td>\n",
       "      <td>Le mort qui tue</td>\n",
       "      <td>0.018349</td>\n",
       "      <td>0.246787</td>\n",
       "      <td>Crime,Drama,Mystery</td>\n",
       "      <td>0.705882</td>\n",
       "      <td>0.004076</td>\n",
       "      <td>1910</td>\n",
       "    </tr>\n",
       "    <tr>\n",
       "      <th>118</th>\n",
       "      <td>tt0003419</td>\n",
       "      <td>Der Student von Prag</td>\n",
       "      <td>0.018349</td>\n",
       "      <td>0.226344</td>\n",
       "      <td>Drama,Fantasy,Horror</td>\n",
       "      <td>0.647059</td>\n",
       "      <td>0.071253</td>\n",
       "      <td>1910</td>\n",
       "    </tr>\n",
       "  </tbody>\n",
       "</table>\n",
       "</div>"
      ],
      "text/plain": [
       "       idMovie                          originalTitle      Year   Minutes  \\\n",
       "63   tt0002130                              L'Inferno  0.000000  0.146674   \n",
       "92   tt0002844  Fantômas - À l'ombre de la guillotine  0.018349  0.064640   \n",
       "102  tt0003037                   Juve contre Fantômas  0.018349  0.107977   \n",
       "107  tt0003165                        Le mort qui tue  0.018349  0.246787   \n",
       "118  tt0003419                   Der Student von Prag  0.018349  0.226344   \n",
       "\n",
       "                      Genres  averageRating  numVotes decade  \n",
       "63   Adventure,Drama,Fantasy       0.705882  0.100063   1910  \n",
       "92               Crime,Drama       0.705882  0.084043   1910  \n",
       "102              Crime,Drama       0.705882  0.037200   1910  \n",
       "107      Crime,Drama,Mystery       0.705882  0.004076   1910  \n",
       "118     Drama,Fantasy,Horror       0.647059  0.071253   1910  "
      ]
     },
     "execution_count": 20,
     "metadata": {},
     "output_type": "execute_result"
    }
   ],
   "source": [
    "movies.head()"
   ]
  },
  {
   "cell_type": "markdown",
   "metadata": {},
   "source": [
    "**Getting the genre dummies**"
   ]
  },
  {
   "cell_type": "code",
   "execution_count": 21,
   "metadata": {},
   "outputs": [],
   "source": [
    "movies = movies.join(movies.Genres.str.get_dummies(sep=',').add_prefix('genre_'))\n",
    "movies = movies.drop(['Genres'], axis=1)"
   ]
  },
  {
   "cell_type": "code",
   "execution_count": 23,
   "metadata": {},
   "outputs": [
    {
     "data": {
      "text/plain": [
       "Index(['idMovie', 'originalTitle', 'Year', 'Minutes', 'averageRating',\n",
       "       'numVotes', 'decade', 'genre_Action', 'genre_Adult', 'genre_Adventure',\n",
       "       'genre_Animation', 'genre_Biography', 'genre_Comedy', 'genre_Crime',\n",
       "       'genre_Documentary', 'genre_Drama', 'genre_Family', 'genre_Fantasy',\n",
       "       'genre_Film-Noir', 'genre_History', 'genre_Horror', 'genre_Music',\n",
       "       'genre_Musical', 'genre_Mystery', 'genre_News', 'genre_No available',\n",
       "       'genre_Romance', 'genre_Sci-Fi', 'genre_Sport', 'genre_Thriller',\n",
       "       'genre_War', 'genre_Western'],\n",
       "      dtype='object')"
      ]
     },
     "execution_count": 23,
     "metadata": {},
     "output_type": "execute_result"
    }
   ],
   "source": [
    "movies.columns"
   ]
  },
  {
   "cell_type": "markdown",
   "metadata": {},
   "source": [
    "**Filtering the Comedies from 2010's decade**"
   ]
  },
  {
   "cell_type": "code",
   "execution_count": 27,
   "metadata": {},
   "outputs": [
    {
     "data": {
      "text/plain": [
       "30381"
      ]
     },
     "execution_count": 27,
     "metadata": {},
     "output_type": "execute_result"
    }
   ],
   "source": [
    "len(movies)"
   ]
  },
  {
   "cell_type": "code",
   "execution_count": 35,
   "metadata": {},
   "outputs": [],
   "source": [
    "movies = movies[(movies.genre_Comedy==1) & (movies.decade == '2010')]"
   ]
  },
  {
   "cell_type": "code",
   "execution_count": 36,
   "metadata": {},
   "outputs": [
    {
     "data": {
      "text/plain": [
       "3423"
      ]
     },
     "execution_count": 36,
     "metadata": {},
     "output_type": "execute_result"
    }
   ],
   "source": [
    "len(movies)"
   ]
  },
  {
   "cell_type": "markdown",
   "metadata": {},
   "source": [
    "#### Getting the crews info\n",
    "\n",
    "I read the file created in the first part of the predictions ( IMDB_predictions_test_0.ipynb )"
   ]
  },
  {
   "cell_type": "code",
   "execution_count": 38,
   "metadata": {},
   "outputs": [],
   "source": [
    "crew = pd.read_csv('IMDB_clean_crew.csv')"
   ]
  },
  {
   "cell_type": "markdown",
   "metadata": {},
   "source": [
    "**Merging the information**"
   ]
  },
  {
   "cell_type": "code",
   "execution_count": 39,
   "metadata": {},
   "outputs": [],
   "source": [
    "movies = pd.merge(movies, crew, left_on = 'idMovie', right_on = 'tconst', how = 'left')"
   ]
  },
  {
   "cell_type": "code",
   "execution_count": 40,
   "metadata": {},
   "outputs": [
    {
     "data": {
      "text/plain": [
       "Index(['idMovie', 'originalTitle', 'Year', 'Minutes', 'averageRating',\n",
       "       'numVotes', 'decade', 'genre_Action', 'genre_Adult', 'genre_Adventure',\n",
       "       'genre_Animation', 'genre_Biography', 'genre_Comedy', 'genre_Crime',\n",
       "       'genre_Documentary', 'genre_Drama', 'genre_Family', 'genre_Fantasy',\n",
       "       'genre_Film-Noir', 'genre_History', 'genre_Horror', 'genre_Music',\n",
       "       'genre_Musical', 'genre_Mystery', 'genre_News', 'genre_No available',\n",
       "       'genre_Romance', 'genre_Sci-Fi', 'genre_Sport', 'genre_Thriller',\n",
       "       'genre_War', 'genre_Western', 'tconst', 'actor', 'actress', 'director',\n",
       "       'writer'],\n",
       "      dtype='object')"
      ]
     },
     "execution_count": 40,
     "metadata": {},
     "output_type": "execute_result"
    }
   ],
   "source": [
    "movies.columns"
   ]
  },
  {
   "cell_type": "code",
   "execution_count": 42,
   "metadata": {},
   "outputs": [
    {
     "data": {
      "text/plain": [
       "3423"
      ]
     },
     "execution_count": 42,
     "metadata": {},
     "output_type": "execute_result"
    }
   ],
   "source": [
    "len(movies)"
   ]
  },
  {
   "cell_type": "code",
   "execution_count": 43,
   "metadata": {},
   "outputs": [
    {
     "name": "stdout",
     "output_type": "stream",
     "text": [
      "<class 'pandas.core.frame.DataFrame'>\n",
      "Int64Index: 3423 entries, 0 to 3422\n",
      "Data columns (total 37 columns):\n",
      " #   Column              Non-Null Count  Dtype  \n",
      "---  ------              --------------  -----  \n",
      " 0   idMovie             3423 non-null   object \n",
      " 1   originalTitle       3423 non-null   object \n",
      " 2   Year                3423 non-null   float64\n",
      " 3   Minutes             3423 non-null   float64\n",
      " 4   averageRating       3423 non-null   float64\n",
      " 5   numVotes            3423 non-null   float64\n",
      " 6   decade              3423 non-null   object \n",
      " 7   genre_Action        3423 non-null   int64  \n",
      " 8   genre_Adult         3423 non-null   int64  \n",
      " 9   genre_Adventure     3423 non-null   int64  \n",
      " 10  genre_Animation     3423 non-null   int64  \n",
      " 11  genre_Biography     3423 non-null   int64  \n",
      " 12  genre_Comedy        3423 non-null   int64  \n",
      " 13  genre_Crime         3423 non-null   int64  \n",
      " 14  genre_Documentary   3423 non-null   int64  \n",
      " 15  genre_Drama         3423 non-null   int64  \n",
      " 16  genre_Family        3423 non-null   int64  \n",
      " 17  genre_Fantasy       3423 non-null   int64  \n",
      " 18  genre_Film-Noir     3423 non-null   int64  \n",
      " 19  genre_History       3423 non-null   int64  \n",
      " 20  genre_Horror        3423 non-null   int64  \n",
      " 21  genre_Music         3423 non-null   int64  \n",
      " 22  genre_Musical       3423 non-null   int64  \n",
      " 23  genre_Mystery       3423 non-null   int64  \n",
      " 24  genre_News          3423 non-null   int64  \n",
      " 25  genre_No available  3423 non-null   int64  \n",
      " 26  genre_Romance       3423 non-null   int64  \n",
      " 27  genre_Sci-Fi        3423 non-null   int64  \n",
      " 28  genre_Sport         3423 non-null   int64  \n",
      " 29  genre_Thriller      3423 non-null   int64  \n",
      " 30  genre_War           3423 non-null   int64  \n",
      " 31  genre_Western       3423 non-null   int64  \n",
      " 32  tconst              3414 non-null   object \n",
      " 33  actor               3414 non-null   object \n",
      " 34  actress             3414 non-null   object \n",
      " 35  director            3414 non-null   object \n",
      " 36  writer              3414 non-null   object \n",
      "dtypes: float64(4), int64(25), object(8)\n",
      "memory usage: 1016.2+ KB\n"
     ]
    }
   ],
   "source": [
    "movies.info()"
   ]
  },
  {
   "cell_type": "code",
   "execution_count": 44,
   "metadata": {},
   "outputs": [],
   "source": [
    "#We delete the nans\n",
    "movies = movies.dropna()"
   ]
  },
  {
   "cell_type": "code",
   "execution_count": 45,
   "metadata": {},
   "outputs": [
    {
     "name": "stdout",
     "output_type": "stream",
     "text": [
      "<class 'pandas.core.frame.DataFrame'>\n",
      "Int64Index: 3414 entries, 0 to 3422\n",
      "Data columns (total 37 columns):\n",
      " #   Column              Non-Null Count  Dtype  \n",
      "---  ------              --------------  -----  \n",
      " 0   idMovie             3414 non-null   object \n",
      " 1   originalTitle       3414 non-null   object \n",
      " 2   Year                3414 non-null   float64\n",
      " 3   Minutes             3414 non-null   float64\n",
      " 4   averageRating       3414 non-null   float64\n",
      " 5   numVotes            3414 non-null   float64\n",
      " 6   decade              3414 non-null   object \n",
      " 7   genre_Action        3414 non-null   int64  \n",
      " 8   genre_Adult         3414 non-null   int64  \n",
      " 9   genre_Adventure     3414 non-null   int64  \n",
      " 10  genre_Animation     3414 non-null   int64  \n",
      " 11  genre_Biography     3414 non-null   int64  \n",
      " 12  genre_Comedy        3414 non-null   int64  \n",
      " 13  genre_Crime         3414 non-null   int64  \n",
      " 14  genre_Documentary   3414 non-null   int64  \n",
      " 15  genre_Drama         3414 non-null   int64  \n",
      " 16  genre_Family        3414 non-null   int64  \n",
      " 17  genre_Fantasy       3414 non-null   int64  \n",
      " 18  genre_Film-Noir     3414 non-null   int64  \n",
      " 19  genre_History       3414 non-null   int64  \n",
      " 20  genre_Horror        3414 non-null   int64  \n",
      " 21  genre_Music         3414 non-null   int64  \n",
      " 22  genre_Musical       3414 non-null   int64  \n",
      " 23  genre_Mystery       3414 non-null   int64  \n",
      " 24  genre_News          3414 non-null   int64  \n",
      " 25  genre_No available  3414 non-null   int64  \n",
      " 26  genre_Romance       3414 non-null   int64  \n",
      " 27  genre_Sci-Fi        3414 non-null   int64  \n",
      " 28  genre_Sport         3414 non-null   int64  \n",
      " 29  genre_Thriller      3414 non-null   int64  \n",
      " 30  genre_War           3414 non-null   int64  \n",
      " 31  genre_Western       3414 non-null   int64  \n",
      " 32  tconst              3414 non-null   object \n",
      " 33  actor               3414 non-null   object \n",
      " 34  actress             3414 non-null   object \n",
      " 35  director            3414 non-null   object \n",
      " 36  writer              3414 non-null   object \n",
      "dtypes: float64(4), int64(25), object(8)\n",
      "memory usage: 1013.5+ KB\n"
     ]
    }
   ],
   "source": [
    "movies.info()"
   ]
  },
  {
   "cell_type": "markdown",
   "metadata": {},
   "source": [
    "**Keeping only the important crew**"
   ]
  },
  {
   "cell_type": "code",
   "execution_count": 46,
   "metadata": {},
   "outputs": [
    {
     "data": {
      "text/html": [
       "<div>\n",
       "<style scoped>\n",
       "    .dataframe tbody tr th:only-of-type {\n",
       "        vertical-align: middle;\n",
       "    }\n",
       "\n",
       "    .dataframe tbody tr th {\n",
       "        vertical-align: top;\n",
       "    }\n",
       "\n",
       "    .dataframe thead th {\n",
       "        text-align: right;\n",
       "    }\n",
       "</style>\n",
       "<table border=\"1\" class=\"dataframe\">\n",
       "  <thead>\n",
       "    <tr style=\"text-align: right;\">\n",
       "      <th></th>\n",
       "      <th>idMovie</th>\n",
       "      <th>originalTitle</th>\n",
       "      <th>Year</th>\n",
       "      <th>Minutes</th>\n",
       "      <th>averageRating</th>\n",
       "      <th>numVotes</th>\n",
       "      <th>decade</th>\n",
       "      <th>genre_Action</th>\n",
       "      <th>genre_Adult</th>\n",
       "      <th>genre_Adventure</th>\n",
       "      <th>...</th>\n",
       "      <th>genre_Sci-Fi</th>\n",
       "      <th>genre_Sport</th>\n",
       "      <th>genre_Thriller</th>\n",
       "      <th>genre_War</th>\n",
       "      <th>genre_Western</th>\n",
       "      <th>tconst</th>\n",
       "      <th>actor</th>\n",
       "      <th>actress</th>\n",
       "      <th>director</th>\n",
       "      <th>writer</th>\n",
       "    </tr>\n",
       "  </thead>\n",
       "  <tbody>\n",
       "    <tr>\n",
       "      <th>0</th>\n",
       "      <td>tt0359950</td>\n",
       "      <td>The Secret Life of Walter Mitty</td>\n",
       "      <td>0.935780</td>\n",
       "      <td>0.331461</td>\n",
       "      <td>0.741176</td>\n",
       "      <td>0.732867</td>\n",
       "      <td>2010</td>\n",
       "      <td>0</td>\n",
       "      <td>0</td>\n",
       "      <td>0</td>\n",
       "      <td>...</td>\n",
       "      <td>0</td>\n",
       "      <td>0</td>\n",
       "      <td>0</td>\n",
       "      <td>0</td>\n",
       "      <td>0</td>\n",
       "      <td>tt0359950</td>\n",
       "      <td>Ben Stiller</td>\n",
       "      <td>Kristen Wiig</td>\n",
       "      <td>Not available</td>\n",
       "      <td>Steve Conrad</td>\n",
       "    </tr>\n",
       "    <tr>\n",
       "      <th>1</th>\n",
       "      <td>tt0365545</td>\n",
       "      <td>Nappily Ever After</td>\n",
       "      <td>0.981651</td>\n",
       "      <td>0.277267</td>\n",
       "      <td>0.635294</td>\n",
       "      <td>0.256842</td>\n",
       "      <td>2010</td>\n",
       "      <td>0</td>\n",
       "      <td>0</td>\n",
       "      <td>0</td>\n",
       "      <td>...</td>\n",
       "      <td>0</td>\n",
       "      <td>0</td>\n",
       "      <td>0</td>\n",
       "      <td>0</td>\n",
       "      <td>0</td>\n",
       "      <td>tt0365545</td>\n",
       "      <td>Ricky Whittle</td>\n",
       "      <td>Sanaa Lathan</td>\n",
       "      <td>Haifaa Al-Mansour</td>\n",
       "      <td>Adam Brooks</td>\n",
       "    </tr>\n",
       "    <tr>\n",
       "      <th>2</th>\n",
       "      <td>tt0376136</td>\n",
       "      <td>The Rum Diary</td>\n",
       "      <td>0.917431</td>\n",
       "      <td>0.346856</td>\n",
       "      <td>0.611765</td>\n",
       "      <td>0.593125</td>\n",
       "      <td>2010</td>\n",
       "      <td>0</td>\n",
       "      <td>0</td>\n",
       "      <td>0</td>\n",
       "      <td>...</td>\n",
       "      <td>0</td>\n",
       "      <td>0</td>\n",
       "      <td>0</td>\n",
       "      <td>0</td>\n",
       "      <td>0</td>\n",
       "      <td>tt0376136</td>\n",
       "      <td>Johnny Depp</td>\n",
       "      <td>Not available</td>\n",
       "      <td>Bruce Robinson</td>\n",
       "      <td>Hunter S. Thompson</td>\n",
       "    </tr>\n",
       "    <tr>\n",
       "      <th>3</th>\n",
       "      <td>tt0377981</td>\n",
       "      <td>Gnomeo &amp; Juliet</td>\n",
       "      <td>0.917431</td>\n",
       "      <td>0.222113</td>\n",
       "      <td>0.576471</td>\n",
       "      <td>0.509901</td>\n",
       "      <td>2010</td>\n",
       "      <td>0</td>\n",
       "      <td>0</td>\n",
       "      <td>1</td>\n",
       "      <td>...</td>\n",
       "      <td>0</td>\n",
       "      <td>0</td>\n",
       "      <td>0</td>\n",
       "      <td>0</td>\n",
       "      <td>0</td>\n",
       "      <td>tt0377981</td>\n",
       "      <td>James McAvoy</td>\n",
       "      <td>Emily Blunt</td>\n",
       "      <td>Kelly Asbury</td>\n",
       "      <td>Rob Sprackling</td>\n",
       "    </tr>\n",
       "    <tr>\n",
       "      <th>4</th>\n",
       "      <td>tt0383010</td>\n",
       "      <td>The Three Stooges</td>\n",
       "      <td>0.926606</td>\n",
       "      <td>0.254651</td>\n",
       "      <td>0.470588</td>\n",
       "      <td>0.437904</td>\n",
       "      <td>2010</td>\n",
       "      <td>0</td>\n",
       "      <td>0</td>\n",
       "      <td>0</td>\n",
       "      <td>...</td>\n",
       "      <td>0</td>\n",
       "      <td>0</td>\n",
       "      <td>0</td>\n",
       "      <td>0</td>\n",
       "      <td>0</td>\n",
       "      <td>tt0383010</td>\n",
       "      <td>Sean Hayes</td>\n",
       "      <td>Jane Lynch</td>\n",
       "      <td>Bobby Farrelly</td>\n",
       "      <td>Mike Cerrone</td>\n",
       "    </tr>\n",
       "  </tbody>\n",
       "</table>\n",
       "<p>5 rows × 37 columns</p>\n",
       "</div>"
      ],
      "text/plain": [
       "     idMovie                    originalTitle      Year   Minutes  \\\n",
       "0  tt0359950  The Secret Life of Walter Mitty  0.935780  0.331461   \n",
       "1  tt0365545               Nappily Ever After  0.981651  0.277267   \n",
       "2  tt0376136                    The Rum Diary  0.917431  0.346856   \n",
       "3  tt0377981                  Gnomeo & Juliet  0.917431  0.222113   \n",
       "4  tt0383010                The Three Stooges  0.926606  0.254651   \n",
       "\n",
       "   averageRating  numVotes decade  genre_Action  genre_Adult  genre_Adventure  \\\n",
       "0       0.741176  0.732867   2010             0            0                0   \n",
       "1       0.635294  0.256842   2010             0            0                0   \n",
       "2       0.611765  0.593125   2010             0            0                0   \n",
       "3       0.576471  0.509901   2010             0            0                1   \n",
       "4       0.470588  0.437904   2010             0            0                0   \n",
       "\n",
       "   ...  genre_Sci-Fi  genre_Sport  genre_Thriller  genre_War  genre_Western  \\\n",
       "0  ...             0            0               0          0              0   \n",
       "1  ...             0            0               0          0              0   \n",
       "2  ...             0            0               0          0              0   \n",
       "3  ...             0            0               0          0              0   \n",
       "4  ...             0            0               0          0              0   \n",
       "\n",
       "      tconst          actor        actress           director  \\\n",
       "0  tt0359950    Ben Stiller   Kristen Wiig      Not available   \n",
       "1  tt0365545  Ricky Whittle   Sanaa Lathan  Haifaa Al-Mansour   \n",
       "2  tt0376136    Johnny Depp  Not available     Bruce Robinson   \n",
       "3  tt0377981   James McAvoy    Emily Blunt       Kelly Asbury   \n",
       "4  tt0383010     Sean Hayes     Jane Lynch     Bobby Farrelly   \n",
       "\n",
       "               writer  \n",
       "0        Steve Conrad  \n",
       "1         Adam Brooks  \n",
       "2  Hunter S. Thompson  \n",
       "3      Rob Sprackling  \n",
       "4        Mike Cerrone  \n",
       "\n",
       "[5 rows x 37 columns]"
      ]
     },
     "execution_count": 46,
     "metadata": {},
     "output_type": "execute_result"
    }
   ],
   "source": [
    "movies.head()"
   ]
  },
  {
   "cell_type": "code",
   "execution_count": 47,
   "metadata": {},
   "outputs": [],
   "source": [
    "n_actors = len(movies.actor.unique())\n",
    "n_actress = len(movies.actress.unique())\n",
    "n_director = len(movies.director.unique())\n",
    "n_writer = len(movies.writer.unique())"
   ]
  },
  {
   "cell_type": "code",
   "execution_count": 48,
   "metadata": {},
   "outputs": [
    {
     "name": "stdout",
     "output_type": "stream",
     "text": [
      "There are 2115 different actors, 1978 different actresses, 2333  different directors and 1996 different writers\n"
     ]
    }
   ],
   "source": [
    "print(\"There are\", n_actors, \"different actors,\", n_actress,\"different actresses,\", n_director,\" different directors and\", n_writer,\"different writers\")"
   ]
  },
  {
   "cell_type": "markdown",
   "metadata": {},
   "source": [
    "With these numbers a lot of different dummies columns will be created, so we are going to delimit them to 1000 for each category, that will be the ones that are present in more movies"
   ]
  },
  {
   "cell_type": "code",
   "execution_count": 49,
   "metadata": {},
   "outputs": [],
   "source": [
    "n = 1000\n",
    "top_actors = movies[movies.actor != 'Not available'].groupby(\"actor\")['idMovie'].count()\n",
    "top_actors = top_actors.to_frame().reset_index().sort_values(by = 'idMovie', ascending = False)['actor'].head(n).to_list()\n",
    "top_actress = movies[movies.actress != 'Not available'].groupby(\"actress\")['idMovie'].count()\n",
    "top_actress = top_actress.to_frame().reset_index().sort_values(by = 'idMovie', ascending = False)['actress'].head(n).to_list()\n",
    "top_director = movies[movies.director != 'Not available'].groupby(\"director\")['idMovie'].count()\n",
    "top_director = top_director.to_frame().reset_index().sort_values(by = 'idMovie', ascending = False)['director'].head(n).to_list()\n",
    "top_writer = movies[movies.writer != 'Not available'].groupby(\"writer\")['idMovie'].count()\n",
    "top_writer = top_writer.to_frame().reset_index().sort_values(by = 'idMovie', ascending = False)['writer'].head(n).to_list()"
   ]
  },
  {
   "cell_type": "code",
   "execution_count": 50,
   "metadata": {},
   "outputs": [
    {
     "data": {
      "text/plain": [
       "Not available      109\n",
       "Akshay Kumar        18\n",
       "Adam Sandler        17\n",
       "Jason Bateman       12\n",
       "Steve Carell        12\n",
       "                  ... \n",
       "Alex Lvovsky         1\n",
       "Arthur Pelling       1\n",
       "Kenneth Hadley       1\n",
       "Jacob Matschenz      1\n",
       "Hugo Weaving         1\n",
       "Name: actor, Length: 2115, dtype: int64"
      ]
     },
     "execution_count": 50,
     "metadata": {},
     "output_type": "execute_result"
    }
   ],
   "source": [
    "movies.actor.value_counts()"
   ]
  },
  {
   "cell_type": "code",
   "execution_count": 51,
   "metadata": {},
   "outputs": [],
   "source": [
    "movies.actor = movies.actor.apply(lambda x: x if x in top_actors else \"Not available\")\n",
    "movies.actress = movies.actress.apply(lambda x: x if x in top_actress else \"Not available\")\n",
    "movies.director = movies.director.apply(lambda x: x if x in top_director else \"Not available\")\n",
    "movies.writer = movies.writer.apply(lambda x: x if x in top_writer else \"Not available\")"
   ]
  },
  {
   "cell_type": "code",
   "execution_count": 52,
   "metadata": {},
   "outputs": [
    {
     "data": {
      "text/plain": [
       "Not available      1223\n",
       "Akshay Kumar         18\n",
       "Adam Sandler         17\n",
       "Jason Bateman        12\n",
       "Steve Carell         12\n",
       "                   ... \n",
       "Niels Schneider       1\n",
       "Vicky Kaushal         1\n",
       "Tishuan Scott         1\n",
       "Steve Austin          1\n",
       "Oscar Dietz           1\n",
       "Name: actor, Length: 1001, dtype: int64"
      ]
     },
     "execution_count": 52,
     "metadata": {},
     "output_type": "execute_result"
    }
   ],
   "source": [
    "movies.actor.value_counts()"
   ]
  },
  {
   "cell_type": "markdown",
   "metadata": {},
   "source": [
    "### Creating Dummy columns"
   ]
  },
  {
   "cell_type": "code",
   "execution_count": 53,
   "metadata": {},
   "outputs": [],
   "source": [
    "# movies = movies.drop(['genre_No available'], axis=1)\n",
    "movies = movies.drop(['tconst'], axis=1)"
   ]
  },
  {
   "cell_type": "code",
   "execution_count": 54,
   "metadata": {},
   "outputs": [],
   "source": [
    "movies_final = pd.get_dummies(movies, prefix=['dec_','actor_','actress_','dir_','writ_'], columns=['decade','actor','actress','director','writer'])"
   ]
  },
  {
   "cell_type": "code",
   "execution_count": 55,
   "metadata": {},
   "outputs": [],
   "source": [
    "movies_final = movies_final.drop(['actor__Not available','dir__Not available','actress__Not available','writ__Not available'], axis=1)"
   ]
  },
  {
   "cell_type": "code",
   "execution_count": 56,
   "metadata": {},
   "outputs": [
    {
     "data": {
      "text/html": [
       "<div>\n",
       "<style scoped>\n",
       "    .dataframe tbody tr th:only-of-type {\n",
       "        vertical-align: middle;\n",
       "    }\n",
       "\n",
       "    .dataframe tbody tr th {\n",
       "        vertical-align: top;\n",
       "    }\n",
       "\n",
       "    .dataframe thead th {\n",
       "        text-align: right;\n",
       "    }\n",
       "</style>\n",
       "<table border=\"1\" class=\"dataframe\">\n",
       "  <thead>\n",
       "    <tr style=\"text-align: right;\">\n",
       "      <th></th>\n",
       "      <th>idMovie</th>\n",
       "      <th>originalTitle</th>\n",
       "      <th>Year</th>\n",
       "      <th>Minutes</th>\n",
       "      <th>averageRating</th>\n",
       "      <th>numVotes</th>\n",
       "      <th>genre_Action</th>\n",
       "      <th>genre_Adult</th>\n",
       "      <th>genre_Adventure</th>\n",
       "      <th>genre_Animation</th>\n",
       "      <th>...</th>\n",
       "      <th>writ__Zack Kahn</th>\n",
       "      <th>writ__Zack Stentz</th>\n",
       "      <th>writ__Zafer Külünk</th>\n",
       "      <th>writ__Zeb Wells</th>\n",
       "      <th>writ__Zeenat Lakhani</th>\n",
       "      <th>writ__Zeynep Kocak</th>\n",
       "      <th>writ__Zhenyun Liu</th>\n",
       "      <th>writ__Zhilong Lei</th>\n",
       "      <th>writ__Zsófia Ruttkay</th>\n",
       "      <th>writ__Ólafur Egilsson</th>\n",
       "    </tr>\n",
       "  </thead>\n",
       "  <tbody>\n",
       "    <tr>\n",
       "      <th>0</th>\n",
       "      <td>tt0359950</td>\n",
       "      <td>The Secret Life of Walter Mitty</td>\n",
       "      <td>0.935780</td>\n",
       "      <td>0.331461</td>\n",
       "      <td>0.741176</td>\n",
       "      <td>0.732867</td>\n",
       "      <td>0</td>\n",
       "      <td>0</td>\n",
       "      <td>0</td>\n",
       "      <td>0</td>\n",
       "      <td>...</td>\n",
       "      <td>0</td>\n",
       "      <td>0</td>\n",
       "      <td>0</td>\n",
       "      <td>0</td>\n",
       "      <td>0</td>\n",
       "      <td>0</td>\n",
       "      <td>0</td>\n",
       "      <td>0</td>\n",
       "      <td>0</td>\n",
       "      <td>0</td>\n",
       "    </tr>\n",
       "    <tr>\n",
       "      <th>1</th>\n",
       "      <td>tt0365545</td>\n",
       "      <td>Nappily Ever After</td>\n",
       "      <td>0.981651</td>\n",
       "      <td>0.277267</td>\n",
       "      <td>0.635294</td>\n",
       "      <td>0.256842</td>\n",
       "      <td>0</td>\n",
       "      <td>0</td>\n",
       "      <td>0</td>\n",
       "      <td>0</td>\n",
       "      <td>...</td>\n",
       "      <td>0</td>\n",
       "      <td>0</td>\n",
       "      <td>0</td>\n",
       "      <td>0</td>\n",
       "      <td>0</td>\n",
       "      <td>0</td>\n",
       "      <td>0</td>\n",
       "      <td>0</td>\n",
       "      <td>0</td>\n",
       "      <td>0</td>\n",
       "    </tr>\n",
       "    <tr>\n",
       "      <th>2</th>\n",
       "      <td>tt0376136</td>\n",
       "      <td>The Rum Diary</td>\n",
       "      <td>0.917431</td>\n",
       "      <td>0.346856</td>\n",
       "      <td>0.611765</td>\n",
       "      <td>0.593125</td>\n",
       "      <td>0</td>\n",
       "      <td>0</td>\n",
       "      <td>0</td>\n",
       "      <td>0</td>\n",
       "      <td>...</td>\n",
       "      <td>0</td>\n",
       "      <td>0</td>\n",
       "      <td>0</td>\n",
       "      <td>0</td>\n",
       "      <td>0</td>\n",
       "      <td>0</td>\n",
       "      <td>0</td>\n",
       "      <td>0</td>\n",
       "      <td>0</td>\n",
       "      <td>0</td>\n",
       "    </tr>\n",
       "    <tr>\n",
       "      <th>3</th>\n",
       "      <td>tt0377981</td>\n",
       "      <td>Gnomeo &amp; Juliet</td>\n",
       "      <td>0.917431</td>\n",
       "      <td>0.222113</td>\n",
       "      <td>0.576471</td>\n",
       "      <td>0.509901</td>\n",
       "      <td>0</td>\n",
       "      <td>0</td>\n",
       "      <td>1</td>\n",
       "      <td>1</td>\n",
       "      <td>...</td>\n",
       "      <td>0</td>\n",
       "      <td>0</td>\n",
       "      <td>0</td>\n",
       "      <td>0</td>\n",
       "      <td>0</td>\n",
       "      <td>0</td>\n",
       "      <td>0</td>\n",
       "      <td>0</td>\n",
       "      <td>0</td>\n",
       "      <td>0</td>\n",
       "    </tr>\n",
       "    <tr>\n",
       "      <th>4</th>\n",
       "      <td>tt0383010</td>\n",
       "      <td>The Three Stooges</td>\n",
       "      <td>0.926606</td>\n",
       "      <td>0.254651</td>\n",
       "      <td>0.470588</td>\n",
       "      <td>0.437904</td>\n",
       "      <td>0</td>\n",
       "      <td>0</td>\n",
       "      <td>0</td>\n",
       "      <td>0</td>\n",
       "      <td>...</td>\n",
       "      <td>0</td>\n",
       "      <td>0</td>\n",
       "      <td>0</td>\n",
       "      <td>0</td>\n",
       "      <td>0</td>\n",
       "      <td>0</td>\n",
       "      <td>0</td>\n",
       "      <td>0</td>\n",
       "      <td>0</td>\n",
       "      <td>0</td>\n",
       "    </tr>\n",
       "  </tbody>\n",
       "</table>\n",
       "<p>5 rows × 4032 columns</p>\n",
       "</div>"
      ],
      "text/plain": [
       "     idMovie                    originalTitle      Year   Minutes  \\\n",
       "0  tt0359950  The Secret Life of Walter Mitty  0.935780  0.331461   \n",
       "1  tt0365545               Nappily Ever After  0.981651  0.277267   \n",
       "2  tt0376136                    The Rum Diary  0.917431  0.346856   \n",
       "3  tt0377981                  Gnomeo & Juliet  0.917431  0.222113   \n",
       "4  tt0383010                The Three Stooges  0.926606  0.254651   \n",
       "\n",
       "   averageRating  numVotes  genre_Action  genre_Adult  genre_Adventure  \\\n",
       "0       0.741176  0.732867             0            0                0   \n",
       "1       0.635294  0.256842             0            0                0   \n",
       "2       0.611765  0.593125             0            0                0   \n",
       "3       0.576471  0.509901             0            0                1   \n",
       "4       0.470588  0.437904             0            0                0   \n",
       "\n",
       "   genre_Animation  ...  writ__Zack Kahn  writ__Zack Stentz  \\\n",
       "0                0  ...                0                  0   \n",
       "1                0  ...                0                  0   \n",
       "2                0  ...                0                  0   \n",
       "3                1  ...                0                  0   \n",
       "4                0  ...                0                  0   \n",
       "\n",
       "   writ__Zafer Külünk  writ__Zeb Wells  writ__Zeenat Lakhani  \\\n",
       "0                   0                0                     0   \n",
       "1                   0                0                     0   \n",
       "2                   0                0                     0   \n",
       "3                   0                0                     0   \n",
       "4                   0                0                     0   \n",
       "\n",
       "   writ__Zeynep Kocak  writ__Zhenyun Liu  writ__Zhilong Lei  \\\n",
       "0                   0                  0                  0   \n",
       "1                   0                  0                  0   \n",
       "2                   0                  0                  0   \n",
       "3                   0                  0                  0   \n",
       "4                   0                  0                  0   \n",
       "\n",
       "   writ__Zsófia Ruttkay  writ__Ólafur Egilsson  \n",
       "0                     0                      0  \n",
       "1                     0                      0  \n",
       "2                     0                      0  \n",
       "3                     0                      0  \n",
       "4                     0                      0  \n",
       "\n",
       "[5 rows x 4032 columns]"
      ]
     },
     "execution_count": 56,
     "metadata": {},
     "output_type": "execute_result"
    }
   ],
   "source": [
    "movies_final.head()"
   ]
  },
  {
   "cell_type": "code",
   "execution_count": 57,
   "metadata": {},
   "outputs": [
    {
     "data": {
      "text/plain": [
       "(3414, 4032)"
      ]
     },
     "execution_count": 57,
     "metadata": {},
     "output_type": "execute_result"
    }
   ],
   "source": [
    "movies_final.shape"
   ]
  },
  {
   "cell_type": "markdown",
   "metadata": {},
   "source": [
    "### <a class=\"anchor\" id=\"Consolidaion_dataframes\"> 1.c.- Consolidation of dataframes\n",
    "\n",
    "In this section we´re going to consolidate both dataframes into files, that we´ll read for the next sections"
   ]
  },
  {
   "cell_type": "code",
   "execution_count": 58,
   "metadata": {},
   "outputs": [],
   "source": [
    "movies_final.to_csv('IMDB_clean_movies_test_2.csv', index = False)"
   ]
  },
  {
   "cell_type": "markdown",
   "metadata": {},
   "source": [
    "## <a class=\"anchor\" id=\"MLA\">Part 2: Machine learning algorithm"
   ]
  },
  {
   "cell_type": "markdown",
   "metadata": {},
   "source": [
    "### <a class=\"anchor\" id=\"Data_preparation\"> 3.a.- Data preparation\n",
    "We import the data and fix importation issues"
   ]
  },
  {
   "cell_type": "code",
   "execution_count": 59,
   "metadata": {},
   "outputs": [],
   "source": [
    "movies = pd.read_csv('IMDB_clean_movies_test_2.csv')"
   ]
  },
  {
   "cell_type": "code",
   "execution_count": 60,
   "metadata": {},
   "outputs": [
    {
     "data": {
      "text/plain": [
       "(3414, 4032)"
      ]
     },
     "execution_count": 60,
     "metadata": {},
     "output_type": "execute_result"
    }
   ],
   "source": [
    "movies.shape"
   ]
  },
  {
   "cell_type": "code",
   "execution_count": 61,
   "metadata": {},
   "outputs": [
    {
     "data": {
      "text/html": [
       "<div>\n",
       "<style scoped>\n",
       "    .dataframe tbody tr th:only-of-type {\n",
       "        vertical-align: middle;\n",
       "    }\n",
       "\n",
       "    .dataframe tbody tr th {\n",
       "        vertical-align: top;\n",
       "    }\n",
       "\n",
       "    .dataframe thead th {\n",
       "        text-align: right;\n",
       "    }\n",
       "</style>\n",
       "<table border=\"1\" class=\"dataframe\">\n",
       "  <thead>\n",
       "    <tr style=\"text-align: right;\">\n",
       "      <th></th>\n",
       "      <th>idMovie</th>\n",
       "      <th>originalTitle</th>\n",
       "      <th>Year</th>\n",
       "      <th>Minutes</th>\n",
       "      <th>averageRating</th>\n",
       "      <th>numVotes</th>\n",
       "      <th>genre_Action</th>\n",
       "      <th>genre_Adult</th>\n",
       "      <th>genre_Adventure</th>\n",
       "      <th>genre_Animation</th>\n",
       "      <th>...</th>\n",
       "      <th>writ__Zack Kahn</th>\n",
       "      <th>writ__Zack Stentz</th>\n",
       "      <th>writ__Zafer Külünk</th>\n",
       "      <th>writ__Zeb Wells</th>\n",
       "      <th>writ__Zeenat Lakhani</th>\n",
       "      <th>writ__Zeynep Kocak</th>\n",
       "      <th>writ__Zhenyun Liu</th>\n",
       "      <th>writ__Zhilong Lei</th>\n",
       "      <th>writ__Zsófia Ruttkay</th>\n",
       "      <th>writ__Ólafur Egilsson</th>\n",
       "    </tr>\n",
       "  </thead>\n",
       "  <tbody>\n",
       "    <tr>\n",
       "      <th>0</th>\n",
       "      <td>tt0359950</td>\n",
       "      <td>The Secret Life of Walter Mitty</td>\n",
       "      <td>0.935780</td>\n",
       "      <td>0.331461</td>\n",
       "      <td>0.741176</td>\n",
       "      <td>0.732867</td>\n",
       "      <td>0</td>\n",
       "      <td>0</td>\n",
       "      <td>0</td>\n",
       "      <td>0</td>\n",
       "      <td>...</td>\n",
       "      <td>0</td>\n",
       "      <td>0</td>\n",
       "      <td>0</td>\n",
       "      <td>0</td>\n",
       "      <td>0</td>\n",
       "      <td>0</td>\n",
       "      <td>0</td>\n",
       "      <td>0</td>\n",
       "      <td>0</td>\n",
       "      <td>0</td>\n",
       "    </tr>\n",
       "    <tr>\n",
       "      <th>1</th>\n",
       "      <td>tt0365545</td>\n",
       "      <td>Nappily Ever After</td>\n",
       "      <td>0.981651</td>\n",
       "      <td>0.277267</td>\n",
       "      <td>0.635294</td>\n",
       "      <td>0.256842</td>\n",
       "      <td>0</td>\n",
       "      <td>0</td>\n",
       "      <td>0</td>\n",
       "      <td>0</td>\n",
       "      <td>...</td>\n",
       "      <td>0</td>\n",
       "      <td>0</td>\n",
       "      <td>0</td>\n",
       "      <td>0</td>\n",
       "      <td>0</td>\n",
       "      <td>0</td>\n",
       "      <td>0</td>\n",
       "      <td>0</td>\n",
       "      <td>0</td>\n",
       "      <td>0</td>\n",
       "    </tr>\n",
       "    <tr>\n",
       "      <th>2</th>\n",
       "      <td>tt0376136</td>\n",
       "      <td>The Rum Diary</td>\n",
       "      <td>0.917431</td>\n",
       "      <td>0.346856</td>\n",
       "      <td>0.611765</td>\n",
       "      <td>0.593125</td>\n",
       "      <td>0</td>\n",
       "      <td>0</td>\n",
       "      <td>0</td>\n",
       "      <td>0</td>\n",
       "      <td>...</td>\n",
       "      <td>0</td>\n",
       "      <td>0</td>\n",
       "      <td>0</td>\n",
       "      <td>0</td>\n",
       "      <td>0</td>\n",
       "      <td>0</td>\n",
       "      <td>0</td>\n",
       "      <td>0</td>\n",
       "      <td>0</td>\n",
       "      <td>0</td>\n",
       "    </tr>\n",
       "    <tr>\n",
       "      <th>3</th>\n",
       "      <td>tt0377981</td>\n",
       "      <td>Gnomeo &amp; Juliet</td>\n",
       "      <td>0.917431</td>\n",
       "      <td>0.222113</td>\n",
       "      <td>0.576471</td>\n",
       "      <td>0.509901</td>\n",
       "      <td>0</td>\n",
       "      <td>0</td>\n",
       "      <td>1</td>\n",
       "      <td>1</td>\n",
       "      <td>...</td>\n",
       "      <td>0</td>\n",
       "      <td>0</td>\n",
       "      <td>0</td>\n",
       "      <td>0</td>\n",
       "      <td>0</td>\n",
       "      <td>0</td>\n",
       "      <td>0</td>\n",
       "      <td>0</td>\n",
       "      <td>0</td>\n",
       "      <td>0</td>\n",
       "    </tr>\n",
       "    <tr>\n",
       "      <th>4</th>\n",
       "      <td>tt0383010</td>\n",
       "      <td>The Three Stooges</td>\n",
       "      <td>0.926606</td>\n",
       "      <td>0.254651</td>\n",
       "      <td>0.470588</td>\n",
       "      <td>0.437904</td>\n",
       "      <td>0</td>\n",
       "      <td>0</td>\n",
       "      <td>0</td>\n",
       "      <td>0</td>\n",
       "      <td>...</td>\n",
       "      <td>0</td>\n",
       "      <td>0</td>\n",
       "      <td>0</td>\n",
       "      <td>0</td>\n",
       "      <td>0</td>\n",
       "      <td>0</td>\n",
       "      <td>0</td>\n",
       "      <td>0</td>\n",
       "      <td>0</td>\n",
       "      <td>0</td>\n",
       "    </tr>\n",
       "  </tbody>\n",
       "</table>\n",
       "<p>5 rows × 4032 columns</p>\n",
       "</div>"
      ],
      "text/plain": [
       "     idMovie                    originalTitle      Year   Minutes  \\\n",
       "0  tt0359950  The Secret Life of Walter Mitty  0.935780  0.331461   \n",
       "1  tt0365545               Nappily Ever After  0.981651  0.277267   \n",
       "2  tt0376136                    The Rum Diary  0.917431  0.346856   \n",
       "3  tt0377981                  Gnomeo & Juliet  0.917431  0.222113   \n",
       "4  tt0383010                The Three Stooges  0.926606  0.254651   \n",
       "\n",
       "   averageRating  numVotes  genre_Action  genre_Adult  genre_Adventure  \\\n",
       "0       0.741176  0.732867             0            0                0   \n",
       "1       0.635294  0.256842             0            0                0   \n",
       "2       0.611765  0.593125             0            0                0   \n",
       "3       0.576471  0.509901             0            0                1   \n",
       "4       0.470588  0.437904             0            0                0   \n",
       "\n",
       "   genre_Animation  ...  writ__Zack Kahn  writ__Zack Stentz  \\\n",
       "0                0  ...                0                  0   \n",
       "1                0  ...                0                  0   \n",
       "2                0  ...                0                  0   \n",
       "3                1  ...                0                  0   \n",
       "4                0  ...                0                  0   \n",
       "\n",
       "   writ__Zafer Külünk  writ__Zeb Wells  writ__Zeenat Lakhani  \\\n",
       "0                   0                0                     0   \n",
       "1                   0                0                     0   \n",
       "2                   0                0                     0   \n",
       "3                   0                0                     0   \n",
       "4                   0                0                     0   \n",
       "\n",
       "   writ__Zeynep Kocak  writ__Zhenyun Liu  writ__Zhilong Lei  \\\n",
       "0                   0                  0                  0   \n",
       "1                   0                  0                  0   \n",
       "2                   0                  0                  0   \n",
       "3                   0                  0                  0   \n",
       "4                   0                  0                  0   \n",
       "\n",
       "   writ__Zsófia Ruttkay  writ__Ólafur Egilsson  \n",
       "0                     0                      0  \n",
       "1                     0                      0  \n",
       "2                     0                      0  \n",
       "3                     0                      0  \n",
       "4                     0                      0  \n",
       "\n",
       "[5 rows x 4032 columns]"
      ]
     },
     "execution_count": 61,
     "metadata": {},
     "output_type": "execute_result"
    }
   ],
   "source": [
    "movies.head()"
   ]
  },
  {
   "cell_type": "code",
   "execution_count": 62,
   "metadata": {},
   "outputs": [],
   "source": [
    "movies1 = movies.copy()\n",
    "movies1 = movies1[['averageRating']]"
   ]
  },
  {
   "cell_type": "code",
   "execution_count": 63,
   "metadata": {},
   "outputs": [
    {
     "data": {
      "text/plain": [
       "(3414, 1)"
      ]
     },
     "execution_count": 63,
     "metadata": {},
     "output_type": "execute_result"
    }
   ],
   "source": [
    "movies1.shape"
   ]
  },
  {
   "cell_type": "code",
   "execution_count": 64,
   "metadata": {},
   "outputs": [],
   "source": [
    "movies2 = movies.copy()\n",
    "movies2 = movies2.drop(['idMovie','originalTitle','averageRating'], axis=1)"
   ]
  },
  {
   "cell_type": "code",
   "execution_count": 65,
   "metadata": {},
   "outputs": [
    {
     "data": {
      "text/plain": [
       "(3414, 4029)"
      ]
     },
     "execution_count": 65,
     "metadata": {},
     "output_type": "execute_result"
    }
   ],
   "source": [
    "movies2.shape"
   ]
  },
  {
   "cell_type": "markdown",
   "metadata": {},
   "source": [
    "#### Applying PCA\n",
    "\n",
    "In this section we will apply feature reduction with PCA to the dataset with default values, without fixing the number of components. We will do it over movies2, that hasn´t categorical variables"
   ]
  },
  {
   "cell_type": "code",
   "execution_count": 66,
   "metadata": {},
   "outputs": [],
   "source": [
    "# Apply PCA to the data.\n",
    "pca = PCA()\n",
    "movies_pca = pca.fit_transform(movies2)"
   ]
  },
  {
   "cell_type": "code",
   "execution_count": 67,
   "metadata": {},
   "outputs": [],
   "source": [
    "column_names = [\"Component\", \"variance\", \"acumulative_variance\"]\n",
    "variances = pd.DataFrame(columns = column_names)\n",
    "var_acu = 0\n",
    "for i in range(len(pca.explained_variance_ratio_)):\n",
    "    comp = i +1 \n",
    "    var = pca.explained_variance_ratio_[i]\n",
    "    var_acu = var_acu +  var\n",
    "    variances.loc[i] = [comp, var, var_acu]"
   ]
  },
  {
   "cell_type": "markdown",
   "metadata": {},
   "source": [
    "Now we plot the acumulative and individual variance ratio versus the number oc principal components used"
   ]
  },
  {
   "cell_type": "code",
   "execution_count": 68,
   "metadata": {},
   "outputs": [
    {
     "data": {
      "image/png": "[encoded data removed]",
      "text/plain": [
       "<Figure size 432x288 with 1 Axes>"
      ]
     },
     "metadata": {
      "needs_background": "light"
     },
     "output_type": "display_data"
    }
   ],
   "source": [
    "plt.plot(variances.Component, variances.acumulative_variance);\n",
    "plt.bar(variances.Component, variances.variance);\n",
    "plt.xlabel('Component number') \n",
    "plt.ylabel('Variance');\n",
    "plt.legend(['Acumulative variance','Individual variance']);\n",
    "plt.title('Variance vs Dimensionality Reduction');"
   ]
  },
  {
   "cell_type": "code",
   "execution_count": 69,
   "metadata": {},
   "outputs": [
    {
     "data": {
      "text/html": [
       "<div>\n",
       "<style scoped>\n",
       "    .dataframe tbody tr th:only-of-type {\n",
       "        vertical-align: middle;\n",
       "    }\n",
       "\n",
       "    .dataframe tbody tr th {\n",
       "        vertical-align: top;\n",
       "    }\n",
       "\n",
       "    .dataframe thead th {\n",
       "        text-align: right;\n",
       "    }\n",
       "</style>\n",
       "<table border=\"1\" class=\"dataframe\">\n",
       "  <thead>\n",
       "    <tr style=\"text-align: right;\">\n",
       "      <th></th>\n",
       "      <th>Component</th>\n",
       "      <th>variance</th>\n",
       "      <th>acumulative_variance</th>\n",
       "    </tr>\n",
       "  </thead>\n",
       "  <tbody>\n",
       "    <tr>\n",
       "      <th>0</th>\n",
       "      <td>1.0</td>\n",
       "      <td>0.085792</td>\n",
       "      <td>0.085792</td>\n",
       "    </tr>\n",
       "    <tr>\n",
       "      <th>1</th>\n",
       "      <td>2.0</td>\n",
       "      <td>0.052588</td>\n",
       "      <td>0.138381</td>\n",
       "    </tr>\n",
       "    <tr>\n",
       "      <th>2</th>\n",
       "      <td>3.0</td>\n",
       "      <td>0.033749</td>\n",
       "      <td>0.172130</td>\n",
       "    </tr>\n",
       "    <tr>\n",
       "      <th>3</th>\n",
       "      <td>4.0</td>\n",
       "      <td>0.032075</td>\n",
       "      <td>0.204204</td>\n",
       "    </tr>\n",
       "    <tr>\n",
       "      <th>4</th>\n",
       "      <td>5.0</td>\n",
       "      <td>0.022566</td>\n",
       "      <td>0.226770</td>\n",
       "    </tr>\n",
       "  </tbody>\n",
       "</table>\n",
       "</div>"
      ],
      "text/plain": [
       "   Component  variance  acumulative_variance\n",
       "0        1.0  0.085792              0.085792\n",
       "1        2.0  0.052588              0.138381\n",
       "2        3.0  0.033749              0.172130\n",
       "3        4.0  0.032075              0.204204\n",
       "4        5.0  0.022566              0.226770"
      ]
     },
     "execution_count": 69,
     "metadata": {},
     "output_type": "execute_result"
    }
   ],
   "source": [
    "variances.head()"
   ]
  },
  {
   "cell_type": "markdown",
   "metadata": {},
   "source": [
    "We´ve decided to keep the 95% of the variability in the original data, so we are going to reduce the dataframe to 2010 dimensions (the initial variables where 4038)"
   ]
  },
  {
   "cell_type": "code",
   "execution_count": 70,
   "metadata": {},
   "outputs": [
    {
     "name": "stdout",
     "output_type": "stream",
     "text": [
      "Using 2010 variables, we can explain 0.95 of the variability in the original data.\n"
     ]
    }
   ],
   "source": [
    "for i in range(len(variances)):\n",
    "    if variances.acumulative_variance[i] > 0.95:\n",
    "        num = i\n",
    "        var = variances.acumulative_variance[i]\n",
    "        break\n",
    "        \n",
    "print(\"Using\", i, \"variables, we can explain\", round(var,2), \"of the variability in the original data.\")"
   ]
  },
  {
   "cell_type": "code",
   "execution_count": 71,
   "metadata": {},
   "outputs": [],
   "source": [
    "# Re-apply PCA to the data while selecting for number of components to retain.\n",
    "pca = PCA(n_components = 2010)\n",
    "movies_pca = pca.fit_transform(movies2)"
   ]
  },
  {
   "cell_type": "code",
   "execution_count": 72,
   "metadata": {},
   "outputs": [
    {
     "data": {
      "text/html": [
       "<div>\n",
       "<style scoped>\n",
       "    .dataframe tbody tr th:only-of-type {\n",
       "        vertical-align: middle;\n",
       "    }\n",
       "\n",
       "    .dataframe tbody tr th {\n",
       "        vertical-align: top;\n",
       "    }\n",
       "\n",
       "    .dataframe thead th {\n",
       "        text-align: right;\n",
       "    }\n",
       "</style>\n",
       "<table border=\"1\" class=\"dataframe\">\n",
       "  <thead>\n",
       "    <tr style=\"text-align: right;\">\n",
       "      <th></th>\n",
       "      <th>0</th>\n",
       "      <th>1</th>\n",
       "      <th>2</th>\n",
       "      <th>3</th>\n",
       "      <th>4</th>\n",
       "      <th>5</th>\n",
       "      <th>6</th>\n",
       "      <th>7</th>\n",
       "      <th>8</th>\n",
       "      <th>9</th>\n",
       "      <th>...</th>\n",
       "      <th>2000</th>\n",
       "      <th>2001</th>\n",
       "      <th>2002</th>\n",
       "      <th>2003</th>\n",
       "      <th>2004</th>\n",
       "      <th>2005</th>\n",
       "      <th>2006</th>\n",
       "      <th>2007</th>\n",
       "      <th>2008</th>\n",
       "      <th>2009</th>\n",
       "    </tr>\n",
       "  </thead>\n",
       "  <tbody>\n",
       "    <tr>\n",
       "      <th>0</th>\n",
       "      <td>-0.501549</td>\n",
       "      <td>-0.410343</td>\n",
       "      <td>0.063990</td>\n",
       "      <td>-0.009437</td>\n",
       "      <td>-0.088713</td>\n",
       "      <td>-0.045979</td>\n",
       "      <td>0.750477</td>\n",
       "      <td>0.803670</td>\n",
       "      <td>0.057858</td>\n",
       "      <td>0.031380</td>\n",
       "      <td>...</td>\n",
       "      <td>0.000421</td>\n",
       "      <td>0.003627</td>\n",
       "      <td>0.009862</td>\n",
       "      <td>0.005714</td>\n",
       "      <td>0.006536</td>\n",
       "      <td>0.022481</td>\n",
       "      <td>0.002074</td>\n",
       "      <td>0.004446</td>\n",
       "      <td>0.020332</td>\n",
       "      <td>0.007569</td>\n",
       "    </tr>\n",
       "    <tr>\n",
       "      <th>1</th>\n",
       "      <td>-0.829292</td>\n",
       "      <td>0.497783</td>\n",
       "      <td>0.010107</td>\n",
       "      <td>0.258482</td>\n",
       "      <td>-0.002734</td>\n",
       "      <td>0.080488</td>\n",
       "      <td>0.023413</td>\n",
       "      <td>-0.030326</td>\n",
       "      <td>-0.014422</td>\n",
       "      <td>0.022024</td>\n",
       "      <td>...</td>\n",
       "      <td>-0.031919</td>\n",
       "      <td>-0.011752</td>\n",
       "      <td>0.002483</td>\n",
       "      <td>0.023398</td>\n",
       "      <td>0.018066</td>\n",
       "      <td>-0.023044</td>\n",
       "      <td>-0.012915</td>\n",
       "      <td>-0.000700</td>\n",
       "      <td>0.025116</td>\n",
       "      <td>0.026440</td>\n",
       "    </tr>\n",
       "    <tr>\n",
       "      <th>2</th>\n",
       "      <td>-0.515000</td>\n",
       "      <td>-0.395089</td>\n",
       "      <td>0.050315</td>\n",
       "      <td>0.033801</td>\n",
       "      <td>-0.009854</td>\n",
       "      <td>0.035081</td>\n",
       "      <td>0.093133</td>\n",
       "      <td>0.106137</td>\n",
       "      <td>0.319056</td>\n",
       "      <td>-0.034632</td>\n",
       "      <td>...</td>\n",
       "      <td>-0.017177</td>\n",
       "      <td>-0.003525</td>\n",
       "      <td>0.008375</td>\n",
       "      <td>0.001137</td>\n",
       "      <td>0.010435</td>\n",
       "      <td>0.025869</td>\n",
       "      <td>0.009259</td>\n",
       "      <td>0.026473</td>\n",
       "      <td>0.008463</td>\n",
       "      <td>0.012705</td>\n",
       "    </tr>\n",
       "    <tr>\n",
       "      <th>3</th>\n",
       "      <td>0.679223</td>\n",
       "      <td>-0.151883</td>\n",
       "      <td>1.110699</td>\n",
       "      <td>0.354617</td>\n",
       "      <td>0.286754</td>\n",
       "      <td>0.248088</td>\n",
       "      <td>0.010799</td>\n",
       "      <td>0.060866</td>\n",
       "      <td>0.100866</td>\n",
       "      <td>0.352594</td>\n",
       "      <td>...</td>\n",
       "      <td>0.001213</td>\n",
       "      <td>-0.009749</td>\n",
       "      <td>0.031196</td>\n",
       "      <td>-0.021931</td>\n",
       "      <td>-0.001122</td>\n",
       "      <td>-0.024269</td>\n",
       "      <td>-0.015693</td>\n",
       "      <td>0.009335</td>\n",
       "      <td>-0.013628</td>\n",
       "      <td>-0.000166</td>\n",
       "    </tr>\n",
       "    <tr>\n",
       "      <th>4</th>\n",
       "      <td>0.361933</td>\n",
       "      <td>-0.009221</td>\n",
       "      <td>0.143055</td>\n",
       "      <td>-0.340032</td>\n",
       "      <td>0.042796</td>\n",
       "      <td>-0.492464</td>\n",
       "      <td>0.595843</td>\n",
       "      <td>-0.546854</td>\n",
       "      <td>0.240167</td>\n",
       "      <td>-0.102851</td>\n",
       "      <td>...</td>\n",
       "      <td>0.010785</td>\n",
       "      <td>-0.007490</td>\n",
       "      <td>0.020632</td>\n",
       "      <td>-0.009844</td>\n",
       "      <td>-0.024513</td>\n",
       "      <td>-0.018635</td>\n",
       "      <td>0.005081</td>\n",
       "      <td>0.021210</td>\n",
       "      <td>-0.010861</td>\n",
       "      <td>0.001051</td>\n",
       "    </tr>\n",
       "  </tbody>\n",
       "</table>\n",
       "<p>5 rows × 2010 columns</p>\n",
       "</div>"
      ],
      "text/plain": [
       "       0         1         2         3         4         5         6     \\\n",
       "0 -0.501549 -0.410343  0.063990 -0.009437 -0.088713 -0.045979  0.750477   \n",
       "1 -0.829292  0.497783  0.010107  0.258482 -0.002734  0.080488  0.023413   \n",
       "2 -0.515000 -0.395089  0.050315  0.033801 -0.009854  0.035081  0.093133   \n",
       "3  0.679223 -0.151883  1.110699  0.354617  0.286754  0.248088  0.010799   \n",
       "4  0.361933 -0.009221  0.143055 -0.340032  0.042796 -0.492464  0.595843   \n",
       "\n",
       "       7         8         9     ...      2000      2001      2002      2003  \\\n",
       "0  0.803670  0.057858  0.031380  ...  0.000421  0.003627  0.009862  0.005714   \n",
       "1 -0.030326 -0.014422  0.022024  ... -0.031919 -0.011752  0.002483  0.023398   \n",
       "2  0.106137  0.319056 -0.034632  ... -0.017177 -0.003525  0.008375  0.001137   \n",
       "3  0.060866  0.100866  0.352594  ...  0.001213 -0.009749  0.031196 -0.021931   \n",
       "4 -0.546854  0.240167 -0.102851  ...  0.010785 -0.007490  0.020632 -0.009844   \n",
       "\n",
       "       2004      2005      2006      2007      2008      2009  \n",
       "0  0.006536  0.022481  0.002074  0.004446  0.020332  0.007569  \n",
       "1  0.018066 -0.023044 -0.012915 -0.000700  0.025116  0.026440  \n",
       "2  0.010435  0.025869  0.009259  0.026473  0.008463  0.012705  \n",
       "3 -0.001122 -0.024269 -0.015693  0.009335 -0.013628 -0.000166  \n",
       "4 -0.024513 -0.018635  0.005081  0.021210 -0.010861  0.001051  \n",
       "\n",
       "[5 rows x 2010 columns]"
      ]
     },
     "execution_count": 72,
     "metadata": {},
     "output_type": "execute_result"
    }
   ],
   "source": [
    "movies_pca_end = pd.DataFrame(movies_pca)\n",
    "movies_pca_end.head()"
   ]
  },
  {
   "cell_type": "markdown",
   "metadata": {},
   "source": [
    "#### Interpreting Principal Components\n",
    "\n",
    "Now that we have our transformed principal components, we are going to check out the weight of each variable on the first few components to see if they can be interpreted in some fashion."
   ]
  },
  {
   "cell_type": "code",
   "execution_count": 73,
   "metadata": {},
   "outputs": [],
   "source": [
    "def pc_indexes(df, pca, n):\n",
    "    \"\"\"\n",
    "    Gives the 10 most important variables with its weights in the component n after applying pca to de dataframe df\n",
    "    \n",
    "    INPUT: df (dataframe), pca (transformation applied), n(principal component to analyze)\n",
    "    OUTPUT: list of the top 10 variables and their weights\n",
    "    \"\"\"\n",
    "\n",
    "    # Dimension indexing\n",
    "    dimensions = dimensions = ['Dimension {}'.format(i) for i in range(1,len(pca.components_)+1)]\n",
    "    # PCA components\n",
    "    components = pd.DataFrame(np.round(pca.components_, 4), columns = df.keys())\n",
    "    components.index = dimensions\n",
    "    df_comp = components.iloc[n-1].to_frame()\n",
    "    df_comp[\"Abs_value\"] = df_comp.abs()\n",
    "    df_comp = df_comp.sort_values(by='Abs_value', ascending = False)\n",
    "    df_comp = df_comp[df_comp.columns[0]].head(10)\n",
    "    return df_comp\n"
   ]
  },
  {
   "cell_type": "code",
   "execution_count": 74,
   "metadata": {},
   "outputs": [
    {
     "data": {
      "text/plain": [
       "genre_Drama       -0.8592\n",
       "genre_Romance     -0.3048\n",
       "genre_Action       0.2929\n",
       "genre_Adventure    0.2180\n",
       "genre_Animation    0.1131\n",
       "genre_Horror       0.0961\n",
       "genre_Crime        0.0872\n",
       "genre_Thriller     0.0260\n",
       "genre_Family       0.0198\n",
       "genre_Music       -0.0172\n",
       "Name: Dimension 1, dtype: float64"
      ]
     },
     "execution_count": 74,
     "metadata": {},
     "output_type": "execute_result"
    }
   ],
   "source": [
    "# Get weights for the first principal component\n",
    "pc_indexes(movies2, pca, 1)"
   ]
  },
  {
   "cell_type": "code",
   "execution_count": 75,
   "metadata": {},
   "outputs": [
    {
     "data": {
      "text/plain": [
       "genre_Romance      0.8832\n",
       "genre_Drama       -0.4054\n",
       "genre_Action      -0.1252\n",
       "genre_Crime       -0.1232\n",
       "genre_Adventure   -0.1182\n",
       "genre_Animation   -0.0458\n",
       "genre_Biography   -0.0412\n",
       "genre_Family      -0.0262\n",
       "genre_Music       -0.0225\n",
       "numVotes          -0.0187\n",
       "Name: Dimension 2, dtype: float64"
      ]
     },
     "execution_count": 75,
     "metadata": {},
     "output_type": "execute_result"
    }
   ],
   "source": [
    "pc_indexes(movies2, pca, 2)"
   ]
  },
  {
   "cell_type": "code",
   "execution_count": 76,
   "metadata": {},
   "outputs": [
    {
     "data": {
      "text/plain": [
       "genre_Adventure     0.6176\n",
       "genre_Action       -0.4678\n",
       "genre_Animation     0.4292\n",
       "genre_Crime        -0.4145\n",
       "genre_Horror       -0.1202\n",
       "genre_Family        0.1081\n",
       "numVotes            0.0696\n",
       "genre_Thriller     -0.0462\n",
       "Minutes            -0.0264\n",
       "writ__Cinco Paul    0.0136\n",
       "Name: Dimension 3, dtype: float64"
      ]
     },
     "execution_count": 76,
     "metadata": {},
     "output_type": "execute_result"
    }
   ],
   "source": [
    "pc_indexes(movies2, pca, 3)"
   ]
  },
  {
   "cell_type": "code",
   "execution_count": 77,
   "metadata": {},
   "outputs": [
    {
     "data": {
      "text/plain": [
       "genre_Action       0.6960\n",
       "genre_Adventure    0.4697\n",
       "genre_Romance      0.2966\n",
       "genre_Drama        0.2526\n",
       "genre_Horror      -0.2227\n",
       "numVotes           0.1903\n",
       "genre_Animation    0.1204\n",
       "genre_Crime        0.1141\n",
       "genre_Family      -0.0796\n",
       "genre_Fantasy     -0.0717\n",
       "Name: Dimension 4, dtype: float64"
      ]
     },
     "execution_count": 77,
     "metadata": {},
     "output_type": "execute_result"
    }
   ],
   "source": [
    "pc_indexes(movies2, pca, 4)"
   ]
  },
  {
   "cell_type": "markdown",
   "metadata": {},
   "source": [
    "We can see that the first 4 principal components are based on the other genres of the movie (apart from comedy) and other things like number of votes, a writer appears, number of minutes"
   ]
  },
  {
   "cell_type": "markdown",
   "metadata": {},
   "source": [
    "#### Merging dataframes"
   ]
  },
  {
   "cell_type": "code",
   "execution_count": 78,
   "metadata": {},
   "outputs": [
    {
     "data": {
      "text/html": [
       "<div>\n",
       "<style scoped>\n",
       "    .dataframe tbody tr th:only-of-type {\n",
       "        vertical-align: middle;\n",
       "    }\n",
       "\n",
       "    .dataframe tbody tr th {\n",
       "        vertical-align: top;\n",
       "    }\n",
       "\n",
       "    .dataframe thead th {\n",
       "        text-align: right;\n",
       "    }\n",
       "</style>\n",
       "<table border=\"1\" class=\"dataframe\">\n",
       "  <thead>\n",
       "    <tr style=\"text-align: right;\">\n",
       "      <th></th>\n",
       "      <th>0</th>\n",
       "      <th>1</th>\n",
       "      <th>2</th>\n",
       "      <th>3</th>\n",
       "      <th>4</th>\n",
       "      <th>5</th>\n",
       "      <th>6</th>\n",
       "      <th>7</th>\n",
       "      <th>8</th>\n",
       "      <th>9</th>\n",
       "      <th>...</th>\n",
       "      <th>2000</th>\n",
       "      <th>2001</th>\n",
       "      <th>2002</th>\n",
       "      <th>2003</th>\n",
       "      <th>2004</th>\n",
       "      <th>2005</th>\n",
       "      <th>2006</th>\n",
       "      <th>2007</th>\n",
       "      <th>2008</th>\n",
       "      <th>2009</th>\n",
       "    </tr>\n",
       "  </thead>\n",
       "  <tbody>\n",
       "    <tr>\n",
       "      <th>0</th>\n",
       "      <td>-0.501549</td>\n",
       "      <td>-0.410343</td>\n",
       "      <td>0.063990</td>\n",
       "      <td>-0.009437</td>\n",
       "      <td>-0.088713</td>\n",
       "      <td>-0.045979</td>\n",
       "      <td>0.750477</td>\n",
       "      <td>0.803670</td>\n",
       "      <td>0.057858</td>\n",
       "      <td>0.031380</td>\n",
       "      <td>...</td>\n",
       "      <td>0.000421</td>\n",
       "      <td>0.003627</td>\n",
       "      <td>0.009862</td>\n",
       "      <td>0.005714</td>\n",
       "      <td>0.006536</td>\n",
       "      <td>0.022481</td>\n",
       "      <td>0.002074</td>\n",
       "      <td>0.004446</td>\n",
       "      <td>0.020332</td>\n",
       "      <td>0.007569</td>\n",
       "    </tr>\n",
       "    <tr>\n",
       "      <th>1</th>\n",
       "      <td>-0.829292</td>\n",
       "      <td>0.497783</td>\n",
       "      <td>0.010107</td>\n",
       "      <td>0.258482</td>\n",
       "      <td>-0.002734</td>\n",
       "      <td>0.080488</td>\n",
       "      <td>0.023413</td>\n",
       "      <td>-0.030326</td>\n",
       "      <td>-0.014422</td>\n",
       "      <td>0.022024</td>\n",
       "      <td>...</td>\n",
       "      <td>-0.031919</td>\n",
       "      <td>-0.011752</td>\n",
       "      <td>0.002483</td>\n",
       "      <td>0.023398</td>\n",
       "      <td>0.018066</td>\n",
       "      <td>-0.023044</td>\n",
       "      <td>-0.012915</td>\n",
       "      <td>-0.000700</td>\n",
       "      <td>0.025116</td>\n",
       "      <td>0.026440</td>\n",
       "    </tr>\n",
       "    <tr>\n",
       "      <th>2</th>\n",
       "      <td>-0.515000</td>\n",
       "      <td>-0.395089</td>\n",
       "      <td>0.050315</td>\n",
       "      <td>0.033801</td>\n",
       "      <td>-0.009854</td>\n",
       "      <td>0.035081</td>\n",
       "      <td>0.093133</td>\n",
       "      <td>0.106137</td>\n",
       "      <td>0.319056</td>\n",
       "      <td>-0.034632</td>\n",
       "      <td>...</td>\n",
       "      <td>-0.017177</td>\n",
       "      <td>-0.003525</td>\n",
       "      <td>0.008375</td>\n",
       "      <td>0.001137</td>\n",
       "      <td>0.010435</td>\n",
       "      <td>0.025869</td>\n",
       "      <td>0.009259</td>\n",
       "      <td>0.026473</td>\n",
       "      <td>0.008463</td>\n",
       "      <td>0.012705</td>\n",
       "    </tr>\n",
       "    <tr>\n",
       "      <th>3</th>\n",
       "      <td>0.679223</td>\n",
       "      <td>-0.151883</td>\n",
       "      <td>1.110699</td>\n",
       "      <td>0.354617</td>\n",
       "      <td>0.286754</td>\n",
       "      <td>0.248088</td>\n",
       "      <td>0.010799</td>\n",
       "      <td>0.060866</td>\n",
       "      <td>0.100866</td>\n",
       "      <td>0.352594</td>\n",
       "      <td>...</td>\n",
       "      <td>0.001213</td>\n",
       "      <td>-0.009749</td>\n",
       "      <td>0.031196</td>\n",
       "      <td>-0.021931</td>\n",
       "      <td>-0.001122</td>\n",
       "      <td>-0.024269</td>\n",
       "      <td>-0.015693</td>\n",
       "      <td>0.009335</td>\n",
       "      <td>-0.013628</td>\n",
       "      <td>-0.000166</td>\n",
       "    </tr>\n",
       "    <tr>\n",
       "      <th>4</th>\n",
       "      <td>0.361933</td>\n",
       "      <td>-0.009221</td>\n",
       "      <td>0.143055</td>\n",
       "      <td>-0.340032</td>\n",
       "      <td>0.042796</td>\n",
       "      <td>-0.492464</td>\n",
       "      <td>0.595843</td>\n",
       "      <td>-0.546854</td>\n",
       "      <td>0.240167</td>\n",
       "      <td>-0.102851</td>\n",
       "      <td>...</td>\n",
       "      <td>0.010785</td>\n",
       "      <td>-0.007490</td>\n",
       "      <td>0.020632</td>\n",
       "      <td>-0.009844</td>\n",
       "      <td>-0.024513</td>\n",
       "      <td>-0.018635</td>\n",
       "      <td>0.005081</td>\n",
       "      <td>0.021210</td>\n",
       "      <td>-0.010861</td>\n",
       "      <td>0.001051</td>\n",
       "    </tr>\n",
       "    <tr>\n",
       "      <th>...</th>\n",
       "      <td>...</td>\n",
       "      <td>...</td>\n",
       "      <td>...</td>\n",
       "      <td>...</td>\n",
       "      <td>...</td>\n",
       "      <td>...</td>\n",
       "      <td>...</td>\n",
       "      <td>...</td>\n",
       "      <td>...</td>\n",
       "      <td>...</td>\n",
       "      <td>...</td>\n",
       "      <td>...</td>\n",
       "      <td>...</td>\n",
       "      <td>...</td>\n",
       "      <td>...</td>\n",
       "      <td>...</td>\n",
       "      <td>...</td>\n",
       "      <td>...</td>\n",
       "      <td>...</td>\n",
       "      <td>...</td>\n",
       "      <td>...</td>\n",
       "    </tr>\n",
       "    <tr>\n",
       "      <th>3409</th>\n",
       "      <td>0.028313</td>\n",
       "      <td>0.915693</td>\n",
       "      <td>-0.012388</td>\n",
       "      <td>-0.034562</td>\n",
       "      <td>0.028064</td>\n",
       "      <td>-0.063032</td>\n",
       "      <td>-0.116751</td>\n",
       "      <td>-0.025383</td>\n",
       "      <td>-0.116373</td>\n",
       "      <td>-0.003033</td>\n",
       "      <td>...</td>\n",
       "      <td>-0.002514</td>\n",
       "      <td>0.000166</td>\n",
       "      <td>0.000035</td>\n",
       "      <td>0.000052</td>\n",
       "      <td>-0.000701</td>\n",
       "      <td>-0.001654</td>\n",
       "      <td>0.000996</td>\n",
       "      <td>0.002760</td>\n",
       "      <td>-0.006793</td>\n",
       "      <td>0.002142</td>\n",
       "    </tr>\n",
       "    <tr>\n",
       "      <th>3410</th>\n",
       "      <td>0.333519</td>\n",
       "      <td>0.024186</td>\n",
       "      <td>0.002205</td>\n",
       "      <td>-0.322929</td>\n",
       "      <td>-0.019866</td>\n",
       "      <td>-0.150801</td>\n",
       "      <td>-0.173926</td>\n",
       "      <td>0.031501</td>\n",
       "      <td>-0.013580</td>\n",
       "      <td>-0.026183</td>\n",
       "      <td>...</td>\n",
       "      <td>0.004584</td>\n",
       "      <td>0.010267</td>\n",
       "      <td>-0.009785</td>\n",
       "      <td>0.002563</td>\n",
       "      <td>-0.006479</td>\n",
       "      <td>-0.006796</td>\n",
       "      <td>0.004385</td>\n",
       "      <td>0.001159</td>\n",
       "      <td>-0.004802</td>\n",
       "      <td>0.000743</td>\n",
       "    </tr>\n",
       "    <tr>\n",
       "      <th>3411</th>\n",
       "      <td>0.029411</td>\n",
       "      <td>0.918104</td>\n",
       "      <td>-0.012188</td>\n",
       "      <td>-0.038774</td>\n",
       "      <td>0.024222</td>\n",
       "      <td>-0.065504</td>\n",
       "      <td>-0.129202</td>\n",
       "      <td>-0.031970</td>\n",
       "      <td>-0.138719</td>\n",
       "      <td>-0.002219</td>\n",
       "      <td>...</td>\n",
       "      <td>-0.008372</td>\n",
       "      <td>0.012972</td>\n",
       "      <td>-0.002662</td>\n",
       "      <td>0.016803</td>\n",
       "      <td>0.026676</td>\n",
       "      <td>0.012614</td>\n",
       "      <td>-0.001509</td>\n",
       "      <td>0.001714</td>\n",
       "      <td>-0.005406</td>\n",
       "      <td>0.010930</td>\n",
       "    </tr>\n",
       "    <tr>\n",
       "      <th>3412</th>\n",
       "      <td>0.445314</td>\n",
       "      <td>0.018138</td>\n",
       "      <td>-0.117511</td>\n",
       "      <td>-0.583236</td>\n",
       "      <td>-0.397703</td>\n",
       "      <td>0.702184</td>\n",
       "      <td>0.091764</td>\n",
       "      <td>-0.177942</td>\n",
       "      <td>-0.037560</td>\n",
       "      <td>-0.032724</td>\n",
       "      <td>...</td>\n",
       "      <td>0.056552</td>\n",
       "      <td>-0.039923</td>\n",
       "      <td>-0.048427</td>\n",
       "      <td>-0.030729</td>\n",
       "      <td>-0.009753</td>\n",
       "      <td>0.021210</td>\n",
       "      <td>-0.024743</td>\n",
       "      <td>-0.028964</td>\n",
       "      <td>-0.025405</td>\n",
       "      <td>0.017979</td>\n",
       "    </tr>\n",
       "    <tr>\n",
       "      <th>3413</th>\n",
       "      <td>0.033770</td>\n",
       "      <td>0.902201</td>\n",
       "      <td>0.010119</td>\n",
       "      <td>0.018199</td>\n",
       "      <td>0.071208</td>\n",
       "      <td>-0.023334</td>\n",
       "      <td>0.005351</td>\n",
       "      <td>0.035147</td>\n",
       "      <td>0.110998</td>\n",
       "      <td>-0.034007</td>\n",
       "      <td>...</td>\n",
       "      <td>-0.015336</td>\n",
       "      <td>0.014951</td>\n",
       "      <td>-0.013198</td>\n",
       "      <td>0.009315</td>\n",
       "      <td>0.009405</td>\n",
       "      <td>0.026034</td>\n",
       "      <td>0.018499</td>\n",
       "      <td>0.003477</td>\n",
       "      <td>-0.006545</td>\n",
       "      <td>-0.003759</td>\n",
       "    </tr>\n",
       "  </tbody>\n",
       "</table>\n",
       "<p>3414 rows × 2010 columns</p>\n",
       "</div>"
      ],
      "text/plain": [
       "          0         1         2         3         4         5         6     \\\n",
       "0    -0.501549 -0.410343  0.063990 -0.009437 -0.088713 -0.045979  0.750477   \n",
       "1    -0.829292  0.497783  0.010107  0.258482 -0.002734  0.080488  0.023413   \n",
       "2    -0.515000 -0.395089  0.050315  0.033801 -0.009854  0.035081  0.093133   \n",
       "3     0.679223 -0.151883  1.110699  0.354617  0.286754  0.248088  0.010799   \n",
       "4     0.361933 -0.009221  0.143055 -0.340032  0.042796 -0.492464  0.595843   \n",
       "...        ...       ...       ...       ...       ...       ...       ...   \n",
       "3409  0.028313  0.915693 -0.012388 -0.034562  0.028064 -0.063032 -0.116751   \n",
       "3410  0.333519  0.024186  0.002205 -0.322929 -0.019866 -0.150801 -0.173926   \n",
       "3411  0.029411  0.918104 -0.012188 -0.038774  0.024222 -0.065504 -0.129202   \n",
       "3412  0.445314  0.018138 -0.117511 -0.583236 -0.397703  0.702184  0.091764   \n",
       "3413  0.033770  0.902201  0.010119  0.018199  0.071208 -0.023334  0.005351   \n",
       "\n",
       "          7         8         9     ...      2000      2001      2002  \\\n",
       "0     0.803670  0.057858  0.031380  ...  0.000421  0.003627  0.009862   \n",
       "1    -0.030326 -0.014422  0.022024  ... -0.031919 -0.011752  0.002483   \n",
       "2     0.106137  0.319056 -0.034632  ... -0.017177 -0.003525  0.008375   \n",
       "3     0.060866  0.100866  0.352594  ...  0.001213 -0.009749  0.031196   \n",
       "4    -0.546854  0.240167 -0.102851  ...  0.010785 -0.007490  0.020632   \n",
       "...        ...       ...       ...  ...       ...       ...       ...   \n",
       "3409 -0.025383 -0.116373 -0.003033  ... -0.002514  0.000166  0.000035   \n",
       "3410  0.031501 -0.013580 -0.026183  ...  0.004584  0.010267 -0.009785   \n",
       "3411 -0.031970 -0.138719 -0.002219  ... -0.008372  0.012972 -0.002662   \n",
       "3412 -0.177942 -0.037560 -0.032724  ...  0.056552 -0.039923 -0.048427   \n",
       "3413  0.035147  0.110998 -0.034007  ... -0.015336  0.014951 -0.013198   \n",
       "\n",
       "          2003      2004      2005      2006      2007      2008      2009  \n",
       "0     0.005714  0.006536  0.022481  0.002074  0.004446  0.020332  0.007569  \n",
       "1     0.023398  0.018066 -0.023044 -0.012915 -0.000700  0.025116  0.026440  \n",
       "2     0.001137  0.010435  0.025869  0.009259  0.026473  0.008463  0.012705  \n",
       "3    -0.021931 -0.001122 -0.024269 -0.015693  0.009335 -0.013628 -0.000166  \n",
       "4    -0.009844 -0.024513 -0.018635  0.005081  0.021210 -0.010861  0.001051  \n",
       "...        ...       ...       ...       ...       ...       ...       ...  \n",
       "3409  0.000052 -0.000701 -0.001654  0.000996  0.002760 -0.006793  0.002142  \n",
       "3410  0.002563 -0.006479 -0.006796  0.004385  0.001159 -0.004802  0.000743  \n",
       "3411  0.016803  0.026676  0.012614 -0.001509  0.001714 -0.005406  0.010930  \n",
       "3412 -0.030729 -0.009753  0.021210 -0.024743 -0.028964 -0.025405  0.017979  \n",
       "3413  0.009315  0.009405  0.026034  0.018499  0.003477 -0.006545 -0.003759  \n",
       "\n",
       "[3414 rows x 2010 columns]"
      ]
     },
     "execution_count": 78,
     "metadata": {},
     "output_type": "execute_result"
    }
   ],
   "source": [
    "movies_pca_end"
   ]
  },
  {
   "cell_type": "code",
   "execution_count": 79,
   "metadata": {},
   "outputs": [
    {
     "data": {
      "text/html": [
       "<div>\n",
       "<style scoped>\n",
       "    .dataframe tbody tr th:only-of-type {\n",
       "        vertical-align: middle;\n",
       "    }\n",
       "\n",
       "    .dataframe tbody tr th {\n",
       "        vertical-align: top;\n",
       "    }\n",
       "\n",
       "    .dataframe thead th {\n",
       "        text-align: right;\n",
       "    }\n",
       "</style>\n",
       "<table border=\"1\" class=\"dataframe\">\n",
       "  <thead>\n",
       "    <tr style=\"text-align: right;\">\n",
       "      <th></th>\n",
       "      <th>averageRating</th>\n",
       "    </tr>\n",
       "  </thead>\n",
       "  <tbody>\n",
       "    <tr>\n",
       "      <th>0</th>\n",
       "      <td>0.741176</td>\n",
       "    </tr>\n",
       "    <tr>\n",
       "      <th>1</th>\n",
       "      <td>0.635294</td>\n",
       "    </tr>\n",
       "    <tr>\n",
       "      <th>2</th>\n",
       "      <td>0.611765</td>\n",
       "    </tr>\n",
       "    <tr>\n",
       "      <th>3</th>\n",
       "      <td>0.576471</td>\n",
       "    </tr>\n",
       "    <tr>\n",
       "      <th>4</th>\n",
       "      <td>0.470588</td>\n",
       "    </tr>\n",
       "    <tr>\n",
       "      <th>...</th>\n",
       "      <td>...</td>\n",
       "    </tr>\n",
       "    <tr>\n",
       "      <th>3409</th>\n",
       "      <td>0.741176</td>\n",
       "    </tr>\n",
       "    <tr>\n",
       "      <th>3410</th>\n",
       "      <td>0.823529</td>\n",
       "    </tr>\n",
       "    <tr>\n",
       "      <th>3411</th>\n",
       "      <td>0.411765</td>\n",
       "    </tr>\n",
       "    <tr>\n",
       "      <th>3412</th>\n",
       "      <td>0.470588</td>\n",
       "    </tr>\n",
       "    <tr>\n",
       "      <th>3413</th>\n",
       "      <td>0.541176</td>\n",
       "    </tr>\n",
       "  </tbody>\n",
       "</table>\n",
       "<p>3414 rows × 1 columns</p>\n",
       "</div>"
      ],
      "text/plain": [
       "      averageRating\n",
       "0          0.741176\n",
       "1          0.635294\n",
       "2          0.611765\n",
       "3          0.576471\n",
       "4          0.470588\n",
       "...             ...\n",
       "3409       0.741176\n",
       "3410       0.823529\n",
       "3411       0.411765\n",
       "3412       0.470588\n",
       "3413       0.541176\n",
       "\n",
       "[3414 rows x 1 columns]"
      ]
     },
     "execution_count": 79,
     "metadata": {},
     "output_type": "execute_result"
    }
   ],
   "source": [
    "movies1"
   ]
  },
  {
   "cell_type": "code",
   "execution_count": 80,
   "metadata": {},
   "outputs": [],
   "source": [
    "df_movies = pd.merge(movies1, movies_pca_end, left_index=True, right_index=True)"
   ]
  },
  {
   "cell_type": "code",
   "execution_count": 81,
   "metadata": {},
   "outputs": [
    {
     "data": {
      "text/html": [
       "<div>\n",
       "<style scoped>\n",
       "    .dataframe tbody tr th:only-of-type {\n",
       "        vertical-align: middle;\n",
       "    }\n",
       "\n",
       "    .dataframe tbody tr th {\n",
       "        vertical-align: top;\n",
       "    }\n",
       "\n",
       "    .dataframe thead th {\n",
       "        text-align: right;\n",
       "    }\n",
       "</style>\n",
       "<table border=\"1\" class=\"dataframe\">\n",
       "  <thead>\n",
       "    <tr style=\"text-align: right;\">\n",
       "      <th></th>\n",
       "      <th>averageRating</th>\n",
       "      <th>0</th>\n",
       "      <th>1</th>\n",
       "      <th>2</th>\n",
       "      <th>3</th>\n",
       "      <th>4</th>\n",
       "      <th>5</th>\n",
       "      <th>6</th>\n",
       "      <th>7</th>\n",
       "      <th>8</th>\n",
       "      <th>...</th>\n",
       "      <th>2000</th>\n",
       "      <th>2001</th>\n",
       "      <th>2002</th>\n",
       "      <th>2003</th>\n",
       "      <th>2004</th>\n",
       "      <th>2005</th>\n",
       "      <th>2006</th>\n",
       "      <th>2007</th>\n",
       "      <th>2008</th>\n",
       "      <th>2009</th>\n",
       "    </tr>\n",
       "  </thead>\n",
       "  <tbody>\n",
       "    <tr>\n",
       "      <th>0</th>\n",
       "      <td>0.741176</td>\n",
       "      <td>-0.501549</td>\n",
       "      <td>-0.410343</td>\n",
       "      <td>0.063990</td>\n",
       "      <td>-0.009437</td>\n",
       "      <td>-0.088713</td>\n",
       "      <td>-0.045979</td>\n",
       "      <td>0.750477</td>\n",
       "      <td>0.803670</td>\n",
       "      <td>0.057858</td>\n",
       "      <td>...</td>\n",
       "      <td>0.000421</td>\n",
       "      <td>0.003627</td>\n",
       "      <td>0.009862</td>\n",
       "      <td>0.005714</td>\n",
       "      <td>0.006536</td>\n",
       "      <td>0.022481</td>\n",
       "      <td>0.002074</td>\n",
       "      <td>0.004446</td>\n",
       "      <td>0.020332</td>\n",
       "      <td>0.007569</td>\n",
       "    </tr>\n",
       "    <tr>\n",
       "      <th>1</th>\n",
       "      <td>0.635294</td>\n",
       "      <td>-0.829292</td>\n",
       "      <td>0.497783</td>\n",
       "      <td>0.010107</td>\n",
       "      <td>0.258482</td>\n",
       "      <td>-0.002734</td>\n",
       "      <td>0.080488</td>\n",
       "      <td>0.023413</td>\n",
       "      <td>-0.030326</td>\n",
       "      <td>-0.014422</td>\n",
       "      <td>...</td>\n",
       "      <td>-0.031919</td>\n",
       "      <td>-0.011752</td>\n",
       "      <td>0.002483</td>\n",
       "      <td>0.023398</td>\n",
       "      <td>0.018066</td>\n",
       "      <td>-0.023044</td>\n",
       "      <td>-0.012915</td>\n",
       "      <td>-0.000700</td>\n",
       "      <td>0.025116</td>\n",
       "      <td>0.026440</td>\n",
       "    </tr>\n",
       "    <tr>\n",
       "      <th>2</th>\n",
       "      <td>0.611765</td>\n",
       "      <td>-0.515000</td>\n",
       "      <td>-0.395089</td>\n",
       "      <td>0.050315</td>\n",
       "      <td>0.033801</td>\n",
       "      <td>-0.009854</td>\n",
       "      <td>0.035081</td>\n",
       "      <td>0.093133</td>\n",
       "      <td>0.106137</td>\n",
       "      <td>0.319056</td>\n",
       "      <td>...</td>\n",
       "      <td>-0.017177</td>\n",
       "      <td>-0.003525</td>\n",
       "      <td>0.008375</td>\n",
       "      <td>0.001137</td>\n",
       "      <td>0.010435</td>\n",
       "      <td>0.025869</td>\n",
       "      <td>0.009259</td>\n",
       "      <td>0.026473</td>\n",
       "      <td>0.008463</td>\n",
       "      <td>0.012705</td>\n",
       "    </tr>\n",
       "    <tr>\n",
       "      <th>3</th>\n",
       "      <td>0.576471</td>\n",
       "      <td>0.679223</td>\n",
       "      <td>-0.151883</td>\n",
       "      <td>1.110699</td>\n",
       "      <td>0.354617</td>\n",
       "      <td>0.286754</td>\n",
       "      <td>0.248088</td>\n",
       "      <td>0.010799</td>\n",
       "      <td>0.060866</td>\n",
       "      <td>0.100866</td>\n",
       "      <td>...</td>\n",
       "      <td>0.001213</td>\n",
       "      <td>-0.009749</td>\n",
       "      <td>0.031196</td>\n",
       "      <td>-0.021931</td>\n",
       "      <td>-0.001122</td>\n",
       "      <td>-0.024269</td>\n",
       "      <td>-0.015693</td>\n",
       "      <td>0.009335</td>\n",
       "      <td>-0.013628</td>\n",
       "      <td>-0.000166</td>\n",
       "    </tr>\n",
       "    <tr>\n",
       "      <th>4</th>\n",
       "      <td>0.470588</td>\n",
       "      <td>0.361933</td>\n",
       "      <td>-0.009221</td>\n",
       "      <td>0.143055</td>\n",
       "      <td>-0.340032</td>\n",
       "      <td>0.042796</td>\n",
       "      <td>-0.492464</td>\n",
       "      <td>0.595843</td>\n",
       "      <td>-0.546854</td>\n",
       "      <td>0.240167</td>\n",
       "      <td>...</td>\n",
       "      <td>0.010785</td>\n",
       "      <td>-0.007490</td>\n",
       "      <td>0.020632</td>\n",
       "      <td>-0.009844</td>\n",
       "      <td>-0.024513</td>\n",
       "      <td>-0.018635</td>\n",
       "      <td>0.005081</td>\n",
       "      <td>0.021210</td>\n",
       "      <td>-0.010861</td>\n",
       "      <td>0.001051</td>\n",
       "    </tr>\n",
       "  </tbody>\n",
       "</table>\n",
       "<p>5 rows × 2011 columns</p>\n",
       "</div>"
      ],
      "text/plain": [
       "   averageRating         0         1         2         3         4         5  \\\n",
       "0       0.741176 -0.501549 -0.410343  0.063990 -0.009437 -0.088713 -0.045979   \n",
       "1       0.635294 -0.829292  0.497783  0.010107  0.258482 -0.002734  0.080488   \n",
       "2       0.611765 -0.515000 -0.395089  0.050315  0.033801 -0.009854  0.035081   \n",
       "3       0.576471  0.679223 -0.151883  1.110699  0.354617  0.286754  0.248088   \n",
       "4       0.470588  0.361933 -0.009221  0.143055 -0.340032  0.042796 -0.492464   \n",
       "\n",
       "          6         7         8  ...      2000      2001      2002      2003  \\\n",
       "0  0.750477  0.803670  0.057858  ...  0.000421  0.003627  0.009862  0.005714   \n",
       "1  0.023413 -0.030326 -0.014422  ... -0.031919 -0.011752  0.002483  0.023398   \n",
       "2  0.093133  0.106137  0.319056  ... -0.017177 -0.003525  0.008375  0.001137   \n",
       "3  0.010799  0.060866  0.100866  ...  0.001213 -0.009749  0.031196 -0.021931   \n",
       "4  0.595843 -0.546854  0.240167  ...  0.010785 -0.007490  0.020632 -0.009844   \n",
       "\n",
       "       2004      2005      2006      2007      2008      2009  \n",
       "0  0.006536  0.022481  0.002074  0.004446  0.020332  0.007569  \n",
       "1  0.018066 -0.023044 -0.012915 -0.000700  0.025116  0.026440  \n",
       "2  0.010435  0.025869  0.009259  0.026473  0.008463  0.012705  \n",
       "3 -0.001122 -0.024269 -0.015693  0.009335 -0.013628 -0.000166  \n",
       "4 -0.024513 -0.018635  0.005081  0.021210 -0.010861  0.001051  \n",
       "\n",
       "[5 rows x 2011 columns]"
      ]
     },
     "execution_count": 81,
     "metadata": {},
     "output_type": "execute_result"
    }
   ],
   "source": [
    "df_movies.head()"
   ]
  },
  {
   "cell_type": "markdown",
   "metadata": {},
   "source": [
    "### <a class=\"anchor\" id=\"Alg_Selection\"> 3.b.- Algorithm Selection\n",
    "We´re going to test a few regression algorithms with all the features and the default parameters to see which one works better"
   ]
  },
  {
   "cell_type": "code",
   "execution_count": 82,
   "metadata": {},
   "outputs": [
    {
     "data": {
      "text/plain": [
       "((2731, 2010), (2731,), (683, 2010), (683,))"
      ]
     },
     "execution_count": 82,
     "metadata": {},
     "output_type": "execute_result"
    }
   ],
   "source": [
    "X = df_movies.drop(\"averageRating\", axis=1).copy()\n",
    "y = df_movies[\"averageRating\"]\n",
    "X_train, X_test, y_train, y_test = train_test_split(X, y, test_size=0.2, random_state=42, shuffle = True)\n",
    "X_train.shape, y_train.shape, X_test.shape, y_test.shape"
   ]
  },
  {
   "cell_type": "code",
   "execution_count": 83,
   "metadata": {},
   "outputs": [],
   "source": [
    "#function to test the algorithm\n",
    "def test_model(alg):\n",
    "    train_score = 0\n",
    "    test_score = 0\n",
    "    clf = alg\n",
    "    clf.fit(X_train, y_train)\n",
    "    y_pred = clf.predict(X_test)\n",
    "    train_score = clf.score(X_train, y_train)\n",
    "    test_score = clf.score(X_test, y_test) \n",
    "    \n",
    "    return train_score, test_score"
   ]
  },
  {
   "cell_type": "code",
   "execution_count": 84,
   "metadata": {},
   "outputs": [],
   "source": [
    "#Test Linear Regression, create df of scores and its score\n",
    "model = test_model(LinearRegression())\n",
    "scores = pd.DataFrame({'Algorithm': 'Linear Regression', 'Train_score': [model[0]], 'Test_score': [model[1]]},columns = ['Algorithm','Train_score','Test_score'])"
   ]
  },
  {
   "cell_type": "code",
   "execution_count": 86,
   "metadata": {},
   "outputs": [],
   "source": [
    "#Test Lasso, create add score to df\n",
    "model =test_model(Lasso())\n",
    "scores = scores.append({'Algorithm' : 'Lasso' , 'Train_score' : model[0], 'Test_score' : model[1]} , ignore_index=True)"
   ]
  },
  {
   "cell_type": "code",
   "execution_count": 88,
   "metadata": {},
   "outputs": [],
   "source": [
    "#Test Elastic Net, create add score to df\n",
    "model =test_model(ElasticNet())\n",
    "scores = scores.append({'Algorithm' : 'Elastic Net' , 'Train_score' : model[0], 'Test_score' : model[1]} , ignore_index=True)\n"
   ]
  },
  {
   "cell_type": "code",
   "execution_count": 90,
   "metadata": {},
   "outputs": [],
   "source": [
    "#Test KNeighborsRegressor(), create add score to df\n",
    "model =test_model(KNeighborsRegressor())\n",
    "scores = scores.append({'Algorithm' :'KNeighbors Regressor' , 'Train_score' : model[0], 'Test_score' : model[1]} , ignore_index=True)"
   ]
  },
  {
   "cell_type": "code",
   "execution_count": 92,
   "metadata": {},
   "outputs": [],
   "source": [
    "#Test DecisionTreeRegressor(), create add score to df\n",
    "model =test_model(DecisionTreeRegressor())\n",
    "scores = scores.append({'Algorithm' : 'Decision Tree Regressor' , 'Train_score' : model[0], 'Test_score' : model[1]} , ignore_index=True)"
   ]
  },
  {
   "cell_type": "code",
   "execution_count": 94,
   "metadata": {},
   "outputs": [],
   "source": [
    "#Test GradientBoostingRegressor(), create add score to df\n",
    "model =test_model(GradientBoostingRegressor())\n",
    "scores = scores.append({'Algorithm' : 'Gradient Boosting Regressor' , 'Train_score' : model[0], 'Test_score' : model[1]} , ignore_index=True)"
   ]
  },
  {
   "cell_type": "code",
   "execution_count": 95,
   "metadata": {},
   "outputs": [
    {
     "name": "stdout",
     "output_type": "stream",
     "text": [
      "The score of the different algorithms is\n"
     ]
    },
    {
     "data": {
      "text/html": [
       "<div>\n",
       "<style scoped>\n",
       "    .dataframe tbody tr th:only-of-type {\n",
       "        vertical-align: middle;\n",
       "    }\n",
       "\n",
       "    .dataframe tbody tr th {\n",
       "        vertical-align: top;\n",
       "    }\n",
       "\n",
       "    .dataframe thead th {\n",
       "        text-align: right;\n",
       "    }\n",
       "</style>\n",
       "<table border=\"1\" class=\"dataframe\">\n",
       "  <thead>\n",
       "    <tr style=\"text-align: right;\">\n",
       "      <th></th>\n",
       "      <th>Algorithm</th>\n",
       "      <th>Train_score</th>\n",
       "      <th>Test_score</th>\n",
       "    </tr>\n",
       "  </thead>\n",
       "  <tbody>\n",
       "    <tr>\n",
       "      <th>0</th>\n",
       "      <td>Linear Regression</td>\n",
       "      <td>0.848178</td>\n",
       "      <td>-2902.902678</td>\n",
       "    </tr>\n",
       "    <tr>\n",
       "      <th>4</th>\n",
       "      <td>Decision Tree Regressor</td>\n",
       "      <td>1.000000</td>\n",
       "      <td>-0.512852</td>\n",
       "    </tr>\n",
       "    <tr>\n",
       "      <th>1</th>\n",
       "      <td>Lasso</td>\n",
       "      <td>0.000000</td>\n",
       "      <td>-0.004796</td>\n",
       "    </tr>\n",
       "    <tr>\n",
       "      <th>2</th>\n",
       "      <td>Elastic Net</td>\n",
       "      <td>0.000000</td>\n",
       "      <td>-0.004796</td>\n",
       "    </tr>\n",
       "    <tr>\n",
       "      <th>3</th>\n",
       "      <td>KNeighbors Regressor</td>\n",
       "      <td>0.366839</td>\n",
       "      <td>0.089698</td>\n",
       "    </tr>\n",
       "    <tr>\n",
       "      <th>5</th>\n",
       "      <td>Gradient Boosting Regressor</td>\n",
       "      <td>0.611549</td>\n",
       "      <td>0.322445</td>\n",
       "    </tr>\n",
       "  </tbody>\n",
       "</table>\n",
       "</div>"
      ],
      "text/plain": [
       "                     Algorithm  Train_score   Test_score\n",
       "0            Linear Regression     0.848178 -2902.902678\n",
       "4      Decision Tree Regressor     1.000000    -0.512852\n",
       "1                        Lasso     0.000000    -0.004796\n",
       "2                  Elastic Net     0.000000    -0.004796\n",
       "3         KNeighbors Regressor     0.366839     0.089698\n",
       "5  Gradient Boosting Regressor     0.611549     0.322445"
      ]
     },
     "execution_count": 95,
     "metadata": {},
     "output_type": "execute_result"
    }
   ],
   "source": [
    "print(\"The score of the different algorithms is\")\n",
    "scores.sort_values(by ='Test_score', ascending = True)"
   ]
  },
  {
   "cell_type": "markdown",
   "metadata": {},
   "source": [
    "Comparing to prior tests, the results are even worse, so this approach is not good."
   ]
  }
 ],
 "metadata": {
  "kernelspec": {
   "display_name": "Python 3",
   "language": "python",
   "name": "python3"
  },
  "language_info": {
   "codemirror_mode": {
    "name": "ipython",
    "version": 3
   },
   "file_extension": ".py",
   "mimetype": "text/x-python",
   "name": "python",
   "nbconvert_exporter": "python",
   "pygments_lexer": "ipython3",
   "version": "3.7.6"
  }
 },
 "nbformat": 4,
 "nbformat_minor": 2
}
