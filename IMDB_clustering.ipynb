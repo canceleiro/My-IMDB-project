{
 "cells": [
  {
   "cell_type": "markdown",
   "metadata": {},
   "source": [
    "# IMDB project: clustering movies\n",
    "### by Javier Alonso\n",
    "\n",
    "This Jupyter Notebook is part of [\"My IMDB project\"](https://javieralonsoalonso.com/category/my-imdb-project/) and tries to cluster the movies in IMDB and take conclussions out of it\n",
    "\n",
    "The database was downloaded from IMDB on 2020/05/25 but some days after, they changed all the system for retrieving the data, so we won´t be able to upgrade easily the project with new data.\n",
    "\n",
    "The results have been posted in my [\"My blog\"](https://javieralonsoalonso.com/category/my-imdb-project/)\n",
    "\n",
    "## Table of Contents\n",
    "\n",
    "1. [Preliminary Wrangling](#Preliminary_Wrangling)<br>\n",
    "1.a.-[Gathering Data](#Gathering_Data)<br>\n",
    "1.b.-[Assesing and Cleaning Data](#Assesing_cleaning_data)<br>\n",
    "1.c.-[Consolidation of Dataframes](#Consolidaion_dataframes)<br>\n",
    "2. [Machine Learning Algorithm](#MLA)<br>\n",
    "3.a.-[Data preparation](#Data_preparation)<br>\n",
    "3.b.-[Algorithm Selection](#Alg_Selection)<br>\n",
    "\n",
    "## <a class=\"anchor\" id=\"Preliminary_Wrangling\">Part 1: Preliminary Wrangling"
   ]
  },
  {
   "cell_type": "code",
   "execution_count": 1,
   "metadata": {},
   "outputs": [],
   "source": [
    "# import all packages and set plots to be embedded inline\n",
    "import numpy as np\n",
    "import pandas as pd\n",
    "import matplotlib.pyplot as plt\n",
    "import seaborn as sb\n",
    "import time\n",
    "\n",
    "%matplotlib inline\n",
    "\n",
    "# machine learning\n",
    "from sklearn.linear_model import LogisticRegression\n",
    "from sklearn.svm import SVC, LinearSVC\n",
    "from sklearn.ensemble import RandomForestClassifier\n",
    "from sklearn.neighbors import KNeighborsClassifier\n",
    "from sklearn.naive_bayes import GaussianNB\n",
    "from sklearn.linear_model import Perceptron\n",
    "from sklearn.linear_model import SGDClassifier\n",
    "from sklearn.tree import DecisionTreeClassifier\n",
    "from sklearn.model_selection import KFold\n",
    "from sklearn.model_selection import train_test_split\n",
    "from sklearn.model_selection import cross_val_score, cross_val_predict\n",
    "from sklearn.ensemble import AdaBoostClassifier\n",
    "from sklearn.metrics import confusion_matrix\n",
    "from sklearn.model_selection import GridSearchCV\n",
    "from sklearn.preprocessing import MinMaxScaler\n",
    "\n",
    "\n",
    "from sklearn.pipeline import Pipeline, FeatureUnion\n",
    "from sklearn.base import BaseEstimator, TransformerMixin\n",
    "from sklearn.feature_extraction.text import CountVectorizer, TfidfTransformer\n",
    "from sklearn.datasets import make_multilabel_classification\n",
    "from sklearn.multioutput import MultiOutputClassifier\n",
    "from sklearn.metrics import classification_report\n",
    "from sklearn.metrics import accuracy_score\n",
    "from sklearn import tree\n",
    "from sklearn.metrics import f1_score\n",
    "from sklearn import linear_model\n",
    "from sklearn.metrics import mean_squared_error\n",
    "from sklearn.linear_model import LinearRegression\n",
    "from sklearn.datasets import load_digits\n",
    "from sklearn.feature_selection import SelectPercentile, chi2\n",
    "from sklearn.linear_model import LinearRegression\n",
    "from sklearn.linear_model import Lasso\n",
    "from sklearn.linear_model import ElasticNet\n",
    "from sklearn.tree import DecisionTreeRegressor\n",
    "from sklearn.neighbors import KNeighborsRegressor\n",
    "from sklearn.ensemble import GradientBoostingRegressor\n",
    "from sklearn.decomposition import PCA\n",
    "from sklearn.model_selection import RandomizedSearchCV\n",
    "\n",
    "from scipy.stats import uniform as sp_rand\n",
    "from scipy.stats import uniform as sp_randFloat\n",
    "from scipy.stats import uniform as sp_randInt\n",
    "from scipy.stats import uniform as sp_random\n",
    "\n",
    "from sklearn.cluster import KMeans\n",
    "from sklearn import datasets, cluster\n",
    "from scipy.cluster.hierarchy import dendrogram, ward, single\n",
    "from sklearn import datasets\n",
    "\n",
    "from sklearn.metrics import silhouette_samples, silhouette_score\n",
    "from sklearn import datasets, mixture"
   ]
  },
  {
   "cell_type": "markdown",
   "metadata": {},
   "source": [
    "### <a class=\"anchor\" id=\"Gathering_Data\"> 1.a.- Gathering Data\n",
    "\n",
    "In this section we´ll gather data from the precleaned dataset for the EDA"
   ]
  },
  {
   "cell_type": "code",
   "execution_count": 5,
   "metadata": {},
   "outputs": [
    {
     "data": {
      "text/plain": [
       "(221748, 12)"
      ]
     },
     "execution_count": 5,
     "metadata": {},
     "output_type": "execute_result"
    }
   ],
   "source": [
    "df_movies = pd.read_csv('IMDB_clean_movies.csv')\n",
    "df_movies.shape"
   ]
  },
  {
   "cell_type": "markdown",
   "metadata": {},
   "source": [
    "A view of the dataframe"
   ]
  },
  {
   "cell_type": "code",
   "execution_count": 6,
   "metadata": {
    "scrolled": true
   },
   "outputs": [
    {
     "data": {
      "text/html": [
       "<div>\n",
       "<style scoped>\n",
       "    .dataframe tbody tr th:only-of-type {\n",
       "        vertical-align: middle;\n",
       "    }\n",
       "\n",
       "    .dataframe tbody tr th {\n",
       "        vertical-align: top;\n",
       "    }\n",
       "\n",
       "    .dataframe thead th {\n",
       "        text-align: right;\n",
       "    }\n",
       "</style>\n",
       "<table border=\"1\" class=\"dataframe\">\n",
       "  <thead>\n",
       "    <tr style=\"text-align: right;\">\n",
       "      <th></th>\n",
       "      <th>idMovie</th>\n",
       "      <th>originalTitle</th>\n",
       "      <th>Year</th>\n",
       "      <th>Minutes</th>\n",
       "      <th>Genres</th>\n",
       "      <th>averageRating</th>\n",
       "      <th>numVotes</th>\n",
       "      <th>decade</th>\n",
       "      <th>director</th>\n",
       "      <th>actors</th>\n",
       "      <th>actress</th>\n",
       "      <th>writers</th>\n",
       "    </tr>\n",
       "  </thead>\n",
       "  <tbody>\n",
       "    <tr>\n",
       "      <th>0</th>\n",
       "      <td>tt0000009</td>\n",
       "      <td>Miss Jerry</td>\n",
       "      <td>1894</td>\n",
       "      <td>45</td>\n",
       "      <td>Romance</td>\n",
       "      <td>5.9</td>\n",
       "      <td>153</td>\n",
       "      <td>1890</td>\n",
       "      <td>Alexander Black</td>\n",
       "      <td>William Courtenay,Chauncey Depew</td>\n",
       "      <td>Blanche Bayliss</td>\n",
       "      <td>Not available</td>\n",
       "    </tr>\n",
       "    <tr>\n",
       "      <th>1</th>\n",
       "      <td>tt0000147</td>\n",
       "      <td>The Corbett-Fitzsimmons Fight</td>\n",
       "      <td>1897</td>\n",
       "      <td>20</td>\n",
       "      <td>Documentary,News,Sport</td>\n",
       "      <td>5.2</td>\n",
       "      <td>346</td>\n",
       "      <td>1890</td>\n",
       "      <td>Enoch J. Rector</td>\n",
       "      <td>Not available</td>\n",
       "      <td>Not available</td>\n",
       "      <td>Not available</td>\n",
       "    </tr>\n",
       "    <tr>\n",
       "      <th>2</th>\n",
       "      <td>tt0000335</td>\n",
       "      <td>Soldiers of the Cross</td>\n",
       "      <td>1900</td>\n",
       "      <td>91</td>\n",
       "      <td>Biography,Drama</td>\n",
       "      <td>6.1</td>\n",
       "      <td>40</td>\n",
       "      <td>1900</td>\n",
       "      <td>Herbert Booth,Joseph Perry</td>\n",
       "      <td>Harold Graham,Mr. Graham,John Jones,Orrie Perr...</td>\n",
       "      <td>Beatrice Day</td>\n",
       "      <td>Not available</td>\n",
       "    </tr>\n",
       "    <tr>\n",
       "      <th>3</th>\n",
       "      <td>tt0000502</td>\n",
       "      <td>Bohemios</td>\n",
       "      <td>1905</td>\n",
       "      <td>100</td>\n",
       "      <td>No available</td>\n",
       "      <td>3.8</td>\n",
       "      <td>6</td>\n",
       "      <td>1900</td>\n",
       "      <td>Ricardo de Baños</td>\n",
       "      <td>Antonio del Pozo,El Mochuelo</td>\n",
       "      <td>Not available</td>\n",
       "      <td>Marguerite Thévenard,Bleuette Bernon</td>\n",
       "    </tr>\n",
       "    <tr>\n",
       "      <th>4</th>\n",
       "      <td>tt0000574</td>\n",
       "      <td>The Story of the Kelly Gang</td>\n",
       "      <td>1906</td>\n",
       "      <td>70</td>\n",
       "      <td>Biography,Crime,Drama</td>\n",
       "      <td>6.1</td>\n",
       "      <td>574</td>\n",
       "      <td>1900</td>\n",
       "      <td>Charles Tait</td>\n",
       "      <td>John Tait,Norman Campbell</td>\n",
       "      <td>Elizabeth Tait,Bella Cola</td>\n",
       "      <td>Not available</td>\n",
       "    </tr>\n",
       "  </tbody>\n",
       "</table>\n",
       "</div>"
      ],
      "text/plain": [
       "     idMovie                  originalTitle  Year  Minutes  \\\n",
       "0  tt0000009                     Miss Jerry  1894       45   \n",
       "1  tt0000147  The Corbett-Fitzsimmons Fight  1897       20   \n",
       "2  tt0000335          Soldiers of the Cross  1900       91   \n",
       "3  tt0000502                       Bohemios  1905      100   \n",
       "4  tt0000574    The Story of the Kelly Gang  1906       70   \n",
       "\n",
       "                   Genres  averageRating  numVotes  decade  \\\n",
       "0                 Romance            5.9       153    1890   \n",
       "1  Documentary,News,Sport            5.2       346    1890   \n",
       "2         Biography,Drama            6.1        40    1900   \n",
       "3            No available            3.8         6    1900   \n",
       "4   Biography,Crime,Drama            6.1       574    1900   \n",
       "\n",
       "                     director  \\\n",
       "0             Alexander Black   \n",
       "1             Enoch J. Rector   \n",
       "2  Herbert Booth,Joseph Perry   \n",
       "3            Ricardo de Baños   \n",
       "4                Charles Tait   \n",
       "\n",
       "                                              actors  \\\n",
       "0                   William Courtenay,Chauncey Depew   \n",
       "1                                      Not available   \n",
       "2  Harold Graham,Mr. Graham,John Jones,Orrie Perr...   \n",
       "3                       Antonio del Pozo,El Mochuelo   \n",
       "4                          John Tait,Norman Campbell   \n",
       "\n",
       "                     actress                               writers  \n",
       "0            Blanche Bayliss                         Not available  \n",
       "1              Not available                         Not available  \n",
       "2               Beatrice Day                         Not available  \n",
       "3              Not available  Marguerite Thévenard,Bleuette Bernon  \n",
       "4  Elizabeth Tait,Bella Cola                         Not available  "
      ]
     },
     "execution_count": 6,
     "metadata": {},
     "output_type": "execute_result"
    }
   ],
   "source": [
    "df_movies.head(5)"
   ]
  },
  {
   "cell_type": "markdown",
   "metadata": {},
   "source": [
    "### <a class=\"anchor\" id=\"Assesing_cleaning_data\"> 1.b.- Asessing and cleaning data\n",
    "\n",
    "Now, we´re going to assess the dataframe visually and programmatically for quality and tidiness issues, and do the cleaning of these issues\n",
    "\n",
    "First thing we do a copy of my dataframe\n"
   ]
  },
  {
   "cell_type": "code",
   "execution_count": 7,
   "metadata": {},
   "outputs": [],
   "source": [
    "movies = df_movies.copy()"
   ]
  },
  {
   "cell_type": "code",
   "execution_count": 8,
   "metadata": {},
   "outputs": [
    {
     "data": {
      "text/html": [
       "<div>\n",
       "<style scoped>\n",
       "    .dataframe tbody tr th:only-of-type {\n",
       "        vertical-align: middle;\n",
       "    }\n",
       "\n",
       "    .dataframe tbody tr th {\n",
       "        vertical-align: top;\n",
       "    }\n",
       "\n",
       "    .dataframe thead th {\n",
       "        text-align: right;\n",
       "    }\n",
       "</style>\n",
       "<table border=\"1\" class=\"dataframe\">\n",
       "  <thead>\n",
       "    <tr style=\"text-align: right;\">\n",
       "      <th></th>\n",
       "      <th>idMovie</th>\n",
       "      <th>originalTitle</th>\n",
       "      <th>Year</th>\n",
       "      <th>Minutes</th>\n",
       "      <th>Genres</th>\n",
       "      <th>averageRating</th>\n",
       "      <th>numVotes</th>\n",
       "      <th>decade</th>\n",
       "      <th>director</th>\n",
       "      <th>actors</th>\n",
       "      <th>actress</th>\n",
       "      <th>writers</th>\n",
       "    </tr>\n",
       "  </thead>\n",
       "  <tbody>\n",
       "    <tr>\n",
       "      <th>0</th>\n",
       "      <td>tt0000009</td>\n",
       "      <td>Miss Jerry</td>\n",
       "      <td>1894</td>\n",
       "      <td>45</td>\n",
       "      <td>Romance</td>\n",
       "      <td>5.9</td>\n",
       "      <td>153</td>\n",
       "      <td>1890</td>\n",
       "      <td>Alexander Black</td>\n",
       "      <td>William Courtenay,Chauncey Depew</td>\n",
       "      <td>Blanche Bayliss</td>\n",
       "      <td>Not available</td>\n",
       "    </tr>\n",
       "    <tr>\n",
       "      <th>1</th>\n",
       "      <td>tt0000147</td>\n",
       "      <td>The Corbett-Fitzsimmons Fight</td>\n",
       "      <td>1897</td>\n",
       "      <td>20</td>\n",
       "      <td>Documentary,News,Sport</td>\n",
       "      <td>5.2</td>\n",
       "      <td>346</td>\n",
       "      <td>1890</td>\n",
       "      <td>Enoch J. Rector</td>\n",
       "      <td>Not available</td>\n",
       "      <td>Not available</td>\n",
       "      <td>Not available</td>\n",
       "    </tr>\n",
       "    <tr>\n",
       "      <th>2</th>\n",
       "      <td>tt0000335</td>\n",
       "      <td>Soldiers of the Cross</td>\n",
       "      <td>1900</td>\n",
       "      <td>91</td>\n",
       "      <td>Biography,Drama</td>\n",
       "      <td>6.1</td>\n",
       "      <td>40</td>\n",
       "      <td>1900</td>\n",
       "      <td>Herbert Booth,Joseph Perry</td>\n",
       "      <td>Harold Graham,Mr. Graham,John Jones,Orrie Perr...</td>\n",
       "      <td>Beatrice Day</td>\n",
       "      <td>Not available</td>\n",
       "    </tr>\n",
       "    <tr>\n",
       "      <th>3</th>\n",
       "      <td>tt0000502</td>\n",
       "      <td>Bohemios</td>\n",
       "      <td>1905</td>\n",
       "      <td>100</td>\n",
       "      <td>No available</td>\n",
       "      <td>3.8</td>\n",
       "      <td>6</td>\n",
       "      <td>1900</td>\n",
       "      <td>Ricardo de Baños</td>\n",
       "      <td>Antonio del Pozo,El Mochuelo</td>\n",
       "      <td>Not available</td>\n",
       "      <td>Marguerite Thévenard,Bleuette Bernon</td>\n",
       "    </tr>\n",
       "    <tr>\n",
       "      <th>4</th>\n",
       "      <td>tt0000574</td>\n",
       "      <td>The Story of the Kelly Gang</td>\n",
       "      <td>1906</td>\n",
       "      <td>70</td>\n",
       "      <td>Biography,Crime,Drama</td>\n",
       "      <td>6.1</td>\n",
       "      <td>574</td>\n",
       "      <td>1900</td>\n",
       "      <td>Charles Tait</td>\n",
       "      <td>John Tait,Norman Campbell</td>\n",
       "      <td>Elizabeth Tait,Bella Cola</td>\n",
       "      <td>Not available</td>\n",
       "    </tr>\n",
       "  </tbody>\n",
       "</table>\n",
       "</div>"
      ],
      "text/plain": [
       "     idMovie                  originalTitle  Year  Minutes  \\\n",
       "0  tt0000009                     Miss Jerry  1894       45   \n",
       "1  tt0000147  The Corbett-Fitzsimmons Fight  1897       20   \n",
       "2  tt0000335          Soldiers of the Cross  1900       91   \n",
       "3  tt0000502                       Bohemios  1905      100   \n",
       "4  tt0000574    The Story of the Kelly Gang  1906       70   \n",
       "\n",
       "                   Genres  averageRating  numVotes  decade  \\\n",
       "0                 Romance            5.9       153    1890   \n",
       "1  Documentary,News,Sport            5.2       346    1890   \n",
       "2         Biography,Drama            6.1        40    1900   \n",
       "3            No available            3.8         6    1900   \n",
       "4   Biography,Crime,Drama            6.1       574    1900   \n",
       "\n",
       "                     director  \\\n",
       "0             Alexander Black   \n",
       "1             Enoch J. Rector   \n",
       "2  Herbert Booth,Joseph Perry   \n",
       "3            Ricardo de Baños   \n",
       "4                Charles Tait   \n",
       "\n",
       "                                              actors  \\\n",
       "0                   William Courtenay,Chauncey Depew   \n",
       "1                                      Not available   \n",
       "2  Harold Graham,Mr. Graham,John Jones,Orrie Perr...   \n",
       "3                       Antonio del Pozo,El Mochuelo   \n",
       "4                          John Tait,Norman Campbell   \n",
       "\n",
       "                     actress                               writers  \n",
       "0            Blanche Bayliss                         Not available  \n",
       "1              Not available                         Not available  \n",
       "2               Beatrice Day                         Not available  \n",
       "3              Not available  Marguerite Thévenard,Bleuette Bernon  \n",
       "4  Elizabeth Tait,Bella Cola                         Not available  "
      ]
     },
     "execution_count": 8,
     "metadata": {},
     "output_type": "execute_result"
    }
   ],
   "source": [
    "movies.head()"
   ]
  },
  {
   "cell_type": "markdown",
   "metadata": {},
   "source": [
    "#### Keeping movies with more than 1000 votes\n",
    "\n",
    "For clustering we are going to get the movies with more than 1.000 votes"
   ]
  },
  {
   "cell_type": "code",
   "execution_count": 9,
   "metadata": {},
   "outputs": [
    {
     "data": {
      "text/html": [
       "<div>\n",
       "<style scoped>\n",
       "    .dataframe tbody tr th:only-of-type {\n",
       "        vertical-align: middle;\n",
       "    }\n",
       "\n",
       "    .dataframe tbody tr th {\n",
       "        vertical-align: top;\n",
       "    }\n",
       "\n",
       "    .dataframe thead th {\n",
       "        text-align: right;\n",
       "    }\n",
       "</style>\n",
       "<table border=\"1\" class=\"dataframe\">\n",
       "  <thead>\n",
       "    <tr style=\"text-align: right;\">\n",
       "      <th></th>\n",
       "      <th>Year</th>\n",
       "      <th>Minutes</th>\n",
       "      <th>averageRating</th>\n",
       "      <th>numVotes</th>\n",
       "      <th>decade</th>\n",
       "    </tr>\n",
       "  </thead>\n",
       "  <tbody>\n",
       "    <tr>\n",
       "      <th>count</th>\n",
       "      <td>221748.000000</td>\n",
       "      <td>221748.000000</td>\n",
       "      <td>221748.000000</td>\n",
       "      <td>2.217480e+05</td>\n",
       "      <td>221748.000000</td>\n",
       "    </tr>\n",
       "    <tr>\n",
       "      <th>mean</th>\n",
       "      <td>1990.273035</td>\n",
       "      <td>94.930047</td>\n",
       "      <td>6.048698</td>\n",
       "      <td>3.667128e+03</td>\n",
       "      <td>1985.555541</td>\n",
       "    </tr>\n",
       "    <tr>\n",
       "      <th>std</th>\n",
       "      <td>26.151198</td>\n",
       "      <td>34.030400</td>\n",
       "      <td>1.305295</td>\n",
       "      <td>3.315393e+04</td>\n",
       "      <td>26.066786</td>\n",
       "    </tr>\n",
       "    <tr>\n",
       "      <th>min</th>\n",
       "      <td>1894.000000</td>\n",
       "      <td>1.000000</td>\n",
       "      <td>1.000000</td>\n",
       "      <td>5.000000e+00</td>\n",
       "      <td>1890.000000</td>\n",
       "    </tr>\n",
       "    <tr>\n",
       "      <th>25%</th>\n",
       "      <td>1973.000000</td>\n",
       "      <td>85.000000</td>\n",
       "      <td>5.300000</td>\n",
       "      <td>1.500000e+01</td>\n",
       "      <td>1970.000000</td>\n",
       "    </tr>\n",
       "    <tr>\n",
       "      <th>50%</th>\n",
       "      <td>1999.000000</td>\n",
       "      <td>91.000000</td>\n",
       "      <td>6.200000</td>\n",
       "      <td>5.600000e+01</td>\n",
       "      <td>1990.000000</td>\n",
       "    </tr>\n",
       "    <tr>\n",
       "      <th>75%</th>\n",
       "      <td>2012.000000</td>\n",
       "      <td>102.000000</td>\n",
       "      <td>6.900000</td>\n",
       "      <td>3.080000e+02</td>\n",
       "      <td>2010.000000</td>\n",
       "    </tr>\n",
       "    <tr>\n",
       "      <th>max</th>\n",
       "      <td>2020.000000</td>\n",
       "      <td>10062.000000</td>\n",
       "      <td>10.000000</td>\n",
       "      <td>2.242140e+06</td>\n",
       "      <td>2020.000000</td>\n",
       "    </tr>\n",
       "  </tbody>\n",
       "</table>\n",
       "</div>"
      ],
      "text/plain": [
       "                Year        Minutes  averageRating      numVotes  \\\n",
       "count  221748.000000  221748.000000  221748.000000  2.217480e+05   \n",
       "mean     1990.273035      94.930047       6.048698  3.667128e+03   \n",
       "std        26.151198      34.030400       1.305295  3.315393e+04   \n",
       "min      1894.000000       1.000000       1.000000  5.000000e+00   \n",
       "25%      1973.000000      85.000000       5.300000  1.500000e+01   \n",
       "50%      1999.000000      91.000000       6.200000  5.600000e+01   \n",
       "75%      2012.000000     102.000000       6.900000  3.080000e+02   \n",
       "max      2020.000000   10062.000000      10.000000  2.242140e+06   \n",
       "\n",
       "              decade  \n",
       "count  221748.000000  \n",
       "mean     1985.555541  \n",
       "std        26.066786  \n",
       "min      1890.000000  \n",
       "25%      1970.000000  \n",
       "50%      1990.000000  \n",
       "75%      2010.000000  \n",
       "max      2020.000000  "
      ]
     },
     "execution_count": 9,
     "metadata": {},
     "output_type": "execute_result"
    }
   ],
   "source": [
    "movies.describe()"
   ]
  },
  {
   "cell_type": "code",
   "execution_count": 10,
   "metadata": {},
   "outputs": [
    {
     "data": {
      "text/plain": [
       "221748"
      ]
     },
     "execution_count": 10,
     "metadata": {},
     "output_type": "execute_result"
    }
   ],
   "source": [
    "len(movies)"
   ]
  },
  {
   "cell_type": "code",
   "execution_count": 11,
   "metadata": {},
   "outputs": [],
   "source": [
    "movies = movies[movies.numVotes>1000]"
   ]
  },
  {
   "cell_type": "code",
   "execution_count": 12,
   "metadata": {},
   "outputs": [
    {
     "data": {
      "text/plain": [
       "30381"
      ]
     },
     "execution_count": 12,
     "metadata": {},
     "output_type": "execute_result"
    }
   ],
   "source": [
    "len(movies)"
   ]
  },
  {
   "cell_type": "markdown",
   "metadata": {},
   "source": [
    "So we will cluster 30.381 movies"
   ]
  },
  {
   "cell_type": "markdown",
   "metadata": {},
   "source": [
    "#### Incorrect datatypes\n",
    "\n",
    "Decade should be string. We change the datatype"
   ]
  },
  {
   "cell_type": "code",
   "execution_count": 13,
   "metadata": {},
   "outputs": [],
   "source": [
    "movies.decade = movies.decade.astype(str)"
   ]
  },
  {
   "cell_type": "code",
   "execution_count": 14,
   "metadata": {},
   "outputs": [
    {
     "name": "stdout",
     "output_type": "stream",
     "text": [
      "<class 'pandas.core.frame.DataFrame'>\n",
      "Int64Index: 30381 entries, 63 to 221712\n",
      "Data columns (total 12 columns):\n",
      " #   Column         Non-Null Count  Dtype  \n",
      "---  ------         --------------  -----  \n",
      " 0   idMovie        30381 non-null  object \n",
      " 1   originalTitle  30381 non-null  object \n",
      " 2   Year           30381 non-null  int64  \n",
      " 3   Minutes        30381 non-null  int64  \n",
      " 4   Genres         30381 non-null  object \n",
      " 5   averageRating  30381 non-null  float64\n",
      " 6   numVotes       30381 non-null  int64  \n",
      " 7   decade         30381 non-null  object \n",
      " 8   director       30381 non-null  object \n",
      " 9   actors         30381 non-null  object \n",
      " 10  actress        30379 non-null  object \n",
      " 11  writers        30381 non-null  object \n",
      "dtypes: float64(1), int64(3), object(8)\n",
      "memory usage: 3.0+ MB\n"
     ]
    }
   ],
   "source": [
    "movies.info()"
   ]
  },
  {
   "cell_type": "markdown",
   "metadata": {},
   "source": [
    "#### Deleting columns\n",
    "\n",
    "**Director, actors, actress and writers column** as we will get them from other dataframe"
   ]
  },
  {
   "cell_type": "code",
   "execution_count": 15,
   "metadata": {},
   "outputs": [],
   "source": [
    "movies = movies.drop(['director'], axis=1)\n",
    "movies = movies.drop(['actors'], axis=1)\n",
    "movies = movies.drop(['actress'], axis=1)\n",
    "movies = movies.drop(['writers'], axis=1)"
   ]
  },
  {
   "cell_type": "code",
   "execution_count": 16,
   "metadata": {
    "scrolled": true
   },
   "outputs": [
    {
     "name": "stdout",
     "output_type": "stream",
     "text": [
      "<class 'pandas.core.frame.DataFrame'>\n",
      "Int64Index: 30381 entries, 63 to 221712\n",
      "Data columns (total 8 columns):\n",
      " #   Column         Non-Null Count  Dtype  \n",
      "---  ------         --------------  -----  \n",
      " 0   idMovie        30381 non-null  object \n",
      " 1   originalTitle  30381 non-null  object \n",
      " 2   Year           30381 non-null  int64  \n",
      " 3   Minutes        30381 non-null  int64  \n",
      " 4   Genres         30381 non-null  object \n",
      " 5   averageRating  30381 non-null  float64\n",
      " 6   numVotes       30381 non-null  int64  \n",
      " 7   decade         30381 non-null  object \n",
      "dtypes: float64(1), int64(3), object(4)\n",
      "memory usage: 2.1+ MB\n"
     ]
    }
   ],
   "source": [
    "movies.info()"
   ]
  },
  {
   "cell_type": "markdown",
   "metadata": {},
   "source": [
    "#### Getting the crews info"
   ]
  },
  {
   "cell_type": "code",
   "execution_count": 17,
   "metadata": {},
   "outputs": [],
   "source": [
    "#We read data of the crew\n",
    "df_principals = pd.read_csv(\"title.principals.tsv\",  sep=\"\\t\", na_values=[\"\\\\N\",\"nan\"])\n",
    "df_names = pd.read_csv(\"name.basics.tsv\", sep=\"\\t\", na_values=[\"\\\\N\",\"nan\"])"
   ]
  },
  {
   "cell_type": "code",
   "execution_count": 18,
   "metadata": {},
   "outputs": [
    {
     "data": {
      "text/html": [
       "<div>\n",
       "<style scoped>\n",
       "    .dataframe tbody tr th:only-of-type {\n",
       "        vertical-align: middle;\n",
       "    }\n",
       "\n",
       "    .dataframe tbody tr th {\n",
       "        vertical-align: top;\n",
       "    }\n",
       "\n",
       "    .dataframe thead th {\n",
       "        text-align: right;\n",
       "    }\n",
       "</style>\n",
       "<table border=\"1\" class=\"dataframe\">\n",
       "  <thead>\n",
       "    <tr style=\"text-align: right;\">\n",
       "      <th></th>\n",
       "      <th>nconst</th>\n",
       "      <th>primaryName</th>\n",
       "      <th>birthYear</th>\n",
       "      <th>deathYear</th>\n",
       "      <th>primaryProfession</th>\n",
       "      <th>knownForTitles</th>\n",
       "    </tr>\n",
       "  </thead>\n",
       "  <tbody>\n",
       "    <tr>\n",
       "      <th>0</th>\n",
       "      <td>nm0000001</td>\n",
       "      <td>Fred Astaire</td>\n",
       "      <td>1899.0</td>\n",
       "      <td>1987.0</td>\n",
       "      <td>soundtrack,actor,miscellaneous</td>\n",
       "      <td>tt0050419,tt0072308,tt0053137,tt0043044</td>\n",
       "    </tr>\n",
       "    <tr>\n",
       "      <th>1</th>\n",
       "      <td>nm0000002</td>\n",
       "      <td>Lauren Bacall</td>\n",
       "      <td>1924.0</td>\n",
       "      <td>2014.0</td>\n",
       "      <td>actress,soundtrack</td>\n",
       "      <td>tt0071877,tt0037382,tt0038355,tt0117057</td>\n",
       "    </tr>\n",
       "    <tr>\n",
       "      <th>2</th>\n",
       "      <td>nm0000003</td>\n",
       "      <td>Brigitte Bardot</td>\n",
       "      <td>1934.0</td>\n",
       "      <td>NaN</td>\n",
       "      <td>actress,soundtrack,producer</td>\n",
       "      <td>tt0054452,tt0059956,tt0057345,tt0049189</td>\n",
       "    </tr>\n",
       "    <tr>\n",
       "      <th>3</th>\n",
       "      <td>nm0000004</td>\n",
       "      <td>John Belushi</td>\n",
       "      <td>1949.0</td>\n",
       "      <td>1982.0</td>\n",
       "      <td>actor,soundtrack,writer</td>\n",
       "      <td>tt0080455,tt0078723,tt0072562,tt0077975</td>\n",
       "    </tr>\n",
       "    <tr>\n",
       "      <th>4</th>\n",
       "      <td>nm0000005</td>\n",
       "      <td>Ingmar Bergman</td>\n",
       "      <td>1918.0</td>\n",
       "      <td>2007.0</td>\n",
       "      <td>writer,director,actor</td>\n",
       "      <td>tt0083922,tt0060827,tt0050986,tt0050976</td>\n",
       "    </tr>\n",
       "  </tbody>\n",
       "</table>\n",
       "</div>"
      ],
      "text/plain": [
       "      nconst      primaryName  birthYear  deathYear  \\\n",
       "0  nm0000001     Fred Astaire     1899.0     1987.0   \n",
       "1  nm0000002    Lauren Bacall     1924.0     2014.0   \n",
       "2  nm0000003  Brigitte Bardot     1934.0        NaN   \n",
       "3  nm0000004     John Belushi     1949.0     1982.0   \n",
       "4  nm0000005   Ingmar Bergman     1918.0     2007.0   \n",
       "\n",
       "                primaryProfession                           knownForTitles  \n",
       "0  soundtrack,actor,miscellaneous  tt0050419,tt0072308,tt0053137,tt0043044  \n",
       "1              actress,soundtrack  tt0071877,tt0037382,tt0038355,tt0117057  \n",
       "2     actress,soundtrack,producer  tt0054452,tt0059956,tt0057345,tt0049189  \n",
       "3         actor,soundtrack,writer  tt0080455,tt0078723,tt0072562,tt0077975  \n",
       "4           writer,director,actor  tt0083922,tt0060827,tt0050986,tt0050976  "
      ]
     },
     "execution_count": 18,
     "metadata": {},
     "output_type": "execute_result"
    }
   ],
   "source": [
    "df_names.head()"
   ]
  },
  {
   "cell_type": "code",
   "execution_count": 19,
   "metadata": {},
   "outputs": [],
   "source": [
    "#in principals we just keep some columns and only the actor, actress, director and writer\n",
    "principals = df_principals[['tconst','ordering','nconst','category']]\n",
    "principals = principals[principals.category.isin(['actor','actress', 'director','writer'])]"
   ]
  },
  {
   "cell_type": "code",
   "execution_count": 20,
   "metadata": {},
   "outputs": [],
   "source": [
    "#We keep the principal of each category, by the ordering field\n",
    "principals2 = principals.groupby([\"tconst\", \"category\"])['ordering'].min().reset_index()\n",
    "crew = pd.merge(principals2, principals, left_on = ['tconst','category','ordering'], right_on = ['tconst','category','ordering'], how = 'left')"
   ]
  },
  {
   "cell_type": "code",
   "execution_count": 21,
   "metadata": {},
   "outputs": [],
   "source": [
    "#We get the name of the person\n",
    "crew = pd.merge(crew, df_names[['nconst','primaryName']], left_on = 'nconst', right_on = 'nconst', how = 'left')\n",
    "#I just keep the fields I need\n",
    "crew = crew[['tconst','category', 'primaryName']]"
   ]
  },
  {
   "cell_type": "code",
   "execution_count": 22,
   "metadata": {},
   "outputs": [
    {
     "data": {
      "text/html": [
       "<div>\n",
       "<style scoped>\n",
       "    .dataframe tbody tr th:only-of-type {\n",
       "        vertical-align: middle;\n",
       "    }\n",
       "\n",
       "    .dataframe tbody tr th {\n",
       "        vertical-align: top;\n",
       "    }\n",
       "\n",
       "    .dataframe thead th {\n",
       "        text-align: right;\n",
       "    }\n",
       "</style>\n",
       "<table border=\"1\" class=\"dataframe\">\n",
       "  <thead>\n",
       "    <tr style=\"text-align: right;\">\n",
       "      <th></th>\n",
       "      <th>tconst</th>\n",
       "      <th>category</th>\n",
       "      <th>primaryName</th>\n",
       "    </tr>\n",
       "  </thead>\n",
       "  <tbody>\n",
       "    <tr>\n",
       "      <th>0</th>\n",
       "      <td>tt0000001</td>\n",
       "      <td>director</td>\n",
       "      <td>William K.L. Dickson</td>\n",
       "    </tr>\n",
       "    <tr>\n",
       "      <th>1</th>\n",
       "      <td>tt0000002</td>\n",
       "      <td>director</td>\n",
       "      <td>Émile Reynaud</td>\n",
       "    </tr>\n",
       "    <tr>\n",
       "      <th>2</th>\n",
       "      <td>tt0000003</td>\n",
       "      <td>director</td>\n",
       "      <td>Émile Reynaud</td>\n",
       "    </tr>\n",
       "    <tr>\n",
       "      <th>3</th>\n",
       "      <td>tt0000004</td>\n",
       "      <td>director</td>\n",
       "      <td>Émile Reynaud</td>\n",
       "    </tr>\n",
       "    <tr>\n",
       "      <th>4</th>\n",
       "      <td>tt0000005</td>\n",
       "      <td>actor</td>\n",
       "      <td>Charles Kayser</td>\n",
       "    </tr>\n",
       "  </tbody>\n",
       "</table>\n",
       "</div>"
      ],
      "text/plain": [
       "      tconst  category           primaryName\n",
       "0  tt0000001  director  William K.L. Dickson\n",
       "1  tt0000002  director         Émile Reynaud\n",
       "2  tt0000003  director         Émile Reynaud\n",
       "3  tt0000004  director         Émile Reynaud\n",
       "4  tt0000005     actor        Charles Kayser"
      ]
     },
     "execution_count": 22,
     "metadata": {},
     "output_type": "execute_result"
    }
   ],
   "source": [
    "crew.head()"
   ]
  },
  {
   "cell_type": "code",
   "execution_count": 23,
   "metadata": {},
   "outputs": [],
   "source": [
    "#We pivot the table\n",
    "crew = crew.pivot_table(values='primaryName', index=['tconst'],\n",
    "                    columns=['category'], aggfunc='first').reset_index()"
   ]
  },
  {
   "cell_type": "code",
   "execution_count": 24,
   "metadata": {},
   "outputs": [
    {
     "data": {
      "text/html": [
       "<div>\n",
       "<style scoped>\n",
       "    .dataframe tbody tr th:only-of-type {\n",
       "        vertical-align: middle;\n",
       "    }\n",
       "\n",
       "    .dataframe tbody tr th {\n",
       "        vertical-align: top;\n",
       "    }\n",
       "\n",
       "    .dataframe thead th {\n",
       "        text-align: right;\n",
       "    }\n",
       "</style>\n",
       "<table border=\"1\" class=\"dataframe\">\n",
       "  <thead>\n",
       "    <tr style=\"text-align: right;\">\n",
       "      <th>category</th>\n",
       "      <th>tconst</th>\n",
       "      <th>actor</th>\n",
       "      <th>actress</th>\n",
       "      <th>director</th>\n",
       "      <th>writer</th>\n",
       "    </tr>\n",
       "  </thead>\n",
       "  <tbody>\n",
       "    <tr>\n",
       "      <th>0</th>\n",
       "      <td>tt0000001</td>\n",
       "      <td>NaN</td>\n",
       "      <td>NaN</td>\n",
       "      <td>William K.L. Dickson</td>\n",
       "      <td>NaN</td>\n",
       "    </tr>\n",
       "    <tr>\n",
       "      <th>1</th>\n",
       "      <td>tt0000002</td>\n",
       "      <td>NaN</td>\n",
       "      <td>NaN</td>\n",
       "      <td>Émile Reynaud</td>\n",
       "      <td>NaN</td>\n",
       "    </tr>\n",
       "    <tr>\n",
       "      <th>2</th>\n",
       "      <td>tt0000003</td>\n",
       "      <td>NaN</td>\n",
       "      <td>NaN</td>\n",
       "      <td>Émile Reynaud</td>\n",
       "      <td>NaN</td>\n",
       "    </tr>\n",
       "    <tr>\n",
       "      <th>3</th>\n",
       "      <td>tt0000004</td>\n",
       "      <td>NaN</td>\n",
       "      <td>NaN</td>\n",
       "      <td>Émile Reynaud</td>\n",
       "      <td>NaN</td>\n",
       "    </tr>\n",
       "    <tr>\n",
       "      <th>4</th>\n",
       "      <td>tt0000005</td>\n",
       "      <td>Charles Kayser</td>\n",
       "      <td>NaN</td>\n",
       "      <td>William K.L. Dickson</td>\n",
       "      <td>NaN</td>\n",
       "    </tr>\n",
       "  </tbody>\n",
       "</table>\n",
       "</div>"
      ],
      "text/plain": [
       "category     tconst           actor actress              director writer\n",
       "0         tt0000001             NaN     NaN  William K.L. Dickson    NaN\n",
       "1         tt0000002             NaN     NaN         Émile Reynaud    NaN\n",
       "2         tt0000003             NaN     NaN         Émile Reynaud    NaN\n",
       "3         tt0000004             NaN     NaN         Émile Reynaud    NaN\n",
       "4         tt0000005  Charles Kayser     NaN  William K.L. Dickson    NaN"
      ]
     },
     "execution_count": 24,
     "metadata": {},
     "output_type": "execute_result"
    }
   ],
   "source": [
    "crew.head()"
   ]
  },
  {
   "cell_type": "code",
   "execution_count": 25,
   "metadata": {},
   "outputs": [
    {
     "name": "stdout",
     "output_type": "stream",
     "text": [
      "<class 'pandas.core.frame.DataFrame'>\n",
      "RangeIndex: 4937749 entries, 0 to 4937748\n",
      "Data columns (total 5 columns):\n",
      " #   Column    Dtype \n",
      "---  ------    ----- \n",
      " 0   tconst    object\n",
      " 1   actor     object\n",
      " 2   actress   object\n",
      " 3   director  object\n",
      " 4   writer    object\n",
      "dtypes: object(5)\n",
      "memory usage: 188.4+ MB\n"
     ]
    }
   ],
   "source": [
    "crew.info()"
   ]
  },
  {
   "cell_type": "code",
   "execution_count": 26,
   "metadata": {},
   "outputs": [],
   "source": [
    "#I replace NaNs\n",
    "crew['actor'].fillna('Not available', inplace=True)\n",
    "crew['actress'].fillna('Not available', inplace=True)\n",
    "crew['director'].fillna('Not available', inplace=True)\n",
    "crew['writer'].fillna('Not available', inplace=True)"
   ]
  },
  {
   "cell_type": "code",
   "execution_count": 27,
   "metadata": {},
   "outputs": [
    {
     "name": "stdout",
     "output_type": "stream",
     "text": [
      "<class 'pandas.core.frame.DataFrame'>\n",
      "RangeIndex: 4937749 entries, 0 to 4937748\n",
      "Data columns (total 5 columns):\n",
      " #   Column    Dtype \n",
      "---  ------    ----- \n",
      " 0   tconst    object\n",
      " 1   actor     object\n",
      " 2   actress   object\n",
      " 3   director  object\n",
      " 4   writer    object\n",
      "dtypes: object(5)\n",
      "memory usage: 188.4+ MB\n"
     ]
    }
   ],
   "source": [
    "crew.info()"
   ]
  },
  {
   "cell_type": "code",
   "execution_count": 28,
   "metadata": {},
   "outputs": [
    {
     "data": {
      "text/html": [
       "<div>\n",
       "<style scoped>\n",
       "    .dataframe tbody tr th:only-of-type {\n",
       "        vertical-align: middle;\n",
       "    }\n",
       "\n",
       "    .dataframe tbody tr th {\n",
       "        vertical-align: top;\n",
       "    }\n",
       "\n",
       "    .dataframe thead th {\n",
       "        text-align: right;\n",
       "    }\n",
       "</style>\n",
       "<table border=\"1\" class=\"dataframe\">\n",
       "  <thead>\n",
       "    <tr style=\"text-align: right;\">\n",
       "      <th>category</th>\n",
       "      <th>tconst</th>\n",
       "      <th>actor</th>\n",
       "      <th>actress</th>\n",
       "      <th>director</th>\n",
       "      <th>writer</th>\n",
       "    </tr>\n",
       "  </thead>\n",
       "  <tbody>\n",
       "    <tr>\n",
       "      <th>0</th>\n",
       "      <td>tt0000001</td>\n",
       "      <td>Not available</td>\n",
       "      <td>Not available</td>\n",
       "      <td>William K.L. Dickson</td>\n",
       "      <td>Not available</td>\n",
       "    </tr>\n",
       "    <tr>\n",
       "      <th>1</th>\n",
       "      <td>tt0000002</td>\n",
       "      <td>Not available</td>\n",
       "      <td>Not available</td>\n",
       "      <td>Émile Reynaud</td>\n",
       "      <td>Not available</td>\n",
       "    </tr>\n",
       "    <tr>\n",
       "      <th>2</th>\n",
       "      <td>tt0000003</td>\n",
       "      <td>Not available</td>\n",
       "      <td>Not available</td>\n",
       "      <td>Émile Reynaud</td>\n",
       "      <td>Not available</td>\n",
       "    </tr>\n",
       "    <tr>\n",
       "      <th>3</th>\n",
       "      <td>tt0000004</td>\n",
       "      <td>Not available</td>\n",
       "      <td>Not available</td>\n",
       "      <td>Émile Reynaud</td>\n",
       "      <td>Not available</td>\n",
       "    </tr>\n",
       "    <tr>\n",
       "      <th>4</th>\n",
       "      <td>tt0000005</td>\n",
       "      <td>Charles Kayser</td>\n",
       "      <td>Not available</td>\n",
       "      <td>William K.L. Dickson</td>\n",
       "      <td>Not available</td>\n",
       "    </tr>\n",
       "  </tbody>\n",
       "</table>\n",
       "</div>"
      ],
      "text/plain": [
       "category     tconst           actor        actress              director  \\\n",
       "0         tt0000001   Not available  Not available  William K.L. Dickson   \n",
       "1         tt0000002   Not available  Not available         Émile Reynaud   \n",
       "2         tt0000003   Not available  Not available         Émile Reynaud   \n",
       "3         tt0000004   Not available  Not available         Émile Reynaud   \n",
       "4         tt0000005  Charles Kayser  Not available  William K.L. Dickson   \n",
       "\n",
       "category         writer  \n",
       "0         Not available  \n",
       "1         Not available  \n",
       "2         Not available  \n",
       "3         Not available  \n",
       "4         Not available  "
      ]
     },
     "execution_count": 28,
     "metadata": {},
     "output_type": "execute_result"
    }
   ],
   "source": [
    "crew.head()"
   ]
  },
  {
   "cell_type": "markdown",
   "metadata": {},
   "source": [
    "**Merging the information**"
   ]
  },
  {
   "cell_type": "code",
   "execution_count": 29,
   "metadata": {},
   "outputs": [],
   "source": [
    "movies = pd.merge(movies, crew, left_on = 'idMovie', right_on = 'tconst', how = 'left')"
   ]
  },
  {
   "cell_type": "code",
   "execution_count": 30,
   "metadata": {},
   "outputs": [
    {
     "data": {
      "text/plain": [
       "Index(['idMovie', 'originalTitle', 'Year', 'Minutes', 'Genres',\n",
       "       'averageRating', 'numVotes', 'decade', 'tconst', 'actor', 'actress',\n",
       "       'director', 'writer'],\n",
       "      dtype='object')"
      ]
     },
     "execution_count": 30,
     "metadata": {},
     "output_type": "execute_result"
    }
   ],
   "source": [
    "movies.columns"
   ]
  },
  {
   "cell_type": "code",
   "execution_count": 31,
   "metadata": {},
   "outputs": [
    {
     "data": {
      "text/plain": [
       "30381"
      ]
     },
     "execution_count": 31,
     "metadata": {},
     "output_type": "execute_result"
    }
   ],
   "source": [
    "len(movies)"
   ]
  },
  {
   "cell_type": "code",
   "execution_count": 32,
   "metadata": {},
   "outputs": [
    {
     "name": "stdout",
     "output_type": "stream",
     "text": [
      "<class 'pandas.core.frame.DataFrame'>\n",
      "Int64Index: 30381 entries, 0 to 30380\n",
      "Data columns (total 13 columns):\n",
      " #   Column         Non-Null Count  Dtype  \n",
      "---  ------         --------------  -----  \n",
      " 0   idMovie        30381 non-null  object \n",
      " 1   originalTitle  30381 non-null  object \n",
      " 2   Year           30381 non-null  int64  \n",
      " 3   Minutes        30381 non-null  int64  \n",
      " 4   Genres         30381 non-null  object \n",
      " 5   averageRating  30381 non-null  float64\n",
      " 6   numVotes       30381 non-null  int64  \n",
      " 7   decade         30381 non-null  object \n",
      " 8   tconst         30321 non-null  object \n",
      " 9   actor          30321 non-null  object \n",
      " 10  actress        30321 non-null  object \n",
      " 11  director       30321 non-null  object \n",
      " 12  writer         30321 non-null  object \n",
      "dtypes: float64(1), int64(3), object(9)\n",
      "memory usage: 3.2+ MB\n"
     ]
    }
   ],
   "source": [
    "movies.info()"
   ]
  },
  {
   "cell_type": "code",
   "execution_count": 33,
   "metadata": {},
   "outputs": [],
   "source": [
    "#We delete the nans\n",
    "movies = movies.dropna()"
   ]
  },
  {
   "cell_type": "markdown",
   "metadata": {},
   "source": [
    "**Save the movies database**"
   ]
  },
  {
   "cell_type": "code",
   "execution_count": 36,
   "metadata": {},
   "outputs": [],
   "source": [
    "movies_resume = movies.copy()"
   ]
  },
  {
   "cell_type": "code",
   "execution_count": 37,
   "metadata": {},
   "outputs": [],
   "source": [
    "movies_resume = movies.drop(['idMovie'], axis=1)"
   ]
  },
  {
   "cell_type": "code",
   "execution_count": 38,
   "metadata": {},
   "outputs": [
    {
     "data": {
      "text/html": [
       "<div>\n",
       "<style scoped>\n",
       "    .dataframe tbody tr th:only-of-type {\n",
       "        vertical-align: middle;\n",
       "    }\n",
       "\n",
       "    .dataframe tbody tr th {\n",
       "        vertical-align: top;\n",
       "    }\n",
       "\n",
       "    .dataframe thead th {\n",
       "        text-align: right;\n",
       "    }\n",
       "</style>\n",
       "<table border=\"1\" class=\"dataframe\">\n",
       "  <thead>\n",
       "    <tr style=\"text-align: right;\">\n",
       "      <th></th>\n",
       "      <th>idMovie</th>\n",
       "      <th>originalTitle</th>\n",
       "      <th>Year</th>\n",
       "      <th>Minutes</th>\n",
       "      <th>Genres</th>\n",
       "      <th>averageRating</th>\n",
       "      <th>numVotes</th>\n",
       "      <th>decade</th>\n",
       "      <th>tconst</th>\n",
       "      <th>actor</th>\n",
       "      <th>actress</th>\n",
       "      <th>director</th>\n",
       "      <th>writer</th>\n",
       "    </tr>\n",
       "  </thead>\n",
       "  <tbody>\n",
       "    <tr>\n",
       "      <th>0</th>\n",
       "      <td>tt0002130</td>\n",
       "      <td>L'Inferno</td>\n",
       "      <td>1911</td>\n",
       "      <td>68</td>\n",
       "      <td>Adventure,Drama,Fantasy</td>\n",
       "      <td>7.0</td>\n",
       "      <td>2167</td>\n",
       "      <td>1910</td>\n",
       "      <td>tt0002130</td>\n",
       "      <td>Salvatore Papa</td>\n",
       "      <td>Not available</td>\n",
       "      <td>Francesco Bertolini</td>\n",
       "      <td>Dante Alighieri</td>\n",
       "    </tr>\n",
       "    <tr>\n",
       "      <th>1</th>\n",
       "      <td>tt0002844</td>\n",
       "      <td>Fantômas - À l'ombre de la guillotine</td>\n",
       "      <td>1913</td>\n",
       "      <td>54</td>\n",
       "      <td>Crime,Drama</td>\n",
       "      <td>7.0</td>\n",
       "      <td>1915</td>\n",
       "      <td>1910</td>\n",
       "      <td>tt0002844</td>\n",
       "      <td>René Navarre</td>\n",
       "      <td>Renée Carl</td>\n",
       "      <td>Louis Feuillade</td>\n",
       "      <td>Marcel Allain</td>\n",
       "    </tr>\n",
       "    <tr>\n",
       "      <th>2</th>\n",
       "      <td>tt0003037</td>\n",
       "      <td>Juve contre Fantômas</td>\n",
       "      <td>1913</td>\n",
       "      <td>61</td>\n",
       "      <td>Crime,Drama</td>\n",
       "      <td>7.0</td>\n",
       "      <td>1334</td>\n",
       "      <td>1910</td>\n",
       "      <td>tt0003037</td>\n",
       "      <td>René Navarre</td>\n",
       "      <td>Renée Carl</td>\n",
       "      <td>Louis Feuillade</td>\n",
       "      <td>Marcel Allain</td>\n",
       "    </tr>\n",
       "    <tr>\n",
       "      <th>3</th>\n",
       "      <td>tt0003165</td>\n",
       "      <td>Le mort qui tue</td>\n",
       "      <td>1913</td>\n",
       "      <td>90</td>\n",
       "      <td>Crime,Drama,Mystery</td>\n",
       "      <td>7.0</td>\n",
       "      <td>1033</td>\n",
       "      <td>1910</td>\n",
       "      <td>tt0003165</td>\n",
       "      <td>René Navarre</td>\n",
       "      <td>Not available</td>\n",
       "      <td>Louis Feuillade</td>\n",
       "      <td>Marcel Allain</td>\n",
       "    </tr>\n",
       "    <tr>\n",
       "      <th>4</th>\n",
       "      <td>tt0003419</td>\n",
       "      <td>Der Student von Prag</td>\n",
       "      <td>1913</td>\n",
       "      <td>85</td>\n",
       "      <td>Drama,Fantasy,Horror</td>\n",
       "      <td>6.5</td>\n",
       "      <td>1735</td>\n",
       "      <td>1910</td>\n",
       "      <td>tt0003419</td>\n",
       "      <td>Paul Wegener</td>\n",
       "      <td>Grete Berger</td>\n",
       "      <td>Stellan Rye</td>\n",
       "      <td>Hanns Heinz Ewers</td>\n",
       "    </tr>\n",
       "  </tbody>\n",
       "</table>\n",
       "</div>"
      ],
      "text/plain": [
       "     idMovie                          originalTitle  Year  Minutes  \\\n",
       "0  tt0002130                              L'Inferno  1911       68   \n",
       "1  tt0002844  Fantômas - À l'ombre de la guillotine  1913       54   \n",
       "2  tt0003037                   Juve contre Fantômas  1913       61   \n",
       "3  tt0003165                        Le mort qui tue  1913       90   \n",
       "4  tt0003419                   Der Student von Prag  1913       85   \n",
       "\n",
       "                    Genres  averageRating  numVotes decade     tconst  \\\n",
       "0  Adventure,Drama,Fantasy            7.0      2167   1910  tt0002130   \n",
       "1              Crime,Drama            7.0      1915   1910  tt0002844   \n",
       "2              Crime,Drama            7.0      1334   1910  tt0003037   \n",
       "3      Crime,Drama,Mystery            7.0      1033   1910  tt0003165   \n",
       "4     Drama,Fantasy,Horror            6.5      1735   1910  tt0003419   \n",
       "\n",
       "            actor        actress             director             writer  \n",
       "0  Salvatore Papa  Not available  Francesco Bertolini    Dante Alighieri  \n",
       "1    René Navarre     Renée Carl      Louis Feuillade      Marcel Allain  \n",
       "2    René Navarre     Renée Carl      Louis Feuillade      Marcel Allain  \n",
       "3    René Navarre  Not available      Louis Feuillade      Marcel Allain  \n",
       "4    Paul Wegener   Grete Berger          Stellan Rye  Hanns Heinz Ewers  "
      ]
     },
     "execution_count": 38,
     "metadata": {},
     "output_type": "execute_result"
    }
   ],
   "source": [
    "movies.head()"
   ]
  },
  {
   "cell_type": "code",
   "execution_count": 39,
   "metadata": {},
   "outputs": [
    {
     "data": {
      "text/plain": [
       "(30321, 12)"
      ]
     },
     "execution_count": 39,
     "metadata": {},
     "output_type": "execute_result"
    }
   ],
   "source": [
    "movies_resume.shape"
   ]
  },
  {
   "cell_type": "code",
   "execution_count": 40,
   "metadata": {},
   "outputs": [],
   "source": [
    "movies_resume.to_csv('IMDB_movies_clasif_resume.csv', index = False)"
   ]
  },
  {
   "cell_type": "markdown",
   "metadata": {},
   "source": [
    "**Keeping only the important crew**"
   ]
  },
  {
   "cell_type": "code",
   "execution_count": 41,
   "metadata": {},
   "outputs": [
    {
     "data": {
      "text/html": [
       "<div>\n",
       "<style scoped>\n",
       "    .dataframe tbody tr th:only-of-type {\n",
       "        vertical-align: middle;\n",
       "    }\n",
       "\n",
       "    .dataframe tbody tr th {\n",
       "        vertical-align: top;\n",
       "    }\n",
       "\n",
       "    .dataframe thead th {\n",
       "        text-align: right;\n",
       "    }\n",
       "</style>\n",
       "<table border=\"1\" class=\"dataframe\">\n",
       "  <thead>\n",
       "    <tr style=\"text-align: right;\">\n",
       "      <th></th>\n",
       "      <th>idMovie</th>\n",
       "      <th>originalTitle</th>\n",
       "      <th>Year</th>\n",
       "      <th>Minutes</th>\n",
       "      <th>Genres</th>\n",
       "      <th>averageRating</th>\n",
       "      <th>numVotes</th>\n",
       "      <th>decade</th>\n",
       "      <th>tconst</th>\n",
       "      <th>actor</th>\n",
       "      <th>actress</th>\n",
       "      <th>director</th>\n",
       "      <th>writer</th>\n",
       "    </tr>\n",
       "  </thead>\n",
       "  <tbody>\n",
       "    <tr>\n",
       "      <th>0</th>\n",
       "      <td>tt0002130</td>\n",
       "      <td>L'Inferno</td>\n",
       "      <td>1911</td>\n",
       "      <td>68</td>\n",
       "      <td>Adventure,Drama,Fantasy</td>\n",
       "      <td>7.0</td>\n",
       "      <td>2167</td>\n",
       "      <td>1910</td>\n",
       "      <td>tt0002130</td>\n",
       "      <td>Salvatore Papa</td>\n",
       "      <td>Not available</td>\n",
       "      <td>Francesco Bertolini</td>\n",
       "      <td>Dante Alighieri</td>\n",
       "    </tr>\n",
       "    <tr>\n",
       "      <th>1</th>\n",
       "      <td>tt0002844</td>\n",
       "      <td>Fantômas - À l'ombre de la guillotine</td>\n",
       "      <td>1913</td>\n",
       "      <td>54</td>\n",
       "      <td>Crime,Drama</td>\n",
       "      <td>7.0</td>\n",
       "      <td>1915</td>\n",
       "      <td>1910</td>\n",
       "      <td>tt0002844</td>\n",
       "      <td>René Navarre</td>\n",
       "      <td>Renée Carl</td>\n",
       "      <td>Louis Feuillade</td>\n",
       "      <td>Marcel Allain</td>\n",
       "    </tr>\n",
       "    <tr>\n",
       "      <th>2</th>\n",
       "      <td>tt0003037</td>\n",
       "      <td>Juve contre Fantômas</td>\n",
       "      <td>1913</td>\n",
       "      <td>61</td>\n",
       "      <td>Crime,Drama</td>\n",
       "      <td>7.0</td>\n",
       "      <td>1334</td>\n",
       "      <td>1910</td>\n",
       "      <td>tt0003037</td>\n",
       "      <td>René Navarre</td>\n",
       "      <td>Renée Carl</td>\n",
       "      <td>Louis Feuillade</td>\n",
       "      <td>Marcel Allain</td>\n",
       "    </tr>\n",
       "    <tr>\n",
       "      <th>3</th>\n",
       "      <td>tt0003165</td>\n",
       "      <td>Le mort qui tue</td>\n",
       "      <td>1913</td>\n",
       "      <td>90</td>\n",
       "      <td>Crime,Drama,Mystery</td>\n",
       "      <td>7.0</td>\n",
       "      <td>1033</td>\n",
       "      <td>1910</td>\n",
       "      <td>tt0003165</td>\n",
       "      <td>René Navarre</td>\n",
       "      <td>Not available</td>\n",
       "      <td>Louis Feuillade</td>\n",
       "      <td>Marcel Allain</td>\n",
       "    </tr>\n",
       "    <tr>\n",
       "      <th>4</th>\n",
       "      <td>tt0003419</td>\n",
       "      <td>Der Student von Prag</td>\n",
       "      <td>1913</td>\n",
       "      <td>85</td>\n",
       "      <td>Drama,Fantasy,Horror</td>\n",
       "      <td>6.5</td>\n",
       "      <td>1735</td>\n",
       "      <td>1910</td>\n",
       "      <td>tt0003419</td>\n",
       "      <td>Paul Wegener</td>\n",
       "      <td>Grete Berger</td>\n",
       "      <td>Stellan Rye</td>\n",
       "      <td>Hanns Heinz Ewers</td>\n",
       "    </tr>\n",
       "  </tbody>\n",
       "</table>\n",
       "</div>"
      ],
      "text/plain": [
       "     idMovie                          originalTitle  Year  Minutes  \\\n",
       "0  tt0002130                              L'Inferno  1911       68   \n",
       "1  tt0002844  Fantômas - À l'ombre de la guillotine  1913       54   \n",
       "2  tt0003037                   Juve contre Fantômas  1913       61   \n",
       "3  tt0003165                        Le mort qui tue  1913       90   \n",
       "4  tt0003419                   Der Student von Prag  1913       85   \n",
       "\n",
       "                    Genres  averageRating  numVotes decade     tconst  \\\n",
       "0  Adventure,Drama,Fantasy            7.0      2167   1910  tt0002130   \n",
       "1              Crime,Drama            7.0      1915   1910  tt0002844   \n",
       "2              Crime,Drama            7.0      1334   1910  tt0003037   \n",
       "3      Crime,Drama,Mystery            7.0      1033   1910  tt0003165   \n",
       "4     Drama,Fantasy,Horror            6.5      1735   1910  tt0003419   \n",
       "\n",
       "            actor        actress             director             writer  \n",
       "0  Salvatore Papa  Not available  Francesco Bertolini    Dante Alighieri  \n",
       "1    René Navarre     Renée Carl      Louis Feuillade      Marcel Allain  \n",
       "2    René Navarre     Renée Carl      Louis Feuillade      Marcel Allain  \n",
       "3    René Navarre  Not available      Louis Feuillade      Marcel Allain  \n",
       "4    Paul Wegener   Grete Berger          Stellan Rye  Hanns Heinz Ewers  "
      ]
     },
     "execution_count": 41,
     "metadata": {},
     "output_type": "execute_result"
    }
   ],
   "source": [
    "movies.head()"
   ]
  },
  {
   "cell_type": "code",
   "execution_count": 42,
   "metadata": {},
   "outputs": [
    {
     "data": {
      "text/html": [
       "<div>\n",
       "<style scoped>\n",
       "    .dataframe tbody tr th:only-of-type {\n",
       "        vertical-align: middle;\n",
       "    }\n",
       "\n",
       "    .dataframe tbody tr th {\n",
       "        vertical-align: top;\n",
       "    }\n",
       "\n",
       "    .dataframe thead th {\n",
       "        text-align: right;\n",
       "    }\n",
       "</style>\n",
       "<table border=\"1\" class=\"dataframe\">\n",
       "  <thead>\n",
       "    <tr style=\"text-align: right;\">\n",
       "      <th></th>\n",
       "      <th>originalTitle</th>\n",
       "      <th>Year</th>\n",
       "      <th>Minutes</th>\n",
       "      <th>Genres</th>\n",
       "      <th>director</th>\n",
       "      <th>actor</th>\n",
       "      <th>actress</th>\n",
       "      <th>writer</th>\n",
       "      <th>numVotes</th>\n",
       "      <th>averageRating</th>\n",
       "    </tr>\n",
       "  </thead>\n",
       "  <tbody>\n",
       "    <tr>\n",
       "      <th>9767</th>\n",
       "      <td>The Shawshank Redemption</td>\n",
       "      <td>1994</td>\n",
       "      <td>142</td>\n",
       "      <td>Drama</td>\n",
       "      <td>Frank Darabont</td>\n",
       "      <td>Tim Robbins</td>\n",
       "      <td>Not available</td>\n",
       "      <td>Stephen King</td>\n",
       "      <td>2242140</td>\n",
       "      <td>9.3</td>\n",
       "    </tr>\n",
       "    <tr>\n",
       "      <th>16735</th>\n",
       "      <td>The Dark Knight</td>\n",
       "      <td>2008</td>\n",
       "      <td>152</td>\n",
       "      <td>Action,Crime,Drama</td>\n",
       "      <td>Christopher Nolan</td>\n",
       "      <td>Christian Bale</td>\n",
       "      <td>Not available</td>\n",
       "      <td>Jonathan Nolan</td>\n",
       "      <td>2211374</td>\n",
       "      <td>9.0</td>\n",
       "    </tr>\n",
       "    <tr>\n",
       "      <th>20383</th>\n",
       "      <td>Inception</td>\n",
       "      <td>2010</td>\n",
       "      <td>148</td>\n",
       "      <td>Action,Adventure,Sci-Fi</td>\n",
       "      <td>Christopher Nolan</td>\n",
       "      <td>Leonardo DiCaprio</td>\n",
       "      <td>Ellen Page</td>\n",
       "      <td>Not available</td>\n",
       "      <td>1965288</td>\n",
       "      <td>8.8</td>\n",
       "    </tr>\n",
       "    <tr>\n",
       "      <th>11418</th>\n",
       "      <td>Fight Club</td>\n",
       "      <td>1999</td>\n",
       "      <td>139</td>\n",
       "      <td>Drama</td>\n",
       "      <td>David Fincher</td>\n",
       "      <td>Brad Pitt</td>\n",
       "      <td>Not available</td>\n",
       "      <td>Chuck Palahniuk</td>\n",
       "      <td>1783906</td>\n",
       "      <td>8.8</td>\n",
       "    </tr>\n",
       "    <tr>\n",
       "      <th>9734</th>\n",
       "      <td>Pulp Fiction</td>\n",
       "      <td>1994</td>\n",
       "      <td>154</td>\n",
       "      <td>Crime,Drama</td>\n",
       "      <td>Quentin Tarantino</td>\n",
       "      <td>John Travolta</td>\n",
       "      <td>Uma Thurman</td>\n",
       "      <td>Roger Avary</td>\n",
       "      <td>1756398</td>\n",
       "      <td>8.9</td>\n",
       "    </tr>\n",
       "  </tbody>\n",
       "</table>\n",
       "</div>"
      ],
      "text/plain": [
       "                  originalTitle  Year  Minutes                   Genres  \\\n",
       "9767   The Shawshank Redemption  1994      142                    Drama   \n",
       "16735           The Dark Knight  2008      152       Action,Crime,Drama   \n",
       "20383                 Inception  2010      148  Action,Adventure,Sci-Fi   \n",
       "11418                Fight Club  1999      139                    Drama   \n",
       "9734               Pulp Fiction  1994      154              Crime,Drama   \n",
       "\n",
       "                director              actor        actress           writer  \\\n",
       "9767      Frank Darabont        Tim Robbins  Not available     Stephen King   \n",
       "16735  Christopher Nolan     Christian Bale  Not available   Jonathan Nolan   \n",
       "20383  Christopher Nolan  Leonardo DiCaprio     Ellen Page    Not available   \n",
       "11418      David Fincher          Brad Pitt  Not available  Chuck Palahniuk   \n",
       "9734   Quentin Tarantino      John Travolta    Uma Thurman      Roger Avary   \n",
       "\n",
       "       numVotes  averageRating  \n",
       "9767    2242140            9.3  \n",
       "16735   2211374            9.0  \n",
       "20383   1965288            8.8  \n",
       "11418   1783906            8.8  \n",
       "9734    1756398            8.9  "
      ]
     },
     "execution_count": 42,
     "metadata": {},
     "output_type": "execute_result"
    }
   ],
   "source": [
    "movies[['originalTitle','Year','Minutes','Genres','director','actor','actress','writer','numVotes','averageRating']].sort_values(by ='numVotes', ascending = False).head()"
   ]
  },
  {
   "cell_type": "code",
   "execution_count": 43,
   "metadata": {},
   "outputs": [],
   "source": [
    "n_actors = len(movies.actor.unique())\n",
    "n_actress = len(movies.actress.unique())\n",
    "n_director = len(movies.director.unique())\n",
    "n_writer = len(movies.writer.unique())"
   ]
  },
  {
   "cell_type": "code",
   "execution_count": 44,
   "metadata": {},
   "outputs": [
    {
     "name": "stdout",
     "output_type": "stream",
     "text": [
      "There are 11019 different actors, 11082 different actresses, 11581  different directors and 14034 different writers\n"
     ]
    }
   ],
   "source": [
    "print(\"There are\", n_actors, \"different actors,\", n_actress,\"different actresses,\", n_director,\" different directors and\", n_writer,\"different writers\")"
   ]
  },
  {
   "cell_type": "markdown",
   "metadata": {},
   "source": [
    "With these numbers is impossible to create different dummies for each of them so we are going to delimit them to 1000 for each category, that will be the ones that are present in more movies"
   ]
  },
  {
   "cell_type": "code",
   "execution_count": 45,
   "metadata": {},
   "outputs": [],
   "source": [
    "n = 1000\n",
    "top_actors = movies[movies.actor != 'Not available'].groupby(\"actor\")['idMovie'].count()\n",
    "top_actors = top_actors.to_frame().reset_index().sort_values(by = 'idMovie', ascending = False)['actor'].head(n).to_list()\n",
    "top_actress = movies[movies.actress != 'Not available'].groupby(\"actress\")['idMovie'].count()\n",
    "top_actress = top_actress.to_frame().reset_index().sort_values(by = 'idMovie', ascending = False)['actress'].head(n).to_list()\n",
    "top_director = movies[movies.director != 'Not available'].groupby(\"director\")['idMovie'].count()\n",
    "top_director = top_director.to_frame().reset_index().sort_values(by = 'idMovie', ascending = False)['director'].head(n).to_list()\n",
    "top_writer = movies[movies.writer != 'Not available'].groupby(\"writer\")['idMovie'].count()\n",
    "top_writer = top_writer.to_frame().reset_index().sort_values(by = 'idMovie', ascending = False)['writer'].head(n).to_list()"
   ]
  },
  {
   "cell_type": "code",
   "execution_count": 46,
   "metadata": {},
   "outputs": [
    {
     "data": {
      "text/plain": [
       "Not available       1073\n",
       "Amitabh Bachchan      78\n",
       "Akshay Kumar          75\n",
       "John Wayne            74\n",
       "Nicolas Cage          72\n",
       "                    ... \n",
       "Milan Maric            1\n",
       "Wyatt Cenac            1\n",
       "Adi Afendi             1\n",
       "Albert Tsai            1\n",
       "Mark Kelly             1\n",
       "Name: actor, Length: 11019, dtype: int64"
      ]
     },
     "execution_count": 46,
     "metadata": {},
     "output_type": "execute_result"
    }
   ],
   "source": [
    "movies.actor.value_counts()"
   ]
  },
  {
   "cell_type": "code",
   "execution_count": 47,
   "metadata": {},
   "outputs": [],
   "source": [
    "movies.actor = movies.actor.apply(lambda x: x if x in top_actors else \"Not available\")\n",
    "movies.actress = movies.actress.apply(lambda x: x if x in top_actress else \"Not available\")\n",
    "movies.director = movies.director.apply(lambda x: x if x in top_director else \"Not available\")\n",
    "movies.writer = movies.writer.apply(lambda x: x if x in top_writer else \"Not available\")"
   ]
  },
  {
   "cell_type": "code",
   "execution_count": 48,
   "metadata": {},
   "outputs": [
    {
     "data": {
      "text/plain": [
       "Not available        16184\n",
       "Amitabh Bachchan        78\n",
       "Akshay Kumar            75\n",
       "John Wayne              74\n",
       "Nicolas Cage            72\n",
       "                     ...  \n",
       "Pierre Niney             6\n",
       "Isaach De Bankolé        6\n",
       "Denis Lavant             6\n",
       "Marcin Dorocinski        6\n",
       "Antonio Resines          6\n",
       "Name: actor, Length: 1001, dtype: int64"
      ]
     },
     "execution_count": 48,
     "metadata": {},
     "output_type": "execute_result"
    }
   ],
   "source": [
    "movies.actor.value_counts()"
   ]
  },
  {
   "cell_type": "code",
   "execution_count": 49,
   "metadata": {},
   "outputs": [
    {
     "data": {
      "text/html": [
       "<div>\n",
       "<style scoped>\n",
       "    .dataframe tbody tr th:only-of-type {\n",
       "        vertical-align: middle;\n",
       "    }\n",
       "\n",
       "    .dataframe tbody tr th {\n",
       "        vertical-align: top;\n",
       "    }\n",
       "\n",
       "    .dataframe thead th {\n",
       "        text-align: right;\n",
       "    }\n",
       "</style>\n",
       "<table border=\"1\" class=\"dataframe\">\n",
       "  <thead>\n",
       "    <tr style=\"text-align: right;\">\n",
       "      <th></th>\n",
       "      <th>idMovie</th>\n",
       "      <th>originalTitle</th>\n",
       "      <th>Year</th>\n",
       "      <th>Minutes</th>\n",
       "      <th>Genres</th>\n",
       "      <th>averageRating</th>\n",
       "      <th>numVotes</th>\n",
       "      <th>decade</th>\n",
       "      <th>tconst</th>\n",
       "      <th>actor</th>\n",
       "      <th>actress</th>\n",
       "      <th>director</th>\n",
       "      <th>writer</th>\n",
       "    </tr>\n",
       "  </thead>\n",
       "  <tbody>\n",
       "    <tr>\n",
       "      <th>0</th>\n",
       "      <td>tt0002130</td>\n",
       "      <td>L'Inferno</td>\n",
       "      <td>1911</td>\n",
       "      <td>68</td>\n",
       "      <td>Adventure,Drama,Fantasy</td>\n",
       "      <td>7.0</td>\n",
       "      <td>2167</td>\n",
       "      <td>1910</td>\n",
       "      <td>tt0002130</td>\n",
       "      <td>Not available</td>\n",
       "      <td>Not available</td>\n",
       "      <td>Not available</td>\n",
       "      <td>Not available</td>\n",
       "    </tr>\n",
       "    <tr>\n",
       "      <th>1</th>\n",
       "      <td>tt0002844</td>\n",
       "      <td>Fantômas - À l'ombre de la guillotine</td>\n",
       "      <td>1913</td>\n",
       "      <td>54</td>\n",
       "      <td>Crime,Drama</td>\n",
       "      <td>7.0</td>\n",
       "      <td>1915</td>\n",
       "      <td>1910</td>\n",
       "      <td>tt0002844</td>\n",
       "      <td>Not available</td>\n",
       "      <td>Not available</td>\n",
       "      <td>Not available</td>\n",
       "      <td>Marcel Allain</td>\n",
       "    </tr>\n",
       "    <tr>\n",
       "      <th>2</th>\n",
       "      <td>tt0003037</td>\n",
       "      <td>Juve contre Fantômas</td>\n",
       "      <td>1913</td>\n",
       "      <td>61</td>\n",
       "      <td>Crime,Drama</td>\n",
       "      <td>7.0</td>\n",
       "      <td>1334</td>\n",
       "      <td>1910</td>\n",
       "      <td>tt0003037</td>\n",
       "      <td>Not available</td>\n",
       "      <td>Not available</td>\n",
       "      <td>Not available</td>\n",
       "      <td>Marcel Allain</td>\n",
       "    </tr>\n",
       "    <tr>\n",
       "      <th>3</th>\n",
       "      <td>tt0003165</td>\n",
       "      <td>Le mort qui tue</td>\n",
       "      <td>1913</td>\n",
       "      <td>90</td>\n",
       "      <td>Crime,Drama,Mystery</td>\n",
       "      <td>7.0</td>\n",
       "      <td>1033</td>\n",
       "      <td>1910</td>\n",
       "      <td>tt0003165</td>\n",
       "      <td>Not available</td>\n",
       "      <td>Not available</td>\n",
       "      <td>Not available</td>\n",
       "      <td>Marcel Allain</td>\n",
       "    </tr>\n",
       "    <tr>\n",
       "      <th>4</th>\n",
       "      <td>tt0003419</td>\n",
       "      <td>Der Student von Prag</td>\n",
       "      <td>1913</td>\n",
       "      <td>85</td>\n",
       "      <td>Drama,Fantasy,Horror</td>\n",
       "      <td>6.5</td>\n",
       "      <td>1735</td>\n",
       "      <td>1910</td>\n",
       "      <td>tt0003419</td>\n",
       "      <td>Not available</td>\n",
       "      <td>Not available</td>\n",
       "      <td>Not available</td>\n",
       "      <td>Not available</td>\n",
       "    </tr>\n",
       "  </tbody>\n",
       "</table>\n",
       "</div>"
      ],
      "text/plain": [
       "     idMovie                          originalTitle  Year  Minutes  \\\n",
       "0  tt0002130                              L'Inferno  1911       68   \n",
       "1  tt0002844  Fantômas - À l'ombre de la guillotine  1913       54   \n",
       "2  tt0003037                   Juve contre Fantômas  1913       61   \n",
       "3  tt0003165                        Le mort qui tue  1913       90   \n",
       "4  tt0003419                   Der Student von Prag  1913       85   \n",
       "\n",
       "                    Genres  averageRating  numVotes decade     tconst  \\\n",
       "0  Adventure,Drama,Fantasy            7.0      2167   1910  tt0002130   \n",
       "1              Crime,Drama            7.0      1915   1910  tt0002844   \n",
       "2              Crime,Drama            7.0      1334   1910  tt0003037   \n",
       "3      Crime,Drama,Mystery            7.0      1033   1910  tt0003165   \n",
       "4     Drama,Fantasy,Horror            6.5      1735   1910  tt0003419   \n",
       "\n",
       "           actor        actress       director         writer  \n",
       "0  Not available  Not available  Not available  Not available  \n",
       "1  Not available  Not available  Not available  Marcel Allain  \n",
       "2  Not available  Not available  Not available  Marcel Allain  \n",
       "3  Not available  Not available  Not available  Marcel Allain  \n",
       "4  Not available  Not available  Not available  Not available  "
      ]
     },
     "execution_count": 49,
     "metadata": {},
     "output_type": "execute_result"
    }
   ],
   "source": [
    "movies.head()"
   ]
  },
  {
   "cell_type": "markdown",
   "metadata": {},
   "source": [
    "#### Transforming Skewed Continuous Features"
   ]
  },
  {
   "cell_type": "code",
   "execution_count": 50,
   "metadata": {},
   "outputs": [
    {
     "data": {
      "text/plain": [
       "Year            -1.275377\n",
       "Minutes          2.978715\n",
       "averageRating   -0.886239\n",
       "numVotes         8.870463\n",
       "decade          -1.291177\n",
       "dtype: float64"
      ]
     },
     "execution_count": 50,
     "metadata": {},
     "output_type": "execute_result"
    }
   ],
   "source": [
    "movies.skew(axis = 0) "
   ]
  },
  {
   "cell_type": "markdown",
   "metadata": {},
   "source": [
    "The rating is aprox Symetric and decade is in reality a cathegory, so we don´t mind Skew of both of them.\n",
    "\n",
    "Number of votes is not going to get into the variables to cluster so we leave it like this.\n",
    "\n",
    "So, we are going to transform Minutes for reducing Skewness, due to its high level"
   ]
  },
  {
   "cell_type": "code",
   "execution_count": 51,
   "metadata": {},
   "outputs": [],
   "source": [
    "movies.Minutes = movies.Minutes.apply(lambda x: np.log(x + 1))"
   ]
  },
  {
   "cell_type": "markdown",
   "metadata": {},
   "source": [
    "The results are really good"
   ]
  },
  {
   "cell_type": "code",
   "execution_count": 52,
   "metadata": {},
   "outputs": [
    {
     "data": {
      "text/plain": [
       "Year            -1.275377\n",
       "Minutes          0.724629\n",
       "averageRating   -0.886239\n",
       "numVotes         8.870463\n",
       "decade          -1.291177\n",
       "dtype: float64"
      ]
     },
     "execution_count": 52,
     "metadata": {},
     "output_type": "execute_result"
    }
   ],
   "source": [
    "movies.skew(axis = 0) "
   ]
  },
  {
   "cell_type": "markdown",
   "metadata": {},
   "source": [
    "#### Normalizing Numerical Features"
   ]
  },
  {
   "cell_type": "code",
   "execution_count": 53,
   "metadata": {},
   "outputs": [
    {
     "data": {
      "text/html": [
       "<div>\n",
       "<style scoped>\n",
       "    .dataframe tbody tr th:only-of-type {\n",
       "        vertical-align: middle;\n",
       "    }\n",
       "\n",
       "    .dataframe tbody tr th {\n",
       "        vertical-align: top;\n",
       "    }\n",
       "\n",
       "    .dataframe thead th {\n",
       "        text-align: right;\n",
       "    }\n",
       "</style>\n",
       "<table border=\"1\" class=\"dataframe\">\n",
       "  <thead>\n",
       "    <tr style=\"text-align: right;\">\n",
       "      <th></th>\n",
       "      <th>Year</th>\n",
       "      <th>Minutes</th>\n",
       "      <th>averageRating</th>\n",
       "      <th>numVotes</th>\n",
       "    </tr>\n",
       "  </thead>\n",
       "  <tbody>\n",
       "    <tr>\n",
       "      <th>count</th>\n",
       "      <td>30321.000000</td>\n",
       "      <td>30321.000000</td>\n",
       "      <td>30321.000000</td>\n",
       "      <td>3.032100e+04</td>\n",
       "    </tr>\n",
       "    <tr>\n",
       "      <th>mean</th>\n",
       "      <td>1996.255598</td>\n",
       "      <td>4.646812</td>\n",
       "      <td>6.367772</td>\n",
       "      <td>2.599782e+04</td>\n",
       "    </tr>\n",
       "    <tr>\n",
       "      <th>std</th>\n",
       "      <td>21.817777</td>\n",
       "      <td>0.190777</td>\n",
       "      <td>1.131042</td>\n",
       "      <td>8.636674e+04</td>\n",
       "    </tr>\n",
       "    <tr>\n",
       "      <th>min</th>\n",
       "      <td>1911.000000</td>\n",
       "      <td>3.828641</td>\n",
       "      <td>1.000000</td>\n",
       "      <td>1.001000e+03</td>\n",
       "    </tr>\n",
       "    <tr>\n",
       "      <th>25%</th>\n",
       "      <td>1986.000000</td>\n",
       "      <td>4.521789</td>\n",
       "      <td>5.700000</td>\n",
       "      <td>1.704000e+03</td>\n",
       "    </tr>\n",
       "    <tr>\n",
       "      <th>50%</th>\n",
       "      <td>2004.000000</td>\n",
       "      <td>4.615121</td>\n",
       "      <td>6.500000</td>\n",
       "      <td>3.542000e+03</td>\n",
       "    </tr>\n",
       "    <tr>\n",
       "      <th>75%</th>\n",
       "      <td>2013.000000</td>\n",
       "      <td>4.744932</td>\n",
       "      <td>7.200000</td>\n",
       "      <td>1.230100e+04</td>\n",
       "    </tr>\n",
       "    <tr>\n",
       "      <th>max</th>\n",
       "      <td>2020.000000</td>\n",
       "      <td>6.593045</td>\n",
       "      <td>9.500000</td>\n",
       "      <td>2.242140e+06</td>\n",
       "    </tr>\n",
       "  </tbody>\n",
       "</table>\n",
       "</div>"
      ],
      "text/plain": [
       "               Year       Minutes  averageRating      numVotes\n",
       "count  30321.000000  30321.000000   30321.000000  3.032100e+04\n",
       "mean    1996.255598      4.646812       6.367772  2.599782e+04\n",
       "std       21.817777      0.190777       1.131042  8.636674e+04\n",
       "min     1911.000000      3.828641       1.000000  1.001000e+03\n",
       "25%     1986.000000      4.521789       5.700000  1.704000e+03\n",
       "50%     2004.000000      4.615121       6.500000  3.542000e+03\n",
       "75%     2013.000000      4.744932       7.200000  1.230100e+04\n",
       "max     2020.000000      6.593045       9.500000  2.242140e+06"
      ]
     },
     "execution_count": 53,
     "metadata": {},
     "output_type": "execute_result"
    }
   ],
   "source": [
    "movies.describe()"
   ]
  },
  {
   "cell_type": "code",
   "execution_count": 54,
   "metadata": {},
   "outputs": [],
   "source": [
    "# Initialize a scaler, then apply it to the features\n",
    "scaler = MinMaxScaler() # default=(0, 1)\n",
    "numerical = ['Minutes','Year']\n",
    "\n",
    "movies[numerical] = scaler.fit_transform(movies[numerical])"
   ]
  },
  {
   "cell_type": "code",
   "execution_count": 55,
   "metadata": {},
   "outputs": [
    {
     "data": {
      "text/html": [
       "<div>\n",
       "<style scoped>\n",
       "    .dataframe tbody tr th:only-of-type {\n",
       "        vertical-align: middle;\n",
       "    }\n",
       "\n",
       "    .dataframe tbody tr th {\n",
       "        vertical-align: top;\n",
       "    }\n",
       "\n",
       "    .dataframe thead th {\n",
       "        text-align: right;\n",
       "    }\n",
       "</style>\n",
       "<table border=\"1\" class=\"dataframe\">\n",
       "  <thead>\n",
       "    <tr style=\"text-align: right;\">\n",
       "      <th></th>\n",
       "      <th>Year</th>\n",
       "      <th>Minutes</th>\n",
       "      <th>averageRating</th>\n",
       "      <th>numVotes</th>\n",
       "    </tr>\n",
       "  </thead>\n",
       "  <tbody>\n",
       "    <tr>\n",
       "      <th>count</th>\n",
       "      <td>30321.000000</td>\n",
       "      <td>30321.000000</td>\n",
       "      <td>30321.000000</td>\n",
       "      <td>3.032100e+04</td>\n",
       "    </tr>\n",
       "    <tr>\n",
       "      <th>mean</th>\n",
       "      <td>0.782161</td>\n",
       "      <td>0.295966</td>\n",
       "      <td>6.367772</td>\n",
       "      <td>2.599782e+04</td>\n",
       "    </tr>\n",
       "    <tr>\n",
       "      <th>std</th>\n",
       "      <td>0.200163</td>\n",
       "      <td>0.069012</td>\n",
       "      <td>1.131042</td>\n",
       "      <td>8.636674e+04</td>\n",
       "    </tr>\n",
       "    <tr>\n",
       "      <th>min</th>\n",
       "      <td>0.000000</td>\n",
       "      <td>0.000000</td>\n",
       "      <td>1.000000</td>\n",
       "      <td>1.001000e+03</td>\n",
       "    </tr>\n",
       "    <tr>\n",
       "      <th>25%</th>\n",
       "      <td>0.688073</td>\n",
       "      <td>0.250740</td>\n",
       "      <td>5.700000</td>\n",
       "      <td>1.704000e+03</td>\n",
       "    </tr>\n",
       "    <tr>\n",
       "      <th>50%</th>\n",
       "      <td>0.853211</td>\n",
       "      <td>0.284502</td>\n",
       "      <td>6.500000</td>\n",
       "      <td>3.542000e+03</td>\n",
       "    </tr>\n",
       "    <tr>\n",
       "      <th>75%</th>\n",
       "      <td>0.935780</td>\n",
       "      <td>0.331461</td>\n",
       "      <td>7.200000</td>\n",
       "      <td>1.230100e+04</td>\n",
       "    </tr>\n",
       "    <tr>\n",
       "      <th>max</th>\n",
       "      <td>1.000000</td>\n",
       "      <td>1.000000</td>\n",
       "      <td>9.500000</td>\n",
       "      <td>2.242140e+06</td>\n",
       "    </tr>\n",
       "  </tbody>\n",
       "</table>\n",
       "</div>"
      ],
      "text/plain": [
       "               Year       Minutes  averageRating      numVotes\n",
       "count  30321.000000  30321.000000   30321.000000  3.032100e+04\n",
       "mean       0.782161      0.295966       6.367772  2.599782e+04\n",
       "std        0.200163      0.069012       1.131042  8.636674e+04\n",
       "min        0.000000      0.000000       1.000000  1.001000e+03\n",
       "25%        0.688073      0.250740       5.700000  1.704000e+03\n",
       "50%        0.853211      0.284502       6.500000  3.542000e+03\n",
       "75%        0.935780      0.331461       7.200000  1.230100e+04\n",
       "max        1.000000      1.000000       9.500000  2.242140e+06"
      ]
     },
     "execution_count": 55,
     "metadata": {},
     "output_type": "execute_result"
    }
   ],
   "source": [
    "movies.describe()"
   ]
  },
  {
   "cell_type": "code",
   "execution_count": 56,
   "metadata": {},
   "outputs": [
    {
     "data": {
      "text/html": [
       "<div>\n",
       "<style scoped>\n",
       "    .dataframe tbody tr th:only-of-type {\n",
       "        vertical-align: middle;\n",
       "    }\n",
       "\n",
       "    .dataframe tbody tr th {\n",
       "        vertical-align: top;\n",
       "    }\n",
       "\n",
       "    .dataframe thead th {\n",
       "        text-align: right;\n",
       "    }\n",
       "</style>\n",
       "<table border=\"1\" class=\"dataframe\">\n",
       "  <thead>\n",
       "    <tr style=\"text-align: right;\">\n",
       "      <th></th>\n",
       "      <th>idMovie</th>\n",
       "      <th>originalTitle</th>\n",
       "      <th>Year</th>\n",
       "      <th>Minutes</th>\n",
       "      <th>Genres</th>\n",
       "      <th>averageRating</th>\n",
       "      <th>numVotes</th>\n",
       "      <th>decade</th>\n",
       "      <th>tconst</th>\n",
       "      <th>actor</th>\n",
       "      <th>actress</th>\n",
       "      <th>director</th>\n",
       "      <th>writer</th>\n",
       "    </tr>\n",
       "  </thead>\n",
       "  <tbody>\n",
       "    <tr>\n",
       "      <th>0</th>\n",
       "      <td>tt0002130</td>\n",
       "      <td>L'Inferno</td>\n",
       "      <td>0.000000</td>\n",
       "      <td>0.146674</td>\n",
       "      <td>Adventure,Drama,Fantasy</td>\n",
       "      <td>7.0</td>\n",
       "      <td>2167</td>\n",
       "      <td>1910</td>\n",
       "      <td>tt0002130</td>\n",
       "      <td>Not available</td>\n",
       "      <td>Not available</td>\n",
       "      <td>Not available</td>\n",
       "      <td>Not available</td>\n",
       "    </tr>\n",
       "    <tr>\n",
       "      <th>1</th>\n",
       "      <td>tt0002844</td>\n",
       "      <td>Fantômas - À l'ombre de la guillotine</td>\n",
       "      <td>0.018349</td>\n",
       "      <td>0.064640</td>\n",
       "      <td>Crime,Drama</td>\n",
       "      <td>7.0</td>\n",
       "      <td>1915</td>\n",
       "      <td>1910</td>\n",
       "      <td>tt0002844</td>\n",
       "      <td>Not available</td>\n",
       "      <td>Not available</td>\n",
       "      <td>Not available</td>\n",
       "      <td>Marcel Allain</td>\n",
       "    </tr>\n",
       "    <tr>\n",
       "      <th>2</th>\n",
       "      <td>tt0003037</td>\n",
       "      <td>Juve contre Fantômas</td>\n",
       "      <td>0.018349</td>\n",
       "      <td>0.107977</td>\n",
       "      <td>Crime,Drama</td>\n",
       "      <td>7.0</td>\n",
       "      <td>1334</td>\n",
       "      <td>1910</td>\n",
       "      <td>tt0003037</td>\n",
       "      <td>Not available</td>\n",
       "      <td>Not available</td>\n",
       "      <td>Not available</td>\n",
       "      <td>Marcel Allain</td>\n",
       "    </tr>\n",
       "    <tr>\n",
       "      <th>3</th>\n",
       "      <td>tt0003165</td>\n",
       "      <td>Le mort qui tue</td>\n",
       "      <td>0.018349</td>\n",
       "      <td>0.246787</td>\n",
       "      <td>Crime,Drama,Mystery</td>\n",
       "      <td>7.0</td>\n",
       "      <td>1033</td>\n",
       "      <td>1910</td>\n",
       "      <td>tt0003165</td>\n",
       "      <td>Not available</td>\n",
       "      <td>Not available</td>\n",
       "      <td>Not available</td>\n",
       "      <td>Marcel Allain</td>\n",
       "    </tr>\n",
       "    <tr>\n",
       "      <th>4</th>\n",
       "      <td>tt0003419</td>\n",
       "      <td>Der Student von Prag</td>\n",
       "      <td>0.018349</td>\n",
       "      <td>0.226344</td>\n",
       "      <td>Drama,Fantasy,Horror</td>\n",
       "      <td>6.5</td>\n",
       "      <td>1735</td>\n",
       "      <td>1910</td>\n",
       "      <td>tt0003419</td>\n",
       "      <td>Not available</td>\n",
       "      <td>Not available</td>\n",
       "      <td>Not available</td>\n",
       "      <td>Not available</td>\n",
       "    </tr>\n",
       "  </tbody>\n",
       "</table>\n",
       "</div>"
      ],
      "text/plain": [
       "     idMovie                          originalTitle      Year   Minutes  \\\n",
       "0  tt0002130                              L'Inferno  0.000000  0.146674   \n",
       "1  tt0002844  Fantômas - À l'ombre de la guillotine  0.018349  0.064640   \n",
       "2  tt0003037                   Juve contre Fantômas  0.018349  0.107977   \n",
       "3  tt0003165                        Le mort qui tue  0.018349  0.246787   \n",
       "4  tt0003419                   Der Student von Prag  0.018349  0.226344   \n",
       "\n",
       "                    Genres  averageRating  numVotes decade     tconst  \\\n",
       "0  Adventure,Drama,Fantasy            7.0      2167   1910  tt0002130   \n",
       "1              Crime,Drama            7.0      1915   1910  tt0002844   \n",
       "2              Crime,Drama            7.0      1334   1910  tt0003037   \n",
       "3      Crime,Drama,Mystery            7.0      1033   1910  tt0003165   \n",
       "4     Drama,Fantasy,Horror            6.5      1735   1910  tt0003419   \n",
       "\n",
       "           actor        actress       director         writer  \n",
       "0  Not available  Not available  Not available  Not available  \n",
       "1  Not available  Not available  Not available  Marcel Allain  \n",
       "2  Not available  Not available  Not available  Marcel Allain  \n",
       "3  Not available  Not available  Not available  Marcel Allain  \n",
       "4  Not available  Not available  Not available  Not available  "
      ]
     },
     "execution_count": 56,
     "metadata": {},
     "output_type": "execute_result"
    }
   ],
   "source": [
    "movies.head()"
   ]
  },
  {
   "cell_type": "markdown",
   "metadata": {},
   "source": [
    "### Creating Dummy columns\n",
    "\n",
    "**Genres**"
   ]
  },
  {
   "cell_type": "code",
   "execution_count": 57,
   "metadata": {},
   "outputs": [],
   "source": [
    "movies = movies.join(movies.Genres.str.get_dummies(sep=',').add_prefix('genre_'))\n",
    "movies = movies.drop(['Genres'], axis=1)"
   ]
  },
  {
   "cell_type": "code",
   "execution_count": 58,
   "metadata": {},
   "outputs": [],
   "source": [
    "movies = movies.drop(['genre_No available'], axis=1)\n",
    "movies = movies.drop(['tconst'], axis=1)"
   ]
  },
  {
   "cell_type": "markdown",
   "metadata": {},
   "source": [
    "**Rest of dummies**"
   ]
  },
  {
   "cell_type": "code",
   "execution_count": 59,
   "metadata": {},
   "outputs": [],
   "source": [
    "movies_final = pd.get_dummies(movies, prefix=['dec_','actor_','actress_','dir_','writ_'], columns=['decade','actor','actress','director','writer'])"
   ]
  },
  {
   "cell_type": "code",
   "execution_count": 60,
   "metadata": {},
   "outputs": [
    {
     "data": {
      "text/html": [
       "<div>\n",
       "<style scoped>\n",
       "    .dataframe tbody tr th:only-of-type {\n",
       "        vertical-align: middle;\n",
       "    }\n",
       "\n",
       "    .dataframe tbody tr th {\n",
       "        vertical-align: top;\n",
       "    }\n",
       "\n",
       "    .dataframe thead th {\n",
       "        text-align: right;\n",
       "    }\n",
       "</style>\n",
       "<table border=\"1\" class=\"dataframe\">\n",
       "  <thead>\n",
       "    <tr style=\"text-align: right;\">\n",
       "      <th></th>\n",
       "      <th>idMovie</th>\n",
       "      <th>originalTitle</th>\n",
       "      <th>Year</th>\n",
       "      <th>Minutes</th>\n",
       "      <th>averageRating</th>\n",
       "      <th>numVotes</th>\n",
       "      <th>genre_Action</th>\n",
       "      <th>genre_Adult</th>\n",
       "      <th>genre_Adventure</th>\n",
       "      <th>genre_Animation</th>\n",
       "      <th>...</th>\n",
       "      <th>writ__William Wheeler</th>\n",
       "      <th>writ__Yavuz Turgul</th>\n",
       "      <th>writ__Yolanda García Serrano</th>\n",
       "      <th>writ__Youssef Maaty</th>\n",
       "      <th>writ__Yunus Sajawal</th>\n",
       "      <th>writ__Yuriy Arabov</th>\n",
       "      <th>writ__Yuriy Korotkov</th>\n",
       "      <th>writ__Zak Penn</th>\n",
       "      <th>writ__Émile Zola</th>\n",
       "      <th>writ__Éric Besnard</th>\n",
       "    </tr>\n",
       "  </thead>\n",
       "  <tbody>\n",
       "    <tr>\n",
       "      <th>0</th>\n",
       "      <td>tt0002130</td>\n",
       "      <td>L'Inferno</td>\n",
       "      <td>0.000000</td>\n",
       "      <td>0.146674</td>\n",
       "      <td>7.0</td>\n",
       "      <td>2167</td>\n",
       "      <td>0</td>\n",
       "      <td>0</td>\n",
       "      <td>1</td>\n",
       "      <td>0</td>\n",
       "      <td>...</td>\n",
       "      <td>0</td>\n",
       "      <td>0</td>\n",
       "      <td>0</td>\n",
       "      <td>0</td>\n",
       "      <td>0</td>\n",
       "      <td>0</td>\n",
       "      <td>0</td>\n",
       "      <td>0</td>\n",
       "      <td>0</td>\n",
       "      <td>0</td>\n",
       "    </tr>\n",
       "    <tr>\n",
       "      <th>1</th>\n",
       "      <td>tt0002844</td>\n",
       "      <td>Fantômas - À l'ombre de la guillotine</td>\n",
       "      <td>0.018349</td>\n",
       "      <td>0.064640</td>\n",
       "      <td>7.0</td>\n",
       "      <td>1915</td>\n",
       "      <td>0</td>\n",
       "      <td>0</td>\n",
       "      <td>0</td>\n",
       "      <td>0</td>\n",
       "      <td>...</td>\n",
       "      <td>0</td>\n",
       "      <td>0</td>\n",
       "      <td>0</td>\n",
       "      <td>0</td>\n",
       "      <td>0</td>\n",
       "      <td>0</td>\n",
       "      <td>0</td>\n",
       "      <td>0</td>\n",
       "      <td>0</td>\n",
       "      <td>0</td>\n",
       "    </tr>\n",
       "    <tr>\n",
       "      <th>2</th>\n",
       "      <td>tt0003037</td>\n",
       "      <td>Juve contre Fantômas</td>\n",
       "      <td>0.018349</td>\n",
       "      <td>0.107977</td>\n",
       "      <td>7.0</td>\n",
       "      <td>1334</td>\n",
       "      <td>0</td>\n",
       "      <td>0</td>\n",
       "      <td>0</td>\n",
       "      <td>0</td>\n",
       "      <td>...</td>\n",
       "      <td>0</td>\n",
       "      <td>0</td>\n",
       "      <td>0</td>\n",
       "      <td>0</td>\n",
       "      <td>0</td>\n",
       "      <td>0</td>\n",
       "      <td>0</td>\n",
       "      <td>0</td>\n",
       "      <td>0</td>\n",
       "      <td>0</td>\n",
       "    </tr>\n",
       "    <tr>\n",
       "      <th>3</th>\n",
       "      <td>tt0003165</td>\n",
       "      <td>Le mort qui tue</td>\n",
       "      <td>0.018349</td>\n",
       "      <td>0.246787</td>\n",
       "      <td>7.0</td>\n",
       "      <td>1033</td>\n",
       "      <td>0</td>\n",
       "      <td>0</td>\n",
       "      <td>0</td>\n",
       "      <td>0</td>\n",
       "      <td>...</td>\n",
       "      <td>0</td>\n",
       "      <td>0</td>\n",
       "      <td>0</td>\n",
       "      <td>0</td>\n",
       "      <td>0</td>\n",
       "      <td>0</td>\n",
       "      <td>0</td>\n",
       "      <td>0</td>\n",
       "      <td>0</td>\n",
       "      <td>0</td>\n",
       "    </tr>\n",
       "    <tr>\n",
       "      <th>4</th>\n",
       "      <td>tt0003419</td>\n",
       "      <td>Der Student von Prag</td>\n",
       "      <td>0.018349</td>\n",
       "      <td>0.226344</td>\n",
       "      <td>6.5</td>\n",
       "      <td>1735</td>\n",
       "      <td>0</td>\n",
       "      <td>0</td>\n",
       "      <td>0</td>\n",
       "      <td>0</td>\n",
       "      <td>...</td>\n",
       "      <td>0</td>\n",
       "      <td>0</td>\n",
       "      <td>0</td>\n",
       "      <td>0</td>\n",
       "      <td>0</td>\n",
       "      <td>0</td>\n",
       "      <td>0</td>\n",
       "      <td>0</td>\n",
       "      <td>0</td>\n",
       "      <td>0</td>\n",
       "    </tr>\n",
       "  </tbody>\n",
       "</table>\n",
       "<p>5 rows × 4046 columns</p>\n",
       "</div>"
      ],
      "text/plain": [
       "     idMovie                          originalTitle      Year   Minutes  \\\n",
       "0  tt0002130                              L'Inferno  0.000000  0.146674   \n",
       "1  tt0002844  Fantômas - À l'ombre de la guillotine  0.018349  0.064640   \n",
       "2  tt0003037                   Juve contre Fantômas  0.018349  0.107977   \n",
       "3  tt0003165                        Le mort qui tue  0.018349  0.246787   \n",
       "4  tt0003419                   Der Student von Prag  0.018349  0.226344   \n",
       "\n",
       "   averageRating  numVotes  genre_Action  genre_Adult  genre_Adventure  \\\n",
       "0            7.0      2167             0            0                1   \n",
       "1            7.0      1915             0            0                0   \n",
       "2            7.0      1334             0            0                0   \n",
       "3            7.0      1033             0            0                0   \n",
       "4            6.5      1735             0            0                0   \n",
       "\n",
       "   genre_Animation  ...  writ__William Wheeler  writ__Yavuz Turgul  \\\n",
       "0                0  ...                      0                   0   \n",
       "1                0  ...                      0                   0   \n",
       "2                0  ...                      0                   0   \n",
       "3                0  ...                      0                   0   \n",
       "4                0  ...                      0                   0   \n",
       "\n",
       "   writ__Yolanda García Serrano  writ__Youssef Maaty  writ__Yunus Sajawal  \\\n",
       "0                             0                    0                    0   \n",
       "1                             0                    0                    0   \n",
       "2                             0                    0                    0   \n",
       "3                             0                    0                    0   \n",
       "4                             0                    0                    0   \n",
       "\n",
       "   writ__Yuriy Arabov  writ__Yuriy Korotkov  writ__Zak Penn  writ__Émile Zola  \\\n",
       "0                   0                     0               0                 0   \n",
       "1                   0                     0               0                 0   \n",
       "2                   0                     0               0                 0   \n",
       "3                   0                     0               0                 0   \n",
       "4                   0                     0               0                 0   \n",
       "\n",
       "   writ__Éric Besnard  \n",
       "0                   0  \n",
       "1                   0  \n",
       "2                   0  \n",
       "3                   0  \n",
       "4                   0  \n",
       "\n",
       "[5 rows x 4046 columns]"
      ]
     },
     "execution_count": 60,
     "metadata": {},
     "output_type": "execute_result"
    }
   ],
   "source": [
    "movies_final.head()"
   ]
  },
  {
   "cell_type": "code",
   "execution_count": 61,
   "metadata": {},
   "outputs": [
    {
     "data": {
      "text/plain": [
       "(30321, 4046)"
      ]
     },
     "execution_count": 61,
     "metadata": {},
     "output_type": "execute_result"
    }
   ],
   "source": [
    "movies_final.shape"
   ]
  },
  {
   "cell_type": "markdown",
   "metadata": {},
   "source": [
    "**Creation of top voted and top rated dataframes**\n",
    "\n",
    "Average rating higher than 8 and votes > 20.000"
   ]
  },
  {
   "cell_type": "code",
   "execution_count": 62,
   "metadata": {},
   "outputs": [
    {
     "data": {
      "text/html": [
       "<div>\n",
       "<style scoped>\n",
       "    .dataframe tbody tr th:only-of-type {\n",
       "        vertical-align: middle;\n",
       "    }\n",
       "\n",
       "    .dataframe tbody tr th {\n",
       "        vertical-align: top;\n",
       "    }\n",
       "\n",
       "    .dataframe thead th {\n",
       "        text-align: right;\n",
       "    }\n",
       "</style>\n",
       "<table border=\"1\" class=\"dataframe\">\n",
       "  <thead>\n",
       "    <tr style=\"text-align: right;\">\n",
       "      <th></th>\n",
       "      <th>Year</th>\n",
       "      <th>Minutes</th>\n",
       "      <th>averageRating</th>\n",
       "      <th>numVotes</th>\n",
       "      <th>genre_Action</th>\n",
       "      <th>genre_Adult</th>\n",
       "      <th>genre_Adventure</th>\n",
       "      <th>genre_Animation</th>\n",
       "      <th>genre_Biography</th>\n",
       "      <th>genre_Comedy</th>\n",
       "      <th>...</th>\n",
       "      <th>writ__William Wheeler</th>\n",
       "      <th>writ__Yavuz Turgul</th>\n",
       "      <th>writ__Yolanda García Serrano</th>\n",
       "      <th>writ__Youssef Maaty</th>\n",
       "      <th>writ__Yunus Sajawal</th>\n",
       "      <th>writ__Yuriy Arabov</th>\n",
       "      <th>writ__Yuriy Korotkov</th>\n",
       "      <th>writ__Zak Penn</th>\n",
       "      <th>writ__Émile Zola</th>\n",
       "      <th>writ__Éric Besnard</th>\n",
       "    </tr>\n",
       "  </thead>\n",
       "  <tbody>\n",
       "    <tr>\n",
       "      <th>count</th>\n",
       "      <td>30321.000000</td>\n",
       "      <td>30321.000000</td>\n",
       "      <td>30321.000000</td>\n",
       "      <td>3.032100e+04</td>\n",
       "      <td>30321.000000</td>\n",
       "      <td>30321.000000</td>\n",
       "      <td>30321.000000</td>\n",
       "      <td>30321.000000</td>\n",
       "      <td>30321.000000</td>\n",
       "      <td>30321.000000</td>\n",
       "      <td>...</td>\n",
       "      <td>30321.000000</td>\n",
       "      <td>30321.000000</td>\n",
       "      <td>30321.000000</td>\n",
       "      <td>30321.000000</td>\n",
       "      <td>30321.000000</td>\n",
       "      <td>30321.000000</td>\n",
       "      <td>30321.000000</td>\n",
       "      <td>30321.000000</td>\n",
       "      <td>30321.000000</td>\n",
       "      <td>30321.000000</td>\n",
       "    </tr>\n",
       "    <tr>\n",
       "      <th>mean</th>\n",
       "      <td>0.782161</td>\n",
       "      <td>0.295966</td>\n",
       "      <td>6.367772</td>\n",
       "      <td>2.599782e+04</td>\n",
       "      <td>0.186241</td>\n",
       "      <td>0.000033</td>\n",
       "      <td>0.115135</td>\n",
       "      <td>0.032618</td>\n",
       "      <td>0.053692</td>\n",
       "      <td>0.357739</td>\n",
       "      <td>...</td>\n",
       "      <td>0.000132</td>\n",
       "      <td>0.000231</td>\n",
       "      <td>0.000132</td>\n",
       "      <td>0.000198</td>\n",
       "      <td>0.000231</td>\n",
       "      <td>0.000132</td>\n",
       "      <td>0.000132</td>\n",
       "      <td>0.000198</td>\n",
       "      <td>0.000165</td>\n",
       "      <td>0.000132</td>\n",
       "    </tr>\n",
       "    <tr>\n",
       "      <th>std</th>\n",
       "      <td>0.200163</td>\n",
       "      <td>0.069012</td>\n",
       "      <td>1.131042</td>\n",
       "      <td>8.636674e+04</td>\n",
       "      <td>0.389307</td>\n",
       "      <td>0.005743</td>\n",
       "      <td>0.319190</td>\n",
       "      <td>0.177637</td>\n",
       "      <td>0.225413</td>\n",
       "      <td>0.479343</td>\n",
       "      <td>...</td>\n",
       "      <td>0.011485</td>\n",
       "      <td>0.015193</td>\n",
       "      <td>0.011485</td>\n",
       "      <td>0.014066</td>\n",
       "      <td>0.015193</td>\n",
       "      <td>0.011485</td>\n",
       "      <td>0.011485</td>\n",
       "      <td>0.014066</td>\n",
       "      <td>0.012841</td>\n",
       "      <td>0.011485</td>\n",
       "    </tr>\n",
       "    <tr>\n",
       "      <th>min</th>\n",
       "      <td>0.000000</td>\n",
       "      <td>0.000000</td>\n",
       "      <td>1.000000</td>\n",
       "      <td>1.001000e+03</td>\n",
       "      <td>0.000000</td>\n",
       "      <td>0.000000</td>\n",
       "      <td>0.000000</td>\n",
       "      <td>0.000000</td>\n",
       "      <td>0.000000</td>\n",
       "      <td>0.000000</td>\n",
       "      <td>...</td>\n",
       "      <td>0.000000</td>\n",
       "      <td>0.000000</td>\n",
       "      <td>0.000000</td>\n",
       "      <td>0.000000</td>\n",
       "      <td>0.000000</td>\n",
       "      <td>0.000000</td>\n",
       "      <td>0.000000</td>\n",
       "      <td>0.000000</td>\n",
       "      <td>0.000000</td>\n",
       "      <td>0.000000</td>\n",
       "    </tr>\n",
       "    <tr>\n",
       "      <th>25%</th>\n",
       "      <td>0.688073</td>\n",
       "      <td>0.250740</td>\n",
       "      <td>5.700000</td>\n",
       "      <td>1.704000e+03</td>\n",
       "      <td>0.000000</td>\n",
       "      <td>0.000000</td>\n",
       "      <td>0.000000</td>\n",
       "      <td>0.000000</td>\n",
       "      <td>0.000000</td>\n",
       "      <td>0.000000</td>\n",
       "      <td>...</td>\n",
       "      <td>0.000000</td>\n",
       "      <td>0.000000</td>\n",
       "      <td>0.000000</td>\n",
       "      <td>0.000000</td>\n",
       "      <td>0.000000</td>\n",
       "      <td>0.000000</td>\n",
       "      <td>0.000000</td>\n",
       "      <td>0.000000</td>\n",
       "      <td>0.000000</td>\n",
       "      <td>0.000000</td>\n",
       "    </tr>\n",
       "    <tr>\n",
       "      <th>50%</th>\n",
       "      <td>0.853211</td>\n",
       "      <td>0.284502</td>\n",
       "      <td>6.500000</td>\n",
       "      <td>3.542000e+03</td>\n",
       "      <td>0.000000</td>\n",
       "      <td>0.000000</td>\n",
       "      <td>0.000000</td>\n",
       "      <td>0.000000</td>\n",
       "      <td>0.000000</td>\n",
       "      <td>0.000000</td>\n",
       "      <td>...</td>\n",
       "      <td>0.000000</td>\n",
       "      <td>0.000000</td>\n",
       "      <td>0.000000</td>\n",
       "      <td>0.000000</td>\n",
       "      <td>0.000000</td>\n",
       "      <td>0.000000</td>\n",
       "      <td>0.000000</td>\n",
       "      <td>0.000000</td>\n",
       "      <td>0.000000</td>\n",
       "      <td>0.000000</td>\n",
       "    </tr>\n",
       "    <tr>\n",
       "      <th>75%</th>\n",
       "      <td>0.935780</td>\n",
       "      <td>0.331461</td>\n",
       "      <td>7.200000</td>\n",
       "      <td>1.230100e+04</td>\n",
       "      <td>0.000000</td>\n",
       "      <td>0.000000</td>\n",
       "      <td>0.000000</td>\n",
       "      <td>0.000000</td>\n",
       "      <td>0.000000</td>\n",
       "      <td>1.000000</td>\n",
       "      <td>...</td>\n",
       "      <td>0.000000</td>\n",
       "      <td>0.000000</td>\n",
       "      <td>0.000000</td>\n",
       "      <td>0.000000</td>\n",
       "      <td>0.000000</td>\n",
       "      <td>0.000000</td>\n",
       "      <td>0.000000</td>\n",
       "      <td>0.000000</td>\n",
       "      <td>0.000000</td>\n",
       "      <td>0.000000</td>\n",
       "    </tr>\n",
       "    <tr>\n",
       "      <th>max</th>\n",
       "      <td>1.000000</td>\n",
       "      <td>1.000000</td>\n",
       "      <td>9.500000</td>\n",
       "      <td>2.242140e+06</td>\n",
       "      <td>1.000000</td>\n",
       "      <td>1.000000</td>\n",
       "      <td>1.000000</td>\n",
       "      <td>1.000000</td>\n",
       "      <td>1.000000</td>\n",
       "      <td>1.000000</td>\n",
       "      <td>...</td>\n",
       "      <td>1.000000</td>\n",
       "      <td>1.000000</td>\n",
       "      <td>1.000000</td>\n",
       "      <td>1.000000</td>\n",
       "      <td>1.000000</td>\n",
       "      <td>1.000000</td>\n",
       "      <td>1.000000</td>\n",
       "      <td>1.000000</td>\n",
       "      <td>1.000000</td>\n",
       "      <td>1.000000</td>\n",
       "    </tr>\n",
       "  </tbody>\n",
       "</table>\n",
       "<p>8 rows × 4044 columns</p>\n",
       "</div>"
      ],
      "text/plain": [
       "               Year       Minutes  averageRating      numVotes  genre_Action  \\\n",
       "count  30321.000000  30321.000000   30321.000000  3.032100e+04  30321.000000   \n",
       "mean       0.782161      0.295966       6.367772  2.599782e+04      0.186241   \n",
       "std        0.200163      0.069012       1.131042  8.636674e+04      0.389307   \n",
       "min        0.000000      0.000000       1.000000  1.001000e+03      0.000000   \n",
       "25%        0.688073      0.250740       5.700000  1.704000e+03      0.000000   \n",
       "50%        0.853211      0.284502       6.500000  3.542000e+03      0.000000   \n",
       "75%        0.935780      0.331461       7.200000  1.230100e+04      0.000000   \n",
       "max        1.000000      1.000000       9.500000  2.242140e+06      1.000000   \n",
       "\n",
       "        genre_Adult  genre_Adventure  genre_Animation  genre_Biography  \\\n",
       "count  30321.000000     30321.000000     30321.000000     30321.000000   \n",
       "mean       0.000033         0.115135         0.032618         0.053692   \n",
       "std        0.005743         0.319190         0.177637         0.225413   \n",
       "min        0.000000         0.000000         0.000000         0.000000   \n",
       "25%        0.000000         0.000000         0.000000         0.000000   \n",
       "50%        0.000000         0.000000         0.000000         0.000000   \n",
       "75%        0.000000         0.000000         0.000000         0.000000   \n",
       "max        1.000000         1.000000         1.000000         1.000000   \n",
       "\n",
       "       genre_Comedy  ...  writ__William Wheeler  writ__Yavuz Turgul  \\\n",
       "count  30321.000000  ...           30321.000000        30321.000000   \n",
       "mean       0.357739  ...               0.000132            0.000231   \n",
       "std        0.479343  ...               0.011485            0.015193   \n",
       "min        0.000000  ...               0.000000            0.000000   \n",
       "25%        0.000000  ...               0.000000            0.000000   \n",
       "50%        0.000000  ...               0.000000            0.000000   \n",
       "75%        1.000000  ...               0.000000            0.000000   \n",
       "max        1.000000  ...               1.000000            1.000000   \n",
       "\n",
       "       writ__Yolanda García Serrano  writ__Youssef Maaty  writ__Yunus Sajawal  \\\n",
       "count                  30321.000000         30321.000000         30321.000000   \n",
       "mean                       0.000132             0.000198             0.000231   \n",
       "std                        0.011485             0.014066             0.015193   \n",
       "min                        0.000000             0.000000             0.000000   \n",
       "25%                        0.000000             0.000000             0.000000   \n",
       "50%                        0.000000             0.000000             0.000000   \n",
       "75%                        0.000000             0.000000             0.000000   \n",
       "max                        1.000000             1.000000             1.000000   \n",
       "\n",
       "       writ__Yuriy Arabov  writ__Yuriy Korotkov  writ__Zak Penn  \\\n",
       "count        30321.000000          30321.000000    30321.000000   \n",
       "mean             0.000132              0.000132        0.000198   \n",
       "std              0.011485              0.011485        0.014066   \n",
       "min              0.000000              0.000000        0.000000   \n",
       "25%              0.000000              0.000000        0.000000   \n",
       "50%              0.000000              0.000000        0.000000   \n",
       "75%              0.000000              0.000000        0.000000   \n",
       "max              1.000000              1.000000        1.000000   \n",
       "\n",
       "       writ__Émile Zola  writ__Éric Besnard  \n",
       "count      30321.000000        30321.000000  \n",
       "mean           0.000165            0.000132  \n",
       "std            0.012841            0.011485  \n",
       "min            0.000000            0.000000  \n",
       "25%            0.000000            0.000000  \n",
       "50%            0.000000            0.000000  \n",
       "75%            0.000000            0.000000  \n",
       "max            1.000000            1.000000  \n",
       "\n",
       "[8 rows x 4044 columns]"
      ]
     },
     "execution_count": 62,
     "metadata": {},
     "output_type": "execute_result"
    }
   ],
   "source": [
    "movies_final.describe()"
   ]
  },
  {
   "cell_type": "code",
   "execution_count": 63,
   "metadata": {},
   "outputs": [
    {
     "data": {
      "text/plain": [
       "(30321, 4046)"
      ]
     },
     "execution_count": 63,
     "metadata": {},
     "output_type": "execute_result"
    }
   ],
   "source": [
    "movies_final.shape"
   ]
  },
  {
   "cell_type": "markdown",
   "metadata": {},
   "source": [
    "### <a class=\"anchor\" id=\"Consolidaion_dataframes\"> 1.c.- Consolidation of dataframes\n",
    "\n",
    "In this section we´re going to consolidate both dataframes into files, that we´ll read for the next sections"
   ]
  },
  {
   "cell_type": "code",
   "execution_count": 65,
   "metadata": {},
   "outputs": [],
   "source": [
    "movies_final.to_csv('IMDB_movies_clasif_all.csv', index = False)"
   ]
  },
  {
   "cell_type": "markdown",
   "metadata": {},
   "source": [
    "## <a class=\"anchor\" id=\"Clustering\">Part 2: Clustering movies"
   ]
  },
  {
   "cell_type": "markdown",
   "metadata": {},
   "source": [
    "### <a class=\"anchor\" id=\"Data_preparation\"> 3.a.- Data preparation\n",
    "We import the data and fix importation issues"
   ]
  },
  {
   "cell_type": "code",
   "execution_count": 236,
   "metadata": {},
   "outputs": [],
   "source": [
    "movies = pd.read_csv('IMDB_movies_clasif_all.csv')\n",
    "movies_resume = pd.read_csv('IMDB_movies_clasif_resume.csv')"
   ]
  },
  {
   "cell_type": "code",
   "execution_count": 237,
   "metadata": {},
   "outputs": [
    {
     "data": {
      "text/plain": [
       "((30321, 4046), (30321, 12))"
      ]
     },
     "execution_count": 237,
     "metadata": {},
     "output_type": "execute_result"
    }
   ],
   "source": [
    "movies.shape, movies_resume.shape"
   ]
  },
  {
   "cell_type": "code",
   "execution_count": 238,
   "metadata": {},
   "outputs": [],
   "source": [
    "movies = movies.drop(['actor__Not available','dir__Not available','actress__Not available','writ__Not available'], axis=1)"
   ]
  },
  {
   "cell_type": "code",
   "execution_count": 239,
   "metadata": {},
   "outputs": [
    {
     "data": {
      "text/html": [
       "<div>\n",
       "<style scoped>\n",
       "    .dataframe tbody tr th:only-of-type {\n",
       "        vertical-align: middle;\n",
       "    }\n",
       "\n",
       "    .dataframe tbody tr th {\n",
       "        vertical-align: top;\n",
       "    }\n",
       "\n",
       "    .dataframe thead th {\n",
       "        text-align: right;\n",
       "    }\n",
       "</style>\n",
       "<table border=\"1\" class=\"dataframe\">\n",
       "  <thead>\n",
       "    <tr style=\"text-align: right;\">\n",
       "      <th></th>\n",
       "      <th>idMovie</th>\n",
       "      <th>originalTitle</th>\n",
       "      <th>Year</th>\n",
       "      <th>Minutes</th>\n",
       "      <th>averageRating</th>\n",
       "      <th>numVotes</th>\n",
       "      <th>genre_Action</th>\n",
       "      <th>genre_Adult</th>\n",
       "      <th>genre_Adventure</th>\n",
       "      <th>genre_Animation</th>\n",
       "      <th>...</th>\n",
       "      <th>writ__William Wheeler</th>\n",
       "      <th>writ__Yavuz Turgul</th>\n",
       "      <th>writ__Yolanda García Serrano</th>\n",
       "      <th>writ__Youssef Maaty</th>\n",
       "      <th>writ__Yunus Sajawal</th>\n",
       "      <th>writ__Yuriy Arabov</th>\n",
       "      <th>writ__Yuriy Korotkov</th>\n",
       "      <th>writ__Zak Penn</th>\n",
       "      <th>writ__Émile Zola</th>\n",
       "      <th>writ__Éric Besnard</th>\n",
       "    </tr>\n",
       "  </thead>\n",
       "  <tbody>\n",
       "    <tr>\n",
       "      <th>0</th>\n",
       "      <td>tt0002130</td>\n",
       "      <td>L'Inferno</td>\n",
       "      <td>0.000000</td>\n",
       "      <td>0.146674</td>\n",
       "      <td>7.0</td>\n",
       "      <td>2167</td>\n",
       "      <td>0</td>\n",
       "      <td>0</td>\n",
       "      <td>1</td>\n",
       "      <td>0</td>\n",
       "      <td>...</td>\n",
       "      <td>0</td>\n",
       "      <td>0</td>\n",
       "      <td>0</td>\n",
       "      <td>0</td>\n",
       "      <td>0</td>\n",
       "      <td>0</td>\n",
       "      <td>0</td>\n",
       "      <td>0</td>\n",
       "      <td>0</td>\n",
       "      <td>0</td>\n",
       "    </tr>\n",
       "    <tr>\n",
       "      <th>1</th>\n",
       "      <td>tt0002844</td>\n",
       "      <td>Fantômas - À l'ombre de la guillotine</td>\n",
       "      <td>0.018349</td>\n",
       "      <td>0.064640</td>\n",
       "      <td>7.0</td>\n",
       "      <td>1915</td>\n",
       "      <td>0</td>\n",
       "      <td>0</td>\n",
       "      <td>0</td>\n",
       "      <td>0</td>\n",
       "      <td>...</td>\n",
       "      <td>0</td>\n",
       "      <td>0</td>\n",
       "      <td>0</td>\n",
       "      <td>0</td>\n",
       "      <td>0</td>\n",
       "      <td>0</td>\n",
       "      <td>0</td>\n",
       "      <td>0</td>\n",
       "      <td>0</td>\n",
       "      <td>0</td>\n",
       "    </tr>\n",
       "    <tr>\n",
       "      <th>2</th>\n",
       "      <td>tt0003037</td>\n",
       "      <td>Juve contre Fantômas</td>\n",
       "      <td>0.018349</td>\n",
       "      <td>0.107977</td>\n",
       "      <td>7.0</td>\n",
       "      <td>1334</td>\n",
       "      <td>0</td>\n",
       "      <td>0</td>\n",
       "      <td>0</td>\n",
       "      <td>0</td>\n",
       "      <td>...</td>\n",
       "      <td>0</td>\n",
       "      <td>0</td>\n",
       "      <td>0</td>\n",
       "      <td>0</td>\n",
       "      <td>0</td>\n",
       "      <td>0</td>\n",
       "      <td>0</td>\n",
       "      <td>0</td>\n",
       "      <td>0</td>\n",
       "      <td>0</td>\n",
       "    </tr>\n",
       "    <tr>\n",
       "      <th>3</th>\n",
       "      <td>tt0003165</td>\n",
       "      <td>Le mort qui tue</td>\n",
       "      <td>0.018349</td>\n",
       "      <td>0.246787</td>\n",
       "      <td>7.0</td>\n",
       "      <td>1033</td>\n",
       "      <td>0</td>\n",
       "      <td>0</td>\n",
       "      <td>0</td>\n",
       "      <td>0</td>\n",
       "      <td>...</td>\n",
       "      <td>0</td>\n",
       "      <td>0</td>\n",
       "      <td>0</td>\n",
       "      <td>0</td>\n",
       "      <td>0</td>\n",
       "      <td>0</td>\n",
       "      <td>0</td>\n",
       "      <td>0</td>\n",
       "      <td>0</td>\n",
       "      <td>0</td>\n",
       "    </tr>\n",
       "    <tr>\n",
       "      <th>4</th>\n",
       "      <td>tt0003419</td>\n",
       "      <td>Der Student von Prag</td>\n",
       "      <td>0.018349</td>\n",
       "      <td>0.226344</td>\n",
       "      <td>6.5</td>\n",
       "      <td>1735</td>\n",
       "      <td>0</td>\n",
       "      <td>0</td>\n",
       "      <td>0</td>\n",
       "      <td>0</td>\n",
       "      <td>...</td>\n",
       "      <td>0</td>\n",
       "      <td>0</td>\n",
       "      <td>0</td>\n",
       "      <td>0</td>\n",
       "      <td>0</td>\n",
       "      <td>0</td>\n",
       "      <td>0</td>\n",
       "      <td>0</td>\n",
       "      <td>0</td>\n",
       "      <td>0</td>\n",
       "    </tr>\n",
       "  </tbody>\n",
       "</table>\n",
       "<p>5 rows × 4042 columns</p>\n",
       "</div>"
      ],
      "text/plain": [
       "     idMovie                          originalTitle      Year   Minutes  \\\n",
       "0  tt0002130                              L'Inferno  0.000000  0.146674   \n",
       "1  tt0002844  Fantômas - À l'ombre de la guillotine  0.018349  0.064640   \n",
       "2  tt0003037                   Juve contre Fantômas  0.018349  0.107977   \n",
       "3  tt0003165                        Le mort qui tue  0.018349  0.246787   \n",
       "4  tt0003419                   Der Student von Prag  0.018349  0.226344   \n",
       "\n",
       "   averageRating  numVotes  genre_Action  genre_Adult  genre_Adventure  \\\n",
       "0            7.0      2167             0            0                1   \n",
       "1            7.0      1915             0            0                0   \n",
       "2            7.0      1334             0            0                0   \n",
       "3            7.0      1033             0            0                0   \n",
       "4            6.5      1735             0            0                0   \n",
       "\n",
       "   genre_Animation  ...  writ__William Wheeler  writ__Yavuz Turgul  \\\n",
       "0                0  ...                      0                   0   \n",
       "1                0  ...                      0                   0   \n",
       "2                0  ...                      0                   0   \n",
       "3                0  ...                      0                   0   \n",
       "4                0  ...                      0                   0   \n",
       "\n",
       "   writ__Yolanda García Serrano  writ__Youssef Maaty  writ__Yunus Sajawal  \\\n",
       "0                             0                    0                    0   \n",
       "1                             0                    0                    0   \n",
       "2                             0                    0                    0   \n",
       "3                             0                    0                    0   \n",
       "4                             0                    0                    0   \n",
       "\n",
       "   writ__Yuriy Arabov  writ__Yuriy Korotkov  writ__Zak Penn  writ__Émile Zola  \\\n",
       "0                   0                     0               0                 0   \n",
       "1                   0                     0               0                 0   \n",
       "2                   0                     0               0                 0   \n",
       "3                   0                     0               0                 0   \n",
       "4                   0                     0               0                 0   \n",
       "\n",
       "   writ__Éric Besnard  \n",
       "0                   0  \n",
       "1                   0  \n",
       "2                   0  \n",
       "3                   0  \n",
       "4                   0  \n",
       "\n",
       "[5 rows x 4042 columns]"
      ]
     },
     "execution_count": 239,
     "metadata": {},
     "output_type": "execute_result"
    }
   ],
   "source": [
    "movies.head()"
   ]
  },
  {
   "cell_type": "code",
   "execution_count": 240,
   "metadata": {},
   "outputs": [],
   "source": [
    "movies1 = movies.copy()\n",
    "movies1 = movies1[['idMovie','originalTitle','numVotes','averageRating']]"
   ]
  },
  {
   "cell_type": "code",
   "execution_count": 241,
   "metadata": {},
   "outputs": [
    {
     "data": {
      "text/plain": [
       "(30321, 4)"
      ]
     },
     "execution_count": 241,
     "metadata": {},
     "output_type": "execute_result"
    }
   ],
   "source": [
    "movies1.shape"
   ]
  },
  {
   "cell_type": "code",
   "execution_count": 242,
   "metadata": {},
   "outputs": [],
   "source": [
    "movies2 = movies.copy()\n",
    "movies2 = movies2.drop(['idMovie','originalTitle','numVotes','averageRating'], axis=1)"
   ]
  },
  {
   "cell_type": "code",
   "execution_count": 243,
   "metadata": {},
   "outputs": [
    {
     "data": {
      "text/plain": [
       "(30321, 4038)"
      ]
     },
     "execution_count": 243,
     "metadata": {},
     "output_type": "execute_result"
    }
   ],
   "source": [
    "movies2.shape"
   ]
  },
  {
   "cell_type": "markdown",
   "metadata": {},
   "source": [
    "#### Applying PCA\n",
    "\n",
    "In this section we will apply feature reduction with PCA to the dataset with default values, without fixing the number of components. We will do it over movies2, that hasn´t categorical variables"
   ]
  },
  {
   "cell_type": "code",
   "execution_count": 74,
   "metadata": {},
   "outputs": [],
   "source": [
    "# Apply PCA to the data.\n",
    "pca = PCA()\n",
    "movies_pca = pca.fit_transform(movies2)"
   ]
  },
  {
   "cell_type": "code",
   "execution_count": 75,
   "metadata": {},
   "outputs": [],
   "source": [
    "column_names = [\"Component\", \"variance\", \"acumulative_variance\"]\n",
    "variances = pd.DataFrame(columns = column_names)\n",
    "var_acu = 0\n",
    "for i in range(len(pca.explained_variance_ratio_)):\n",
    "    comp = i +1 \n",
    "    var = pca.explained_variance_ratio_[i]\n",
    "    var_acu = var_acu +  var\n",
    "    variances.loc[i] = [comp, var, var_acu]"
   ]
  },
  {
   "cell_type": "markdown",
   "metadata": {},
   "source": [
    "Now we plot the acumulative and individual variance ratio versus the number oc principal components used"
   ]
  },
  {
   "cell_type": "code",
   "execution_count": 76,
   "metadata": {},
   "outputs": [
    {
     "data": {
      "image/png": "[encoded data removed]",
      "text/plain": [
       "<Figure size 432x288 with 1 Axes>"
      ]
     },
     "metadata": {
      "needs_background": "light"
     },
     "output_type": "display_data"
    }
   ],
   "source": [
    "plt.plot(variances.Component, variances.acumulative_variance);\n",
    "plt.bar(variances.Component, variances.variance);\n",
    "plt.xlabel('Component number') \n",
    "plt.ylabel('Variance');\n",
    "plt.legend(['Acumulative variance','Individual variance']);\n",
    "plt.title('Variance vs Dimensionality Reduction');"
   ]
  },
  {
   "cell_type": "code",
   "execution_count": 77,
   "metadata": {},
   "outputs": [
    {
     "data": {
      "text/html": [
       "<div>\n",
       "<style scoped>\n",
       "    .dataframe tbody tr th:only-of-type {\n",
       "        vertical-align: middle;\n",
       "    }\n",
       "\n",
       "    .dataframe tbody tr th {\n",
       "        vertical-align: top;\n",
       "    }\n",
       "\n",
       "    .dataframe thead th {\n",
       "        text-align: right;\n",
       "    }\n",
       "</style>\n",
       "<table border=\"1\" class=\"dataframe\">\n",
       "  <thead>\n",
       "    <tr style=\"text-align: right;\">\n",
       "      <th></th>\n",
       "      <th>Component</th>\n",
       "      <th>variance</th>\n",
       "      <th>acumulative_variance</th>\n",
       "    </tr>\n",
       "  </thead>\n",
       "  <tbody>\n",
       "    <tr>\n",
       "      <th>0</th>\n",
       "      <td>1.0</td>\n",
       "      <td>0.080078</td>\n",
       "      <td>0.080078</td>\n",
       "    </tr>\n",
       "    <tr>\n",
       "      <th>1</th>\n",
       "      <td>2.0</td>\n",
       "      <td>0.078765</td>\n",
       "      <td>0.158843</td>\n",
       "    </tr>\n",
       "    <tr>\n",
       "      <th>2</th>\n",
       "      <td>3.0</td>\n",
       "      <td>0.065919</td>\n",
       "      <td>0.224762</td>\n",
       "    </tr>\n",
       "    <tr>\n",
       "      <th>3</th>\n",
       "      <td>4.0</td>\n",
       "      <td>0.046382</td>\n",
       "      <td>0.271144</td>\n",
       "    </tr>\n",
       "    <tr>\n",
       "      <th>4</th>\n",
       "      <td>5.0</td>\n",
       "      <td>0.044717</td>\n",
       "      <td>0.315861</td>\n",
       "    </tr>\n",
       "  </tbody>\n",
       "</table>\n",
       "</div>"
      ],
      "text/plain": [
       "   Component  variance  acumulative_variance\n",
       "0        1.0  0.080078              0.080078\n",
       "1        2.0  0.078765              0.158843\n",
       "2        3.0  0.065919              0.224762\n",
       "3        4.0  0.046382              0.271144\n",
       "4        5.0  0.044717              0.315861"
      ]
     },
     "execution_count": 77,
     "metadata": {},
     "output_type": "execute_result"
    }
   ],
   "source": [
    "variances.head()"
   ]
  },
  {
   "cell_type": "markdown",
   "metadata": {},
   "source": [
    "For clustering it´s not needed a very detailed info so we´ve decided to keep 80% of the information, so we will use 724 variables"
   ]
  },
  {
   "cell_type": "code",
   "execution_count": 78,
   "metadata": {},
   "outputs": [
    {
     "name": "stdout",
     "output_type": "stream",
     "text": [
      "Using 724 variables, we can explain 0.8 of the variability in the original data.\n"
     ]
    }
   ],
   "source": [
    "for i in range(len(variances)):\n",
    "    if variances.acumulative_variance[i] > 0.80:\n",
    "        num = i\n",
    "        var = variances.acumulative_variance[i]\n",
    "        break\n",
    "        \n",
    "print(\"Using\", i, \"variables, we can explain\", round(var,2), \"of the variability in the original data.\")"
   ]
  },
  {
   "cell_type": "code",
   "execution_count": 244,
   "metadata": {},
   "outputs": [],
   "source": [
    "# Re-apply PCA to the data while selecting for number of components to retain.\n",
    "pca = PCA(n_components = 724)\n"
   ]
  },
  {
   "cell_type": "code",
   "execution_count": 245,
   "metadata": {},
   "outputs": [
    {
     "data": {
      "text/html": [
       "<div>\n",
       "<style scoped>\n",
       "    .dataframe tbody tr th:only-of-type {\n",
       "        vertical-align: middle;\n",
       "    }\n",
       "\n",
       "    .dataframe tbody tr th {\n",
       "        vertical-align: top;\n",
       "    }\n",
       "\n",
       "    .dataframe thead th {\n",
       "        text-align: right;\n",
       "    }\n",
       "</style>\n",
       "<table border=\"1\" class=\"dataframe\">\n",
       "  <thead>\n",
       "    <tr style=\"text-align: right;\">\n",
       "      <th></th>\n",
       "      <th>0</th>\n",
       "      <th>1</th>\n",
       "      <th>2</th>\n",
       "      <th>3</th>\n",
       "      <th>4</th>\n",
       "      <th>5</th>\n",
       "      <th>6</th>\n",
       "      <th>7</th>\n",
       "      <th>8</th>\n",
       "      <th>9</th>\n",
       "      <th>...</th>\n",
       "      <th>714</th>\n",
       "      <th>715</th>\n",
       "      <th>716</th>\n",
       "      <th>717</th>\n",
       "      <th>718</th>\n",
       "      <th>719</th>\n",
       "      <th>720</th>\n",
       "      <th>721</th>\n",
       "      <th>722</th>\n",
       "      <th>723</th>\n",
       "    </tr>\n",
       "  </thead>\n",
       "  <tbody>\n",
       "    <tr>\n",
       "      <th>0</th>\n",
       "      <td>-0.027862</td>\n",
       "      <td>-0.421529</td>\n",
       "      <td>0.193176</td>\n",
       "      <td>0.566599</td>\n",
       "      <td>0.019732</td>\n",
       "      <td>-0.659068</td>\n",
       "      <td>-0.514126</td>\n",
       "      <td>-0.165844</td>\n",
       "      <td>-0.050951</td>\n",
       "      <td>-0.453025</td>\n",
       "      <td>...</td>\n",
       "      <td>0.007870</td>\n",
       "      <td>-0.014651</td>\n",
       "      <td>0.011318</td>\n",
       "      <td>-0.005863</td>\n",
       "      <td>0.006596</td>\n",
       "      <td>0.008784</td>\n",
       "      <td>-0.008226</td>\n",
       "      <td>-0.026114</td>\n",
       "      <td>-0.001098</td>\n",
       "      <td>-0.010793</td>\n",
       "    </tr>\n",
       "    <tr>\n",
       "      <th>1</th>\n",
       "      <td>-0.172138</td>\n",
       "      <td>-0.648476</td>\n",
       "      <td>0.255416</td>\n",
       "      <td>0.556027</td>\n",
       "      <td>-0.042785</td>\n",
       "      <td>0.540410</td>\n",
       "      <td>-0.132202</td>\n",
       "      <td>-0.533486</td>\n",
       "      <td>-0.249872</td>\n",
       "      <td>-0.097743</td>\n",
       "      <td>...</td>\n",
       "      <td>0.010598</td>\n",
       "      <td>-0.020022</td>\n",
       "      <td>0.016426</td>\n",
       "      <td>-0.007400</td>\n",
       "      <td>0.010868</td>\n",
       "      <td>0.012866</td>\n",
       "      <td>-0.011054</td>\n",
       "      <td>-0.037153</td>\n",
       "      <td>-0.004002</td>\n",
       "      <td>-0.015466</td>\n",
       "    </tr>\n",
       "    <tr>\n",
       "      <th>2</th>\n",
       "      <td>-0.172871</td>\n",
       "      <td>-0.649571</td>\n",
       "      <td>0.255128</td>\n",
       "      <td>0.556245</td>\n",
       "      <td>-0.044151</td>\n",
       "      <td>0.539981</td>\n",
       "      <td>-0.131527</td>\n",
       "      <td>-0.532884</td>\n",
       "      <td>-0.249288</td>\n",
       "      <td>-0.097743</td>\n",
       "      <td>...</td>\n",
       "      <td>0.010937</td>\n",
       "      <td>-0.019937</td>\n",
       "      <td>0.016175</td>\n",
       "      <td>-0.007223</td>\n",
       "      <td>0.011008</td>\n",
       "      <td>0.012975</td>\n",
       "      <td>-0.010946</td>\n",
       "      <td>-0.036902</td>\n",
       "      <td>-0.004232</td>\n",
       "      <td>-0.015263</td>\n",
       "    </tr>\n",
       "    <tr>\n",
       "      <th>3</th>\n",
       "      <td>-0.237497</td>\n",
       "      <td>-0.647531</td>\n",
       "      <td>0.359403</td>\n",
       "      <td>0.486935</td>\n",
       "      <td>0.109984</td>\n",
       "      <td>0.670587</td>\n",
       "      <td>-0.135438</td>\n",
       "      <td>-0.561772</td>\n",
       "      <td>-0.366275</td>\n",
       "      <td>-0.069940</td>\n",
       "      <td>...</td>\n",
       "      <td>0.011153</td>\n",
       "      <td>-0.020236</td>\n",
       "      <td>0.015537</td>\n",
       "      <td>-0.006474</td>\n",
       "      <td>0.011003</td>\n",
       "      <td>0.012916</td>\n",
       "      <td>-0.011564</td>\n",
       "      <td>-0.036221</td>\n",
       "      <td>-0.005816</td>\n",
       "      <td>-0.014848</td>\n",
       "    </tr>\n",
       "    <tr>\n",
       "      <th>4</th>\n",
       "      <td>-0.129304</td>\n",
       "      <td>-0.405174</td>\n",
       "      <td>0.295598</td>\n",
       "      <td>0.243887</td>\n",
       "      <td>0.707957</td>\n",
       "      <td>-0.266129</td>\n",
       "      <td>-0.479822</td>\n",
       "      <td>-0.123669</td>\n",
       "      <td>-0.114133</td>\n",
       "      <td>0.510189</td>\n",
       "      <td>...</td>\n",
       "      <td>0.008181</td>\n",
       "      <td>-0.013827</td>\n",
       "      <td>0.011490</td>\n",
       "      <td>-0.005888</td>\n",
       "      <td>0.007007</td>\n",
       "      <td>0.009739</td>\n",
       "      <td>-0.007190</td>\n",
       "      <td>-0.025576</td>\n",
       "      <td>-0.001775</td>\n",
       "      <td>-0.009978</td>\n",
       "    </tr>\n",
       "  </tbody>\n",
       "</table>\n",
       "<p>5 rows × 724 columns</p>\n",
       "</div>"
      ],
      "text/plain": [
       "        0         1         2         3         4         5         6    \\\n",
       "0 -0.027862 -0.421529  0.193176  0.566599  0.019732 -0.659068 -0.514126   \n",
       "1 -0.172138 -0.648476  0.255416  0.556027 -0.042785  0.540410 -0.132202   \n",
       "2 -0.172871 -0.649571  0.255128  0.556245 -0.044151  0.539981 -0.131527   \n",
       "3 -0.237497 -0.647531  0.359403  0.486935  0.109984  0.670587 -0.135438   \n",
       "4 -0.129304 -0.405174  0.295598  0.243887  0.707957 -0.266129 -0.479822   \n",
       "\n",
       "        7         8         9    ...       714       715       716       717  \\\n",
       "0 -0.165844 -0.050951 -0.453025  ...  0.007870 -0.014651  0.011318 -0.005863   \n",
       "1 -0.533486 -0.249872 -0.097743  ...  0.010598 -0.020022  0.016426 -0.007400   \n",
       "2 -0.532884 -0.249288 -0.097743  ...  0.010937 -0.019937  0.016175 -0.007223   \n",
       "3 -0.561772 -0.366275 -0.069940  ...  0.011153 -0.020236  0.015537 -0.006474   \n",
       "4 -0.123669 -0.114133  0.510189  ...  0.008181 -0.013827  0.011490 -0.005888   \n",
       "\n",
       "        718       719       720       721       722       723  \n",
       "0  0.006596  0.008784 -0.008226 -0.026114 -0.001098 -0.010793  \n",
       "1  0.010868  0.012866 -0.011054 -0.037153 -0.004002 -0.015466  \n",
       "2  0.011008  0.012975 -0.010946 -0.036902 -0.004232 -0.015263  \n",
       "3  0.011003  0.012916 -0.011564 -0.036221 -0.005816 -0.014848  \n",
       "4  0.007007  0.009739 -0.007190 -0.025576 -0.001775 -0.009978  \n",
       "\n",
       "[5 rows x 724 columns]"
      ]
     },
     "execution_count": 245,
     "metadata": {},
     "output_type": "execute_result"
    }
   ],
   "source": [
    "movies_pca = pca.fit_transform(movies2)\n",
    "movies_pca_end = pd.DataFrame(movies_pca)\n",
    "movies_pca_end.head()"
   ]
  },
  {
   "cell_type": "markdown",
   "metadata": {},
   "source": [
    "#### Interpreting Principal Components\n",
    "\n",
    "Now that we have our transformed principal components, we are going to check out the weight of each variable on the first few components to see if they can be interpreted in some fashion."
   ]
  },
  {
   "cell_type": "code",
   "execution_count": 81,
   "metadata": {},
   "outputs": [],
   "source": [
    "def pc_indexes(df, pca, n):\n",
    "    \"\"\"\n",
    "    Gives the 10 most important variables with its weights in the component n after applying pca to de dataframe df\n",
    "    \n",
    "    INPUT: df (dataframe), pca (transformation applied), n(principal component to analyze)\n",
    "    OUTPUT: list of the top 10 variables and their weights\n",
    "    \"\"\"\n",
    "\n",
    "    # Dimension indexing\n",
    "    dimensions = dimensions = ['Dimension {}'.format(i) for i in range(1,len(pca.components_)+1)]\n",
    "    # PCA components\n",
    "    components = pd.DataFrame(np.round(pca.components_, 4), columns = df.keys())\n",
    "    components.index = dimensions\n",
    "    df_comp = components.iloc[n-1].to_frame()\n",
    "    df_comp[\"Abs_value\"] = df_comp.abs()\n",
    "    df_comp = df_comp.sort_values(by='Abs_value', ascending = False)\n",
    "    df_comp = df_comp[df_comp.columns[0]].head(10)\n",
    "    return df_comp\n"
   ]
  },
  {
   "cell_type": "code",
   "execution_count": 82,
   "metadata": {},
   "outputs": [
    {
     "data": {
      "text/plain": [
       "dec__2010        -0.6011\n",
       "genre_Comedy      0.5590\n",
       "dec__2000         0.3353\n",
       "genre_Drama      -0.3044\n",
       "genre_Thriller   -0.1902\n",
       "genre_Romance     0.1513\n",
       "Year             -0.1185\n",
       "dec__1990         0.0969\n",
       "genre_Action     -0.0868\n",
       "genre_Crime      -0.0778\n",
       "Name: Dimension 1, dtype: float64"
      ]
     },
     "execution_count": 82,
     "metadata": {},
     "output_type": "execute_result"
    }
   ],
   "source": [
    "# Get weights for the first principal component\n",
    "pc_indexes(movies2, pca, 1)"
   ]
  },
  {
   "cell_type": "code",
   "execution_count": 83,
   "metadata": {},
   "outputs": [
    {
     "data": {
      "text/plain": [
       "genre_Drama       -0.7441\n",
       "dec__2010          0.3789\n",
       "genre_Comedy       0.2814\n",
       "dec__2000         -0.2508\n",
       "genre_Action       0.1974\n",
       "genre_Romance     -0.1913\n",
       "genre_Horror       0.1618\n",
       "genre_Adventure    0.1449\n",
       "genre_Thriller     0.0903\n",
       "Year               0.0839\n",
       "Name: Dimension 2, dtype: float64"
      ]
     },
     "execution_count": 83,
     "metadata": {},
     "output_type": "execute_result"
    }
   ],
   "source": [
    "pc_indexes(movies2, pca, 2)"
   ]
  },
  {
   "cell_type": "code",
   "execution_count": 84,
   "metadata": {},
   "outputs": [
    {
     "data": {
      "text/plain": [
       "genre_Comedy      -0.5154\n",
       "dec__2010         -0.4208\n",
       "genre_Romance     -0.3144\n",
       "dec__2000          0.3069\n",
       "genre_Action       0.2957\n",
       "genre_Thriller     0.2943\n",
       "genre_Drama       -0.2577\n",
       "genre_Horror       0.2135\n",
       "genre_Crime        0.1938\n",
       "genre_Adventure    0.1093\n",
       "Name: Dimension 3, dtype: float64"
      ]
     },
     "execution_count": 84,
     "metadata": {},
     "output_type": "execute_result"
    }
   ],
   "source": [
    "pc_indexes(movies2, pca, 3)"
   ]
  },
  {
   "cell_type": "code",
   "execution_count": 85,
   "metadata": {},
   "outputs": [
    {
     "data": {
      "text/plain": [
       "dec__2000         -0.6859\n",
       "dec__1990          0.3893\n",
       "dec__2010         -0.2851\n",
       "Year              -0.2635\n",
       "genre_Action       0.2118\n",
       "dec__1980          0.1816\n",
       "genre_Adventure    0.1600\n",
       "genre_Crime        0.1595\n",
       "genre_Horror      -0.1583\n",
       "genre_Thriller    -0.1449\n",
       "Name: Dimension 4, dtype: float64"
      ]
     },
     "execution_count": 85,
     "metadata": {},
     "output_type": "execute_result"
    }
   ],
   "source": [
    "pc_indexes(movies2, pca, 4)"
   ]
  },
  {
   "cell_type": "markdown",
   "metadata": {},
   "source": [
    "We can see that the first 4 principal components are based on the genre and when it was filmed (different decades or year)"
   ]
  },
  {
   "cell_type": "markdown",
   "metadata": {},
   "source": [
    "**consolidation of dataframes**"
   ]
  },
  {
   "cell_type": "code",
   "execution_count": 246,
   "metadata": {},
   "outputs": [],
   "source": [
    "movies_pca_end.to_csv('IMDB_movies_clasif_pca_end.csv', index = False)"
   ]
  },
  {
   "cell_type": "markdown",
   "metadata": {},
   "source": [
    "### <a class=\"anchor\" id=\"Clust_general\"> 3.b.- Clustering database with kmeans\n",
    "\n",
    "In this section we apply k-means clustering to the dataframe. K-means needs as input the number of clusters to cluster the database, so getting that number will be the first task\n",
    "\n",
    "    \n",
    "**How many clusters? The elbow method**    \n",
    "\n",
    "The elbow method is an easy and fast method to get a aproximate number of optimal clusters.\n",
    "    \n",
    "For each number of clusters we get the average distance from each point of the cluster to its centroid and plot it. Where there´s an \"elbow\" on the plot it´s the optimal number. The elbow is where the plot changes to an almost horizontal line"
   ]
  },
  {
   "cell_type": "code",
   "execution_count": 16,
   "metadata": {},
   "outputs": [
    {
     "name": "stdout",
     "output_type": "stream",
     "text": [
      "Execution time: 0.35 minutes\n",
      "The score for 5 components is 74676.71101493668\n",
      "Execution time: 0.68 minutes\n",
      "The score for 25 components is 55635.09317490778\n",
      "Execution time: 0.86 minutes\n",
      "The score for 45 components is 47950.7666871577\n",
      "Execution time: 1.0 minutes\n",
      "The score for 65 components is 44447.772649420396\n",
      "Execution time: 1.13 minutes\n",
      "The score for 75 components is 42783.81892583537\n",
      "Execution time: 1.14 minutes\n",
      "The score for 80 components is 42200.31721205062\n",
      "Execution time: 1.22 minutes\n",
      "The score for 84 components is 41601.37822665944\n",
      "Execution time: 1.23 minutes\n",
      "The score for 88 components is 41178.445129814216\n",
      "Execution time: 1.24 minutes\n",
      "The score for 92 components is 40856.122714978505\n",
      "Execution time: 1.27 minutes\n",
      "The score for 94 components is 40244.82227578705\n"
     ]
    },
    {
     "data": {
      "image/png": "[encoded data removed]",
      "text/plain": [
       "<Figure size 432x288 with 1 Axes>"
      ]
     },
     "metadata": {
      "needs_background": "light"
     },
     "output_type": "display_data"
    }
   ],
   "source": [
    "scores = []\n",
    "centers =  [5,25, 45, 65, 75, 80, 84, 88, 92, 94]\n",
    "\n",
    "for center in centers:\n",
    "    scores.append(get_score(movies_pca_end, center))\n",
    "    \n",
    "plt.plot(centers, scores, linestyle='--', marker='o', color='b');\n",
    "plt.xlabel('K');\n",
    "plt.ylabel('Score');\n",
    "plt.title('Score vs. K');"
   ]
  },
  {
   "cell_type": "markdown",
   "metadata": {},
   "source": [
    "It´s really difficult to see where the elbow is located in this plot because the score keeps descending. With the next method we will get the correct number"
   ]
  },
  {
   "cell_type": "markdown",
   "metadata": {},
   "source": [
    "**How many clusters? The silhouette score**\n",
    "\n",
    "The silhouette value is a measure of how similar an object is to its own cluster (cohesion) compared to other clusters (separation). The silhouette ranges from −1 to +1, where a high value indicates that the object is well matched to its own cluster and poorly matched to neighboring clusters. We get the silhouette score of a model averaging the score for each point.\n",
    "\n",
    "We compare the score for different numbers of clusters, and the maximum score will point the optimal number of clusters"
   ]
  },
  {
   "cell_type": "code",
   "execution_count": 14,
   "metadata": {},
   "outputs": [],
   "source": [
    "def get_sil_score(data, clusters):\n",
    "    start_time = time.time()\n",
    "\n",
    "    kmeans = KMeans(n_clusters= clusters)\n",
    "\n",
    "    model = kmeans.fit_predict(data)\n",
    "\n",
    "    score = silhouette_score(movies_pca_end, model)\n",
    "\n",
    "    exec_time = round((time.time() - start_time)/60,2)\n",
    "    print(\"Execution time:\",exec_time,\"minutes\")\n",
    "    print(\"The silhouette score for\",clusters,\"components is\", score)\n",
    "    return score"
   ]
  },
  {
   "cell_type": "code",
   "execution_count": 13,
   "metadata": {},
   "outputs": [
    {
     "name": "stdout",
     "output_type": "stream",
     "text": [
      "Execution time: 0.58 minutes\n",
      "The silhouette score for 5 components is 0.11221454753428117\n",
      "Execution time: 0.92 minutes\n",
      "The silhouette score for 25 components is 0.10735301816704844\n",
      "Execution time: 1.18 minutes\n",
      "The silhouette score for 45 components is 0.13394250627958132\n",
      "Execution time: 1.27 minutes\n",
      "The silhouette score for 65 components is 0.14824705447792325\n",
      "Execution time: 1.47 minutes\n",
      "The silhouette score for 75 components is 0.15365814979676296\n",
      "Execution time: 1.49 minutes\n",
      "The silhouette score for 80 components is 0.16176677767214853\n",
      "Execution time: 1.53 minutes\n",
      "The silhouette score for 84 components is 0.16006049957255056\n",
      "Execution time: 1.53 minutes\n",
      "The silhouette score for 88 components is 0.15990938047661665\n",
      "Execution time: 1.58 minutes\n",
      "The silhouette score for 92 components is 0.15853870876351087\n",
      "Execution time: 1.52 minutes\n",
      "The silhouette score for 94 components is 0.15779382236240785\n"
     ]
    },
    {
     "data": {
      "image/png": "[encoded data removed]",
      "text/plain": [
       "<Figure size 432x288 with 1 Axes>"
      ]
     },
     "metadata": {
      "needs_background": "light"
     },
     "output_type": "display_data"
    }
   ],
   "source": [
    "scores = []\n",
    "centers = [5,25, 45, 65, 75, 80, 84, 88, 92, 94]\n",
    "\n",
    "for center in centers:\n",
    "    scores.append(get_sil_score(movies_pca_end, center))\n",
    "    \n",
    "plt.plot(centers, scores, linestyle='--', marker='o', color='b');\n",
    "plt.xlabel('K');\n",
    "plt.ylabel('Silhouette Score');\n",
    "plt.title('Silhouetee Score vs. K');"
   ]
  },
  {
   "cell_type": "markdown",
   "metadata": {},
   "source": [
    "We´ll take 80 clusters as the optimal number"
   ]
  },
  {
   "cell_type": "markdown",
   "metadata": {},
   "source": [
    "**Fitting the model**\n",
    "\n",
    "We fit the k-means model to 80 clusters"
   ]
  },
  {
   "cell_type": "code",
   "execution_count": 15,
   "metadata": {},
   "outputs": [],
   "source": [
    "kmeans = KMeans(n_clusters= 80)\n",
    "model = kmeans.fit(movies_pca_end)"
   ]
  },
  {
   "cell_type": "markdown",
   "metadata": {},
   "source": [
    "Let´s analyze the labels predicted"
   ]
  },
  {
   "cell_type": "code",
   "execution_count": 30,
   "metadata": {},
   "outputs": [],
   "source": [
    "labels = model.predict(movies_pca_end)\n",
    "labels_movies = pd.DataFrame(labels)\n",
    "labels_movies.columns = ['kmeans_cluster']"
   ]
  },
  {
   "cell_type": "code",
   "execution_count": 31,
   "metadata": {},
   "outputs": [
    {
     "data": {
      "text/plain": [
       "(30321, 1)"
      ]
     },
     "execution_count": 31,
     "metadata": {},
     "output_type": "execute_result"
    }
   ],
   "source": [
    "labels_movies.shape"
   ]
  },
  {
   "cell_type": "markdown",
   "metadata": {},
   "source": [
    "Here you have the number of movies in each of the clusters"
   ]
  },
  {
   "cell_type": "code",
   "execution_count": 33,
   "metadata": {},
   "outputs": [
    {
     "data": {
      "text/plain": [
       "16    0.060717\n",
       "12    0.042182\n",
       "17    0.042050\n",
       "23    0.033805\n",
       "32    0.030870\n",
       "        ...   \n",
       "76    0.003100\n",
       "40    0.002935\n",
       "34    0.002836\n",
       "46    0.002803\n",
       "78    0.002342\n",
       "Name: kmeans_cluster, Length: 80, dtype: float64"
      ]
     },
     "execution_count": 33,
     "metadata": {},
     "output_type": "execute_result"
    }
   ],
   "source": [
    "labels_movies.kmeans_cluster.value_counts()/len(labels_movies)"
   ]
  },
  {
   "cell_type": "markdown",
   "metadata": {},
   "source": [
    "**Predicting clusters**\n",
    "\n",
    "We get the cluster where each movie belongs to"
   ]
  },
  {
   "cell_type": "code",
   "execution_count": 35,
   "metadata": {},
   "outputs": [],
   "source": [
    "movies_resume = pd.read_csv('IMDB_movies_clasif_resume.csv')"
   ]
  },
  {
   "cell_type": "code",
   "execution_count": 36,
   "metadata": {},
   "outputs": [
    {
     "data": {
      "text/html": [
       "<div>\n",
       "<style scoped>\n",
       "    .dataframe tbody tr th:only-of-type {\n",
       "        vertical-align: middle;\n",
       "    }\n",
       "\n",
       "    .dataframe tbody tr th {\n",
       "        vertical-align: top;\n",
       "    }\n",
       "\n",
       "    .dataframe thead th {\n",
       "        text-align: right;\n",
       "    }\n",
       "</style>\n",
       "<table border=\"1\" class=\"dataframe\">\n",
       "  <thead>\n",
       "    <tr style=\"text-align: right;\">\n",
       "      <th></th>\n",
       "      <th>originalTitle</th>\n",
       "      <th>Year</th>\n",
       "      <th>Minutes</th>\n",
       "      <th>Genres</th>\n",
       "      <th>averageRating</th>\n",
       "      <th>numVotes</th>\n",
       "      <th>decade</th>\n",
       "      <th>tconst</th>\n",
       "      <th>actor</th>\n",
       "      <th>actress</th>\n",
       "      <th>director</th>\n",
       "      <th>writer</th>\n",
       "    </tr>\n",
       "  </thead>\n",
       "  <tbody>\n",
       "    <tr>\n",
       "      <th>0</th>\n",
       "      <td>L'Inferno</td>\n",
       "      <td>1911</td>\n",
       "      <td>68</td>\n",
       "      <td>Adventure,Drama,Fantasy</td>\n",
       "      <td>7.0</td>\n",
       "      <td>2167</td>\n",
       "      <td>1910</td>\n",
       "      <td>tt0002130</td>\n",
       "      <td>Salvatore Papa</td>\n",
       "      <td>Not available</td>\n",
       "      <td>Francesco Bertolini</td>\n",
       "      <td>Dante Alighieri</td>\n",
       "    </tr>\n",
       "    <tr>\n",
       "      <th>1</th>\n",
       "      <td>Fantômas - À l'ombre de la guillotine</td>\n",
       "      <td>1913</td>\n",
       "      <td>54</td>\n",
       "      <td>Crime,Drama</td>\n",
       "      <td>7.0</td>\n",
       "      <td>1915</td>\n",
       "      <td>1910</td>\n",
       "      <td>tt0002844</td>\n",
       "      <td>René Navarre</td>\n",
       "      <td>Renée Carl</td>\n",
       "      <td>Louis Feuillade</td>\n",
       "      <td>Marcel Allain</td>\n",
       "    </tr>\n",
       "    <tr>\n",
       "      <th>2</th>\n",
       "      <td>Juve contre Fantômas</td>\n",
       "      <td>1913</td>\n",
       "      <td>61</td>\n",
       "      <td>Crime,Drama</td>\n",
       "      <td>7.0</td>\n",
       "      <td>1334</td>\n",
       "      <td>1910</td>\n",
       "      <td>tt0003037</td>\n",
       "      <td>René Navarre</td>\n",
       "      <td>Renée Carl</td>\n",
       "      <td>Louis Feuillade</td>\n",
       "      <td>Marcel Allain</td>\n",
       "    </tr>\n",
       "    <tr>\n",
       "      <th>3</th>\n",
       "      <td>Le mort qui tue</td>\n",
       "      <td>1913</td>\n",
       "      <td>90</td>\n",
       "      <td>Crime,Drama,Mystery</td>\n",
       "      <td>7.0</td>\n",
       "      <td>1033</td>\n",
       "      <td>1910</td>\n",
       "      <td>tt0003165</td>\n",
       "      <td>René Navarre</td>\n",
       "      <td>Not available</td>\n",
       "      <td>Louis Feuillade</td>\n",
       "      <td>Marcel Allain</td>\n",
       "    </tr>\n",
       "    <tr>\n",
       "      <th>4</th>\n",
       "      <td>Der Student von Prag</td>\n",
       "      <td>1913</td>\n",
       "      <td>85</td>\n",
       "      <td>Drama,Fantasy,Horror</td>\n",
       "      <td>6.5</td>\n",
       "      <td>1735</td>\n",
       "      <td>1910</td>\n",
       "      <td>tt0003419</td>\n",
       "      <td>Paul Wegener</td>\n",
       "      <td>Grete Berger</td>\n",
       "      <td>Stellan Rye</td>\n",
       "      <td>Hanns Heinz Ewers</td>\n",
       "    </tr>\n",
       "  </tbody>\n",
       "</table>\n",
       "</div>"
      ],
      "text/plain": [
       "                           originalTitle  Year  Minutes  \\\n",
       "0                              L'Inferno  1911       68   \n",
       "1  Fantômas - À l'ombre de la guillotine  1913       54   \n",
       "2                   Juve contre Fantômas  1913       61   \n",
       "3                        Le mort qui tue  1913       90   \n",
       "4                   Der Student von Prag  1913       85   \n",
       "\n",
       "                    Genres  averageRating  numVotes  decade     tconst  \\\n",
       "0  Adventure,Drama,Fantasy            7.0      2167    1910  tt0002130   \n",
       "1              Crime,Drama            7.0      1915    1910  tt0002844   \n",
       "2              Crime,Drama            7.0      1334    1910  tt0003037   \n",
       "3      Crime,Drama,Mystery            7.0      1033    1910  tt0003165   \n",
       "4     Drama,Fantasy,Horror            6.5      1735    1910  tt0003419   \n",
       "\n",
       "            actor        actress             director             writer  \n",
       "0  Salvatore Papa  Not available  Francesco Bertolini    Dante Alighieri  \n",
       "1    René Navarre     Renée Carl      Louis Feuillade      Marcel Allain  \n",
       "2    René Navarre     Renée Carl      Louis Feuillade      Marcel Allain  \n",
       "3    René Navarre  Not available      Louis Feuillade      Marcel Allain  \n",
       "4    Paul Wegener   Grete Berger          Stellan Rye  Hanns Heinz Ewers  "
      ]
     },
     "execution_count": 36,
     "metadata": {},
     "output_type": "execute_result"
    }
   ],
   "source": [
    "movies_resume.head()"
   ]
  },
  {
   "cell_type": "code",
   "execution_count": 37,
   "metadata": {},
   "outputs": [
    {
     "data": {
      "text/html": [
       "<div>\n",
       "<style scoped>\n",
       "    .dataframe tbody tr th:only-of-type {\n",
       "        vertical-align: middle;\n",
       "    }\n",
       "\n",
       "    .dataframe tbody tr th {\n",
       "        vertical-align: top;\n",
       "    }\n",
       "\n",
       "    .dataframe thead th {\n",
       "        text-align: right;\n",
       "    }\n",
       "</style>\n",
       "<table border=\"1\" class=\"dataframe\">\n",
       "  <thead>\n",
       "    <tr style=\"text-align: right;\">\n",
       "      <th></th>\n",
       "      <th>kmeans_cluster</th>\n",
       "    </tr>\n",
       "  </thead>\n",
       "  <tbody>\n",
       "    <tr>\n",
       "      <th>0</th>\n",
       "      <td>57</td>\n",
       "    </tr>\n",
       "    <tr>\n",
       "      <th>1</th>\n",
       "      <td>59</td>\n",
       "    </tr>\n",
       "    <tr>\n",
       "      <th>2</th>\n",
       "      <td>59</td>\n",
       "    </tr>\n",
       "    <tr>\n",
       "      <th>3</th>\n",
       "      <td>8</td>\n",
       "    </tr>\n",
       "    <tr>\n",
       "      <th>4</th>\n",
       "      <td>10</td>\n",
       "    </tr>\n",
       "  </tbody>\n",
       "</table>\n",
       "</div>"
      ],
      "text/plain": [
       "   kmeans_cluster\n",
       "0              57\n",
       "1              59\n",
       "2              59\n",
       "3               8\n",
       "4              10"
      ]
     },
     "execution_count": 37,
     "metadata": {},
     "output_type": "execute_result"
    }
   ],
   "source": [
    "labels_movies.head()"
   ]
  },
  {
   "cell_type": "code",
   "execution_count": 38,
   "metadata": {},
   "outputs": [
    {
     "data": {
      "text/plain": [
       "((30321, 12), (30321, 1))"
      ]
     },
     "execution_count": 38,
     "metadata": {},
     "output_type": "execute_result"
    }
   ],
   "source": [
    "movies_resume.shape, labels_movies.shape"
   ]
  },
  {
   "cell_type": "code",
   "execution_count": 39,
   "metadata": {},
   "outputs": [],
   "source": [
    "movies_cluster = pd.merge(movies_resume, labels_movies, left_index=True, right_index=True)"
   ]
  },
  {
   "cell_type": "code",
   "execution_count": 40,
   "metadata": {},
   "outputs": [],
   "source": [
    "# let´s drop some columns\n",
    "movies_cluster = movies_cluster.drop(['tconst'], axis=1)\n",
    "movies_cluster = movies_cluster.drop(['decade'], axis=1)"
   ]
  },
  {
   "cell_type": "code",
   "execution_count": 43,
   "metadata": {},
   "outputs": [],
   "source": [
    "# Let´s change the order of columns\n",
    "movies_cluster = movies_cluster[['originalTitle','Genres','Year','Minutes','director','actor','actress','writer','numVotes','averageRating', 'kmeans_cluster']]"
   ]
  },
  {
   "cell_type": "code",
   "execution_count": 44,
   "metadata": {},
   "outputs": [
    {
     "data": {
      "text/html": [
       "<div>\n",
       "<style scoped>\n",
       "    .dataframe tbody tr th:only-of-type {\n",
       "        vertical-align: middle;\n",
       "    }\n",
       "\n",
       "    .dataframe tbody tr th {\n",
       "        vertical-align: top;\n",
       "    }\n",
       "\n",
       "    .dataframe thead th {\n",
       "        text-align: right;\n",
       "    }\n",
       "</style>\n",
       "<table border=\"1\" class=\"dataframe\">\n",
       "  <thead>\n",
       "    <tr style=\"text-align: right;\">\n",
       "      <th></th>\n",
       "      <th>originalTitle</th>\n",
       "      <th>Genres</th>\n",
       "      <th>Year</th>\n",
       "      <th>Minutes</th>\n",
       "      <th>director</th>\n",
       "      <th>actor</th>\n",
       "      <th>actress</th>\n",
       "      <th>writer</th>\n",
       "      <th>numVotes</th>\n",
       "      <th>averageRating</th>\n",
       "      <th>kmeans_cluster</th>\n",
       "    </tr>\n",
       "  </thead>\n",
       "  <tbody>\n",
       "    <tr>\n",
       "      <th>0</th>\n",
       "      <td>L'Inferno</td>\n",
       "      <td>Adventure,Drama,Fantasy</td>\n",
       "      <td>1911</td>\n",
       "      <td>68</td>\n",
       "      <td>Francesco Bertolini</td>\n",
       "      <td>Salvatore Papa</td>\n",
       "      <td>Not available</td>\n",
       "      <td>Dante Alighieri</td>\n",
       "      <td>2167</td>\n",
       "      <td>7.0</td>\n",
       "      <td>57</td>\n",
       "    </tr>\n",
       "    <tr>\n",
       "      <th>1</th>\n",
       "      <td>Fantômas - À l'ombre de la guillotine</td>\n",
       "      <td>Crime,Drama</td>\n",
       "      <td>1913</td>\n",
       "      <td>54</td>\n",
       "      <td>Louis Feuillade</td>\n",
       "      <td>René Navarre</td>\n",
       "      <td>Renée Carl</td>\n",
       "      <td>Marcel Allain</td>\n",
       "      <td>1915</td>\n",
       "      <td>7.0</td>\n",
       "      <td>59</td>\n",
       "    </tr>\n",
       "    <tr>\n",
       "      <th>2</th>\n",
       "      <td>Juve contre Fantômas</td>\n",
       "      <td>Crime,Drama</td>\n",
       "      <td>1913</td>\n",
       "      <td>61</td>\n",
       "      <td>Louis Feuillade</td>\n",
       "      <td>René Navarre</td>\n",
       "      <td>Renée Carl</td>\n",
       "      <td>Marcel Allain</td>\n",
       "      <td>1334</td>\n",
       "      <td>7.0</td>\n",
       "      <td>59</td>\n",
       "    </tr>\n",
       "    <tr>\n",
       "      <th>3</th>\n",
       "      <td>Le mort qui tue</td>\n",
       "      <td>Crime,Drama,Mystery</td>\n",
       "      <td>1913</td>\n",
       "      <td>90</td>\n",
       "      <td>Louis Feuillade</td>\n",
       "      <td>René Navarre</td>\n",
       "      <td>Not available</td>\n",
       "      <td>Marcel Allain</td>\n",
       "      <td>1033</td>\n",
       "      <td>7.0</td>\n",
       "      <td>8</td>\n",
       "    </tr>\n",
       "    <tr>\n",
       "      <th>4</th>\n",
       "      <td>Der Student von Prag</td>\n",
       "      <td>Drama,Fantasy,Horror</td>\n",
       "      <td>1913</td>\n",
       "      <td>85</td>\n",
       "      <td>Stellan Rye</td>\n",
       "      <td>Paul Wegener</td>\n",
       "      <td>Grete Berger</td>\n",
       "      <td>Hanns Heinz Ewers</td>\n",
       "      <td>1735</td>\n",
       "      <td>6.5</td>\n",
       "      <td>10</td>\n",
       "    </tr>\n",
       "  </tbody>\n",
       "</table>\n",
       "</div>"
      ],
      "text/plain": [
       "                           originalTitle                   Genres  Year  \\\n",
       "0                              L'Inferno  Adventure,Drama,Fantasy  1911   \n",
       "1  Fantômas - À l'ombre de la guillotine              Crime,Drama  1913   \n",
       "2                   Juve contre Fantômas              Crime,Drama  1913   \n",
       "3                        Le mort qui tue      Crime,Drama,Mystery  1913   \n",
       "4                   Der Student von Prag     Drama,Fantasy,Horror  1913   \n",
       "\n",
       "   Minutes             director           actor        actress  \\\n",
       "0       68  Francesco Bertolini  Salvatore Papa  Not available   \n",
       "1       54      Louis Feuillade    René Navarre     Renée Carl   \n",
       "2       61      Louis Feuillade    René Navarre     Renée Carl   \n",
       "3       90      Louis Feuillade    René Navarre  Not available   \n",
       "4       85          Stellan Rye    Paul Wegener   Grete Berger   \n",
       "\n",
       "              writer  numVotes  averageRating  kmeans_cluster  \n",
       "0    Dante Alighieri      2167            7.0              57  \n",
       "1      Marcel Allain      1915            7.0              59  \n",
       "2      Marcel Allain      1334            7.0              59  \n",
       "3      Marcel Allain      1033            7.0               8  \n",
       "4  Hanns Heinz Ewers      1735            6.5              10  "
      ]
     },
     "execution_count": 44,
     "metadata": {},
     "output_type": "execute_result"
    }
   ],
   "source": [
    "movies_cluster.head()"
   ]
  },
  {
   "cell_type": "markdown",
   "metadata": {},
   "source": [
    "**Analyzing clusters**\n",
    "\n",
    "In k-means we can´t get a description for each cluster but we can see the movies that are nearest to the centroid, that will be the most characteristic element for each cluster. Next, you can see these movies for each of the 25 groups."
   ]
  },
  {
   "cell_type": "code",
   "execution_count": 34,
   "metadata": {},
   "outputs": [
    {
     "data": {
      "text/plain": [
       "array([ 9750, 14861, 23690, 26116, 25379, 24824, 25698,  6022, 21581,\n",
       "       11529,  4188, 17383, 24839, 15245, 24992, 12101, 25158, 16566,\n",
       "        4628, 17769, 27073, 12592, 15102, 26393, 10489, 24135, 10085,\n",
       "       18013, 21382,  2369,  3633,  9650, 14903, 24225, 23014, 17080,\n",
       "       11992,  3582, 18274, 10145,  7325,  8246,  4958, 21252, 21212,\n",
       "       15931, 12576, 16048, 11879,  7162,   802, 26800, 15997,  7558,\n",
       "       11895, 26818,  7857,  2228,  4782, 12176, 25729,   619, 16855,\n",
       "       26261,   269,  5178,  1681,  8229,  6841, 28863,  8755, 29318,\n",
       "        3416, 11515, 10739,  9839,  2068,  1267, 14468, 24645],\n",
       "      dtype=int64)"
      ]
     },
     "execution_count": 34,
     "metadata": {},
     "output_type": "execute_result"
    }
   ],
   "source": [
    "from sklearn.metrics import pairwise_distances_argmin_min\n",
    "closest, _ = pairwise_distances_argmin_min(kmeans.cluster_centers_, movies_pca_end)\n",
    "closest"
   ]
  },
  {
   "cell_type": "code",
   "execution_count": 45,
   "metadata": {},
   "outputs": [],
   "source": [
    "movies_close_centroid = movies_cluster.iloc[closest]"
   ]
  },
  {
   "cell_type": "code",
   "execution_count": 46,
   "metadata": {},
   "outputs": [
    {
     "data": {
      "text/html": [
       "<div>\n",
       "<style scoped>\n",
       "    .dataframe tbody tr th:only-of-type {\n",
       "        vertical-align: middle;\n",
       "    }\n",
       "\n",
       "    .dataframe tbody tr th {\n",
       "        vertical-align: top;\n",
       "    }\n",
       "\n",
       "    .dataframe thead th {\n",
       "        text-align: right;\n",
       "    }\n",
       "</style>\n",
       "<table border=\"1\" class=\"dataframe\">\n",
       "  <thead>\n",
       "    <tr style=\"text-align: right;\">\n",
       "      <th></th>\n",
       "      <th>originalTitle</th>\n",
       "      <th>Genres</th>\n",
       "      <th>Year</th>\n",
       "      <th>Minutes</th>\n",
       "      <th>director</th>\n",
       "      <th>actor</th>\n",
       "      <th>actress</th>\n",
       "      <th>writer</th>\n",
       "      <th>numVotes</th>\n",
       "      <th>averageRating</th>\n",
       "      <th>kmeans_cluster</th>\n",
       "    </tr>\n",
       "  </thead>\n",
       "  <tbody>\n",
       "    <tr>\n",
       "      <th>9750</th>\n",
       "      <td>S.P.Q.R. 2000 e 1/2 anni fa</td>\n",
       "      <td>Comedy,Fantasy</td>\n",
       "      <td>1994</td>\n",
       "      <td>95</td>\n",
       "      <td>Carlo Vanzina</td>\n",
       "      <td>Christian De Sica</td>\n",
       "      <td>Nadia Rinaldi</td>\n",
       "      <td>Enrico Vanzina</td>\n",
       "      <td>1402</td>\n",
       "      <td>3.5</td>\n",
       "      <td>0</td>\n",
       "    </tr>\n",
       "    <tr>\n",
       "      <th>14861</th>\n",
       "      <td>School for Seduction</td>\n",
       "      <td>Comedy,Drama,Romance</td>\n",
       "      <td>2004</td>\n",
       "      <td>104</td>\n",
       "      <td>Sue Heel</td>\n",
       "      <td>Jake Canuso</td>\n",
       "      <td>Sabina Loddo</td>\n",
       "      <td>Martin Herron</td>\n",
       "      <td>1073</td>\n",
       "      <td>5.1</td>\n",
       "      <td>1</td>\n",
       "    </tr>\n",
       "    <tr>\n",
       "      <th>23690</th>\n",
       "      <td>Cuatro lunas</td>\n",
       "      <td>Drama,Romance</td>\n",
       "      <td>2014</td>\n",
       "      <td>110</td>\n",
       "      <td>Sergio Tovar Velarde</td>\n",
       "      <td>Antonio Velázquez</td>\n",
       "      <td>Not available</td>\n",
       "      <td>Anibal Astorga</td>\n",
       "      <td>3708</td>\n",
       "      <td>7.5</td>\n",
       "      <td>2</td>\n",
       "    </tr>\n",
       "    <tr>\n",
       "      <th>26116</th>\n",
       "      <td>Kkeut-kka-ji-gan-da</td>\n",
       "      <td>Action,Crime,Thriller</td>\n",
       "      <td>2014</td>\n",
       "      <td>111</td>\n",
       "      <td>Seong-hun Kim</td>\n",
       "      <td>Sun-kyun Lee</td>\n",
       "      <td>Not available</td>\n",
       "      <td>Hae-jun Lee</td>\n",
       "      <td>9974</td>\n",
       "      <td>7.2</td>\n",
       "      <td>3</td>\n",
       "    </tr>\n",
       "    <tr>\n",
       "      <th>25379</th>\n",
       "      <td>Silsile</td>\n",
       "      <td>Crime,Drama,Thriller</td>\n",
       "      <td>2014</td>\n",
       "      <td>106</td>\n",
       "      <td>Ozan Açiktan</td>\n",
       "      <td>Tardu Flordun</td>\n",
       "      <td>Nehir Erdogan</td>\n",
       "      <td>Cem Akas</td>\n",
       "      <td>1369</td>\n",
       "      <td>6.6</td>\n",
       "      <td>4</td>\n",
       "    </tr>\n",
       "    <tr>\n",
       "      <th>...</th>\n",
       "      <td>...</td>\n",
       "      <td>...</td>\n",
       "      <td>...</td>\n",
       "      <td>...</td>\n",
       "      <td>...</td>\n",
       "      <td>...</td>\n",
       "      <td>...</td>\n",
       "      <td>...</td>\n",
       "      <td>...</td>\n",
       "      <td>...</td>\n",
       "      <td>...</td>\n",
       "    </tr>\n",
       "    <tr>\n",
       "      <th>9839</th>\n",
       "      <td>Antonia</td>\n",
       "      <td>Comedy,Drama</td>\n",
       "      <td>1995</td>\n",
       "      <td>102</td>\n",
       "      <td>Marleen Gorris</td>\n",
       "      <td>Jan Decleir</td>\n",
       "      <td>Willeke van Ammelrooy</td>\n",
       "      <td>Not available</td>\n",
       "      <td>7960</td>\n",
       "      <td>7.4</td>\n",
       "      <td>75</td>\n",
       "    </tr>\n",
       "    <tr>\n",
       "      <th>2068</th>\n",
       "      <td>Silver Lode</td>\n",
       "      <td>Western</td>\n",
       "      <td>1954</td>\n",
       "      <td>81</td>\n",
       "      <td>Allan Dwan</td>\n",
       "      <td>John Payne</td>\n",
       "      <td>Lizabeth Scott</td>\n",
       "      <td>Karen DeWolf</td>\n",
       "      <td>1558</td>\n",
       "      <td>6.9</td>\n",
       "      <td>76</td>\n",
       "    </tr>\n",
       "    <tr>\n",
       "      <th>1267</th>\n",
       "      <td>Decoy</td>\n",
       "      <td>Crime,Drama,Film-Noir</td>\n",
       "      <td>1946</td>\n",
       "      <td>76</td>\n",
       "      <td>Jack Bernhard</td>\n",
       "      <td>Edward Norris</td>\n",
       "      <td>Jean Gillie</td>\n",
       "      <td>Nedrick Young</td>\n",
       "      <td>1428</td>\n",
       "      <td>6.8</td>\n",
       "      <td>77</td>\n",
       "    </tr>\n",
       "    <tr>\n",
       "      <th>14468</th>\n",
       "      <td>Nightstalker</td>\n",
       "      <td>Crime,Horror</td>\n",
       "      <td>2002</td>\n",
       "      <td>95</td>\n",
       "      <td>Chris Fisher</td>\n",
       "      <td>Bret Roberts</td>\n",
       "      <td>Roxanne Day</td>\n",
       "      <td>Not available</td>\n",
       "      <td>1089</td>\n",
       "      <td>3.3</td>\n",
       "      <td>78</td>\n",
       "    </tr>\n",
       "    <tr>\n",
       "      <th>24645</th>\n",
       "      <td>Villmark 2</td>\n",
       "      <td>Horror</td>\n",
       "      <td>2015</td>\n",
       "      <td>93</td>\n",
       "      <td>Pål Øie</td>\n",
       "      <td>Anders Baasmo Christiansen</td>\n",
       "      <td>Ellen Dorrit Petersen</td>\n",
       "      <td>Kjersti Helen Rasmussen</td>\n",
       "      <td>2296</td>\n",
       "      <td>5.2</td>\n",
       "      <td>79</td>\n",
       "    </tr>\n",
       "  </tbody>\n",
       "</table>\n",
       "<p>80 rows × 11 columns</p>\n",
       "</div>"
      ],
      "text/plain": [
       "                     originalTitle                 Genres  Year  Minutes  \\\n",
       "9750   S.P.Q.R. 2000 e 1/2 anni fa         Comedy,Fantasy  1994       95   \n",
       "14861         School for Seduction   Comedy,Drama,Romance  2004      104   \n",
       "23690                 Cuatro lunas          Drama,Romance  2014      110   \n",
       "26116          Kkeut-kka-ji-gan-da  Action,Crime,Thriller  2014      111   \n",
       "25379                      Silsile   Crime,Drama,Thriller  2014      106   \n",
       "...                            ...                    ...   ...      ...   \n",
       "9839                       Antonia           Comedy,Drama  1995      102   \n",
       "2068                   Silver Lode                Western  1954       81   \n",
       "1267                         Decoy  Crime,Drama,Film-Noir  1946       76   \n",
       "14468                 Nightstalker           Crime,Horror  2002       95   \n",
       "24645                   Villmark 2                 Horror  2015       93   \n",
       "\n",
       "                   director                       actor  \\\n",
       "9750          Carlo Vanzina           Christian De Sica   \n",
       "14861              Sue Heel                 Jake Canuso   \n",
       "23690  Sergio Tovar Velarde           Antonio Velázquez   \n",
       "26116         Seong-hun Kim                Sun-kyun Lee   \n",
       "25379          Ozan Açiktan               Tardu Flordun   \n",
       "...                     ...                         ...   \n",
       "9839         Marleen Gorris                 Jan Decleir   \n",
       "2068             Allan Dwan                  John Payne   \n",
       "1267          Jack Bernhard               Edward Norris   \n",
       "14468          Chris Fisher                Bret Roberts   \n",
       "24645               Pål Øie  Anders Baasmo Christiansen   \n",
       "\n",
       "                     actress                   writer  numVotes  \\\n",
       "9750           Nadia Rinaldi           Enrico Vanzina      1402   \n",
       "14861           Sabina Loddo            Martin Herron      1073   \n",
       "23690          Not available           Anibal Astorga      3708   \n",
       "26116          Not available              Hae-jun Lee      9974   \n",
       "25379          Nehir Erdogan                 Cem Akas      1369   \n",
       "...                      ...                      ...       ...   \n",
       "9839   Willeke van Ammelrooy            Not available      7960   \n",
       "2068          Lizabeth Scott             Karen DeWolf      1558   \n",
       "1267             Jean Gillie            Nedrick Young      1428   \n",
       "14468            Roxanne Day            Not available      1089   \n",
       "24645  Ellen Dorrit Petersen  Kjersti Helen Rasmussen      2296   \n",
       "\n",
       "       averageRating  kmeans_cluster  \n",
       "9750             3.5               0  \n",
       "14861            5.1               1  \n",
       "23690            7.5               2  \n",
       "26116            7.2               3  \n",
       "25379            6.6               4  \n",
       "...              ...             ...  \n",
       "9839             7.4              75  \n",
       "2068             6.9              76  \n",
       "1267             6.8              77  \n",
       "14468            3.3              78  \n",
       "24645            5.2              79  \n",
       "\n",
       "[80 rows x 11 columns]"
      ]
     },
     "execution_count": 46,
     "metadata": {},
     "output_type": "execute_result"
    }
   ],
   "source": [
    "movies_close_centroid"
   ]
  },
  {
   "cell_type": "markdown",
   "metadata": {},
   "source": [
    "**Consolidation of clustered movies**"
   ]
  },
  {
   "cell_type": "code",
   "execution_count": 47,
   "metadata": {},
   "outputs": [],
   "source": [
    "movies_cluster.to_csv('IMDB_movies_clustered.csv', index = False)\n",
    "movies_close_centroid.to_csv('IMDB_movies_kmeans_clustered_closest.csv', index = False)"
   ]
  },
  {
   "cell_type": "code",
   "execution_count": 6,
   "metadata": {},
   "outputs": [],
   "source": [
    "movies_cluster = pd.read_csv('IMDB_movies_clustered.csv')"
   ]
  },
  {
   "cell_type": "code",
   "execution_count": 7,
   "metadata": {},
   "outputs": [],
   "source": [
    "movies_close_centroid = pd.read_csv('IMDB_movies_kmeans_clustered_closest.csv')"
   ]
  },
  {
   "cell_type": "markdown",
   "metadata": {},
   "source": [
    "**Create the most viewed and the top rated movies dataframes**\n",
    "\n",
    "Let´s get the movies with percentile higher to 90% of most viewed and rated "
   ]
  },
  {
   "cell_type": "code",
   "execution_count": 8,
   "metadata": {},
   "outputs": [
    {
     "data": {
      "text/html": [
       "<div>\n",
       "<style scoped>\n",
       "    .dataframe tbody tr th:only-of-type {\n",
       "        vertical-align: middle;\n",
       "    }\n",
       "\n",
       "    .dataframe tbody tr th {\n",
       "        vertical-align: top;\n",
       "    }\n",
       "\n",
       "    .dataframe thead th {\n",
       "        text-align: right;\n",
       "    }\n",
       "</style>\n",
       "<table border=\"1\" class=\"dataframe\">\n",
       "  <thead>\n",
       "    <tr style=\"text-align: right;\">\n",
       "      <th></th>\n",
       "      <th>Year</th>\n",
       "      <th>Minutes</th>\n",
       "      <th>numVotes</th>\n",
       "      <th>averageRating</th>\n",
       "      <th>kmeans_cluster</th>\n",
       "    </tr>\n",
       "  </thead>\n",
       "  <tbody>\n",
       "    <tr>\n",
       "      <th>count</th>\n",
       "      <td>30321.000000</td>\n",
       "      <td>30321.000000</td>\n",
       "      <td>3.032100e+04</td>\n",
       "      <td>30321.000000</td>\n",
       "      <td>30321.000000</td>\n",
       "    </tr>\n",
       "    <tr>\n",
       "      <th>mean</th>\n",
       "      <td>1996.255598</td>\n",
       "      <td>105.274232</td>\n",
       "      <td>2.599782e+04</td>\n",
       "      <td>6.367772</td>\n",
       "      <td>35.375251</td>\n",
       "    </tr>\n",
       "    <tr>\n",
       "      <th>std</th>\n",
       "      <td>21.817777</td>\n",
       "      <td>22.694860</td>\n",
       "      <td>8.636674e+04</td>\n",
       "      <td>1.131042</td>\n",
       "      <td>22.129687</td>\n",
       "    </tr>\n",
       "    <tr>\n",
       "      <th>min</th>\n",
       "      <td>1911.000000</td>\n",
       "      <td>45.000000</td>\n",
       "      <td>1.001000e+03</td>\n",
       "      <td>1.000000</td>\n",
       "      <td>0.000000</td>\n",
       "    </tr>\n",
       "    <tr>\n",
       "      <th>25%</th>\n",
       "      <td>1986.000000</td>\n",
       "      <td>91.000000</td>\n",
       "      <td>1.704000e+03</td>\n",
       "      <td>5.700000</td>\n",
       "      <td>16.000000</td>\n",
       "    </tr>\n",
       "    <tr>\n",
       "      <th>50%</th>\n",
       "      <td>2004.000000</td>\n",
       "      <td>100.000000</td>\n",
       "      <td>3.542000e+03</td>\n",
       "      <td>6.500000</td>\n",
       "      <td>32.000000</td>\n",
       "    </tr>\n",
       "    <tr>\n",
       "      <th>75%</th>\n",
       "      <td>2013.000000</td>\n",
       "      <td>114.000000</td>\n",
       "      <td>1.230100e+04</td>\n",
       "      <td>7.200000</td>\n",
       "      <td>54.000000</td>\n",
       "    </tr>\n",
       "    <tr>\n",
       "      <th>max</th>\n",
       "      <td>2020.000000</td>\n",
       "      <td>729.000000</td>\n",
       "      <td>2.242140e+06</td>\n",
       "      <td>9.500000</td>\n",
       "      <td>79.000000</td>\n",
       "    </tr>\n",
       "  </tbody>\n",
       "</table>\n",
       "</div>"
      ],
      "text/plain": [
       "               Year       Minutes      numVotes  averageRating  kmeans_cluster\n",
       "count  30321.000000  30321.000000  3.032100e+04   30321.000000    30321.000000\n",
       "mean    1996.255598    105.274232  2.599782e+04       6.367772       35.375251\n",
       "std       21.817777     22.694860  8.636674e+04       1.131042       22.129687\n",
       "min     1911.000000     45.000000  1.001000e+03       1.000000        0.000000\n",
       "25%     1986.000000     91.000000  1.704000e+03       5.700000       16.000000\n",
       "50%     2004.000000    100.000000  3.542000e+03       6.500000       32.000000\n",
       "75%     2013.000000    114.000000  1.230100e+04       7.200000       54.000000\n",
       "max     2020.000000    729.000000  2.242140e+06       9.500000       79.000000"
      ]
     },
     "execution_count": 8,
     "metadata": {},
     "output_type": "execute_result"
    }
   ],
   "source": [
    "movies_cluster.describe()"
   ]
  },
  {
   "cell_type": "code",
   "execution_count": 9,
   "metadata": {},
   "outputs": [
    {
     "data": {
      "text/plain": [
       "54714.0"
      ]
     },
     "execution_count": 9,
     "metadata": {},
     "output_type": "execute_result"
    }
   ],
   "source": [
    "movies_cluster.numVotes.quantile(0.9)"
   ]
  },
  {
   "cell_type": "code",
   "execution_count": 10,
   "metadata": {},
   "outputs": [],
   "source": [
    "movies_cluster_views = movies_cluster[movies_cluster.numVotes > 54714]"
   ]
  },
  {
   "cell_type": "code",
   "execution_count": 11,
   "metadata": {},
   "outputs": [
    {
     "data": {
      "text/plain": [
       "7.6"
      ]
     },
     "execution_count": 11,
     "metadata": {},
     "output_type": "execute_result"
    }
   ],
   "source": [
    "movies_cluster.averageRating.quantile(0.9)"
   ]
  },
  {
   "cell_type": "code",
   "execution_count": 12,
   "metadata": {},
   "outputs": [],
   "source": [
    "movies_cluster_rates = movies_cluster[movies_cluster.averageRating > 7.6]"
   ]
  },
  {
   "cell_type": "code",
   "execution_count": 13,
   "metadata": {},
   "outputs": [
    {
     "data": {
      "text/plain": [
       "((30321, 11), (3032, 11), (2897, 11))"
      ]
     },
     "execution_count": 13,
     "metadata": {},
     "output_type": "execute_result"
    }
   ],
   "source": [
    "movies_cluster.shape, movies_cluster_views.shape, movies_cluster_rates.shape"
   ]
  },
  {
   "cell_type": "markdown",
   "metadata": {},
   "source": [
    "#### Comparing the three clusterizations\n",
    "\n",
    "Now that we have clustered the three databases, we are going to compare the results.\n",
    "\n",
    "Next, you can see the rate of movies belonging to each cluster for the three databases"
   ]
  },
  {
   "cell_type": "code",
   "execution_count": 14,
   "metadata": {},
   "outputs": [],
   "source": [
    "kmeans_clusters = movies_cluster.groupby(['kmeans_cluster'])['originalTitle'].count() * 100 /len(movies_cluster)"
   ]
  },
  {
   "cell_type": "code",
   "execution_count": 15,
   "metadata": {},
   "outputs": [],
   "source": [
    "kmeans_clusters = kmeans_clusters.to_frame().reset_index()\n",
    "kmeans_clusters.columns = ['kmeans_cluster', \"%_movies\"]"
   ]
  },
  {
   "cell_type": "code",
   "execution_count": 16,
   "metadata": {},
   "outputs": [],
   "source": [
    "kmeans_clusters['%_top_rated_movies'] = movies_cluster_rates.groupby(['kmeans_cluster'])['originalTitle'].count() * 100 /len(movies_cluster_rates)\n",
    "kmeans_clusters['%_top_viewed_movies'] = movies_cluster_views.groupby(['kmeans_cluster'])['originalTitle'].count() * 100 /len(movies_cluster_views)"
   ]
  },
  {
   "cell_type": "code",
   "execution_count": 19,
   "metadata": {},
   "outputs": [
    {
     "data": {
      "text/html": [
       "<div>\n",
       "<style scoped>\n",
       "    .dataframe tbody tr th:only-of-type {\n",
       "        vertical-align: middle;\n",
       "    }\n",
       "\n",
       "    .dataframe tbody tr th {\n",
       "        vertical-align: top;\n",
       "    }\n",
       "\n",
       "    .dataframe thead th {\n",
       "        text-align: right;\n",
       "    }\n",
       "</style>\n",
       "<table border=\"1\" class=\"dataframe\">\n",
       "  <thead>\n",
       "    <tr style=\"text-align: right;\">\n",
       "      <th></th>\n",
       "      <th>kmeans_cluster</th>\n",
       "      <th>%_movies</th>\n",
       "      <th>%_top_rated_movies</th>\n",
       "      <th>%_top_viewed_movies</th>\n",
       "    </tr>\n",
       "  </thead>\n",
       "  <tbody>\n",
       "    <tr>\n",
       "      <th>0</th>\n",
       "      <td>0</td>\n",
       "      <td>0.372679</td>\n",
       "      <td>0.276148</td>\n",
       "      <td>0.692612</td>\n",
       "    </tr>\n",
       "    <tr>\n",
       "      <th>1</th>\n",
       "      <td>1</td>\n",
       "      <td>1.273045</td>\n",
       "      <td>0.414222</td>\n",
       "      <td>1.583113</td>\n",
       "    </tr>\n",
       "    <tr>\n",
       "      <th>2</th>\n",
       "      <td>2</td>\n",
       "      <td>2.338313</td>\n",
       "      <td>1.863997</td>\n",
       "      <td>1.781003</td>\n",
       "    </tr>\n",
       "    <tr>\n",
       "      <th>3</th>\n",
       "      <td>3</td>\n",
       "      <td>0.689291</td>\n",
       "      <td>0.448740</td>\n",
       "      <td>0.824538</td>\n",
       "    </tr>\n",
       "    <tr>\n",
       "      <th>4</th>\n",
       "      <td>4</td>\n",
       "      <td>0.923452</td>\n",
       "      <td>0.759406</td>\n",
       "      <td>0.989446</td>\n",
       "    </tr>\n",
       "    <tr>\n",
       "      <th>...</th>\n",
       "      <td>...</td>\n",
       "      <td>...</td>\n",
       "      <td>...</td>\n",
       "      <td>...</td>\n",
       "    </tr>\n",
       "    <tr>\n",
       "      <th>75</th>\n",
       "      <td>75</td>\n",
       "      <td>2.117344</td>\n",
       "      <td>1.829479</td>\n",
       "      <td>1.385224</td>\n",
       "    </tr>\n",
       "    <tr>\n",
       "      <th>76</th>\n",
       "      <td>76</td>\n",
       "      <td>0.310016</td>\n",
       "      <td>0.207111</td>\n",
       "      <td>0.065963</td>\n",
       "    </tr>\n",
       "    <tr>\n",
       "      <th>77</th>\n",
       "      <td>77</td>\n",
       "      <td>0.587052</td>\n",
       "      <td>0.759406</td>\n",
       "      <td>0.131926</td>\n",
       "    </tr>\n",
       "    <tr>\n",
       "      <th>78</th>\n",
       "      <td>78</td>\n",
       "      <td>0.234161</td>\n",
       "      <td>NaN</td>\n",
       "      <td>0.230871</td>\n",
       "    </tr>\n",
       "    <tr>\n",
       "      <th>79</th>\n",
       "      <td>79</td>\n",
       "      <td>1.602850</td>\n",
       "      <td>0.069037</td>\n",
       "      <td>0.989446</td>\n",
       "    </tr>\n",
       "  </tbody>\n",
       "</table>\n",
       "<p>80 rows × 4 columns</p>\n",
       "</div>"
      ],
      "text/plain": [
       "    kmeans_cluster  %_movies  %_top_rated_movies  %_top_viewed_movies\n",
       "0                0  0.372679            0.276148             0.692612\n",
       "1                1  1.273045            0.414222             1.583113\n",
       "2                2  2.338313            1.863997             1.781003\n",
       "3                3  0.689291            0.448740             0.824538\n",
       "4                4  0.923452            0.759406             0.989446\n",
       "..             ...       ...                 ...                  ...\n",
       "75              75  2.117344            1.829479             1.385224\n",
       "76              76  0.310016            0.207111             0.065963\n",
       "77              77  0.587052            0.759406             0.131926\n",
       "78              78  0.234161                 NaN             0.230871\n",
       "79              79  1.602850            0.069037             0.989446\n",
       "\n",
       "[80 rows x 4 columns]"
      ]
     },
     "execution_count": 19,
     "metadata": {},
     "output_type": "execute_result"
    }
   ],
   "source": [
    "kmeans_clusters"
   ]
  },
  {
   "cell_type": "code",
   "execution_count": 34,
   "metadata": {},
   "outputs": [
    {
     "data": {
      "image/png": "[encoded data removed]",
      "text/plain": [
       "<Figure size 432x288 with 1 Axes>"
      ]
     },
     "metadata": {
      "needs_background": "light"
     },
     "output_type": "display_data"
    }
   ],
   "source": [
    "# data to plot\n",
    "n_groups = 80\n",
    "\n",
    "# create plot\n",
    "fig, ax = plt.subplots()\n",
    "# fig.figsize=(90,15)\n",
    "index = np.arange(n_groups)\n",
    "bar_width = 0.25\n",
    "opacity = 0.8\n",
    "\n",
    "\n",
    "\n",
    "rects1 = plt.bar(kmeans_clusters.kmeans_cluster, kmeans_clusters[('%_movies')], bar_width,\n",
    "color='b',\n",
    "label='All')\n",
    "\n",
    "rects2 = plt.bar(kmeans_clusters.kmeans_cluster  + bar_width, kmeans_clusters[('%_top_rated_movies')], bar_width,\n",
    "color='g',\n",
    "label='Top_rated')\n",
    "\n",
    "rects3 = plt.bar(kmeans_clusters.kmeans_cluster  + 2*bar_width, kmeans_clusters[('%_top_viewed_movies')], bar_width,\n",
    "color='r',\n",
    "label='Top_viewed')\n",
    "\n",
    "plt.xlabel('Cluster')\n",
    "plt.ylabel('% movies')\n",
    "plt.title('% movies on clusters')\n",
    "plt.xticks(index , index)\n",
    "\n",
    "plt.legend()\n",
    "ax.tick_params(labelsize=3)\n",
    "\n",
    "plt.savefig('blog/04_clustering/01_Clusters_kmeans.png', format='png', dpi=2400);\n",
    "\n",
    "plt.tight_layout()\n",
    "plt.show()\n",
    "\n"
   ]
  },
  {
   "cell_type": "markdown",
   "metadata": {},
   "source": [
    "There are so many clusters that is difficult to analyze the plot, but we can see that most of the clusters are balanced between the three categories, although there are clearly unbalance clusters:\n",
    "\n",
    "- Top rated movies are overrepresented in clusters 16, 30, 54, 58 and 73, where green bars are much higher than the rest\n",
    "\n",
    "- Top viewed movies are overrepresented in clusters 6 and 22 where red bars are much higher than the rest\n",
    "\n",
    "Let´s see the 5 clusters where top rated and top viewed movies are most represented"
   ]
  },
  {
   "cell_type": "code",
   "execution_count": 40,
   "metadata": {},
   "outputs": [
    {
     "data": {
      "text/html": [
       "<div>\n",
       "<style scoped>\n",
       "    .dataframe tbody tr th:only-of-type {\n",
       "        vertical-align: middle;\n",
       "    }\n",
       "\n",
       "    .dataframe tbody tr th {\n",
       "        vertical-align: top;\n",
       "    }\n",
       "\n",
       "    .dataframe thead th {\n",
       "        text-align: right;\n",
       "    }\n",
       "</style>\n",
       "<table border=\"1\" class=\"dataframe\">\n",
       "  <thead>\n",
       "    <tr style=\"text-align: right;\">\n",
       "      <th></th>\n",
       "      <th>kmeans_cluster</th>\n",
       "      <th>%_movies</th>\n",
       "      <th>%_top_rated_movies</th>\n",
       "      <th>%_top_viewed_movies</th>\n",
       "    </tr>\n",
       "  </thead>\n",
       "  <tbody>\n",
       "    <tr>\n",
       "      <th>16</th>\n",
       "      <td>16</td>\n",
       "      <td>6.071699</td>\n",
       "      <td>7.697618</td>\n",
       "      <td>3.891821</td>\n",
       "    </tr>\n",
       "    <tr>\n",
       "      <th>30</th>\n",
       "      <td>30</td>\n",
       "      <td>2.222882</td>\n",
       "      <td>6.696583</td>\n",
       "      <td>0.857520</td>\n",
       "    </tr>\n",
       "    <tr>\n",
       "      <th>17</th>\n",
       "      <td>17</td>\n",
       "      <td>4.205006</td>\n",
       "      <td>4.798067</td>\n",
       "      <td>4.353562</td>\n",
       "    </tr>\n",
       "    <tr>\n",
       "      <th>54</th>\n",
       "      <td>54</td>\n",
       "      <td>2.001913</td>\n",
       "      <td>4.383845</td>\n",
       "      <td>1.484169</td>\n",
       "    </tr>\n",
       "    <tr>\n",
       "      <th>58</th>\n",
       "      <td>58</td>\n",
       "      <td>2.130537</td>\n",
       "      <td>4.349327</td>\n",
       "      <td>0.857520</td>\n",
       "    </tr>\n",
       "  </tbody>\n",
       "</table>\n",
       "</div>"
      ],
      "text/plain": [
       "    kmeans_cluster  %_movies  %_top_rated_movies  %_top_viewed_movies\n",
       "16              16  6.071699            7.697618             3.891821\n",
       "30              30  2.222882            6.696583             0.857520\n",
       "17              17  4.205006            4.798067             4.353562\n",
       "54              54  2.001913            4.383845             1.484169\n",
       "58              58  2.130537            4.349327             0.857520"
      ]
     },
     "execution_count": 40,
     "metadata": {},
     "output_type": "execute_result"
    }
   ],
   "source": [
    "kmeans_clusters.sort_values(by = '%_top_rated_movies', ascending = False).head(5)"
   ]
  },
  {
   "cell_type": "markdown",
   "metadata": {},
   "source": [
    "Let´s see the movies that are the the most characteristic of each cluster."
   ]
  },
  {
   "cell_type": "code",
   "execution_count": 43,
   "metadata": {},
   "outputs": [
    {
     "data": {
      "text/html": [
       "<div>\n",
       "<style scoped>\n",
       "    .dataframe tbody tr th:only-of-type {\n",
       "        vertical-align: middle;\n",
       "    }\n",
       "\n",
       "    .dataframe tbody tr th {\n",
       "        vertical-align: top;\n",
       "    }\n",
       "\n",
       "    .dataframe thead th {\n",
       "        text-align: right;\n",
       "    }\n",
       "</style>\n",
       "<table border=\"1\" class=\"dataframe\">\n",
       "  <thead>\n",
       "    <tr style=\"text-align: right;\">\n",
       "      <th></th>\n",
       "      <th>originalTitle</th>\n",
       "      <th>Genres</th>\n",
       "      <th>Year</th>\n",
       "      <th>Minutes</th>\n",
       "      <th>director</th>\n",
       "      <th>actor</th>\n",
       "      <th>actress</th>\n",
       "      <th>writer</th>\n",
       "      <th>numVotes</th>\n",
       "      <th>averageRating</th>\n",
       "      <th>kmeans_cluster</th>\n",
       "    </tr>\n",
       "  </thead>\n",
       "  <tbody>\n",
       "    <tr>\n",
       "      <th>16</th>\n",
       "      <td>Le meraviglie</td>\n",
       "      <td>Drama</td>\n",
       "      <td>2014</td>\n",
       "      <td>110</td>\n",
       "      <td>Alice Rohrwacher</td>\n",
       "      <td>Sam Louwyck</td>\n",
       "      <td>Alba Rohrwacher</td>\n",
       "      <td>Not available</td>\n",
       "      <td>4559</td>\n",
       "      <td>6.6</td>\n",
       "      <td>16</td>\n",
       "    </tr>\n",
       "    <tr>\n",
       "      <th>17</th>\n",
       "      <td>L'audition</td>\n",
       "      <td>Drama</td>\n",
       "      <td>2005</td>\n",
       "      <td>111</td>\n",
       "      <td>Not available</td>\n",
       "      <td>Luc Picard</td>\n",
       "      <td>Suzanne Clément</td>\n",
       "      <td>Not available</td>\n",
       "      <td>1168</td>\n",
       "      <td>7.1</td>\n",
       "      <td>17</td>\n",
       "    </tr>\n",
       "    <tr>\n",
       "      <th>30</th>\n",
       "      <td>Sult</td>\n",
       "      <td>Drama</td>\n",
       "      <td>1966</td>\n",
       "      <td>112</td>\n",
       "      <td>Henning Carlsen</td>\n",
       "      <td>Per Oscarsson</td>\n",
       "      <td>Gunnel Lindblom</td>\n",
       "      <td>Knut Hamsun</td>\n",
       "      <td>2692</td>\n",
       "      <td>7.8</td>\n",
       "      <td>30</td>\n",
       "    </tr>\n",
       "    <tr>\n",
       "      <th>54</th>\n",
       "      <td>Zawgat Ragoul Mohem</td>\n",
       "      <td>Drama</td>\n",
       "      <td>1987</td>\n",
       "      <td>115</td>\n",
       "      <td>Mohamed Khan</td>\n",
       "      <td>Ahmed Zaki</td>\n",
       "      <td>Mervat Amin</td>\n",
       "      <td>Not available</td>\n",
       "      <td>1041</td>\n",
       "      <td>7.7</td>\n",
       "      <td>54</td>\n",
       "    </tr>\n",
       "    <tr>\n",
       "      <th>58</th>\n",
       "      <td>Kalina krasnaya</td>\n",
       "      <td>Drama</td>\n",
       "      <td>1974</td>\n",
       "      <td>110</td>\n",
       "      <td>Not available</td>\n",
       "      <td>Vasiliy Shukshin</td>\n",
       "      <td>Lidiya Fedoseeva-Shukshina</td>\n",
       "      <td>Not available</td>\n",
       "      <td>1366</td>\n",
       "      <td>7.8</td>\n",
       "      <td>58</td>\n",
       "    </tr>\n",
       "  </tbody>\n",
       "</table>\n",
       "</div>"
      ],
      "text/plain": [
       "          originalTitle Genres  Year  Minutes          director  \\\n",
       "16        Le meraviglie  Drama  2014      110  Alice Rohrwacher   \n",
       "17           L'audition  Drama  2005      111     Not available   \n",
       "30                 Sult  Drama  1966      112   Henning Carlsen   \n",
       "54  Zawgat Ragoul Mohem  Drama  1987      115      Mohamed Khan   \n",
       "58      Kalina krasnaya  Drama  1974      110     Not available   \n",
       "\n",
       "               actor                     actress         writer  numVotes  \\\n",
       "16       Sam Louwyck             Alba Rohrwacher  Not available      4559   \n",
       "17        Luc Picard             Suzanne Clément  Not available      1168   \n",
       "30     Per Oscarsson             Gunnel Lindblom    Knut Hamsun      2692   \n",
       "54        Ahmed Zaki                 Mervat Amin  Not available      1041   \n",
       "58  Vasiliy Shukshin  Lidiya Fedoseeva-Shukshina  Not available      1366   \n",
       "\n",
       "    averageRating  kmeans_cluster  \n",
       "16            6.6              16  \n",
       "17            7.1              17  \n",
       "30            7.8              30  \n",
       "54            7.7              54  \n",
       "58            7.8              58  "
      ]
     },
     "execution_count": 43,
     "metadata": {},
     "output_type": "execute_result"
    }
   ],
   "source": [
    "movies_close_centroid[movies_close_centroid.kmeans_cluster.isin([16,30,17,54,58])]"
   ]
  },
  {
   "cell_type": "markdown",
   "metadata": {},
   "source": [
    "They are all dramas with a lenght between 110 and 115 minutes and of different years, being the top clusters from 2014 and 2015.\n",
    "\n",
    "Let´s do the same with the most viewed."
   ]
  },
  {
   "cell_type": "code",
   "execution_count": 44,
   "metadata": {},
   "outputs": [
    {
     "data": {
      "text/html": [
       "<div>\n",
       "<style scoped>\n",
       "    .dataframe tbody tr th:only-of-type {\n",
       "        vertical-align: middle;\n",
       "    }\n",
       "\n",
       "    .dataframe tbody tr th {\n",
       "        vertical-align: top;\n",
       "    }\n",
       "\n",
       "    .dataframe thead th {\n",
       "        text-align: right;\n",
       "    }\n",
       "</style>\n",
       "<table border=\"1\" class=\"dataframe\">\n",
       "  <thead>\n",
       "    <tr style=\"text-align: right;\">\n",
       "      <th></th>\n",
       "      <th>kmeans_cluster</th>\n",
       "      <th>%_movies</th>\n",
       "      <th>%_top_rated_movies</th>\n",
       "      <th>%_top_viewed_movies</th>\n",
       "    </tr>\n",
       "  </thead>\n",
       "  <tbody>\n",
       "    <tr>\n",
       "      <th>6</th>\n",
       "      <td>6</td>\n",
       "      <td>1.606148</td>\n",
       "      <td>1.208146</td>\n",
       "      <td>6.035620</td>\n",
       "    </tr>\n",
       "    <tr>\n",
       "      <th>22</th>\n",
       "      <td>22</td>\n",
       "      <td>1.553379</td>\n",
       "      <td>0.966517</td>\n",
       "      <td>5.013193</td>\n",
       "    </tr>\n",
       "    <tr>\n",
       "      <th>17</th>\n",
       "      <td>17</td>\n",
       "      <td>4.205006</td>\n",
       "      <td>4.798067</td>\n",
       "      <td>4.353562</td>\n",
       "    </tr>\n",
       "    <tr>\n",
       "      <th>16</th>\n",
       "      <td>16</td>\n",
       "      <td>6.071699</td>\n",
       "      <td>7.697618</td>\n",
       "      <td>3.891821</td>\n",
       "    </tr>\n",
       "    <tr>\n",
       "      <th>32</th>\n",
       "      <td>32</td>\n",
       "      <td>3.086969</td>\n",
       "      <td>0.621332</td>\n",
       "      <td>3.627968</td>\n",
       "    </tr>\n",
       "  </tbody>\n",
       "</table>\n",
       "</div>"
      ],
      "text/plain": [
       "    kmeans_cluster  %_movies  %_top_rated_movies  %_top_viewed_movies\n",
       "6                6  1.606148            1.208146             6.035620\n",
       "22              22  1.553379            0.966517             5.013193\n",
       "17              17  4.205006            4.798067             4.353562\n",
       "16              16  6.071699            7.697618             3.891821\n",
       "32              32  3.086969            0.621332             3.627968"
      ]
     },
     "execution_count": 44,
     "metadata": {},
     "output_type": "execute_result"
    }
   ],
   "source": [
    "kmeans_clusters.sort_values(by = '%_top_viewed_movies', ascending = False).head(5)"
   ]
  },
  {
   "cell_type": "code",
   "execution_count": 45,
   "metadata": {},
   "outputs": [
    {
     "data": {
      "text/html": [
       "<div>\n",
       "<style scoped>\n",
       "    .dataframe tbody tr th:only-of-type {\n",
       "        vertical-align: middle;\n",
       "    }\n",
       "\n",
       "    .dataframe tbody tr th {\n",
       "        vertical-align: top;\n",
       "    }\n",
       "\n",
       "    .dataframe thead th {\n",
       "        text-align: right;\n",
       "    }\n",
       "</style>\n",
       "<table border=\"1\" class=\"dataframe\">\n",
       "  <thead>\n",
       "    <tr style=\"text-align: right;\">\n",
       "      <th></th>\n",
       "      <th>originalTitle</th>\n",
       "      <th>Genres</th>\n",
       "      <th>Year</th>\n",
       "      <th>Minutes</th>\n",
       "      <th>director</th>\n",
       "      <th>actor</th>\n",
       "      <th>actress</th>\n",
       "      <th>writer</th>\n",
       "      <th>numVotes</th>\n",
       "      <th>averageRating</th>\n",
       "      <th>kmeans_cluster</th>\n",
       "    </tr>\n",
       "  </thead>\n",
       "  <tbody>\n",
       "    <tr>\n",
       "      <th>6</th>\n",
       "      <td>The Dead Lands</td>\n",
       "      <td>Action,Adventure</td>\n",
       "      <td>2014</td>\n",
       "      <td>107</td>\n",
       "      <td>Toa Fraser</td>\n",
       "      <td>James Rolleston</td>\n",
       "      <td>Not available</td>\n",
       "      <td>Glenn Standring</td>\n",
       "      <td>4397</td>\n",
       "      <td>6.3</td>\n",
       "      <td>6</td>\n",
       "    </tr>\n",
       "    <tr>\n",
       "      <th>16</th>\n",
       "      <td>Le meraviglie</td>\n",
       "      <td>Drama</td>\n",
       "      <td>2014</td>\n",
       "      <td>110</td>\n",
       "      <td>Alice Rohrwacher</td>\n",
       "      <td>Sam Louwyck</td>\n",
       "      <td>Alba Rohrwacher</td>\n",
       "      <td>Not available</td>\n",
       "      <td>4559</td>\n",
       "      <td>6.6</td>\n",
       "      <td>16</td>\n",
       "    </tr>\n",
       "    <tr>\n",
       "      <th>17</th>\n",
       "      <td>L'audition</td>\n",
       "      <td>Drama</td>\n",
       "      <td>2005</td>\n",
       "      <td>111</td>\n",
       "      <td>Not available</td>\n",
       "      <td>Luc Picard</td>\n",
       "      <td>Suzanne Clément</td>\n",
       "      <td>Not available</td>\n",
       "      <td>1168</td>\n",
       "      <td>7.1</td>\n",
       "      <td>17</td>\n",
       "    </tr>\n",
       "    <tr>\n",
       "      <th>22</th>\n",
       "      <td>The Freediver</td>\n",
       "      <td>Action,Adventure</td>\n",
       "      <td>2004</td>\n",
       "      <td>95</td>\n",
       "      <td>Not available</td>\n",
       "      <td>Alki David</td>\n",
       "      <td>Camilla Rutherford</td>\n",
       "      <td>Not available</td>\n",
       "      <td>1455</td>\n",
       "      <td>4.8</td>\n",
       "      <td>22</td>\n",
       "    </tr>\n",
       "    <tr>\n",
       "      <th>32</th>\n",
       "      <td>Strangers with Candy</td>\n",
       "      <td>Comedy</td>\n",
       "      <td>2005</td>\n",
       "      <td>97</td>\n",
       "      <td>Not available</td>\n",
       "      <td>Stephen Colbert</td>\n",
       "      <td>Amy Sedaris</td>\n",
       "      <td>Mitch Rouse</td>\n",
       "      <td>7744</td>\n",
       "      <td>6.0</td>\n",
       "      <td>32</td>\n",
       "    </tr>\n",
       "  </tbody>\n",
       "</table>\n",
       "</div>"
      ],
      "text/plain": [
       "           originalTitle            Genres  Year  Minutes          director  \\\n",
       "6         The Dead Lands  Action,Adventure  2014      107        Toa Fraser   \n",
       "16         Le meraviglie             Drama  2014      110  Alice Rohrwacher   \n",
       "17            L'audition             Drama  2005      111     Not available   \n",
       "22         The Freediver  Action,Adventure  2004       95     Not available   \n",
       "32  Strangers with Candy            Comedy  2005       97     Not available   \n",
       "\n",
       "              actor             actress           writer  numVotes  \\\n",
       "6   James Rolleston       Not available  Glenn Standring      4397   \n",
       "16      Sam Louwyck     Alba Rohrwacher    Not available      4559   \n",
       "17       Luc Picard     Suzanne Clément    Not available      1168   \n",
       "22       Alki David  Camilla Rutherford    Not available      1455   \n",
       "32  Stephen Colbert         Amy Sedaris      Mitch Rouse      7744   \n",
       "\n",
       "    averageRating  kmeans_cluster  \n",
       "6             6.3               6  \n",
       "16            6.6              16  \n",
       "17            7.1              17  \n",
       "22            4.8              22  \n",
       "32            6.0              32  "
      ]
     },
     "execution_count": 45,
     "metadata": {},
     "output_type": "execute_result"
    }
   ],
   "source": [
    "movies_close_centroid[movies_close_centroid.kmeans_cluster.isin([6, 22, 17, 16, 32])]"
   ]
  },
  {
   "cell_type": "markdown",
   "metadata": {},
   "source": [
    "The most viewed movies are all from this century and they are shorter than the top rated ( between 95 and 110). Here there´s more diversity of genres (Action/Adventure, Drama and Comedy)"
   ]
  },
  {
   "cell_type": "markdown",
   "metadata": {},
   "source": [
    "### <a class=\"anchor\" id=\"Clust_general\"> 3.b.- Clustering database with hierarchical clustering\n",
    "\n",
    "In this section we apply hierarchical clustering to the dataframe. We are going to use the ward method, that is the default one.\n",
    "    \n",
    "**How many clusters? Creating a Dendrogram**    \n",
    "\n",
    "A dendrogram is a diagram that shows the hierarchical relationship between objects and it´s used to work out the best way to allocate objects to clusters. We will use it as a first approach to see how many clusters we will use\n",
    "    \n",
    "The dendrogram below shows the hierarchical clustering of our IMDB database"
   ]
  },
  {
   "cell_type": "code",
   "execution_count": 46,
   "metadata": {},
   "outputs": [],
   "source": [
    "movies_pca_end = pd.read_csv('IMDB_movies_clasif_pca_end.csv')"
   ]
  },
  {
   "cell_type": "code",
   "execution_count": 263,
   "metadata": {},
   "outputs": [],
   "source": [
    "linkage_matrix = ward(movies_pca_end)"
   ]
  },
  {
   "cell_type": "code",
   "execution_count": 267,
   "metadata": {},
   "outputs": [
    {
     "data": {
      "image/png": "[encoded data removed]",
      "text/plain": [
       "<Figure size 432x288 with 1 Axes>"
      ]
     },
     "metadata": {
      "needs_background": "light"
     },
     "output_type": "display_data"
    }
   ],
   "source": [
    "dendrogram(linkage_matrix)\n",
    "plt.savefig('blog/04_clustering/02_dendrogram.png', format='png', dpi=2400);\n",
    "plt.show()"
   ]
  },
  {
   "cell_type": "markdown",
   "metadata": {},
   "source": [
    "We can see there are three main clusters in the database. We´ll get the final number of clusters with the silhouette scores \n",
    "\n",
    "**How many clusters? The silhouette score**\n",
    "\n",
    "Like in kmeans we will apply the silhouette score to different number of clusters to get the one with highest score"
   ]
  },
  {
   "cell_type": "code",
   "execution_count": 5,
   "metadata": {},
   "outputs": [],
   "source": [
    "def get_sil_score(data, clusters):\n",
    "    \n",
    "    start_time = time.time()    \n",
    "    \n",
    "    clust = cluster.AgglomerativeClustering(n_clusters = clusters, linkage = 'ward')\n",
    "    labels = clust.fit_predict(data)\n",
    "\n",
    "    score = silhouette_score(data, labels)\n",
    "       \n",
    "\n",
    "    exec_time = round((time.time() - start_time)/60,2)\n",
    "    print(\"Execution time:\",exec_time,\"minutes\")\n",
    "    print(\"The silhouette score for\",clusters,\"components is\", score)\n",
    "    return score"
   ]
  },
  {
   "cell_type": "code",
   "execution_count": 6,
   "metadata": {},
   "outputs": [
    {
     "name": "stdout",
     "output_type": "stream",
     "text": [
      "Execution time: 6.38 minutes\n",
      "The silhouette score for 2 components is 0.08329248968060182\n"
     ]
    }
   ],
   "source": [
    "scores = []\n",
    "centers = [2,3,4, 5, 6]\n",
    "\n",
    "scores.append(get_sil_score(movies_pca_end, 2))"
   ]
  },
  {
   "cell_type": "code",
   "execution_count": 7,
   "metadata": {},
   "outputs": [
    {
     "name": "stdout",
     "output_type": "stream",
     "text": [
      "Execution time: 6.23 minutes\n",
      "The silhouette score for 3 components is 0.10855043633844245\n"
     ]
    }
   ],
   "source": [
    "scores.append(get_sil_score(movies_pca_end, 3))"
   ]
  },
  {
   "cell_type": "code",
   "execution_count": 8,
   "metadata": {},
   "outputs": [
    {
     "name": "stdout",
     "output_type": "stream",
     "text": [
      "Execution time: 6.45 minutes\n",
      "The silhouette score for 4 components is 0.12440616917903613\n"
     ]
    }
   ],
   "source": [
    "scores.append(get_sil_score(movies_pca_end, 4))"
   ]
  },
  {
   "cell_type": "code",
   "execution_count": 9,
   "metadata": {},
   "outputs": [
    {
     "name": "stdout",
     "output_type": "stream",
     "text": [
      "Execution time: 6.34 minutes\n",
      "The silhouette score for 5 components is 0.1365754799609799\n"
     ]
    }
   ],
   "source": [
    "scores.append(get_sil_score(movies_pca_end, 5))"
   ]
  },
  {
   "cell_type": "code",
   "execution_count": 10,
   "metadata": {},
   "outputs": [
    {
     "name": "stdout",
     "output_type": "stream",
     "text": [
      "Execution time: 6.44 minutes\n",
      "The silhouette score for 6 components is 0.06614171638937598\n"
     ]
    }
   ],
   "source": [
    "scores.append(get_sil_score(movies_pca_end, 6))"
   ]
  },
  {
   "cell_type": "code",
   "execution_count": 12,
   "metadata": {},
   "outputs": [
    {
     "data": {
      "image/png": "[encoded data removed]",
      "text/plain": [
       "<Figure size 432x288 with 1 Axes>"
      ]
     },
     "metadata": {
      "needs_background": "light"
     },
     "output_type": "display_data"
    }
   ],
   "source": [
    "plt.plot(centers, scores, linestyle='--', marker='o', color='b');\n",
    "plt.xlabel('K');\n",
    "plt.ylabel('Silhouette Score');\n",
    "plt.title('Silhouetee Score with hierarchical clustering');"
   ]
  },
  {
   "cell_type": "markdown",
   "metadata": {},
   "source": [
    "5 clusters is the optimal number. Let´s fit the model with this k\n",
    "\n",
    "**Fitting the model**\n",
    "\n",
    "We fit the model with clusters"
   ]
  },
  {
   "cell_type": "code",
   "execution_count": 42,
   "metadata": {},
   "outputs": [],
   "source": [
    "clust = cluster.AgglomerativeClustering(n_clusters = 5, linkage = 'ward')\n",
    "labels = clust.fit_predict(movies_pca_end)"
   ]
  },
  {
   "cell_type": "markdown",
   "metadata": {},
   "source": [
    "Let´s analyze the labels predicted"
   ]
  },
  {
   "cell_type": "code",
   "execution_count": 43,
   "metadata": {},
   "outputs": [],
   "source": [
    "# labels = model.predict(movies_pca_end)\n",
    "labels_movies = pd.DataFrame(labels)\n",
    "labels_movies.columns = ['hier_cluster']"
   ]
  },
  {
   "cell_type": "code",
   "execution_count": 44,
   "metadata": {},
   "outputs": [
    {
     "data": {
      "text/plain": [
       "(30321, 1)"
      ]
     },
     "execution_count": 44,
     "metadata": {},
     "output_type": "execute_result"
    }
   ],
   "source": [
    "labels_movies.shape"
   ]
  },
  {
   "cell_type": "markdown",
   "metadata": {},
   "source": [
    "Here you have the number of movies in each of the clusters"
   ]
  },
  {
   "cell_type": "code",
   "execution_count": 45,
   "metadata": {},
   "outputs": [
    {
     "data": {
      "text/plain": [
       "0    0.355694\n",
       "2    0.236206\n",
       "1    0.210778\n",
       "3    0.112397\n",
       "4    0.084925\n",
       "Name: hier_cluster, dtype: float64"
      ]
     },
     "execution_count": 45,
     "metadata": {},
     "output_type": "execute_result"
    }
   ],
   "source": [
    "labels_movies.hier_cluster.value_counts()/len(labels_movies)"
   ]
  },
  {
   "cell_type": "markdown",
   "metadata": {},
   "source": [
    "**Predicting clusters**\n",
    "\n",
    "We get the cluster where each movie belongs to"
   ]
  },
  {
   "cell_type": "code",
   "execution_count": 46,
   "metadata": {},
   "outputs": [],
   "source": [
    "movies_cluster = pd.read_csv('IMDB_movies_clustered.csv')"
   ]
  },
  {
   "cell_type": "code",
   "execution_count": 47,
   "metadata": {},
   "outputs": [
    {
     "data": {
      "text/html": [
       "<div>\n",
       "<style scoped>\n",
       "    .dataframe tbody tr th:only-of-type {\n",
       "        vertical-align: middle;\n",
       "    }\n",
       "\n",
       "    .dataframe tbody tr th {\n",
       "        vertical-align: top;\n",
       "    }\n",
       "\n",
       "    .dataframe thead th {\n",
       "        text-align: right;\n",
       "    }\n",
       "</style>\n",
       "<table border=\"1\" class=\"dataframe\">\n",
       "  <thead>\n",
       "    <tr style=\"text-align: right;\">\n",
       "      <th></th>\n",
       "      <th>originalTitle</th>\n",
       "      <th>Genres</th>\n",
       "      <th>Year</th>\n",
       "      <th>Minutes</th>\n",
       "      <th>director</th>\n",
       "      <th>actor</th>\n",
       "      <th>actress</th>\n",
       "      <th>writer</th>\n",
       "      <th>numVotes</th>\n",
       "      <th>averageRating</th>\n",
       "      <th>kmeans_cluster</th>\n",
       "    </tr>\n",
       "  </thead>\n",
       "  <tbody>\n",
       "    <tr>\n",
       "      <th>0</th>\n",
       "      <td>L'Inferno</td>\n",
       "      <td>Adventure,Drama,Fantasy</td>\n",
       "      <td>1911</td>\n",
       "      <td>68</td>\n",
       "      <td>Francesco Bertolini</td>\n",
       "      <td>Salvatore Papa</td>\n",
       "      <td>Not available</td>\n",
       "      <td>Dante Alighieri</td>\n",
       "      <td>2167</td>\n",
       "      <td>7.0</td>\n",
       "      <td>57</td>\n",
       "    </tr>\n",
       "    <tr>\n",
       "      <th>1</th>\n",
       "      <td>Fantômas - À l'ombre de la guillotine</td>\n",
       "      <td>Crime,Drama</td>\n",
       "      <td>1913</td>\n",
       "      <td>54</td>\n",
       "      <td>Louis Feuillade</td>\n",
       "      <td>René Navarre</td>\n",
       "      <td>Renée Carl</td>\n",
       "      <td>Marcel Allain</td>\n",
       "      <td>1915</td>\n",
       "      <td>7.0</td>\n",
       "      <td>59</td>\n",
       "    </tr>\n",
       "    <tr>\n",
       "      <th>2</th>\n",
       "      <td>Juve contre Fantômas</td>\n",
       "      <td>Crime,Drama</td>\n",
       "      <td>1913</td>\n",
       "      <td>61</td>\n",
       "      <td>Louis Feuillade</td>\n",
       "      <td>René Navarre</td>\n",
       "      <td>Renée Carl</td>\n",
       "      <td>Marcel Allain</td>\n",
       "      <td>1334</td>\n",
       "      <td>7.0</td>\n",
       "      <td>59</td>\n",
       "    </tr>\n",
       "    <tr>\n",
       "      <th>3</th>\n",
       "      <td>Le mort qui tue</td>\n",
       "      <td>Crime,Drama,Mystery</td>\n",
       "      <td>1913</td>\n",
       "      <td>90</td>\n",
       "      <td>Louis Feuillade</td>\n",
       "      <td>René Navarre</td>\n",
       "      <td>Not available</td>\n",
       "      <td>Marcel Allain</td>\n",
       "      <td>1033</td>\n",
       "      <td>7.0</td>\n",
       "      <td>8</td>\n",
       "    </tr>\n",
       "    <tr>\n",
       "      <th>4</th>\n",
       "      <td>Der Student von Prag</td>\n",
       "      <td>Drama,Fantasy,Horror</td>\n",
       "      <td>1913</td>\n",
       "      <td>85</td>\n",
       "      <td>Stellan Rye</td>\n",
       "      <td>Paul Wegener</td>\n",
       "      <td>Grete Berger</td>\n",
       "      <td>Hanns Heinz Ewers</td>\n",
       "      <td>1735</td>\n",
       "      <td>6.5</td>\n",
       "      <td>10</td>\n",
       "    </tr>\n",
       "  </tbody>\n",
       "</table>\n",
       "</div>"
      ],
      "text/plain": [
       "                           originalTitle                   Genres  Year  \\\n",
       "0                              L'Inferno  Adventure,Drama,Fantasy  1911   \n",
       "1  Fantômas - À l'ombre de la guillotine              Crime,Drama  1913   \n",
       "2                   Juve contre Fantômas              Crime,Drama  1913   \n",
       "3                        Le mort qui tue      Crime,Drama,Mystery  1913   \n",
       "4                   Der Student von Prag     Drama,Fantasy,Horror  1913   \n",
       "\n",
       "   Minutes             director           actor        actress  \\\n",
       "0       68  Francesco Bertolini  Salvatore Papa  Not available   \n",
       "1       54      Louis Feuillade    René Navarre     Renée Carl   \n",
       "2       61      Louis Feuillade    René Navarre     Renée Carl   \n",
       "3       90      Louis Feuillade    René Navarre  Not available   \n",
       "4       85          Stellan Rye    Paul Wegener   Grete Berger   \n",
       "\n",
       "              writer  numVotes  averageRating  kmeans_cluster  \n",
       "0    Dante Alighieri      2167            7.0              57  \n",
       "1      Marcel Allain      1915            7.0              59  \n",
       "2      Marcel Allain      1334            7.0              59  \n",
       "3      Marcel Allain      1033            7.0               8  \n",
       "4  Hanns Heinz Ewers      1735            6.5              10  "
      ]
     },
     "execution_count": 47,
     "metadata": {},
     "output_type": "execute_result"
    }
   ],
   "source": [
    "movies_cluster.head() "
   ]
  },
  {
   "cell_type": "code",
   "execution_count": 48,
   "metadata": {},
   "outputs": [
    {
     "data": {
      "text/html": [
       "<div>\n",
       "<style scoped>\n",
       "    .dataframe tbody tr th:only-of-type {\n",
       "        vertical-align: middle;\n",
       "    }\n",
       "\n",
       "    .dataframe tbody tr th {\n",
       "        vertical-align: top;\n",
       "    }\n",
       "\n",
       "    .dataframe thead th {\n",
       "        text-align: right;\n",
       "    }\n",
       "</style>\n",
       "<table border=\"1\" class=\"dataframe\">\n",
       "  <thead>\n",
       "    <tr style=\"text-align: right;\">\n",
       "      <th></th>\n",
       "      <th>hier_cluster</th>\n",
       "    </tr>\n",
       "  </thead>\n",
       "  <tbody>\n",
       "    <tr>\n",
       "      <th>0</th>\n",
       "      <td>1</td>\n",
       "    </tr>\n",
       "    <tr>\n",
       "      <th>1</th>\n",
       "      <td>1</td>\n",
       "    </tr>\n",
       "    <tr>\n",
       "      <th>2</th>\n",
       "      <td>1</td>\n",
       "    </tr>\n",
       "    <tr>\n",
       "      <th>3</th>\n",
       "      <td>1</td>\n",
       "    </tr>\n",
       "    <tr>\n",
       "      <th>4</th>\n",
       "      <td>1</td>\n",
       "    </tr>\n",
       "  </tbody>\n",
       "</table>\n",
       "</div>"
      ],
      "text/plain": [
       "   hier_cluster\n",
       "0             1\n",
       "1             1\n",
       "2             1\n",
       "3             1\n",
       "4             1"
      ]
     },
     "execution_count": 48,
     "metadata": {},
     "output_type": "execute_result"
    }
   ],
   "source": [
    "labels_movies.head()"
   ]
  },
  {
   "cell_type": "code",
   "execution_count": 50,
   "metadata": {},
   "outputs": [
    {
     "data": {
      "text/plain": [
       "((30321, 11), (30321, 1))"
      ]
     },
     "execution_count": 50,
     "metadata": {},
     "output_type": "execute_result"
    }
   ],
   "source": [
    "movies_cluster.shape, labels_movies.shape"
   ]
  },
  {
   "cell_type": "code",
   "execution_count": 51,
   "metadata": {},
   "outputs": [],
   "source": [
    "movies_cluster = pd.merge(movies_cluster, labels_movies, left_index=True, right_index=True)"
   ]
  },
  {
   "cell_type": "code",
   "execution_count": 52,
   "metadata": {},
   "outputs": [
    {
     "data": {
      "text/html": [
       "<div>\n",
       "<style scoped>\n",
       "    .dataframe tbody tr th:only-of-type {\n",
       "        vertical-align: middle;\n",
       "    }\n",
       "\n",
       "    .dataframe tbody tr th {\n",
       "        vertical-align: top;\n",
       "    }\n",
       "\n",
       "    .dataframe thead th {\n",
       "        text-align: right;\n",
       "    }\n",
       "</style>\n",
       "<table border=\"1\" class=\"dataframe\">\n",
       "  <thead>\n",
       "    <tr style=\"text-align: right;\">\n",
       "      <th></th>\n",
       "      <th>originalTitle</th>\n",
       "      <th>Genres</th>\n",
       "      <th>Year</th>\n",
       "      <th>Minutes</th>\n",
       "      <th>director</th>\n",
       "      <th>actor</th>\n",
       "      <th>actress</th>\n",
       "      <th>writer</th>\n",
       "      <th>numVotes</th>\n",
       "      <th>averageRating</th>\n",
       "      <th>kmeans_cluster</th>\n",
       "      <th>hier_cluster</th>\n",
       "    </tr>\n",
       "  </thead>\n",
       "  <tbody>\n",
       "    <tr>\n",
       "      <th>0</th>\n",
       "      <td>L'Inferno</td>\n",
       "      <td>Adventure,Drama,Fantasy</td>\n",
       "      <td>1911</td>\n",
       "      <td>68</td>\n",
       "      <td>Francesco Bertolini</td>\n",
       "      <td>Salvatore Papa</td>\n",
       "      <td>Not available</td>\n",
       "      <td>Dante Alighieri</td>\n",
       "      <td>2167</td>\n",
       "      <td>7.0</td>\n",
       "      <td>57</td>\n",
       "      <td>1</td>\n",
       "    </tr>\n",
       "    <tr>\n",
       "      <th>1</th>\n",
       "      <td>Fantômas - À l'ombre de la guillotine</td>\n",
       "      <td>Crime,Drama</td>\n",
       "      <td>1913</td>\n",
       "      <td>54</td>\n",
       "      <td>Louis Feuillade</td>\n",
       "      <td>René Navarre</td>\n",
       "      <td>Renée Carl</td>\n",
       "      <td>Marcel Allain</td>\n",
       "      <td>1915</td>\n",
       "      <td>7.0</td>\n",
       "      <td>59</td>\n",
       "      <td>1</td>\n",
       "    </tr>\n",
       "    <tr>\n",
       "      <th>2</th>\n",
       "      <td>Juve contre Fantômas</td>\n",
       "      <td>Crime,Drama</td>\n",
       "      <td>1913</td>\n",
       "      <td>61</td>\n",
       "      <td>Louis Feuillade</td>\n",
       "      <td>René Navarre</td>\n",
       "      <td>Renée Carl</td>\n",
       "      <td>Marcel Allain</td>\n",
       "      <td>1334</td>\n",
       "      <td>7.0</td>\n",
       "      <td>59</td>\n",
       "      <td>1</td>\n",
       "    </tr>\n",
       "    <tr>\n",
       "      <th>3</th>\n",
       "      <td>Le mort qui tue</td>\n",
       "      <td>Crime,Drama,Mystery</td>\n",
       "      <td>1913</td>\n",
       "      <td>90</td>\n",
       "      <td>Louis Feuillade</td>\n",
       "      <td>René Navarre</td>\n",
       "      <td>Not available</td>\n",
       "      <td>Marcel Allain</td>\n",
       "      <td>1033</td>\n",
       "      <td>7.0</td>\n",
       "      <td>8</td>\n",
       "      <td>1</td>\n",
       "    </tr>\n",
       "    <tr>\n",
       "      <th>4</th>\n",
       "      <td>Der Student von Prag</td>\n",
       "      <td>Drama,Fantasy,Horror</td>\n",
       "      <td>1913</td>\n",
       "      <td>85</td>\n",
       "      <td>Stellan Rye</td>\n",
       "      <td>Paul Wegener</td>\n",
       "      <td>Grete Berger</td>\n",
       "      <td>Hanns Heinz Ewers</td>\n",
       "      <td>1735</td>\n",
       "      <td>6.5</td>\n",
       "      <td>10</td>\n",
       "      <td>1</td>\n",
       "    </tr>\n",
       "  </tbody>\n",
       "</table>\n",
       "</div>"
      ],
      "text/plain": [
       "                           originalTitle                   Genres  Year  \\\n",
       "0                              L'Inferno  Adventure,Drama,Fantasy  1911   \n",
       "1  Fantômas - À l'ombre de la guillotine              Crime,Drama  1913   \n",
       "2                   Juve contre Fantômas              Crime,Drama  1913   \n",
       "3                        Le mort qui tue      Crime,Drama,Mystery  1913   \n",
       "4                   Der Student von Prag     Drama,Fantasy,Horror  1913   \n",
       "\n",
       "   Minutes             director           actor        actress  \\\n",
       "0       68  Francesco Bertolini  Salvatore Papa  Not available   \n",
       "1       54      Louis Feuillade    René Navarre     Renée Carl   \n",
       "2       61      Louis Feuillade    René Navarre     Renée Carl   \n",
       "3       90      Louis Feuillade    René Navarre  Not available   \n",
       "4       85          Stellan Rye    Paul Wegener   Grete Berger   \n",
       "\n",
       "              writer  numVotes  averageRating  kmeans_cluster  hier_cluster  \n",
       "0    Dante Alighieri      2167            7.0              57             1  \n",
       "1      Marcel Allain      1915            7.0              59             1  \n",
       "2      Marcel Allain      1334            7.0              59             1  \n",
       "3      Marcel Allain      1033            7.0               8             1  \n",
       "4  Hanns Heinz Ewers      1735            6.5              10             1  "
      ]
     },
     "execution_count": 52,
     "metadata": {},
     "output_type": "execute_result"
    }
   ],
   "source": [
    "movies_cluster.head()"
   ]
  },
  {
   "cell_type": "code",
   "execution_count": 53,
   "metadata": {},
   "outputs": [],
   "source": [
    "movies_cluster.to_csv('IMDB_movies_clustered.csv', index = False)"
   ]
  },
  {
   "cell_type": "markdown",
   "metadata": {},
   "source": [
    "**Analyzing clusters**\n",
    "\n",
    "In hierarchical clustering we can´t get a description of the clusters, just know which elements belong to each one"
   ]
  },
  {
   "cell_type": "markdown",
   "metadata": {},
   "source": [
    "**Create the most viewed and the top rated movies dataframes**\n",
    "\n",
    "Let´s get the movies with percentile higher to 90% of most viewed and rated "
   ]
  },
  {
   "cell_type": "code",
   "execution_count": 61,
   "metadata": {},
   "outputs": [
    {
     "data": {
      "text/html": [
       "<div>\n",
       "<style scoped>\n",
       "    .dataframe tbody tr th:only-of-type {\n",
       "        vertical-align: middle;\n",
       "    }\n",
       "\n",
       "    .dataframe tbody tr th {\n",
       "        vertical-align: top;\n",
       "    }\n",
       "\n",
       "    .dataframe thead th {\n",
       "        text-align: right;\n",
       "    }\n",
       "</style>\n",
       "<table border=\"1\" class=\"dataframe\">\n",
       "  <thead>\n",
       "    <tr style=\"text-align: right;\">\n",
       "      <th></th>\n",
       "      <th>originalTitle</th>\n",
       "      <th>Genres</th>\n",
       "      <th>Year</th>\n",
       "      <th>Minutes</th>\n",
       "      <th>director</th>\n",
       "      <th>actor</th>\n",
       "      <th>actress</th>\n",
       "      <th>writer</th>\n",
       "      <th>numVotes</th>\n",
       "      <th>averageRating</th>\n",
       "      <th>kmeans_cluster</th>\n",
       "      <th>hier_cluster</th>\n",
       "    </tr>\n",
       "  </thead>\n",
       "  <tbody>\n",
       "    <tr>\n",
       "      <th>0</th>\n",
       "      <td>L'Inferno</td>\n",
       "      <td>Adventure,Drama,Fantasy</td>\n",
       "      <td>1911</td>\n",
       "      <td>68</td>\n",
       "      <td>Francesco Bertolini</td>\n",
       "      <td>Salvatore Papa</td>\n",
       "      <td>Not available</td>\n",
       "      <td>Dante Alighieri</td>\n",
       "      <td>2167</td>\n",
       "      <td>7.0</td>\n",
       "      <td>57</td>\n",
       "      <td>1</td>\n",
       "    </tr>\n",
       "    <tr>\n",
       "      <th>1</th>\n",
       "      <td>Fantômas - À l'ombre de la guillotine</td>\n",
       "      <td>Crime,Drama</td>\n",
       "      <td>1913</td>\n",
       "      <td>54</td>\n",
       "      <td>Louis Feuillade</td>\n",
       "      <td>René Navarre</td>\n",
       "      <td>Renée Carl</td>\n",
       "      <td>Marcel Allain</td>\n",
       "      <td>1915</td>\n",
       "      <td>7.0</td>\n",
       "      <td>59</td>\n",
       "      <td>1</td>\n",
       "    </tr>\n",
       "    <tr>\n",
       "      <th>2</th>\n",
       "      <td>Juve contre Fantômas</td>\n",
       "      <td>Crime,Drama</td>\n",
       "      <td>1913</td>\n",
       "      <td>61</td>\n",
       "      <td>Louis Feuillade</td>\n",
       "      <td>René Navarre</td>\n",
       "      <td>Renée Carl</td>\n",
       "      <td>Marcel Allain</td>\n",
       "      <td>1334</td>\n",
       "      <td>7.0</td>\n",
       "      <td>59</td>\n",
       "      <td>1</td>\n",
       "    </tr>\n",
       "    <tr>\n",
       "      <th>3</th>\n",
       "      <td>Le mort qui tue</td>\n",
       "      <td>Crime,Drama,Mystery</td>\n",
       "      <td>1913</td>\n",
       "      <td>90</td>\n",
       "      <td>Louis Feuillade</td>\n",
       "      <td>René Navarre</td>\n",
       "      <td>Not available</td>\n",
       "      <td>Marcel Allain</td>\n",
       "      <td>1033</td>\n",
       "      <td>7.0</td>\n",
       "      <td>8</td>\n",
       "      <td>1</td>\n",
       "    </tr>\n",
       "    <tr>\n",
       "      <th>4</th>\n",
       "      <td>Der Student von Prag</td>\n",
       "      <td>Drama,Fantasy,Horror</td>\n",
       "      <td>1913</td>\n",
       "      <td>85</td>\n",
       "      <td>Stellan Rye</td>\n",
       "      <td>Paul Wegener</td>\n",
       "      <td>Grete Berger</td>\n",
       "      <td>Hanns Heinz Ewers</td>\n",
       "      <td>1735</td>\n",
       "      <td>6.5</td>\n",
       "      <td>10</td>\n",
       "      <td>1</td>\n",
       "    </tr>\n",
       "  </tbody>\n",
       "</table>\n",
       "</div>"
      ],
      "text/plain": [
       "                           originalTitle                   Genres  Year  \\\n",
       "0                              L'Inferno  Adventure,Drama,Fantasy  1911   \n",
       "1  Fantômas - À l'ombre de la guillotine              Crime,Drama  1913   \n",
       "2                   Juve contre Fantômas              Crime,Drama  1913   \n",
       "3                        Le mort qui tue      Crime,Drama,Mystery  1913   \n",
       "4                   Der Student von Prag     Drama,Fantasy,Horror  1913   \n",
       "\n",
       "   Minutes             director           actor        actress  \\\n",
       "0       68  Francesco Bertolini  Salvatore Papa  Not available   \n",
       "1       54      Louis Feuillade    René Navarre     Renée Carl   \n",
       "2       61      Louis Feuillade    René Navarre     Renée Carl   \n",
       "3       90      Louis Feuillade    René Navarre  Not available   \n",
       "4       85          Stellan Rye    Paul Wegener   Grete Berger   \n",
       "\n",
       "              writer  numVotes  averageRating  kmeans_cluster  hier_cluster  \n",
       "0    Dante Alighieri      2167            7.0              57             1  \n",
       "1      Marcel Allain      1915            7.0              59             1  \n",
       "2      Marcel Allain      1334            7.0              59             1  \n",
       "3      Marcel Allain      1033            7.0               8             1  \n",
       "4  Hanns Heinz Ewers      1735            6.5              10             1  "
      ]
     },
     "execution_count": 61,
     "metadata": {},
     "output_type": "execute_result"
    }
   ],
   "source": [
    "movies_cluster.head()"
   ]
  },
  {
   "cell_type": "code",
   "execution_count": 62,
   "metadata": {},
   "outputs": [
    {
     "data": {
      "text/html": [
       "<div>\n",
       "<style scoped>\n",
       "    .dataframe tbody tr th:only-of-type {\n",
       "        vertical-align: middle;\n",
       "    }\n",
       "\n",
       "    .dataframe tbody tr th {\n",
       "        vertical-align: top;\n",
       "    }\n",
       "\n",
       "    .dataframe thead th {\n",
       "        text-align: right;\n",
       "    }\n",
       "</style>\n",
       "<table border=\"1\" class=\"dataframe\">\n",
       "  <thead>\n",
       "    <tr style=\"text-align: right;\">\n",
       "      <th></th>\n",
       "      <th>Year</th>\n",
       "      <th>Minutes</th>\n",
       "      <th>numVotes</th>\n",
       "      <th>averageRating</th>\n",
       "      <th>kmeans_cluster</th>\n",
       "      <th>hier_cluster</th>\n",
       "    </tr>\n",
       "  </thead>\n",
       "  <tbody>\n",
       "    <tr>\n",
       "      <th>count</th>\n",
       "      <td>30321.000000</td>\n",
       "      <td>30321.000000</td>\n",
       "      <td>3.032100e+04</td>\n",
       "      <td>30321.000000</td>\n",
       "      <td>30321.000000</td>\n",
       "      <td>30321.000000</td>\n",
       "    </tr>\n",
       "    <tr>\n",
       "      <th>mean</th>\n",
       "      <td>1996.255598</td>\n",
       "      <td>105.274232</td>\n",
       "      <td>2.599782e+04</td>\n",
       "      <td>6.367772</td>\n",
       "      <td>35.375251</td>\n",
       "      <td>1.360080</td>\n",
       "    </tr>\n",
       "    <tr>\n",
       "      <th>std</th>\n",
       "      <td>21.817777</td>\n",
       "      <td>22.694860</td>\n",
       "      <td>8.636674e+04</td>\n",
       "      <td>1.131042</td>\n",
       "      <td>22.129687</td>\n",
       "      <td>1.294685</td>\n",
       "    </tr>\n",
       "    <tr>\n",
       "      <th>min</th>\n",
       "      <td>1911.000000</td>\n",
       "      <td>45.000000</td>\n",
       "      <td>1.001000e+03</td>\n",
       "      <td>1.000000</td>\n",
       "      <td>0.000000</td>\n",
       "      <td>0.000000</td>\n",
       "    </tr>\n",
       "    <tr>\n",
       "      <th>25%</th>\n",
       "      <td>1986.000000</td>\n",
       "      <td>91.000000</td>\n",
       "      <td>1.704000e+03</td>\n",
       "      <td>5.700000</td>\n",
       "      <td>16.000000</td>\n",
       "      <td>0.000000</td>\n",
       "    </tr>\n",
       "    <tr>\n",
       "      <th>50%</th>\n",
       "      <td>2004.000000</td>\n",
       "      <td>100.000000</td>\n",
       "      <td>3.542000e+03</td>\n",
       "      <td>6.500000</td>\n",
       "      <td>32.000000</td>\n",
       "      <td>1.000000</td>\n",
       "    </tr>\n",
       "    <tr>\n",
       "      <th>75%</th>\n",
       "      <td>2013.000000</td>\n",
       "      <td>114.000000</td>\n",
       "      <td>1.230100e+04</td>\n",
       "      <td>7.200000</td>\n",
       "      <td>54.000000</td>\n",
       "      <td>2.000000</td>\n",
       "    </tr>\n",
       "    <tr>\n",
       "      <th>max</th>\n",
       "      <td>2020.000000</td>\n",
       "      <td>729.000000</td>\n",
       "      <td>2.242140e+06</td>\n",
       "      <td>9.500000</td>\n",
       "      <td>79.000000</td>\n",
       "      <td>4.000000</td>\n",
       "    </tr>\n",
       "  </tbody>\n",
       "</table>\n",
       "</div>"
      ],
      "text/plain": [
       "               Year       Minutes      numVotes  averageRating  \\\n",
       "count  30321.000000  30321.000000  3.032100e+04   30321.000000   \n",
       "mean    1996.255598    105.274232  2.599782e+04       6.367772   \n",
       "std       21.817777     22.694860  8.636674e+04       1.131042   \n",
       "min     1911.000000     45.000000  1.001000e+03       1.000000   \n",
       "25%     1986.000000     91.000000  1.704000e+03       5.700000   \n",
       "50%     2004.000000    100.000000  3.542000e+03       6.500000   \n",
       "75%     2013.000000    114.000000  1.230100e+04       7.200000   \n",
       "max     2020.000000    729.000000  2.242140e+06       9.500000   \n",
       "\n",
       "       kmeans_cluster  hier_cluster  \n",
       "count    30321.000000  30321.000000  \n",
       "mean        35.375251      1.360080  \n",
       "std         22.129687      1.294685  \n",
       "min          0.000000      0.000000  \n",
       "25%         16.000000      0.000000  \n",
       "50%         32.000000      1.000000  \n",
       "75%         54.000000      2.000000  \n",
       "max         79.000000      4.000000  "
      ]
     },
     "execution_count": 62,
     "metadata": {},
     "output_type": "execute_result"
    }
   ],
   "source": [
    "movies_cluster.describe()"
   ]
  },
  {
   "cell_type": "code",
   "execution_count": 60,
   "metadata": {},
   "outputs": [
    {
     "data": {
      "text/plain": [
       "54714.0"
      ]
     },
     "execution_count": 60,
     "metadata": {},
     "output_type": "execute_result"
    }
   ],
   "source": [
    "movies_cluster.numVotes.quantile(0.9)"
   ]
  },
  {
   "cell_type": "code",
   "execution_count": 63,
   "metadata": {},
   "outputs": [],
   "source": [
    "movies_cluster_views = movies_cluster[movies_cluster.numVotes > 54714]"
   ]
  },
  {
   "cell_type": "code",
   "execution_count": 64,
   "metadata": {},
   "outputs": [
    {
     "data": {
      "text/plain": [
       "7.6"
      ]
     },
     "execution_count": 64,
     "metadata": {},
     "output_type": "execute_result"
    }
   ],
   "source": [
    "movies_cluster.averageRating.quantile(0.9)"
   ]
  },
  {
   "cell_type": "code",
   "execution_count": 65,
   "metadata": {},
   "outputs": [],
   "source": [
    "movies_cluster_rates = movies_cluster[movies_cluster.averageRating > 7.6]"
   ]
  },
  {
   "cell_type": "code",
   "execution_count": 66,
   "metadata": {},
   "outputs": [
    {
     "data": {
      "text/plain": [
       "((30321, 12), (3032, 12), (2897, 12))"
      ]
     },
     "execution_count": 66,
     "metadata": {},
     "output_type": "execute_result"
    }
   ],
   "source": [
    "movies_cluster.shape, movies_cluster_views.shape, movies_cluster_rates.shape"
   ]
  },
  {
   "cell_type": "markdown",
   "metadata": {},
   "source": [
    "#### Comparing the three clusterizations\n",
    "\n",
    "Now that we have clustered the three databases, we are going to compare the results.\n",
    "\n",
    "Next, you can see the rate of movies belonging to each cluster for the three databases"
   ]
  },
  {
   "cell_type": "code",
   "execution_count": 67,
   "metadata": {},
   "outputs": [],
   "source": [
    "hier_clusters = movies_cluster.groupby(['hier_cluster'])['originalTitle'].count() * 100 /len(movies_cluster)"
   ]
  },
  {
   "cell_type": "code",
   "execution_count": 68,
   "metadata": {},
   "outputs": [],
   "source": [
    "hier_clusters = hier_clusters.to_frame().reset_index()\n",
    "hier_clusters.columns = ['hier_cluster', \"%_movies\"]"
   ]
  },
  {
   "cell_type": "code",
   "execution_count": 70,
   "metadata": {},
   "outputs": [],
   "source": [
    "hier_clusters['%_top_rated_movies'] = movies_cluster_rates.groupby(['hier_cluster'])['originalTitle'].count() * 100 /len(movies_cluster_rates)\n",
    "hier_clusters['%_top_viewed_movies'] = movies_cluster_views.groupby(['hier_cluster'])['originalTitle'].count() * 100 /len(movies_cluster_views)"
   ]
  },
  {
   "cell_type": "code",
   "execution_count": 71,
   "metadata": {},
   "outputs": [
    {
     "data": {
      "text/html": [
       "<div>\n",
       "<style scoped>\n",
       "    .dataframe tbody tr th:only-of-type {\n",
       "        vertical-align: middle;\n",
       "    }\n",
       "\n",
       "    .dataframe tbody tr th {\n",
       "        vertical-align: top;\n",
       "    }\n",
       "\n",
       "    .dataframe thead th {\n",
       "        text-align: right;\n",
       "    }\n",
       "</style>\n",
       "<table border=\"1\" class=\"dataframe\">\n",
       "  <thead>\n",
       "    <tr style=\"text-align: right;\">\n",
       "      <th></th>\n",
       "      <th>hier_cluster</th>\n",
       "      <th>%_movies</th>\n",
       "      <th>%_top_rated_movies</th>\n",
       "      <th>%_top_viewed_movies</th>\n",
       "    </tr>\n",
       "  </thead>\n",
       "  <tbody>\n",
       "    <tr>\n",
       "      <th>0</th>\n",
       "      <td>0</td>\n",
       "      <td>35.569407</td>\n",
       "      <td>31.342768</td>\n",
       "      <td>36.477573</td>\n",
       "    </tr>\n",
       "    <tr>\n",
       "      <th>1</th>\n",
       "      <td>1</td>\n",
       "      <td>21.077801</td>\n",
       "      <td>33.137729</td>\n",
       "      <td>8.278364</td>\n",
       "    </tr>\n",
       "    <tr>\n",
       "      <th>2</th>\n",
       "      <td>2</td>\n",
       "      <td>23.620593</td>\n",
       "      <td>14.877459</td>\n",
       "      <td>34.069921</td>\n",
       "    </tr>\n",
       "    <tr>\n",
       "      <th>3</th>\n",
       "      <td>3</td>\n",
       "      <td>11.239735</td>\n",
       "      <td>10.907836</td>\n",
       "      <td>14.412929</td>\n",
       "    </tr>\n",
       "    <tr>\n",
       "      <th>4</th>\n",
       "      <td>4</td>\n",
       "      <td>8.492464</td>\n",
       "      <td>9.734208</td>\n",
       "      <td>6.761214</td>\n",
       "    </tr>\n",
       "  </tbody>\n",
       "</table>\n",
       "</div>"
      ],
      "text/plain": [
       "   hier_cluster   %_movies  %_top_rated_movies  %_top_viewed_movies\n",
       "0             0  35.569407           31.342768            36.477573\n",
       "1             1  21.077801           33.137729             8.278364\n",
       "2             2  23.620593           14.877459            34.069921\n",
       "3             3  11.239735           10.907836            14.412929\n",
       "4             4   8.492464            9.734208             6.761214"
      ]
     },
     "execution_count": 71,
     "metadata": {},
     "output_type": "execute_result"
    }
   ],
   "source": [
    "hier_clusters"
   ]
  },
  {
   "cell_type": "code",
   "execution_count": 75,
   "metadata": {},
   "outputs": [
    {
     "data": {
      "image/png": "[encoded data removed]",
      "text/plain": [
       "<Figure size 432x288 with 1 Axes>"
      ]
     },
     "metadata": {
      "needs_background": "light"
     },
     "output_type": "display_data"
    }
   ],
   "source": [
    "# data to plot\n",
    "n_groups = 5\n",
    "\n",
    "# create plot\n",
    "fig, ax = plt.subplots()\n",
    "index = np.arange(n_groups)\n",
    "bar_width = 0.25\n",
    "opacity = 0.8\n",
    "\n",
    "\n",
    "\n",
    "rects1 = plt.bar(hier_clusters.hier_cluster, hier_clusters[('%_movies')], bar_width,\n",
    "color='b',\n",
    "label='All')\n",
    "\n",
    "rects2 = plt.bar(hier_clusters.hier_cluster  + bar_width, hier_clusters[('%_top_rated_movies')], bar_width,\n",
    "color='g',\n",
    "label='Top_rated')\n",
    "\n",
    "rects3 = plt.bar(hier_clusters.hier_cluster  + 2*bar_width, hier_clusters[('%_top_viewed_movies')], bar_width,\n",
    "color='r',\n",
    "label='Top_viewed')\n",
    "\n",
    "plt.xlabel('Cluster')\n",
    "plt.ylabel('% movies')\n",
    "plt.title('% movies on hierarchical clusters')\n",
    "plt.xticks(index , index)\n",
    "\n",
    "plt.legend()\n",
    "# ax.tick_params(labelsize=3)\n",
    "\n",
    "plt.savefig('blog/04_clustering/02_Clusters_hier.png', format='png', dpi=2400);\n",
    "\n",
    "plt.tight_layout()\n",
    "plt.show()\n",
    "\n"
   ]
  },
  {
   "cell_type": "markdown",
   "metadata": {},
   "source": [
    "Most of the movies (more than 30% of each category) are in cluster 0.\n",
    "\n",
    "Clusters 0, 3 and 4 are balanced but number 1 has much more top rated movies and cluster 2 has top viewed movies as predominant"
   ]
  },
  {
   "cell_type": "markdown",
   "metadata": {},
   "source": [
    "### <a class=\"anchor\" id=\"Clust_general\"> 3.b.- Clustering database with Gaussian Mixture Model Clustering\n",
    "\n",
    "In this section we apply GMM Clustering to the dataframe. "
   ]
  },
  {
   "cell_type": "code",
   "execution_count": 2,
   "metadata": {},
   "outputs": [],
   "source": [
    "movies_pca_end = pd.read_csv('IMDB_movies_clasif_pca_end.csv')"
   ]
  },
  {
   "cell_type": "markdown",
   "metadata": {},
   "source": [
    "**How do we initialize the algorithm?**\n",
    "\n",
    "GMM algorithm is very sensible to the initialization state, that is determined by the hyperparameter of random_state. We are going to check different values for it for 5 clusters, and see which one gets better score"
   ]
  },
  {
   "cell_type": "code",
   "execution_count": 7,
   "metadata": {},
   "outputs": [],
   "source": [
    "def get_sil_score(data, random):\n",
    "    \n",
    "    start_time = time.time()    \n",
    "    \n",
    "    gmm = mixture.GaussianMixture(n_components = 5, random_state = random)\n",
    "    labels = gmm.fit_predict(data)\n",
    "\n",
    "    score = silhouette_score(data, labels)\n",
    "       \n",
    "\n",
    "    exec_time = round((time.time() - start_time)/60,2)\n",
    "    print(\"Execution time:\",exec_time,\"minutes\")\n",
    "    print(\"The silhouette score for\",random,\"random state and 5 components is\", score)\n",
    "    return score"
   ]
  },
  {
   "cell_type": "code",
   "execution_count": 8,
   "metadata": {},
   "outputs": [],
   "source": [
    "scores = []\n",
    "random = [10,20,30,40,50,99]"
   ]
  },
  {
   "cell_type": "code",
   "execution_count": 9,
   "metadata": {},
   "outputs": [
    {
     "name": "stdout",
     "output_type": "stream",
     "text": [
      "Execution time: 1.96 minutes\n",
      "The silhouette score for 10 random state and 5 components is -0.005450687323295617\n"
     ]
    }
   ],
   "source": [
    "scores.append(get_sil_score(movies_pca_end, 10))"
   ]
  },
  {
   "cell_type": "code",
   "execution_count": 11,
   "metadata": {},
   "outputs": [
    {
     "name": "stdout",
     "output_type": "stream",
     "text": [
      "Execution time: 1.68 minutes\n",
      "The silhouette score for 30 random state and 5 components is 0.07280535977985854\n"
     ]
    }
   ],
   "source": [
    "scores.append(get_sil_score(movies_pca_end, 30))"
   ]
  },
  {
   "cell_type": "code",
   "execution_count": 12,
   "metadata": {},
   "outputs": [
    {
     "name": "stdout",
     "output_type": "stream",
     "text": [
      "Execution time: 1.94 minutes\n",
      "The silhouette score for 40 random state and 5 components is -0.006886661584911164\n"
     ]
    }
   ],
   "source": [
    "scores.append(get_sil_score(movies_pca_end, 40))"
   ]
  },
  {
   "cell_type": "code",
   "execution_count": 13,
   "metadata": {},
   "outputs": [
    {
     "name": "stdout",
     "output_type": "stream",
     "text": [
      "Execution time: 0.56 minutes\n",
      "The silhouette score for 50 random state and 5 components is 0.14257509755353784\n"
     ]
    }
   ],
   "source": [
    "scores.append(get_sil_score(movies_pca_end, 50))"
   ]
  },
  {
   "cell_type": "code",
   "execution_count": 14,
   "metadata": {},
   "outputs": [
    {
     "name": "stdout",
     "output_type": "stream",
     "text": [
      "Execution time: 0.77 minutes\n",
      "The silhouette score for 99 random state and 5 components is 0.0619386532588174\n"
     ]
    }
   ],
   "source": [
    "scores.append(get_sil_score(movies_pca_end, 99))"
   ]
  },
  {
   "cell_type": "code",
   "execution_count": 17,
   "metadata": {},
   "outputs": [
    {
     "data": {
      "image/png": "[encoded data removed]",
      "text/plain": [
       "<Figure size 432x288 with 1 Axes>"
      ]
     },
     "metadata": {
      "needs_background": "light"
     },
     "output_type": "display_data"
    }
   ],
   "source": [
    "plt.plot(random, scores, linestyle='--', marker='o', color='b');\n",
    "plt.xlabel('random_state');\n",
    "plt.ylabel('Silhouette Score');\n",
    "plt.title('GMM clustering Silhouete Score for 5 clusters');"
   ]
  },
  {
   "cell_type": "markdown",
   "metadata": {},
   "source": [
    "Random state 50 is the best."
   ]
  },
  {
   "cell_type": "markdown",
   "metadata": {},
   "source": [
    "**How many clusters? The silhouette score**\n",
    "\n",
    "Like in prior examples we will apply the silhouette score to different number of clusters to get the one with highest score, initializing the algorithm with random state 50"
   ]
  },
  {
   "cell_type": "code",
   "execution_count": 19,
   "metadata": {},
   "outputs": [],
   "source": [
    "def get_sil_score(data, clusters):\n",
    "    \n",
    "    start_time = time.time()    \n",
    "    \n",
    "    gmm = mixture.GaussianMixture(n_components = clusters, random_state = 50)\n",
    "    labels = gmm.fit_predict(data)\n",
    "\n",
    "    score = silhouette_score(data, labels)\n",
    "       \n",
    "\n",
    "    exec_time = round((time.time() - start_time)/60,2)\n",
    "    print(\"Execution time:\",exec_time,\"minutes\")\n",
    "    print(\"The silhouette score for\",clusters,\"components is\", score)\n",
    "    return score"
   ]
  },
  {
   "cell_type": "code",
   "execution_count": 20,
   "metadata": {},
   "outputs": [],
   "source": [
    "scores = []\n",
    "centers = [4, 5, 6, 7, 10]"
   ]
  },
  {
   "cell_type": "code",
   "execution_count": 21,
   "metadata": {},
   "outputs": [
    {
     "name": "stdout",
     "output_type": "stream",
     "text": [
      "Execution time: 3.13 minutes\n",
      "The silhouette score for 10 components is -0.01898618004367647\n"
     ]
    }
   ],
   "source": [
    "scores.append(get_sil_score(movies_pca_end, 10))"
   ]
  },
  {
   "cell_type": "code",
   "execution_count": 22,
   "metadata": {},
   "outputs": [
    {
     "name": "stdout",
     "output_type": "stream",
     "text": [
      "Execution time: 2.25 minutes\n",
      "The silhouette score for 7 components is 0.0024400960281790967\n"
     ]
    }
   ],
   "source": [
    "scores.append(get_sil_score(movies_pca_end, 7))"
   ]
  },
  {
   "cell_type": "code",
   "execution_count": 23,
   "metadata": {},
   "outputs": [
    {
     "name": "stdout",
     "output_type": "stream",
     "text": [
      "Execution time: 1.75 minutes\n",
      "The silhouette score for 6 components is 0.10261369633523086\n"
     ]
    }
   ],
   "source": [
    "scores.append(get_sil_score(movies_pca_end, 6))"
   ]
  },
  {
   "cell_type": "code",
   "execution_count": 24,
   "metadata": {},
   "outputs": [
    {
     "name": "stdout",
     "output_type": "stream",
     "text": [
      "Execution time: 2.41 minutes\n",
      "The silhouette score for 4 components is 0.07103744687002352\n"
     ]
    }
   ],
   "source": [
    "scores.append(get_sil_score(movies_pca_end, 4))"
   ]
  },
  {
   "cell_type": "code",
   "execution_count": 58,
   "metadata": {},
   "outputs": [
    {
     "data": {
      "image/png": "[encoded data removed]",
      "text/plain": [
       "<Figure size 432x288 with 1 Axes>"
      ]
     },
     "metadata": {
      "needs_background": "light"
     },
     "output_type": "display_data"
    }
   ],
   "source": [
    "plt.plot(centers, scores, linestyle='--', marker='o', color='b');\n",
    "plt.xlabel('number of clusters');\n",
    "plt.ylabel('Silhouette Score');\n",
    "plt.title('GMM clustering');"
   ]
  },
  {
   "cell_type": "markdown",
   "metadata": {},
   "source": [
    "5 clusters is the optimal number. Let´s fit the model with this k\n",
    "\n",
    "**Fitting the model**\n",
    "\n",
    "We fit the model with 5 clusters and random state 50"
   ]
  },
  {
   "cell_type": "code",
   "execution_count": 29,
   "metadata": {},
   "outputs": [],
   "source": [
    "gmm = mixture.GaussianMixture(n_components = 5, random_state = 50)\n",
    "labels = gmm.fit_predict(movies_pca_end)"
   ]
  },
  {
   "cell_type": "code",
   "execution_count": 30,
   "metadata": {},
   "outputs": [
    {
     "data": {
      "text/plain": [
       "0.14257509755353784"
      ]
     },
     "execution_count": 30,
     "metadata": {},
     "output_type": "execute_result"
    }
   ],
   "source": [
    "silhouette_score(movies_pca_end, labels)"
   ]
  },
  {
   "cell_type": "markdown",
   "metadata": {},
   "source": [
    "Let´s analyze the labels predicted"
   ]
  },
  {
   "cell_type": "code",
   "execution_count": 31,
   "metadata": {},
   "outputs": [],
   "source": [
    "# labels = model.predict(movies_pca_end)\n",
    "labels_movies = pd.DataFrame(labels)\n",
    "labels_movies.columns = ['gmm_cluster']"
   ]
  },
  {
   "cell_type": "code",
   "execution_count": 32,
   "metadata": {},
   "outputs": [
    {
     "data": {
      "text/plain": [
       "(30321, 1)"
      ]
     },
     "execution_count": 32,
     "metadata": {},
     "output_type": "execute_result"
    }
   ],
   "source": [
    "labels_movies.shape"
   ]
  },
  {
   "cell_type": "markdown",
   "metadata": {},
   "source": [
    "Here you have the number of movies in each of the clusters"
   ]
  },
  {
   "cell_type": "code",
   "execution_count": 33,
   "metadata": {},
   "outputs": [
    {
     "data": {
      "text/plain": [
       "3    0.348372\n",
       "4    0.240394\n",
       "2    0.228521\n",
       "1    0.121797\n",
       "0    0.060915\n",
       "Name: gmm_cluster, dtype: float64"
      ]
     },
     "execution_count": 33,
     "metadata": {},
     "output_type": "execute_result"
    }
   ],
   "source": [
    "labels_movies.gmm_cluster.value_counts()/len(labels_movies)"
   ]
  },
  {
   "cell_type": "markdown",
   "metadata": {},
   "source": [
    "**Predicting clusters**\n",
    "\n",
    "We get the cluster where each movie belongs to"
   ]
  },
  {
   "cell_type": "code",
   "execution_count": 34,
   "metadata": {},
   "outputs": [],
   "source": [
    "movies_cluster = pd.read_csv('IMDB_movies_clustered.csv')"
   ]
  },
  {
   "cell_type": "code",
   "execution_count": 37,
   "metadata": {},
   "outputs": [
    {
     "data": {
      "text/html": [
       "<div>\n",
       "<style scoped>\n",
       "    .dataframe tbody tr th:only-of-type {\n",
       "        vertical-align: middle;\n",
       "    }\n",
       "\n",
       "    .dataframe tbody tr th {\n",
       "        vertical-align: top;\n",
       "    }\n",
       "\n",
       "    .dataframe thead th {\n",
       "        text-align: right;\n",
       "    }\n",
       "</style>\n",
       "<table border=\"1\" class=\"dataframe\">\n",
       "  <thead>\n",
       "    <tr style=\"text-align: right;\">\n",
       "      <th></th>\n",
       "      <th>originalTitle</th>\n",
       "      <th>Genres</th>\n",
       "      <th>Year</th>\n",
       "      <th>Minutes</th>\n",
       "      <th>director</th>\n",
       "      <th>actor</th>\n",
       "      <th>actress</th>\n",
       "      <th>writer</th>\n",
       "      <th>numVotes</th>\n",
       "      <th>averageRating</th>\n",
       "      <th>kmeans_cluster</th>\n",
       "      <th>hier_cluster</th>\n",
       "    </tr>\n",
       "  </thead>\n",
       "  <tbody>\n",
       "    <tr>\n",
       "      <th>0</th>\n",
       "      <td>L'Inferno</td>\n",
       "      <td>Adventure,Drama,Fantasy</td>\n",
       "      <td>1911</td>\n",
       "      <td>68</td>\n",
       "      <td>Francesco Bertolini</td>\n",
       "      <td>Salvatore Papa</td>\n",
       "      <td>Not available</td>\n",
       "      <td>Dante Alighieri</td>\n",
       "      <td>2167</td>\n",
       "      <td>7.0</td>\n",
       "      <td>57</td>\n",
       "      <td>1</td>\n",
       "    </tr>\n",
       "    <tr>\n",
       "      <th>1</th>\n",
       "      <td>Fantômas - À l'ombre de la guillotine</td>\n",
       "      <td>Crime,Drama</td>\n",
       "      <td>1913</td>\n",
       "      <td>54</td>\n",
       "      <td>Louis Feuillade</td>\n",
       "      <td>René Navarre</td>\n",
       "      <td>Renée Carl</td>\n",
       "      <td>Marcel Allain</td>\n",
       "      <td>1915</td>\n",
       "      <td>7.0</td>\n",
       "      <td>59</td>\n",
       "      <td>1</td>\n",
       "    </tr>\n",
       "    <tr>\n",
       "      <th>2</th>\n",
       "      <td>Juve contre Fantômas</td>\n",
       "      <td>Crime,Drama</td>\n",
       "      <td>1913</td>\n",
       "      <td>61</td>\n",
       "      <td>Louis Feuillade</td>\n",
       "      <td>René Navarre</td>\n",
       "      <td>Renée Carl</td>\n",
       "      <td>Marcel Allain</td>\n",
       "      <td>1334</td>\n",
       "      <td>7.0</td>\n",
       "      <td>59</td>\n",
       "      <td>1</td>\n",
       "    </tr>\n",
       "    <tr>\n",
       "      <th>3</th>\n",
       "      <td>Le mort qui tue</td>\n",
       "      <td>Crime,Drama,Mystery</td>\n",
       "      <td>1913</td>\n",
       "      <td>90</td>\n",
       "      <td>Louis Feuillade</td>\n",
       "      <td>René Navarre</td>\n",
       "      <td>Not available</td>\n",
       "      <td>Marcel Allain</td>\n",
       "      <td>1033</td>\n",
       "      <td>7.0</td>\n",
       "      <td>8</td>\n",
       "      <td>1</td>\n",
       "    </tr>\n",
       "    <tr>\n",
       "      <th>4</th>\n",
       "      <td>Der Student von Prag</td>\n",
       "      <td>Drama,Fantasy,Horror</td>\n",
       "      <td>1913</td>\n",
       "      <td>85</td>\n",
       "      <td>Stellan Rye</td>\n",
       "      <td>Paul Wegener</td>\n",
       "      <td>Grete Berger</td>\n",
       "      <td>Hanns Heinz Ewers</td>\n",
       "      <td>1735</td>\n",
       "      <td>6.5</td>\n",
       "      <td>10</td>\n",
       "      <td>1</td>\n",
       "    </tr>\n",
       "  </tbody>\n",
       "</table>\n",
       "</div>"
      ],
      "text/plain": [
       "                           originalTitle                   Genres  Year  \\\n",
       "0                              L'Inferno  Adventure,Drama,Fantasy  1911   \n",
       "1  Fantômas - À l'ombre de la guillotine              Crime,Drama  1913   \n",
       "2                   Juve contre Fantômas              Crime,Drama  1913   \n",
       "3                        Le mort qui tue      Crime,Drama,Mystery  1913   \n",
       "4                   Der Student von Prag     Drama,Fantasy,Horror  1913   \n",
       "\n",
       "   Minutes             director           actor        actress  \\\n",
       "0       68  Francesco Bertolini  Salvatore Papa  Not available   \n",
       "1       54      Louis Feuillade    René Navarre     Renée Carl   \n",
       "2       61      Louis Feuillade    René Navarre     Renée Carl   \n",
       "3       90      Louis Feuillade    René Navarre  Not available   \n",
       "4       85          Stellan Rye    Paul Wegener   Grete Berger   \n",
       "\n",
       "              writer  numVotes  averageRating  kmeans_cluster  hier_cluster  \n",
       "0    Dante Alighieri      2167            7.0              57             1  \n",
       "1      Marcel Allain      1915            7.0              59             1  \n",
       "2      Marcel Allain      1334            7.0              59             1  \n",
       "3      Marcel Allain      1033            7.0               8             1  \n",
       "4  Hanns Heinz Ewers      1735            6.5              10             1  "
      ]
     },
     "execution_count": 37,
     "metadata": {},
     "output_type": "execute_result"
    }
   ],
   "source": [
    "movies_cluster.head()"
   ]
  },
  {
   "cell_type": "code",
   "execution_count": 38,
   "metadata": {},
   "outputs": [
    {
     "data": {
      "text/html": [
       "<div>\n",
       "<style scoped>\n",
       "    .dataframe tbody tr th:only-of-type {\n",
       "        vertical-align: middle;\n",
       "    }\n",
       "\n",
       "    .dataframe tbody tr th {\n",
       "        vertical-align: top;\n",
       "    }\n",
       "\n",
       "    .dataframe thead th {\n",
       "        text-align: right;\n",
       "    }\n",
       "</style>\n",
       "<table border=\"1\" class=\"dataframe\">\n",
       "  <thead>\n",
       "    <tr style=\"text-align: right;\">\n",
       "      <th></th>\n",
       "      <th>gmm_cluster</th>\n",
       "    </tr>\n",
       "  </thead>\n",
       "  <tbody>\n",
       "    <tr>\n",
       "      <th>0</th>\n",
       "      <td>2</td>\n",
       "    </tr>\n",
       "    <tr>\n",
       "      <th>1</th>\n",
       "      <td>2</td>\n",
       "    </tr>\n",
       "    <tr>\n",
       "      <th>2</th>\n",
       "      <td>2</td>\n",
       "    </tr>\n",
       "    <tr>\n",
       "      <th>3</th>\n",
       "      <td>2</td>\n",
       "    </tr>\n",
       "    <tr>\n",
       "      <th>4</th>\n",
       "      <td>2</td>\n",
       "    </tr>\n",
       "  </tbody>\n",
       "</table>\n",
       "</div>"
      ],
      "text/plain": [
       "   gmm_cluster\n",
       "0            2\n",
       "1            2\n",
       "2            2\n",
       "3            2\n",
       "4            2"
      ]
     },
     "execution_count": 38,
     "metadata": {},
     "output_type": "execute_result"
    }
   ],
   "source": [
    "labels_movies.head()"
   ]
  },
  {
   "cell_type": "code",
   "execution_count": 39,
   "metadata": {},
   "outputs": [
    {
     "data": {
      "text/plain": [
       "((30321, 12), (30321, 1))"
      ]
     },
     "execution_count": 39,
     "metadata": {},
     "output_type": "execute_result"
    }
   ],
   "source": [
    "movies_cluster.shape, labels_movies.shape"
   ]
  },
  {
   "cell_type": "code",
   "execution_count": 40,
   "metadata": {},
   "outputs": [],
   "source": [
    "movies_cluster = pd.merge(movies_cluster, labels_movies, left_index=True, right_index=True)"
   ]
  },
  {
   "cell_type": "code",
   "execution_count": 41,
   "metadata": {},
   "outputs": [
    {
     "data": {
      "text/html": [
       "<div>\n",
       "<style scoped>\n",
       "    .dataframe tbody tr th:only-of-type {\n",
       "        vertical-align: middle;\n",
       "    }\n",
       "\n",
       "    .dataframe tbody tr th {\n",
       "        vertical-align: top;\n",
       "    }\n",
       "\n",
       "    .dataframe thead th {\n",
       "        text-align: right;\n",
       "    }\n",
       "</style>\n",
       "<table border=\"1\" class=\"dataframe\">\n",
       "  <thead>\n",
       "    <tr style=\"text-align: right;\">\n",
       "      <th></th>\n",
       "      <th>originalTitle</th>\n",
       "      <th>Genres</th>\n",
       "      <th>Year</th>\n",
       "      <th>Minutes</th>\n",
       "      <th>director</th>\n",
       "      <th>actor</th>\n",
       "      <th>actress</th>\n",
       "      <th>writer</th>\n",
       "      <th>numVotes</th>\n",
       "      <th>averageRating</th>\n",
       "      <th>kmeans_cluster</th>\n",
       "      <th>hier_cluster</th>\n",
       "      <th>gmm_cluster</th>\n",
       "    </tr>\n",
       "  </thead>\n",
       "  <tbody>\n",
       "    <tr>\n",
       "      <th>0</th>\n",
       "      <td>L'Inferno</td>\n",
       "      <td>Adventure,Drama,Fantasy</td>\n",
       "      <td>1911</td>\n",
       "      <td>68</td>\n",
       "      <td>Francesco Bertolini</td>\n",
       "      <td>Salvatore Papa</td>\n",
       "      <td>Not available</td>\n",
       "      <td>Dante Alighieri</td>\n",
       "      <td>2167</td>\n",
       "      <td>7.0</td>\n",
       "      <td>57</td>\n",
       "      <td>1</td>\n",
       "      <td>2</td>\n",
       "    </tr>\n",
       "    <tr>\n",
       "      <th>1</th>\n",
       "      <td>Fantômas - À l'ombre de la guillotine</td>\n",
       "      <td>Crime,Drama</td>\n",
       "      <td>1913</td>\n",
       "      <td>54</td>\n",
       "      <td>Louis Feuillade</td>\n",
       "      <td>René Navarre</td>\n",
       "      <td>Renée Carl</td>\n",
       "      <td>Marcel Allain</td>\n",
       "      <td>1915</td>\n",
       "      <td>7.0</td>\n",
       "      <td>59</td>\n",
       "      <td>1</td>\n",
       "      <td>2</td>\n",
       "    </tr>\n",
       "    <tr>\n",
       "      <th>2</th>\n",
       "      <td>Juve contre Fantômas</td>\n",
       "      <td>Crime,Drama</td>\n",
       "      <td>1913</td>\n",
       "      <td>61</td>\n",
       "      <td>Louis Feuillade</td>\n",
       "      <td>René Navarre</td>\n",
       "      <td>Renée Carl</td>\n",
       "      <td>Marcel Allain</td>\n",
       "      <td>1334</td>\n",
       "      <td>7.0</td>\n",
       "      <td>59</td>\n",
       "      <td>1</td>\n",
       "      <td>2</td>\n",
       "    </tr>\n",
       "    <tr>\n",
       "      <th>3</th>\n",
       "      <td>Le mort qui tue</td>\n",
       "      <td>Crime,Drama,Mystery</td>\n",
       "      <td>1913</td>\n",
       "      <td>90</td>\n",
       "      <td>Louis Feuillade</td>\n",
       "      <td>René Navarre</td>\n",
       "      <td>Not available</td>\n",
       "      <td>Marcel Allain</td>\n",
       "      <td>1033</td>\n",
       "      <td>7.0</td>\n",
       "      <td>8</td>\n",
       "      <td>1</td>\n",
       "      <td>2</td>\n",
       "    </tr>\n",
       "    <tr>\n",
       "      <th>4</th>\n",
       "      <td>Der Student von Prag</td>\n",
       "      <td>Drama,Fantasy,Horror</td>\n",
       "      <td>1913</td>\n",
       "      <td>85</td>\n",
       "      <td>Stellan Rye</td>\n",
       "      <td>Paul Wegener</td>\n",
       "      <td>Grete Berger</td>\n",
       "      <td>Hanns Heinz Ewers</td>\n",
       "      <td>1735</td>\n",
       "      <td>6.5</td>\n",
       "      <td>10</td>\n",
       "      <td>1</td>\n",
       "      <td>2</td>\n",
       "    </tr>\n",
       "  </tbody>\n",
       "</table>\n",
       "</div>"
      ],
      "text/plain": [
       "                           originalTitle                   Genres  Year  \\\n",
       "0                              L'Inferno  Adventure,Drama,Fantasy  1911   \n",
       "1  Fantômas - À l'ombre de la guillotine              Crime,Drama  1913   \n",
       "2                   Juve contre Fantômas              Crime,Drama  1913   \n",
       "3                        Le mort qui tue      Crime,Drama,Mystery  1913   \n",
       "4                   Der Student von Prag     Drama,Fantasy,Horror  1913   \n",
       "\n",
       "   Minutes             director           actor        actress  \\\n",
       "0       68  Francesco Bertolini  Salvatore Papa  Not available   \n",
       "1       54      Louis Feuillade    René Navarre     Renée Carl   \n",
       "2       61      Louis Feuillade    René Navarre     Renée Carl   \n",
       "3       90      Louis Feuillade    René Navarre  Not available   \n",
       "4       85          Stellan Rye    Paul Wegener   Grete Berger   \n",
       "\n",
       "              writer  numVotes  averageRating  kmeans_cluster  hier_cluster  \\\n",
       "0    Dante Alighieri      2167            7.0              57             1   \n",
       "1      Marcel Allain      1915            7.0              59             1   \n",
       "2      Marcel Allain      1334            7.0              59             1   \n",
       "3      Marcel Allain      1033            7.0               8             1   \n",
       "4  Hanns Heinz Ewers      1735            6.5              10             1   \n",
       "\n",
       "   gmm_cluster  \n",
       "0            2  \n",
       "1            2  \n",
       "2            2  \n",
       "3            2  \n",
       "4            2  "
      ]
     },
     "execution_count": 41,
     "metadata": {},
     "output_type": "execute_result"
    }
   ],
   "source": [
    "movies_cluster.head()"
   ]
  },
  {
   "cell_type": "code",
   "execution_count": 42,
   "metadata": {},
   "outputs": [],
   "source": [
    "movies_cluster.to_csv('IMDB_movies_clustered.csv', index = False)"
   ]
  },
  {
   "cell_type": "markdown",
   "metadata": {},
   "source": [
    "**Analyzing clusters**\n",
    "\n",
    "In GMM we can´t get a description of the clusters, just know which elements belong to each one\n",
    "\n",
    "**Probabilities of belonging to a cluster**\n",
    "\n",
    "One interesting thing is that GMM returns the probability that a data point belongs to each of the K clusters."
   ]
  },
  {
   "cell_type": "code",
   "execution_count": 43,
   "metadata": {},
   "outputs": [],
   "source": [
    "probs = gmm.predict_proba(movies_pca_end)"
   ]
  },
  {
   "cell_type": "code",
   "execution_count": 44,
   "metadata": {},
   "outputs": [
    {
     "data": {
      "text/plain": [
       "array([[0., 0., 1., 0., 0.],\n",
       "       [0., 0., 1., 0., 0.],\n",
       "       [0., 0., 1., 0., 0.],\n",
       "       ...,\n",
       "       [0., 0., 0., 1., 0.],\n",
       "       [0., 0., 1., 0., 0.],\n",
       "       [0., 0., 0., 1., 0.]])"
      ]
     },
     "execution_count": 44,
     "metadata": {},
     "output_type": "execute_result"
    }
   ],
   "source": [
    "probs"
   ]
  },
  {
   "cell_type": "markdown",
   "metadata": {},
   "source": [
    "**Create the most viewed and the top rated movies dataframes**\n",
    "\n",
    "Let´s get the movies with percentile higher to 90% of most viewed and rated "
   ]
  },
  {
   "cell_type": "code",
   "execution_count": 47,
   "metadata": {},
   "outputs": [
    {
     "data": {
      "text/plain": [
       "54714.0"
      ]
     },
     "execution_count": 47,
     "metadata": {},
     "output_type": "execute_result"
    }
   ],
   "source": [
    "movies_cluster.numVotes.quantile(0.9)"
   ]
  },
  {
   "cell_type": "code",
   "execution_count": 48,
   "metadata": {},
   "outputs": [],
   "source": [
    "movies_cluster_views = movies_cluster[movies_cluster.numVotes > 54714]"
   ]
  },
  {
   "cell_type": "code",
   "execution_count": 49,
   "metadata": {},
   "outputs": [
    {
     "data": {
      "text/plain": [
       "7.6"
      ]
     },
     "execution_count": 49,
     "metadata": {},
     "output_type": "execute_result"
    }
   ],
   "source": [
    "movies_cluster.averageRating.quantile(0.9)"
   ]
  },
  {
   "cell_type": "code",
   "execution_count": 50,
   "metadata": {},
   "outputs": [],
   "source": [
    "movies_cluster_rates = movies_cluster[movies_cluster.averageRating > 7.6]"
   ]
  },
  {
   "cell_type": "code",
   "execution_count": 51,
   "metadata": {},
   "outputs": [
    {
     "data": {
      "text/plain": [
       "((30321, 13), (3032, 13), (2897, 13))"
      ]
     },
     "execution_count": 51,
     "metadata": {},
     "output_type": "execute_result"
    }
   ],
   "source": [
    "movies_cluster.shape, movies_cluster_views.shape, movies_cluster_rates.shape"
   ]
  },
  {
   "cell_type": "markdown",
   "metadata": {},
   "source": [
    "#### Comparing the three clusterizations\n",
    "\n",
    "Now that we have clustered the three databases, we are going to compare the results.\n",
    "\n",
    "Next, you can see the rate of movies belonging to each cluster for the three databases"
   ]
  },
  {
   "cell_type": "code",
   "execution_count": 52,
   "metadata": {},
   "outputs": [],
   "source": [
    "gmm_clusters = movies_cluster.groupby(['gmm_cluster'])['originalTitle'].count() * 100 /len(movies_cluster)"
   ]
  },
  {
   "cell_type": "code",
   "execution_count": 53,
   "metadata": {},
   "outputs": [],
   "source": [
    "gmm_clusters = gmm_clusters.to_frame().reset_index()\n",
    "gmm_clusters.columns = ['gmm_cluster', \"%_movies\"]"
   ]
  },
  {
   "cell_type": "code",
   "execution_count": 54,
   "metadata": {},
   "outputs": [],
   "source": [
    "gmm_clusters['%_top_rated_movies'] = movies_cluster_rates.groupby(['gmm_cluster'])['originalTitle'].count() * 100 /len(movies_cluster_rates)\n",
    "gmm_clusters['%_top_viewed_movies'] = movies_cluster_views.groupby(['gmm_cluster'])['originalTitle'].count() * 100 /len(movies_cluster_views)"
   ]
  },
  {
   "cell_type": "code",
   "execution_count": 55,
   "metadata": {},
   "outputs": [
    {
     "data": {
      "text/html": [
       "<div>\n",
       "<style scoped>\n",
       "    .dataframe tbody tr th:only-of-type {\n",
       "        vertical-align: middle;\n",
       "    }\n",
       "\n",
       "    .dataframe tbody tr th {\n",
       "        vertical-align: top;\n",
       "    }\n",
       "\n",
       "    .dataframe thead th {\n",
       "        text-align: right;\n",
       "    }\n",
       "</style>\n",
       "<table border=\"1\" class=\"dataframe\">\n",
       "  <thead>\n",
       "    <tr style=\"text-align: right;\">\n",
       "      <th></th>\n",
       "      <th>gmm_cluster</th>\n",
       "      <th>%_movies</th>\n",
       "      <th>%_top_rated_movies</th>\n",
       "      <th>%_top_viewed_movies</th>\n",
       "    </tr>\n",
       "  </thead>\n",
       "  <tbody>\n",
       "    <tr>\n",
       "      <th>0</th>\n",
       "      <td>0</td>\n",
       "      <td>6.091488</td>\n",
       "      <td>9.285468</td>\n",
       "      <td>2.440633</td>\n",
       "    </tr>\n",
       "    <tr>\n",
       "      <th>1</th>\n",
       "      <td>1</td>\n",
       "      <td>12.179677</td>\n",
       "      <td>11.529168</td>\n",
       "      <td>15.303430</td>\n",
       "    </tr>\n",
       "    <tr>\n",
       "      <th>2</th>\n",
       "      <td>2</td>\n",
       "      <td>22.852149</td>\n",
       "      <td>34.898171</td>\n",
       "      <td>11.444591</td>\n",
       "    </tr>\n",
       "    <tr>\n",
       "      <th>3</th>\n",
       "      <td>3</td>\n",
       "      <td>34.837242</td>\n",
       "      <td>27.131515</td>\n",
       "      <td>36.741425</td>\n",
       "    </tr>\n",
       "    <tr>\n",
       "      <th>4</th>\n",
       "      <td>4</td>\n",
       "      <td>24.039445</td>\n",
       "      <td>17.155678</td>\n",
       "      <td>34.069921</td>\n",
       "    </tr>\n",
       "  </tbody>\n",
       "</table>\n",
       "</div>"
      ],
      "text/plain": [
       "   gmm_cluster   %_movies  %_top_rated_movies  %_top_viewed_movies\n",
       "0            0   6.091488            9.285468             2.440633\n",
       "1            1  12.179677           11.529168            15.303430\n",
       "2            2  22.852149           34.898171            11.444591\n",
       "3            3  34.837242           27.131515            36.741425\n",
       "4            4  24.039445           17.155678            34.069921"
      ]
     },
     "execution_count": 55,
     "metadata": {},
     "output_type": "execute_result"
    }
   ],
   "source": [
    "gmm_clusters"
   ]
  },
  {
   "cell_type": "code",
   "execution_count": 56,
   "metadata": {},
   "outputs": [
    {
     "data": {
      "image/png": "[encoded data removed]",
      "text/plain": [
       "<Figure size 432x288 with 1 Axes>"
      ]
     },
     "metadata": {
      "needs_background": "light"
     },
     "output_type": "display_data"
    }
   ],
   "source": [
    "# data to plot\n",
    "n_groups = 5\n",
    "\n",
    "# create plot\n",
    "fig, ax = plt.subplots()\n",
    "index = np.arange(n_groups)\n",
    "bar_width = 0.25\n",
    "opacity = 0.8\n",
    "\n",
    "\n",
    "rects1 = plt.bar(gmm_clusters.gmm_cluster, gmm_clusters[('%_movies')], bar_width,\n",
    "color='b',\n",
    "label='All')\n",
    "\n",
    "rects2 = plt.bar(gmm_clusters.gmm_cluster  + bar_width, gmm_clusters[('%_top_rated_movies')], bar_width,\n",
    "color='g',\n",
    "label='Top_rated')\n",
    "\n",
    "rects3 = plt.bar(gmm_clusters.gmm_cluster  + 2*bar_width, gmm_clusters[('%_top_viewed_movies')], bar_width,\n",
    "color='r',\n",
    "label='Top_viewed')\n",
    "\n",
    "plt.xlabel('Cluster')\n",
    "plt.ylabel('% movies')\n",
    "plt.title('% movies on gmm clusters')\n",
    "plt.xticks(index , index)\n",
    "\n",
    "plt.legend()\n",
    "# ax.tick_params(labelsize=3)\n",
    "\n",
    "plt.savefig('blog/04_clustering/02_Clusters_gmm.png', format='png', dpi=2400);\n",
    "\n",
    "plt.tight_layout()\n",
    "plt.show()"
   ]
  },
  {
   "cell_type": "markdown",
   "metadata": {},
   "source": [
    "### <a class=\"anchor\" id=\"Compare_1\"> 3.c.- Comparing hierarchical and GMM results\n",
    "    \n",
    "The results are really similar"
   ]
  },
  {
   "cell_type": "code",
   "execution_count": 59,
   "metadata": {},
   "outputs": [
    {
     "data": {
      "text/html": [
       "<div>\n",
       "<style scoped>\n",
       "    .dataframe tbody tr th:only-of-type {\n",
       "        vertical-align: middle;\n",
       "    }\n",
       "\n",
       "    .dataframe tbody tr th {\n",
       "        vertical-align: top;\n",
       "    }\n",
       "\n",
       "    .dataframe thead th {\n",
       "        text-align: right;\n",
       "    }\n",
       "</style>\n",
       "<table border=\"1\" class=\"dataframe\">\n",
       "  <thead>\n",
       "    <tr style=\"text-align: right;\">\n",
       "      <th></th>\n",
       "      <th>originalTitle</th>\n",
       "      <th>Genres</th>\n",
       "      <th>Year</th>\n",
       "      <th>Minutes</th>\n",
       "      <th>director</th>\n",
       "      <th>actor</th>\n",
       "      <th>actress</th>\n",
       "      <th>writer</th>\n",
       "      <th>numVotes</th>\n",
       "      <th>averageRating</th>\n",
       "      <th>kmeans_cluster</th>\n",
       "      <th>hier_cluster</th>\n",
       "      <th>gmm_cluster</th>\n",
       "    </tr>\n",
       "  </thead>\n",
       "  <tbody>\n",
       "    <tr>\n",
       "      <th>0</th>\n",
       "      <td>L'Inferno</td>\n",
       "      <td>Adventure,Drama,Fantasy</td>\n",
       "      <td>1911</td>\n",
       "      <td>68</td>\n",
       "      <td>Francesco Bertolini</td>\n",
       "      <td>Salvatore Papa</td>\n",
       "      <td>Not available</td>\n",
       "      <td>Dante Alighieri</td>\n",
       "      <td>2167</td>\n",
       "      <td>7.0</td>\n",
       "      <td>57</td>\n",
       "      <td>1</td>\n",
       "      <td>2</td>\n",
       "    </tr>\n",
       "    <tr>\n",
       "      <th>1</th>\n",
       "      <td>Fantômas - À l'ombre de la guillotine</td>\n",
       "      <td>Crime,Drama</td>\n",
       "      <td>1913</td>\n",
       "      <td>54</td>\n",
       "      <td>Louis Feuillade</td>\n",
       "      <td>René Navarre</td>\n",
       "      <td>Renée Carl</td>\n",
       "      <td>Marcel Allain</td>\n",
       "      <td>1915</td>\n",
       "      <td>7.0</td>\n",
       "      <td>59</td>\n",
       "      <td>1</td>\n",
       "      <td>2</td>\n",
       "    </tr>\n",
       "    <tr>\n",
       "      <th>2</th>\n",
       "      <td>Juve contre Fantômas</td>\n",
       "      <td>Crime,Drama</td>\n",
       "      <td>1913</td>\n",
       "      <td>61</td>\n",
       "      <td>Louis Feuillade</td>\n",
       "      <td>René Navarre</td>\n",
       "      <td>Renée Carl</td>\n",
       "      <td>Marcel Allain</td>\n",
       "      <td>1334</td>\n",
       "      <td>7.0</td>\n",
       "      <td>59</td>\n",
       "      <td>1</td>\n",
       "      <td>2</td>\n",
       "    </tr>\n",
       "    <tr>\n",
       "      <th>3</th>\n",
       "      <td>Le mort qui tue</td>\n",
       "      <td>Crime,Drama,Mystery</td>\n",
       "      <td>1913</td>\n",
       "      <td>90</td>\n",
       "      <td>Louis Feuillade</td>\n",
       "      <td>René Navarre</td>\n",
       "      <td>Not available</td>\n",
       "      <td>Marcel Allain</td>\n",
       "      <td>1033</td>\n",
       "      <td>7.0</td>\n",
       "      <td>8</td>\n",
       "      <td>1</td>\n",
       "      <td>2</td>\n",
       "    </tr>\n",
       "    <tr>\n",
       "      <th>4</th>\n",
       "      <td>Der Student von Prag</td>\n",
       "      <td>Drama,Fantasy,Horror</td>\n",
       "      <td>1913</td>\n",
       "      <td>85</td>\n",
       "      <td>Stellan Rye</td>\n",
       "      <td>Paul Wegener</td>\n",
       "      <td>Grete Berger</td>\n",
       "      <td>Hanns Heinz Ewers</td>\n",
       "      <td>1735</td>\n",
       "      <td>6.5</td>\n",
       "      <td>10</td>\n",
       "      <td>1</td>\n",
       "      <td>2</td>\n",
       "    </tr>\n",
       "  </tbody>\n",
       "</table>\n",
       "</div>"
      ],
      "text/plain": [
       "                           originalTitle                   Genres  Year  \\\n",
       "0                              L'Inferno  Adventure,Drama,Fantasy  1911   \n",
       "1  Fantômas - À l'ombre de la guillotine              Crime,Drama  1913   \n",
       "2                   Juve contre Fantômas              Crime,Drama  1913   \n",
       "3                        Le mort qui tue      Crime,Drama,Mystery  1913   \n",
       "4                   Der Student von Prag     Drama,Fantasy,Horror  1913   \n",
       "\n",
       "   Minutes             director           actor        actress  \\\n",
       "0       68  Francesco Bertolini  Salvatore Papa  Not available   \n",
       "1       54      Louis Feuillade    René Navarre     Renée Carl   \n",
       "2       61      Louis Feuillade    René Navarre     Renée Carl   \n",
       "3       90      Louis Feuillade    René Navarre  Not available   \n",
       "4       85          Stellan Rye    Paul Wegener   Grete Berger   \n",
       "\n",
       "              writer  numVotes  averageRating  kmeans_cluster  hier_cluster  \\\n",
       "0    Dante Alighieri      2167            7.0              57             1   \n",
       "1      Marcel Allain      1915            7.0              59             1   \n",
       "2      Marcel Allain      1334            7.0              59             1   \n",
       "3      Marcel Allain      1033            7.0               8             1   \n",
       "4  Hanns Heinz Ewers      1735            6.5              10             1   \n",
       "\n",
       "   gmm_cluster  \n",
       "0            2  \n",
       "1            2  \n",
       "2            2  \n",
       "3            2  \n",
       "4            2  "
      ]
     },
     "execution_count": 59,
     "metadata": {},
     "output_type": "execute_result"
    }
   ],
   "source": [
    "movies_cluster.head()"
   ]
  },
  {
   "cell_type": "code",
   "execution_count": 70,
   "metadata": {},
   "outputs": [],
   "source": [
    "clusters_comp = movies_cluster.groupby(['hier_cluster','gmm_cluster'])['originalTitle'].count().to_frame().reset_index()\n",
    "clusters_comp.columns =['hier_cluster','gmm_cluster','n_movies']"
   ]
  },
  {
   "cell_type": "code",
   "execution_count": 71,
   "metadata": {},
   "outputs": [
    {
     "data": {
      "text/html": [
       "<div>\n",
       "<style scoped>\n",
       "    .dataframe tbody tr th:only-of-type {\n",
       "        vertical-align: middle;\n",
       "    }\n",
       "\n",
       "    .dataframe tbody tr th {\n",
       "        vertical-align: top;\n",
       "    }\n",
       "\n",
       "    .dataframe thead th {\n",
       "        text-align: right;\n",
       "    }\n",
       "</style>\n",
       "<table border=\"1\" class=\"dataframe\">\n",
       "  <thead>\n",
       "    <tr style=\"text-align: right;\">\n",
       "      <th></th>\n",
       "      <th>hier_cluster</th>\n",
       "      <th>gmm_cluster</th>\n",
       "      <th>n_movies</th>\n",
       "    </tr>\n",
       "  </thead>\n",
       "  <tbody>\n",
       "    <tr>\n",
       "      <th>0</th>\n",
       "      <td>0</td>\n",
       "      <td>0</td>\n",
       "      <td>18</td>\n",
       "    </tr>\n",
       "    <tr>\n",
       "      <th>1</th>\n",
       "      <td>0</td>\n",
       "      <td>1</td>\n",
       "      <td>48</td>\n",
       "    </tr>\n",
       "    <tr>\n",
       "      <th>2</th>\n",
       "      <td>0</td>\n",
       "      <td>2</td>\n",
       "      <td>50</td>\n",
       "    </tr>\n",
       "    <tr>\n",
       "      <th>3</th>\n",
       "      <td>0</td>\n",
       "      <td>3</td>\n",
       "      <td>10503</td>\n",
       "    </tr>\n",
       "    <tr>\n",
       "      <th>4</th>\n",
       "      <td>0</td>\n",
       "      <td>4</td>\n",
       "      <td>166</td>\n",
       "    </tr>\n",
       "    <tr>\n",
       "      <th>5</th>\n",
       "      <td>1</td>\n",
       "      <td>0</td>\n",
       "      <td>1815</td>\n",
       "    </tr>\n",
       "    <tr>\n",
       "      <th>6</th>\n",
       "      <td>1</td>\n",
       "      <td>1</td>\n",
       "      <td>251</td>\n",
       "    </tr>\n",
       "    <tr>\n",
       "      <th>7</th>\n",
       "      <td>1</td>\n",
       "      <td>2</td>\n",
       "      <td>4321</td>\n",
       "    </tr>\n",
       "    <tr>\n",
       "      <th>8</th>\n",
       "      <td>1</td>\n",
       "      <td>3</td>\n",
       "      <td>1</td>\n",
       "    </tr>\n",
       "    <tr>\n",
       "      <th>9</th>\n",
       "      <td>1</td>\n",
       "      <td>4</td>\n",
       "      <td>3</td>\n",
       "    </tr>\n",
       "    <tr>\n",
       "      <th>10</th>\n",
       "      <td>2</td>\n",
       "      <td>0</td>\n",
       "      <td>2</td>\n",
       "    </tr>\n",
       "    <tr>\n",
       "      <th>11</th>\n",
       "      <td>2</td>\n",
       "      <td>1</td>\n",
       "      <td>11</td>\n",
       "    </tr>\n",
       "    <tr>\n",
       "      <th>12</th>\n",
       "      <td>2</td>\n",
       "      <td>2</td>\n",
       "      <td>7</td>\n",
       "    </tr>\n",
       "    <tr>\n",
       "      <th>13</th>\n",
       "      <td>2</td>\n",
       "      <td>3</td>\n",
       "      <td>45</td>\n",
       "    </tr>\n",
       "    <tr>\n",
       "      <th>14</th>\n",
       "      <td>2</td>\n",
       "      <td>4</td>\n",
       "      <td>7097</td>\n",
       "    </tr>\n",
       "    <tr>\n",
       "      <th>15</th>\n",
       "      <td>3</td>\n",
       "      <td>0</td>\n",
       "      <td>4</td>\n",
       "    </tr>\n",
       "    <tr>\n",
       "      <th>16</th>\n",
       "      <td>3</td>\n",
       "      <td>1</td>\n",
       "      <td>3364</td>\n",
       "    </tr>\n",
       "    <tr>\n",
       "      <th>17</th>\n",
       "      <td>3</td>\n",
       "      <td>2</td>\n",
       "      <td>13</td>\n",
       "    </tr>\n",
       "    <tr>\n",
       "      <th>18</th>\n",
       "      <td>3</td>\n",
       "      <td>3</td>\n",
       "      <td>12</td>\n",
       "    </tr>\n",
       "    <tr>\n",
       "      <th>19</th>\n",
       "      <td>3</td>\n",
       "      <td>4</td>\n",
       "      <td>15</td>\n",
       "    </tr>\n",
       "    <tr>\n",
       "      <th>20</th>\n",
       "      <td>4</td>\n",
       "      <td>0</td>\n",
       "      <td>8</td>\n",
       "    </tr>\n",
       "    <tr>\n",
       "      <th>21</th>\n",
       "      <td>4</td>\n",
       "      <td>1</td>\n",
       "      <td>19</td>\n",
       "    </tr>\n",
       "    <tr>\n",
       "      <th>22</th>\n",
       "      <td>4</td>\n",
       "      <td>2</td>\n",
       "      <td>2538</td>\n",
       "    </tr>\n",
       "    <tr>\n",
       "      <th>23</th>\n",
       "      <td>4</td>\n",
       "      <td>3</td>\n",
       "      <td>2</td>\n",
       "    </tr>\n",
       "    <tr>\n",
       "      <th>24</th>\n",
       "      <td>4</td>\n",
       "      <td>4</td>\n",
       "      <td>8</td>\n",
       "    </tr>\n",
       "  </tbody>\n",
       "</table>\n",
       "</div>"
      ],
      "text/plain": [
       "    hier_cluster  gmm_cluster  n_movies\n",
       "0              0            0        18\n",
       "1              0            1        48\n",
       "2              0            2        50\n",
       "3              0            3     10503\n",
       "4              0            4       166\n",
       "5              1            0      1815\n",
       "6              1            1       251\n",
       "7              1            2      4321\n",
       "8              1            3         1\n",
       "9              1            4         3\n",
       "10             2            0         2\n",
       "11             2            1        11\n",
       "12             2            2         7\n",
       "13             2            3        45\n",
       "14             2            4      7097\n",
       "15             3            0         4\n",
       "16             3            1      3364\n",
       "17             3            2        13\n",
       "18             3            3        12\n",
       "19             3            4        15\n",
       "20             4            0         8\n",
       "21             4            1        19\n",
       "22             4            2      2538\n",
       "23             4            3         2\n",
       "24             4            4         8"
      ]
     },
     "execution_count": 71,
     "metadata": {},
     "output_type": "execute_result"
    }
   ],
   "source": [
    "clusters_comp"
   ]
  },
  {
   "cell_type": "code",
   "execution_count": 95,
   "metadata": {},
   "outputs": [
    {
     "name": "stderr",
     "output_type": "stream",
     "text": [
      "C:\\Users\\cance\\anaconda3\\lib\\site-packages\\ipykernel_launcher.py:4: SettingWithCopyWarning: \n",
      "A value is trying to be set on a copy of a slice from a DataFrame.\n",
      "Try using .loc[row_indexer,col_indexer] = value instead\n",
      "\n",
      "See the caveats in the documentation: https://pandas.pydata.org/pandas-docs/stable/user_guide/indexing.html#returning-a-view-versus-a-copy\n",
      "  after removing the cwd from sys.path.\n",
      "C:\\Users\\cance\\anaconda3\\lib\\site-packages\\ipykernel_launcher.py:10: SettingWithCopyWarning: \n",
      "A value is trying to be set on a copy of a slice from a DataFrame.\n",
      "Try using .loc[row_indexer,col_indexer] = value instead\n",
      "\n",
      "See the caveats in the documentation: https://pandas.pydata.org/pandas-docs/stable/user_guide/indexing.html#returning-a-view-versus-a-copy\n",
      "  # Remove the CWD from sys.path while we load stuff.\n",
      "C:\\Users\\cance\\anaconda3\\lib\\site-packages\\ipykernel_launcher.py:16: SettingWithCopyWarning: \n",
      "A value is trying to be set on a copy of a slice from a DataFrame.\n",
      "Try using .loc[row_indexer,col_indexer] = value instead\n",
      "\n",
      "See the caveats in the documentation: https://pandas.pydata.org/pandas-docs/stable/user_guide/indexing.html#returning-a-view-versus-a-copy\n",
      "  app.launch_new_instance()\n",
      "C:\\Users\\cance\\anaconda3\\lib\\site-packages\\ipykernel_launcher.py:22: SettingWithCopyWarning: \n",
      "A value is trying to be set on a copy of a slice from a DataFrame.\n",
      "Try using .loc[row_indexer,col_indexer] = value instead\n",
      "\n",
      "See the caveats in the documentation: https://pandas.pydata.org/pandas-docs/stable/user_guide/indexing.html#returning-a-view-versus-a-copy\n",
      "C:\\Users\\cance\\anaconda3\\lib\\site-packages\\ipykernel_launcher.py:28: SettingWithCopyWarning: \n",
      "A value is trying to be set on a copy of a slice from a DataFrame.\n",
      "Try using .loc[row_indexer,col_indexer] = value instead\n",
      "\n",
      "See the caveats in the documentation: https://pandas.pydata.org/pandas-docs/stable/user_guide/indexing.html#returning-a-view-versus-a-copy\n"
     ]
    }
   ],
   "source": [
    "# cluster 0 in hierarchical clustering\n",
    "clusters_comp_0 = clusters_comp[clusters_comp.hier_cluster == 0]\n",
    "n_0 = np.sum(clusters_comp_0.n_movies)\n",
    "clusters_comp_0['%_movies'] = round(clusters_comp_0['n_movies'] * 100 /n_0,2)\n",
    "clusters_comp_0 = clusters_comp_0.drop(['n_movies'], axis=1)\n",
    "\n",
    "# cluster 1 in hierarchical clustering\n",
    "clusters_comp_1 = clusters_comp[clusters_comp.hier_cluster == 1]\n",
    "n_1 = np.sum(clusters_comp_1.n_movies)\n",
    "clusters_comp_1['%_movies'] = round(clusters_comp_1['n_movies'] * 100 /n_1,2)\n",
    "clusters_comp_1 = clusters_comp_1.drop(['n_movies'], axis=1)\n",
    "\n",
    "# cluster 2 in hierarchical clustering\n",
    "clusters_comp_2 = clusters_comp[clusters_comp.hier_cluster == 2]\n",
    "n_2 = np.sum(clusters_comp_2.n_movies)\n",
    "clusters_comp_2['%_movies'] = round(clusters_comp_2['n_movies'] * 100 /n_2,2)\n",
    "clusters_comp_2 = clusters_comp_2.drop(['n_movies'], axis=1)\n",
    "\n",
    "# cluster 3 in hierarchical clustering\n",
    "clusters_comp_3 = clusters_comp[clusters_comp.hier_cluster == 3]\n",
    "n_3 = np.sum(clusters_comp_3.n_movies)\n",
    "clusters_comp_3['%_movies'] = round(clusters_comp_3['n_movies'] * 100 /n_3,3)\n",
    "clusters_comp_3 = clusters_comp_3.drop(['n_movies'], axis=1)\n",
    "\n",
    "# cluster 4 in hierarchical clustering\n",
    "clusters_comp_4 = clusters_comp[clusters_comp.hier_cluster == 4]\n",
    "n_4 = np.sum(clusters_comp_4.n_movies)\n",
    "clusters_comp_4['%_movies'] = round(clusters_comp_4['n_movies'] * 100 /n_4,3)\n",
    "clusters_comp_4 = clusters_comp_4.drop(['n_movies'], axis=1)\n"
   ]
  },
  {
   "cell_type": "code",
   "execution_count": 127,
   "metadata": {},
   "outputs": [
    {
     "data": {
      "text/html": [
       "<div>\n",
       "<style scoped>\n",
       "    .dataframe tbody tr th:only-of-type {\n",
       "        vertical-align: middle;\n",
       "    }\n",
       "\n",
       "    .dataframe tbody tr th {\n",
       "        vertical-align: top;\n",
       "    }\n",
       "\n",
       "    .dataframe thead th {\n",
       "        text-align: right;\n",
       "    }\n",
       "</style>\n",
       "<table border=\"1\" class=\"dataframe\">\n",
       "  <thead>\n",
       "    <tr style=\"text-align: right;\">\n",
       "      <th></th>\n",
       "      <th>hier_cluster</th>\n",
       "      <th>gmm_cluster</th>\n",
       "      <th>%_movies</th>\n",
       "    </tr>\n",
       "  </thead>\n",
       "  <tbody>\n",
       "    <tr>\n",
       "      <th>5</th>\n",
       "      <td>1</td>\n",
       "      <td>0</td>\n",
       "      <td>28.40</td>\n",
       "    </tr>\n",
       "    <tr>\n",
       "      <th>6</th>\n",
       "      <td>1</td>\n",
       "      <td>1</td>\n",
       "      <td>3.93</td>\n",
       "    </tr>\n",
       "    <tr>\n",
       "      <th>7</th>\n",
       "      <td>1</td>\n",
       "      <td>2</td>\n",
       "      <td>67.61</td>\n",
       "    </tr>\n",
       "    <tr>\n",
       "      <th>8</th>\n",
       "      <td>1</td>\n",
       "      <td>3</td>\n",
       "      <td>0.02</td>\n",
       "    </tr>\n",
       "    <tr>\n",
       "      <th>9</th>\n",
       "      <td>1</td>\n",
       "      <td>4</td>\n",
       "      <td>0.05</td>\n",
       "    </tr>\n",
       "  </tbody>\n",
       "</table>\n",
       "</div>"
      ],
      "text/plain": [
       "   hier_cluster  gmm_cluster  %_movies\n",
       "5             1            0     28.40\n",
       "6             1            1      3.93\n",
       "7             1            2     67.61\n",
       "8             1            3      0.02\n",
       "9             1            4      0.05"
      ]
     },
     "execution_count": 127,
     "metadata": {},
     "output_type": "execute_result"
    }
   ],
   "source": [
    "clusters_comp_1"
   ]
  },
  {
   "cell_type": "code",
   "execution_count": 121,
   "metadata": {},
   "outputs": [],
   "source": []
  },
  {
   "cell_type": "code",
   "execution_count": 126,
   "metadata": {},
   "outputs": [
    {
     "data": {
      "text/plain": [
       "Text(0.5, 1.0, 'Hierarchical cluster 4')"
      ]
     },
     "execution_count": 126,
     "metadata": {},
     "output_type": "execute_result"
    },
    {
     "data": {
      "image/png": "[encoded data removed]",
      "text/plain": [
       "<Figure size 1152x216 with 5 Axes>"
      ]
     },
     "metadata": {
      "needs_background": "light"
     },
     "output_type": "display_data"
    }
   ],
   "source": [
    "plt.figure(figsize = [16, 3])\n",
    "\n",
    "bar_width = 0.25\n",
    "opacity = 0.8\n",
    "index = [0,1,2,3,4]\n",
    "\n",
    "plt.subplot(1, 5, 1)\n",
    "plt.bar(clusters_comp_0.gmm_cluster, clusters_comp_0[('%_movies')], bar_width, color='b', label='All');\n",
    "plt.xlabel('GMM Cluster')\n",
    "plt.ylabel('% movies')\n",
    "plt.xticks(index , index)\n",
    "plt.title('Hierarchical cluster 0')\n",
    "\n",
    "plt.subplot(1, 5, 2)\n",
    "plt.bar(clusters_comp_1.gmm_cluster, clusters_comp_1[('%_movies')], bar_width, color='b', label='All');\n",
    "plt.xlabel('GMM Cluster')\n",
    "plt.xticks(index , index)\n",
    "plt.title('Hierarchical cluster 1')\n",
    "\n",
    "plt.subplot(1, 5, 3)\n",
    "plt.bar(clusters_comp_2.gmm_cluster, clusters_comp_2[('%_movies')], bar_width, color='b', label='All');\n",
    "plt.xlabel('GMM Cluster')\n",
    "plt.xticks(index , index)\n",
    "plt.title('Hierarchical cluster 2')\n",
    "\n",
    "plt.subplot(1, 5, 4)\n",
    "plt.bar(clusters_comp_3.gmm_cluster, clusters_comp_3[('%_movies')], bar_width, color='b', label='All');\n",
    "plt.xlabel('GMM Cluster')\n",
    "plt.xticks(index , index)\n",
    "plt.title('Hierarchical cluster 3')\n",
    "\n",
    "plt.subplot(1, 5, 5)\n",
    "plt.bar(clusters_comp_4.gmm_cluster, clusters_comp_4[('%_movies')], bar_width, color='b', label='All');\n",
    "plt.xlabel('GMM Cluster')\n",
    "plt.xticks(index , index)\n",
    "plt.title('Hierarchical cluster 4')\n"
   ]
  }
 ],
 "metadata": {
  "kernelspec": {
   "display_name": "Python 3",
   "language": "python",
   "name": "python3"
  },
  "language_info": {
   "codemirror_mode": {
    "name": "ipython",
    "version": 3
   },
   "file_extension": ".py",
   "mimetype": "text/x-python",
   "name": "python",
   "nbconvert_exporter": "python",
   "pygments_lexer": "ipython3",
   "version": "3.7.6"
  }
 },
 "nbformat": 4,
 "nbformat_minor": 2
}
