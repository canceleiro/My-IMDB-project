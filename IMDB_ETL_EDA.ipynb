{
 "cells": [
  {
   "cell_type": "markdown",
   "metadata": {},
   "source": [
    "# IMDB project: ETL for EDA\n",
    "### by Javier Alonso\n",
    "\n",
    "In this Jupyter Notebook is created the ETL and part of the EDA of \"My IMDB project\".\n",
    "\n",
    "The database was downloaded from IMDB on 2020/05/25 but today, three days after, they have changed all the system for retrieving the data, so I won´t be able to upgrade easily the project with new data.\n",
    "\n",
    "The content of the EDA is published in my [blog](https://javieralonsoalonso.com/imdb-project-exploratory-data-analysis-eda/)\n",
    "\n",
    "## Table of Contents\n",
    "\n",
    "1. [Preliminary Wrangling](#Preliminary_Wrangling)<br>\n",
    "1.a.-[Gathering Data](#Gathering_Data)<br>\n",
    "1.b.-[Assesing and Cleaning Data](#Assesing_cleaning_data)<br>\n",
    "1.c.-[Consolidation of Dataframes](#Consolidaion_dataframes)<br>\n",
    "2. [Exploratory Data Analysis](#EDA)<br>\n",
    "\n",
    "## <a class=\"anchor\" id=\"Preliminary_Wrangling\">Part 1: Preliminary Wrangling"
   ]
  },
  {
   "cell_type": "code",
   "execution_count": 1,
   "metadata": {},
   "outputs": [],
   "source": [
    "# import all packages and set plots to be embedded inline\n",
    "import numpy as np\n",
    "import pandas as pd\n",
    "import matplotlib.pyplot as plt\n",
    "import seaborn as sb\n",
    "\n",
    "%matplotlib inline\n",
    "\n",
    "# machine learning\n",
    "from sklearn.linear_model import LogisticRegression\n",
    "from sklearn.svm import SVC, LinearSVC\n",
    "from sklearn.ensemble import RandomForestClassifier\n",
    "from sklearn.neighbors import KNeighborsClassifier\n",
    "from sklearn.naive_bayes import GaussianNB\n",
    "from sklearn.linear_model import Perceptron\n",
    "from sklearn.linear_model import SGDClassifier\n",
    "from sklearn.tree import DecisionTreeClassifier\n",
    "from sklearn.model_selection import KFold\n",
    "from sklearn.model_selection import train_test_split\n",
    "from sklearn.model_selection import cross_val_score, cross_val_predict\n",
    "from sklearn.ensemble import AdaBoostClassifier\n",
    "from sklearn.metrics import confusion_matrix\n",
    "from sklearn.model_selection import GridSearchCV\n",
    "\n",
    "from sklearn.model_selection import GridSearchCV\n",
    "\n",
    "from sklearn.pipeline import Pipeline, FeatureUnion\n",
    "from sklearn.base import BaseEstimator, TransformerMixin\n",
    "from sklearn.feature_extraction.text import CountVectorizer, TfidfTransformer\n",
    "from sklearn.datasets import make_multilabel_classification\n",
    "from sklearn.multioutput import MultiOutputClassifier\n",
    "from sklearn.metrics import classification_report\n",
    "from sklearn.metrics import accuracy_score\n",
    "from sklearn import tree\n",
    "from sklearn.metrics import f1_score\n",
    "\n",
    "from sklearn.preprocessing import MinMaxScaler"
   ]
  },
  {
   "cell_type": "markdown",
   "metadata": {},
   "source": [
    "### <a class=\"anchor\" id=\"Gathering_Data\"> 1.a.- Gathering Data\n",
    "\n",
    "In this section we´ll gather data from both files available"
   ]
  },
  {
   "cell_type": "code",
   "execution_count": 193,
   "metadata": {},
   "outputs": [],
   "source": [
    "#Basic information on the title\n",
    "df_basics = pd.read_csv(\"title.basics.tsv\", low_memory=False, sep=\"\\t\", na_values=[\"\\\\N\",\"nan\"])\n",
    "\n",
    "#Information of the people in movies (director, actor,...)\n",
    "df_names = pd.read_csv(\"name.basics.tsv\", sep=\"\\t\", na_values=[\"\\\\N\",\"nan\"])\n",
    "\n",
    "#Contains the principal cast/crew for titles\n",
    "df_principals = pd.read_csv(\"title.principals.tsv\",  sep=\"\\t\", na_values=[\"\\\\N\",\"nan\"])\n",
    "\n",
    "#director and writer information\n",
    "df_crew = pd.read_csv(\"title.crew.tsv\",  sep=\"\\t\", na_values=[\"\\\\N\",\"nan\"])\n",
    "\n",
    "# Contains the IMDb rating and votes information for titles\n",
    "df_ratings = pd.read_csv(\"title.ratings.tsv\", sep=\"\\t\", na_values=[\"\\\\N\",\"nan\"])\n",
    "\n",
    "#Information of the title of the movies in different areas and zones. We won´t use it\n",
    "# df_movie_names = pd.read_csv(\"title.akas.tsv\", low_memory=False, sep=\"\\t\", na_values=[\"\\\\N\",\"nan\"])\n",
    "\n",
    "#Contains the tv episode information. We won´t use it\n",
    "# df_episodes = pd.read_csv(\"title.episode.tsv\",  sep=\"\\t\", na_values=[\"\\\\N\",\"nan\"])"
   ]
  },
  {
   "cell_type": "markdown",
   "metadata": {},
   "source": [
    "### <a class=\"anchor\" id=\"Assesing_cleaning_data\"> 1.b.- Asessing and cleaning data\n",
    "\n",
    "Now, we´re going to assess the dataframe visually and programmatically for quality and tidiness issues, and do the cleaning of these issues"
   ]
  },
  {
   "cell_type": "markdown",
   "metadata": {},
   "source": [
    "#### MOVIES DATABASE "
   ]
  },
  {
   "cell_type": "code",
   "execution_count": 194,
   "metadata": {},
   "outputs": [],
   "source": [
    "info = df_basics.copy()"
   ]
  },
  {
   "cell_type": "code",
   "execution_count": 195,
   "metadata": {},
   "outputs": [
    {
     "data": {
      "text/html": [
       "<div>\n",
       "<style scoped>\n",
       "    .dataframe tbody tr th:only-of-type {\n",
       "        vertical-align: middle;\n",
       "    }\n",
       "\n",
       "    .dataframe tbody tr th {\n",
       "        vertical-align: top;\n",
       "    }\n",
       "\n",
       "    .dataframe thead th {\n",
       "        text-align: right;\n",
       "    }\n",
       "</style>\n",
       "<table border=\"1\" class=\"dataframe\">\n",
       "  <thead>\n",
       "    <tr style=\"text-align: right;\">\n",
       "      <th></th>\n",
       "      <th>tconst</th>\n",
       "      <th>titleType</th>\n",
       "      <th>primaryTitle</th>\n",
       "      <th>originalTitle</th>\n",
       "      <th>isAdult</th>\n",
       "      <th>startYear</th>\n",
       "      <th>endYear</th>\n",
       "      <th>runtimeMinutes</th>\n",
       "      <th>genres</th>\n",
       "    </tr>\n",
       "  </thead>\n",
       "  <tbody>\n",
       "    <tr>\n",
       "      <th>0</th>\n",
       "      <td>tt0000001</td>\n",
       "      <td>short</td>\n",
       "      <td>Carmencita</td>\n",
       "      <td>Carmencita</td>\n",
       "      <td>0</td>\n",
       "      <td>1894.0</td>\n",
       "      <td>NaN</td>\n",
       "      <td>1</td>\n",
       "      <td>Documentary,Short</td>\n",
       "    </tr>\n",
       "    <tr>\n",
       "      <th>1</th>\n",
       "      <td>tt0000002</td>\n",
       "      <td>short</td>\n",
       "      <td>Le clown et ses chiens</td>\n",
       "      <td>Le clown et ses chiens</td>\n",
       "      <td>0</td>\n",
       "      <td>1892.0</td>\n",
       "      <td>NaN</td>\n",
       "      <td>5</td>\n",
       "      <td>Animation,Short</td>\n",
       "    </tr>\n",
       "    <tr>\n",
       "      <th>2</th>\n",
       "      <td>tt0000003</td>\n",
       "      <td>short</td>\n",
       "      <td>Pauvre Pierrot</td>\n",
       "      <td>Pauvre Pierrot</td>\n",
       "      <td>0</td>\n",
       "      <td>1892.0</td>\n",
       "      <td>NaN</td>\n",
       "      <td>4</td>\n",
       "      <td>Animation,Comedy,Romance</td>\n",
       "    </tr>\n",
       "    <tr>\n",
       "      <th>3</th>\n",
       "      <td>tt0000004</td>\n",
       "      <td>short</td>\n",
       "      <td>Un bon bock</td>\n",
       "      <td>Un bon bock</td>\n",
       "      <td>0</td>\n",
       "      <td>1892.0</td>\n",
       "      <td>NaN</td>\n",
       "      <td>12</td>\n",
       "      <td>Animation,Short</td>\n",
       "    </tr>\n",
       "    <tr>\n",
       "      <th>4</th>\n",
       "      <td>tt0000005</td>\n",
       "      <td>short</td>\n",
       "      <td>Blacksmith Scene</td>\n",
       "      <td>Blacksmith Scene</td>\n",
       "      <td>0</td>\n",
       "      <td>1893.0</td>\n",
       "      <td>NaN</td>\n",
       "      <td>1</td>\n",
       "      <td>Comedy,Short</td>\n",
       "    </tr>\n",
       "  </tbody>\n",
       "</table>\n",
       "</div>"
      ],
      "text/plain": [
       "      tconst titleType            primaryTitle           originalTitle  \\\n",
       "0  tt0000001     short              Carmencita              Carmencita   \n",
       "1  tt0000002     short  Le clown et ses chiens  Le clown et ses chiens   \n",
       "2  tt0000003     short          Pauvre Pierrot          Pauvre Pierrot   \n",
       "3  tt0000004     short             Un bon bock             Un bon bock   \n",
       "4  tt0000005     short        Blacksmith Scene        Blacksmith Scene   \n",
       "\n",
       "   isAdult  startYear  endYear runtimeMinutes                    genres  \n",
       "0        0     1894.0      NaN              1         Documentary,Short  \n",
       "1        0     1892.0      NaN              5           Animation,Short  \n",
       "2        0     1892.0      NaN              4  Animation,Comedy,Romance  \n",
       "3        0     1892.0      NaN             12           Animation,Short  \n",
       "4        0     1893.0      NaN              1              Comedy,Short  "
      ]
     },
     "execution_count": 195,
     "metadata": {},
     "output_type": "execute_result"
    }
   ],
   "source": [
    "info.head()"
   ]
  },
  {
   "cell_type": "code",
   "execution_count": 196,
   "metadata": {},
   "outputs": [
    {
     "data": {
      "text/plain": [
       "(6831547, 9)"
      ]
     },
     "execution_count": 196,
     "metadata": {},
     "output_type": "execute_result"
    }
   ],
   "source": [
    "info.shape"
   ]
  },
  {
   "cell_type": "markdown",
   "metadata": {},
   "source": [
    "#### Filtering info\n",
    "\n",
    "- keeping only the movies"
   ]
  },
  {
   "cell_type": "code",
   "execution_count": 197,
   "metadata": {},
   "outputs": [
    {
     "data": {
      "text/plain": [
       "tvEpisode       4869408\n",
       "short            741081\n",
       "movie            551301\n",
       "video            265727\n",
       "tvSeries         184466\n",
       "tvMovie          121175\n",
       "tvMiniSeries      31078\n",
       "tvSpecial         29209\n",
       "videoGame         25548\n",
       "tvShort           12554\n",
       "Name: titleType, dtype: int64"
      ]
     },
     "execution_count": 197,
     "metadata": {},
     "output_type": "execute_result"
    }
   ],
   "source": [
    "info.titleType.value_counts()"
   ]
  },
  {
   "cell_type": "code",
   "execution_count": 198,
   "metadata": {},
   "outputs": [],
   "source": [
    "movies = info[info.titleType=='movie']\n",
    "movies = movies.drop(['titleType'], axis=1)"
   ]
  },
  {
   "cell_type": "markdown",
   "metadata": {},
   "source": [
    "- deleting adult movies"
   ]
  },
  {
   "cell_type": "code",
   "execution_count": 199,
   "metadata": {},
   "outputs": [
    {
     "data": {
      "text/plain": [
       "0    542500\n",
       "1      8801\n",
       "Name: isAdult, dtype: int64"
      ]
     },
     "execution_count": 199,
     "metadata": {},
     "output_type": "execute_result"
    }
   ],
   "source": [
    "movies.isAdult.value_counts()"
   ]
  },
  {
   "cell_type": "code",
   "execution_count": 200,
   "metadata": {},
   "outputs": [],
   "source": [
    "movies = movies[movies.isAdult==0]\n",
    "movies = movies.drop(['isAdult'], axis=1)"
   ]
  },
  {
   "cell_type": "markdown",
   "metadata": {},
   "source": [
    "- keeping just the original title"
   ]
  },
  {
   "cell_type": "code",
   "execution_count": 201,
   "metadata": {},
   "outputs": [],
   "source": [
    "movies = movies.drop(['primaryTitle'], axis=1)"
   ]
  },
  {
   "cell_type": "markdown",
   "metadata": {},
   "source": [
    "- deleting the endYear (only used for TV Shows)"
   ]
  },
  {
   "cell_type": "code",
   "execution_count": 202,
   "metadata": {},
   "outputs": [
    {
     "data": {
      "text/plain": [
       "Series([], Name: endYear, dtype: int64)"
      ]
     },
     "execution_count": 202,
     "metadata": {},
     "output_type": "execute_result"
    }
   ],
   "source": [
    "movies.endYear.value_counts()"
   ]
  },
  {
   "cell_type": "code",
   "execution_count": 203,
   "metadata": {},
   "outputs": [],
   "source": [
    "movies = movies.drop(['endYear'], axis=1)"
   ]
  },
  {
   "cell_type": "markdown",
   "metadata": {},
   "source": [
    "- change column names+"
   ]
  },
  {
   "cell_type": "code",
   "execution_count": 204,
   "metadata": {},
   "outputs": [],
   "source": [
    "movies.columns = ['idMovie', 'originalTitle', 'Year', 'Minutes', 'Genres']"
   ]
  },
  {
   "cell_type": "code",
   "execution_count": 205,
   "metadata": {},
   "outputs": [
    {
     "data": {
      "text/html": [
       "<div>\n",
       "<style scoped>\n",
       "    .dataframe tbody tr th:only-of-type {\n",
       "        vertical-align: middle;\n",
       "    }\n",
       "\n",
       "    .dataframe tbody tr th {\n",
       "        vertical-align: top;\n",
       "    }\n",
       "\n",
       "    .dataframe thead th {\n",
       "        text-align: right;\n",
       "    }\n",
       "</style>\n",
       "<table border=\"1\" class=\"dataframe\">\n",
       "  <thead>\n",
       "    <tr style=\"text-align: right;\">\n",
       "      <th></th>\n",
       "      <th>idMovie</th>\n",
       "      <th>originalTitle</th>\n",
       "      <th>Year</th>\n",
       "      <th>Minutes</th>\n",
       "      <th>Genres</th>\n",
       "    </tr>\n",
       "  </thead>\n",
       "  <tbody>\n",
       "    <tr>\n",
       "      <th>8</th>\n",
       "      <td>tt0000009</td>\n",
       "      <td>Miss Jerry</td>\n",
       "      <td>1894.0</td>\n",
       "      <td>45</td>\n",
       "      <td>Romance</td>\n",
       "    </tr>\n",
       "    <tr>\n",
       "      <th>145</th>\n",
       "      <td>tt0000147</td>\n",
       "      <td>The Corbett-Fitzsimmons Fight</td>\n",
       "      <td>1897.0</td>\n",
       "      <td>20</td>\n",
       "      <td>Documentary,News,Sport</td>\n",
       "    </tr>\n",
       "    <tr>\n",
       "      <th>332</th>\n",
       "      <td>tt0000335</td>\n",
       "      <td>Soldiers of the Cross</td>\n",
       "      <td>1900.0</td>\n",
       "      <td>NaN</td>\n",
       "      <td>Biography,Drama</td>\n",
       "    </tr>\n",
       "    <tr>\n",
       "      <th>499</th>\n",
       "      <td>tt0000502</td>\n",
       "      <td>Bohemios</td>\n",
       "      <td>1905.0</td>\n",
       "      <td>100</td>\n",
       "      <td>NaN</td>\n",
       "    </tr>\n",
       "    <tr>\n",
       "      <th>571</th>\n",
       "      <td>tt0000574</td>\n",
       "      <td>The Story of the Kelly Gang</td>\n",
       "      <td>1906.0</td>\n",
       "      <td>70</td>\n",
       "      <td>Biography,Crime,Drama</td>\n",
       "    </tr>\n",
       "  </tbody>\n",
       "</table>\n",
       "</div>"
      ],
      "text/plain": [
       "       idMovie                  originalTitle    Year Minutes  \\\n",
       "8    tt0000009                     Miss Jerry  1894.0      45   \n",
       "145  tt0000147  The Corbett-Fitzsimmons Fight  1897.0      20   \n",
       "332  tt0000335          Soldiers of the Cross  1900.0     NaN   \n",
       "499  tt0000502                       Bohemios  1905.0     100   \n",
       "571  tt0000574    The Story of the Kelly Gang  1906.0      70   \n",
       "\n",
       "                     Genres  \n",
       "8                   Romance  \n",
       "145  Documentary,News,Sport  \n",
       "332         Biography,Drama  \n",
       "499                     NaN  \n",
       "571   Biography,Crime,Drama  "
      ]
     },
     "execution_count": 205,
     "metadata": {},
     "output_type": "execute_result"
    }
   ],
   "source": [
    "movies.head()"
   ]
  },
  {
   "cell_type": "code",
   "execution_count": 206,
   "metadata": {
    "scrolled": true
   },
   "outputs": [
    {
     "data": {
      "text/plain": [
       "(542500, 5)"
      ]
     },
     "execution_count": 206,
     "metadata": {},
     "output_type": "execute_result"
    }
   ],
   "source": [
    "movies.shape"
   ]
  },
  {
   "cell_type": "markdown",
   "metadata": {},
   "source": [
    "- add the ratings"
   ]
  },
  {
   "cell_type": "code",
   "execution_count": 207,
   "metadata": {},
   "outputs": [],
   "source": [
    "ratings = df_ratings.copy()"
   ]
  },
  {
   "cell_type": "code",
   "execution_count": 208,
   "metadata": {},
   "outputs": [
    {
     "data": {
      "text/html": [
       "<div>\n",
       "<style scoped>\n",
       "    .dataframe tbody tr th:only-of-type {\n",
       "        vertical-align: middle;\n",
       "    }\n",
       "\n",
       "    .dataframe tbody tr th {\n",
       "        vertical-align: top;\n",
       "    }\n",
       "\n",
       "    .dataframe thead th {\n",
       "        text-align: right;\n",
       "    }\n",
       "</style>\n",
       "<table border=\"1\" class=\"dataframe\">\n",
       "  <thead>\n",
       "    <tr style=\"text-align: right;\">\n",
       "      <th></th>\n",
       "      <th>tconst</th>\n",
       "      <th>averageRating</th>\n",
       "      <th>numVotes</th>\n",
       "    </tr>\n",
       "  </thead>\n",
       "  <tbody>\n",
       "    <tr>\n",
       "      <th>0</th>\n",
       "      <td>tt0000001</td>\n",
       "      <td>5.6</td>\n",
       "      <td>1615</td>\n",
       "    </tr>\n",
       "    <tr>\n",
       "      <th>1</th>\n",
       "      <td>tt0000002</td>\n",
       "      <td>6.0</td>\n",
       "      <td>197</td>\n",
       "    </tr>\n",
       "    <tr>\n",
       "      <th>2</th>\n",
       "      <td>tt0000003</td>\n",
       "      <td>6.5</td>\n",
       "      <td>1296</td>\n",
       "    </tr>\n",
       "    <tr>\n",
       "      <th>3</th>\n",
       "      <td>tt0000004</td>\n",
       "      <td>6.1</td>\n",
       "      <td>121</td>\n",
       "    </tr>\n",
       "    <tr>\n",
       "      <th>4</th>\n",
       "      <td>tt0000005</td>\n",
       "      <td>6.1</td>\n",
       "      <td>2075</td>\n",
       "    </tr>\n",
       "  </tbody>\n",
       "</table>\n",
       "</div>"
      ],
      "text/plain": [
       "      tconst  averageRating  numVotes\n",
       "0  tt0000001            5.6      1615\n",
       "1  tt0000002            6.0       197\n",
       "2  tt0000003            6.5      1296\n",
       "3  tt0000004            6.1       121\n",
       "4  tt0000005            6.1      2075"
      ]
     },
     "execution_count": 208,
     "metadata": {},
     "output_type": "execute_result"
    }
   ],
   "source": [
    "ratings.head()"
   ]
  },
  {
   "cell_type": "code",
   "execution_count": 209,
   "metadata": {},
   "outputs": [
    {
     "data": {
      "text/plain": [
       "(542500, 5)"
      ]
     },
     "execution_count": 209,
     "metadata": {},
     "output_type": "execute_result"
    }
   ],
   "source": [
    "movies.shape"
   ]
  },
  {
   "cell_type": "code",
   "execution_count": 210,
   "metadata": {},
   "outputs": [
    {
     "data": {
      "text/html": [
       "<div>\n",
       "<style scoped>\n",
       "    .dataframe tbody tr th:only-of-type {\n",
       "        vertical-align: middle;\n",
       "    }\n",
       "\n",
       "    .dataframe tbody tr th {\n",
       "        vertical-align: top;\n",
       "    }\n",
       "\n",
       "    .dataframe thead th {\n",
       "        text-align: right;\n",
       "    }\n",
       "</style>\n",
       "<table border=\"1\" class=\"dataframe\">\n",
       "  <thead>\n",
       "    <tr style=\"text-align: right;\">\n",
       "      <th></th>\n",
       "      <th>idMovie</th>\n",
       "      <th>originalTitle</th>\n",
       "      <th>Year</th>\n",
       "      <th>Minutes</th>\n",
       "      <th>Genres</th>\n",
       "    </tr>\n",
       "  </thead>\n",
       "  <tbody>\n",
       "    <tr>\n",
       "      <th>8</th>\n",
       "      <td>tt0000009</td>\n",
       "      <td>Miss Jerry</td>\n",
       "      <td>1894.0</td>\n",
       "      <td>45</td>\n",
       "      <td>Romance</td>\n",
       "    </tr>\n",
       "    <tr>\n",
       "      <th>145</th>\n",
       "      <td>tt0000147</td>\n",
       "      <td>The Corbett-Fitzsimmons Fight</td>\n",
       "      <td>1897.0</td>\n",
       "      <td>20</td>\n",
       "      <td>Documentary,News,Sport</td>\n",
       "    </tr>\n",
       "    <tr>\n",
       "      <th>332</th>\n",
       "      <td>tt0000335</td>\n",
       "      <td>Soldiers of the Cross</td>\n",
       "      <td>1900.0</td>\n",
       "      <td>NaN</td>\n",
       "      <td>Biography,Drama</td>\n",
       "    </tr>\n",
       "    <tr>\n",
       "      <th>499</th>\n",
       "      <td>tt0000502</td>\n",
       "      <td>Bohemios</td>\n",
       "      <td>1905.0</td>\n",
       "      <td>100</td>\n",
       "      <td>NaN</td>\n",
       "    </tr>\n",
       "    <tr>\n",
       "      <th>571</th>\n",
       "      <td>tt0000574</td>\n",
       "      <td>The Story of the Kelly Gang</td>\n",
       "      <td>1906.0</td>\n",
       "      <td>70</td>\n",
       "      <td>Biography,Crime,Drama</td>\n",
       "    </tr>\n",
       "  </tbody>\n",
       "</table>\n",
       "</div>"
      ],
      "text/plain": [
       "       idMovie                  originalTitle    Year Minutes  \\\n",
       "8    tt0000009                     Miss Jerry  1894.0      45   \n",
       "145  tt0000147  The Corbett-Fitzsimmons Fight  1897.0      20   \n",
       "332  tt0000335          Soldiers of the Cross  1900.0     NaN   \n",
       "499  tt0000502                       Bohemios  1905.0     100   \n",
       "571  tt0000574    The Story of the Kelly Gang  1906.0      70   \n",
       "\n",
       "                     Genres  \n",
       "8                   Romance  \n",
       "145  Documentary,News,Sport  \n",
       "332         Biography,Drama  \n",
       "499                     NaN  \n",
       "571   Biography,Crime,Drama  "
      ]
     },
     "execution_count": 210,
     "metadata": {},
     "output_type": "execute_result"
    }
   ],
   "source": [
    "movies.head()"
   ]
  },
  {
   "cell_type": "code",
   "execution_count": 211,
   "metadata": {},
   "outputs": [],
   "source": [
    "movies = pd.merge(movies, ratings, left_on = 'idMovie', right_on = 'tconst', how = 'left')\n",
    "movies = movies.drop(['tconst'], axis=1)"
   ]
  },
  {
   "cell_type": "code",
   "execution_count": 212,
   "metadata": {},
   "outputs": [
    {
     "data": {
      "text/plain": [
       "(542500, 7)"
      ]
     },
     "execution_count": 212,
     "metadata": {},
     "output_type": "execute_result"
    }
   ],
   "source": [
    "movies.shape"
   ]
  },
  {
   "cell_type": "code",
   "execution_count": 213,
   "metadata": {},
   "outputs": [
    {
     "data": {
      "text/html": [
       "<div>\n",
       "<style scoped>\n",
       "    .dataframe tbody tr th:only-of-type {\n",
       "        vertical-align: middle;\n",
       "    }\n",
       "\n",
       "    .dataframe tbody tr th {\n",
       "        vertical-align: top;\n",
       "    }\n",
       "\n",
       "    .dataframe thead th {\n",
       "        text-align: right;\n",
       "    }\n",
       "</style>\n",
       "<table border=\"1\" class=\"dataframe\">\n",
       "  <thead>\n",
       "    <tr style=\"text-align: right;\">\n",
       "      <th></th>\n",
       "      <th>idMovie</th>\n",
       "      <th>originalTitle</th>\n",
       "      <th>Year</th>\n",
       "      <th>Minutes</th>\n",
       "      <th>Genres</th>\n",
       "      <th>averageRating</th>\n",
       "      <th>numVotes</th>\n",
       "    </tr>\n",
       "  </thead>\n",
       "  <tbody>\n",
       "    <tr>\n",
       "      <th>0</th>\n",
       "      <td>tt0000009</td>\n",
       "      <td>Miss Jerry</td>\n",
       "      <td>1894.0</td>\n",
       "      <td>45</td>\n",
       "      <td>Romance</td>\n",
       "      <td>5.9</td>\n",
       "      <td>153.0</td>\n",
       "    </tr>\n",
       "    <tr>\n",
       "      <th>1</th>\n",
       "      <td>tt0000147</td>\n",
       "      <td>The Corbett-Fitzsimmons Fight</td>\n",
       "      <td>1897.0</td>\n",
       "      <td>20</td>\n",
       "      <td>Documentary,News,Sport</td>\n",
       "      <td>5.2</td>\n",
       "      <td>346.0</td>\n",
       "    </tr>\n",
       "    <tr>\n",
       "      <th>2</th>\n",
       "      <td>tt0000335</td>\n",
       "      <td>Soldiers of the Cross</td>\n",
       "      <td>1900.0</td>\n",
       "      <td>NaN</td>\n",
       "      <td>Biography,Drama</td>\n",
       "      <td>6.1</td>\n",
       "      <td>40.0</td>\n",
       "    </tr>\n",
       "    <tr>\n",
       "      <th>3</th>\n",
       "      <td>tt0000502</td>\n",
       "      <td>Bohemios</td>\n",
       "      <td>1905.0</td>\n",
       "      <td>100</td>\n",
       "      <td>NaN</td>\n",
       "      <td>3.8</td>\n",
       "      <td>6.0</td>\n",
       "    </tr>\n",
       "    <tr>\n",
       "      <th>4</th>\n",
       "      <td>tt0000574</td>\n",
       "      <td>The Story of the Kelly Gang</td>\n",
       "      <td>1906.0</td>\n",
       "      <td>70</td>\n",
       "      <td>Biography,Crime,Drama</td>\n",
       "      <td>6.1</td>\n",
       "      <td>574.0</td>\n",
       "    </tr>\n",
       "  </tbody>\n",
       "</table>\n",
       "</div>"
      ],
      "text/plain": [
       "     idMovie                  originalTitle    Year Minutes  \\\n",
       "0  tt0000009                     Miss Jerry  1894.0      45   \n",
       "1  tt0000147  The Corbett-Fitzsimmons Fight  1897.0      20   \n",
       "2  tt0000335          Soldiers of the Cross  1900.0     NaN   \n",
       "3  tt0000502                       Bohemios  1905.0     100   \n",
       "4  tt0000574    The Story of the Kelly Gang  1906.0      70   \n",
       "\n",
       "                   Genres  averageRating  numVotes  \n",
       "0                 Romance            5.9     153.0  \n",
       "1  Documentary,News,Sport            5.2     346.0  \n",
       "2         Biography,Drama            6.1      40.0  \n",
       "3                     NaN            3.8       6.0  \n",
       "4   Biography,Crime,Drama            6.1     574.0  "
      ]
     },
     "execution_count": 213,
     "metadata": {},
     "output_type": "execute_result"
    }
   ],
   "source": [
    "movies.head()"
   ]
  },
  {
   "cell_type": "markdown",
   "metadata": {},
   "source": [
    "#### Keeping only movies with votes"
   ]
  },
  {
   "cell_type": "code",
   "execution_count": 214,
   "metadata": {},
   "outputs": [
    {
     "data": {
      "text/plain": [
       "(542500, 7)"
      ]
     },
     "execution_count": 214,
     "metadata": {},
     "output_type": "execute_result"
    }
   ],
   "source": [
    "movies.shape"
   ]
  },
  {
   "cell_type": "code",
   "execution_count": 215,
   "metadata": {},
   "outputs": [
    {
     "name": "stdout",
     "output_type": "stream",
     "text": [
      "<class 'pandas.core.frame.DataFrame'>\n",
      "Int64Index: 542500 entries, 0 to 542499\n",
      "Data columns (total 7 columns):\n",
      " #   Column         Non-Null Count   Dtype  \n",
      "---  ------         --------------   -----  \n",
      " 0   idMovie        542500 non-null  object \n",
      " 1   originalTitle  542500 non-null  object \n",
      " 2   Year           478643 non-null  float64\n",
      " 3   Minutes        343594 non-null  object \n",
      " 4   Genres         472736 non-null  object \n",
      " 5   averageRating  244841 non-null  float64\n",
      " 6   numVotes       244841 non-null  float64\n",
      "dtypes: float64(3), object(4)\n",
      "memory usage: 33.1+ MB\n"
     ]
    }
   ],
   "source": [
    "movies.info()"
   ]
  },
  {
   "cell_type": "code",
   "execution_count": 216,
   "metadata": {},
   "outputs": [],
   "source": [
    "movies = movies[movies['numVotes'].notna()]"
   ]
  },
  {
   "cell_type": "code",
   "execution_count": 217,
   "metadata": {},
   "outputs": [
    {
     "data": {
      "text/plain": [
       "(244841, 7)"
      ]
     },
     "execution_count": 217,
     "metadata": {},
     "output_type": "execute_result"
    }
   ],
   "source": [
    "movies.shape"
   ]
  },
  {
   "cell_type": "markdown",
   "metadata": {},
   "source": [
    "#### Fixing Null Values"
   ]
  },
  {
   "cell_type": "code",
   "execution_count": 218,
   "metadata": {},
   "outputs": [
    {
     "data": {
      "text/plain": [
       "idMovie          0.000000\n",
       "originalTitle    0.000000\n",
       "Year             0.000045\n",
       "Minutes          0.108442\n",
       "Genres           0.040606\n",
       "averageRating    0.000000\n",
       "numVotes         0.000000\n",
       "dtype: float64"
      ]
     },
     "execution_count": 218,
     "metadata": {},
     "output_type": "execute_result"
    }
   ],
   "source": [
    "movies.isnull().sum()/len(movies)"
   ]
  },
  {
   "cell_type": "markdown",
   "metadata": {},
   "source": [
    "Year will be replaced with the median and minutes (length) with the mean"
   ]
  },
  {
   "cell_type": "code",
   "execution_count": 219,
   "metadata": {},
   "outputs": [],
   "source": [
    "movies['Minutes'].fillna((movies['Minutes'].median()), inplace=True)\n",
    "movies['Year'].fillna((movies['Year'].mean()), inplace=True)\n",
    "movies['Genres'].fillna('No available', inplace=True)"
   ]
  },
  {
   "cell_type": "code",
   "execution_count": 220,
   "metadata": {},
   "outputs": [
    {
     "data": {
      "text/plain": [
       "idMovie          0.0\n",
       "originalTitle    0.0\n",
       "Year             0.0\n",
       "Minutes          0.0\n",
       "Genres           0.0\n",
       "averageRating    0.0\n",
       "numVotes         0.0\n",
       "dtype: float64"
      ]
     },
     "execution_count": 220,
     "metadata": {},
     "output_type": "execute_result"
    }
   ],
   "source": [
    "movies.isnull().sum()/len(movies)"
   ]
  },
  {
   "cell_type": "markdown",
   "metadata": {},
   "source": [
    "#### Data types"
   ]
  },
  {
   "cell_type": "code",
   "execution_count": 221,
   "metadata": {},
   "outputs": [],
   "source": [
    "movies.Year = movies.Year.astype('int64')\n",
    "movies.Minutes = movies.Minutes.astype('int64')\n",
    "movies.numVotes = movies.numVotes.astype('int64')"
   ]
  },
  {
   "cell_type": "code",
   "execution_count": 222,
   "metadata": {},
   "outputs": [
    {
     "name": "stdout",
     "output_type": "stream",
     "text": [
      "<class 'pandas.core.frame.DataFrame'>\n",
      "Int64Index: 244841 entries, 0 to 542493\n",
      "Data columns (total 7 columns):\n",
      " #   Column         Non-Null Count   Dtype  \n",
      "---  ------         --------------   -----  \n",
      " 0   idMovie        244841 non-null  object \n",
      " 1   originalTitle  244841 non-null  object \n",
      " 2   Year           244841 non-null  int64  \n",
      " 3   Minutes        244841 non-null  int64  \n",
      " 4   Genres         244841 non-null  object \n",
      " 5   averageRating  244841 non-null  float64\n",
      " 6   numVotes       244841 non-null  int64  \n",
      "dtypes: float64(1), int64(3), object(3)\n",
      "memory usage: 14.9+ MB\n"
     ]
    }
   ],
   "source": [
    "movies.info()"
   ]
  },
  {
   "cell_type": "markdown",
   "metadata": {},
   "source": [
    "#### Feature engineering and dummy variables"
   ]
  },
  {
   "cell_type": "markdown",
   "metadata": {},
   "source": [
    "Out of the year, we obtain the **decade**. And we get the dummies for genre, country and languaje because these fields have many values in it separated by commas"
   ]
  },
  {
   "cell_type": "code",
   "execution_count": 223,
   "metadata": {},
   "outputs": [],
   "source": [
    "movies['decade'] = movies.Year//10*10"
   ]
  },
  {
   "cell_type": "code",
   "execution_count": 224,
   "metadata": {},
   "outputs": [
    {
     "data": {
      "text/html": [
       "<div>\n",
       "<style scoped>\n",
       "    .dataframe tbody tr th:only-of-type {\n",
       "        vertical-align: middle;\n",
       "    }\n",
       "\n",
       "    .dataframe tbody tr th {\n",
       "        vertical-align: top;\n",
       "    }\n",
       "\n",
       "    .dataframe thead th {\n",
       "        text-align: right;\n",
       "    }\n",
       "</style>\n",
       "<table border=\"1\" class=\"dataframe\">\n",
       "  <thead>\n",
       "    <tr style=\"text-align: right;\">\n",
       "      <th></th>\n",
       "      <th>idMovie</th>\n",
       "      <th>originalTitle</th>\n",
       "      <th>Year</th>\n",
       "      <th>Minutes</th>\n",
       "      <th>Genres</th>\n",
       "      <th>averageRating</th>\n",
       "      <th>numVotes</th>\n",
       "      <th>decade</th>\n",
       "    </tr>\n",
       "  </thead>\n",
       "  <tbody>\n",
       "    <tr>\n",
       "      <th>0</th>\n",
       "      <td>tt0000009</td>\n",
       "      <td>Miss Jerry</td>\n",
       "      <td>1894</td>\n",
       "      <td>45</td>\n",
       "      <td>Romance</td>\n",
       "      <td>5.9</td>\n",
       "      <td>153</td>\n",
       "      <td>1890</td>\n",
       "    </tr>\n",
       "    <tr>\n",
       "      <th>1</th>\n",
       "      <td>tt0000147</td>\n",
       "      <td>The Corbett-Fitzsimmons Fight</td>\n",
       "      <td>1897</td>\n",
       "      <td>20</td>\n",
       "      <td>Documentary,News,Sport</td>\n",
       "      <td>5.2</td>\n",
       "      <td>346</td>\n",
       "      <td>1890</td>\n",
       "    </tr>\n",
       "    <tr>\n",
       "      <th>2</th>\n",
       "      <td>tt0000335</td>\n",
       "      <td>Soldiers of the Cross</td>\n",
       "      <td>1900</td>\n",
       "      <td>91</td>\n",
       "      <td>Biography,Drama</td>\n",
       "      <td>6.1</td>\n",
       "      <td>40</td>\n",
       "      <td>1900</td>\n",
       "    </tr>\n",
       "    <tr>\n",
       "      <th>3</th>\n",
       "      <td>tt0000502</td>\n",
       "      <td>Bohemios</td>\n",
       "      <td>1905</td>\n",
       "      <td>100</td>\n",
       "      <td>No available</td>\n",
       "      <td>3.8</td>\n",
       "      <td>6</td>\n",
       "      <td>1900</td>\n",
       "    </tr>\n",
       "    <tr>\n",
       "      <th>4</th>\n",
       "      <td>tt0000574</td>\n",
       "      <td>The Story of the Kelly Gang</td>\n",
       "      <td>1906</td>\n",
       "      <td>70</td>\n",
       "      <td>Biography,Crime,Drama</td>\n",
       "      <td>6.1</td>\n",
       "      <td>574</td>\n",
       "      <td>1900</td>\n",
       "    </tr>\n",
       "  </tbody>\n",
       "</table>\n",
       "</div>"
      ],
      "text/plain": [
       "     idMovie                  originalTitle  Year  Minutes  \\\n",
       "0  tt0000009                     Miss Jerry  1894       45   \n",
       "1  tt0000147  The Corbett-Fitzsimmons Fight  1897       20   \n",
       "2  tt0000335          Soldiers of the Cross  1900       91   \n",
       "3  tt0000502                       Bohemios  1905      100   \n",
       "4  tt0000574    The Story of the Kelly Gang  1906       70   \n",
       "\n",
       "                   Genres  averageRating  numVotes  decade  \n",
       "0                 Romance            5.9       153    1890  \n",
       "1  Documentary,News,Sport            5.2       346    1890  \n",
       "2         Biography,Drama            6.1        40    1900  \n",
       "3            No available            3.8         6    1900  \n",
       "4   Biography,Crime,Drama            6.1       574    1900  "
      ]
     },
     "execution_count": 224,
     "metadata": {},
     "output_type": "execute_result"
    }
   ],
   "source": [
    "movies.head()"
   ]
  },
  {
   "cell_type": "code",
   "execution_count": 225,
   "metadata": {},
   "outputs": [
    {
     "data": {
      "text/plain": [
       "244841"
      ]
     },
     "execution_count": 225,
     "metadata": {},
     "output_type": "execute_result"
    }
   ],
   "source": [
    "len(movies)"
   ]
  },
  {
   "cell_type": "code",
   "execution_count": null,
   "metadata": {},
   "outputs": [],
   "source": []
  },
  {
   "cell_type": "markdown",
   "metadata": {},
   "source": [
    "#### MOVIES CREW"
   ]
  },
  {
   "cell_type": "code",
   "execution_count": 226,
   "metadata": {
    "scrolled": false
   },
   "outputs": [
    {
     "data": {
      "text/html": [
       "<div>\n",
       "<style scoped>\n",
       "    .dataframe tbody tr th:only-of-type {\n",
       "        vertical-align: middle;\n",
       "    }\n",
       "\n",
       "    .dataframe tbody tr th {\n",
       "        vertical-align: top;\n",
       "    }\n",
       "\n",
       "    .dataframe thead th {\n",
       "        text-align: right;\n",
       "    }\n",
       "</style>\n",
       "<table border=\"1\" class=\"dataframe\">\n",
       "  <thead>\n",
       "    <tr style=\"text-align: right;\">\n",
       "      <th></th>\n",
       "      <th>tconst</th>\n",
       "      <th>ordering</th>\n",
       "      <th>nconst</th>\n",
       "      <th>category</th>\n",
       "      <th>job</th>\n",
       "      <th>characters</th>\n",
       "    </tr>\n",
       "  </thead>\n",
       "  <tbody>\n",
       "    <tr>\n",
       "      <th>0</th>\n",
       "      <td>tt0000001</td>\n",
       "      <td>1</td>\n",
       "      <td>nm1588970</td>\n",
       "      <td>self</td>\n",
       "      <td>NaN</td>\n",
       "      <td>[\"Self\"]</td>\n",
       "    </tr>\n",
       "    <tr>\n",
       "      <th>1</th>\n",
       "      <td>tt0000001</td>\n",
       "      <td>2</td>\n",
       "      <td>nm0005690</td>\n",
       "      <td>director</td>\n",
       "      <td>NaN</td>\n",
       "      <td>NaN</td>\n",
       "    </tr>\n",
       "    <tr>\n",
       "      <th>2</th>\n",
       "      <td>tt0000001</td>\n",
       "      <td>3</td>\n",
       "      <td>nm0374658</td>\n",
       "      <td>cinematographer</td>\n",
       "      <td>director of photography</td>\n",
       "      <td>NaN</td>\n",
       "    </tr>\n",
       "    <tr>\n",
       "      <th>3</th>\n",
       "      <td>tt0000002</td>\n",
       "      <td>1</td>\n",
       "      <td>nm0721526</td>\n",
       "      <td>director</td>\n",
       "      <td>NaN</td>\n",
       "      <td>NaN</td>\n",
       "    </tr>\n",
       "    <tr>\n",
       "      <th>4</th>\n",
       "      <td>tt0000002</td>\n",
       "      <td>2</td>\n",
       "      <td>nm1335271</td>\n",
       "      <td>composer</td>\n",
       "      <td>NaN</td>\n",
       "      <td>NaN</td>\n",
       "    </tr>\n",
       "  </tbody>\n",
       "</table>\n",
       "</div>"
      ],
      "text/plain": [
       "      tconst  ordering     nconst         category                      job  \\\n",
       "0  tt0000001         1  nm1588970             self                      NaN   \n",
       "1  tt0000001         2  nm0005690         director                      NaN   \n",
       "2  tt0000001         3  nm0374658  cinematographer  director of photography   \n",
       "3  tt0000002         1  nm0721526         director                      NaN   \n",
       "4  tt0000002         2  nm1335271         composer                      NaN   \n",
       "\n",
       "  characters  \n",
       "0   [\"Self\"]  \n",
       "1        NaN  \n",
       "2        NaN  \n",
       "3        NaN  \n",
       "4        NaN  "
      ]
     },
     "execution_count": 226,
     "metadata": {},
     "output_type": "execute_result"
    }
   ],
   "source": [
    "df_principals.head()"
   ]
  },
  {
   "cell_type": "code",
   "execution_count": 227,
   "metadata": {},
   "outputs": [
    {
     "data": {
      "text/plain": [
       "actor                  9105285\n",
       "actress                6816303\n",
       "self                   6638020\n",
       "writer                 5244946\n",
       "director               4552840\n",
       "producer               2396946\n",
       "composer               1414656\n",
       "cinematographer        1395674\n",
       "editor                 1312898\n",
       "production_designer     297712\n",
       "archive_footage         231023\n",
       "archive_sound             2383\n",
       "Name: category, dtype: int64"
      ]
     },
     "execution_count": 227,
     "metadata": {},
     "output_type": "execute_result"
    }
   ],
   "source": [
    "df_principals.category.value_counts()"
   ]
  },
  {
   "cell_type": "code",
   "execution_count": 228,
   "metadata": {},
   "outputs": [
    {
     "data": {
      "text/html": [
       "<div>\n",
       "<style scoped>\n",
       "    .dataframe tbody tr th:only-of-type {\n",
       "        vertical-align: middle;\n",
       "    }\n",
       "\n",
       "    .dataframe tbody tr th {\n",
       "        vertical-align: top;\n",
       "    }\n",
       "\n",
       "    .dataframe thead th {\n",
       "        text-align: right;\n",
       "    }\n",
       "</style>\n",
       "<table border=\"1\" class=\"dataframe\">\n",
       "  <thead>\n",
       "    <tr style=\"text-align: right;\">\n",
       "      <th></th>\n",
       "      <th>nconst</th>\n",
       "      <th>primaryName</th>\n",
       "      <th>birthYear</th>\n",
       "      <th>deathYear</th>\n",
       "      <th>primaryProfession</th>\n",
       "      <th>knownForTitles</th>\n",
       "    </tr>\n",
       "  </thead>\n",
       "  <tbody>\n",
       "    <tr>\n",
       "      <th>0</th>\n",
       "      <td>nm0000001</td>\n",
       "      <td>Fred Astaire</td>\n",
       "      <td>1899.0</td>\n",
       "      <td>1987.0</td>\n",
       "      <td>soundtrack,actor,miscellaneous</td>\n",
       "      <td>tt0050419,tt0072308,tt0053137,tt0043044</td>\n",
       "    </tr>\n",
       "    <tr>\n",
       "      <th>1</th>\n",
       "      <td>nm0000002</td>\n",
       "      <td>Lauren Bacall</td>\n",
       "      <td>1924.0</td>\n",
       "      <td>2014.0</td>\n",
       "      <td>actress,soundtrack</td>\n",
       "      <td>tt0071877,tt0037382,tt0038355,tt0117057</td>\n",
       "    </tr>\n",
       "    <tr>\n",
       "      <th>2</th>\n",
       "      <td>nm0000003</td>\n",
       "      <td>Brigitte Bardot</td>\n",
       "      <td>1934.0</td>\n",
       "      <td>NaN</td>\n",
       "      <td>actress,soundtrack,producer</td>\n",
       "      <td>tt0054452,tt0059956,tt0057345,tt0049189</td>\n",
       "    </tr>\n",
       "    <tr>\n",
       "      <th>3</th>\n",
       "      <td>nm0000004</td>\n",
       "      <td>John Belushi</td>\n",
       "      <td>1949.0</td>\n",
       "      <td>1982.0</td>\n",
       "      <td>actor,soundtrack,writer</td>\n",
       "      <td>tt0080455,tt0078723,tt0072562,tt0077975</td>\n",
       "    </tr>\n",
       "    <tr>\n",
       "      <th>4</th>\n",
       "      <td>nm0000005</td>\n",
       "      <td>Ingmar Bergman</td>\n",
       "      <td>1918.0</td>\n",
       "      <td>2007.0</td>\n",
       "      <td>writer,director,actor</td>\n",
       "      <td>tt0083922,tt0060827,tt0050986,tt0050976</td>\n",
       "    </tr>\n",
       "  </tbody>\n",
       "</table>\n",
       "</div>"
      ],
      "text/plain": [
       "      nconst      primaryName  birthYear  deathYear  \\\n",
       "0  nm0000001     Fred Astaire     1899.0     1987.0   \n",
       "1  nm0000002    Lauren Bacall     1924.0     2014.0   \n",
       "2  nm0000003  Brigitte Bardot     1934.0        NaN   \n",
       "3  nm0000004     John Belushi     1949.0     1982.0   \n",
       "4  nm0000005   Ingmar Bergman     1918.0     2007.0   \n",
       "\n",
       "                primaryProfession                           knownForTitles  \n",
       "0  soundtrack,actor,miscellaneous  tt0050419,tt0072308,tt0053137,tt0043044  \n",
       "1              actress,soundtrack  tt0071877,tt0037382,tt0038355,tt0117057  \n",
       "2     actress,soundtrack,producer  tt0054452,tt0059956,tt0057345,tt0049189  \n",
       "3         actor,soundtrack,writer  tt0080455,tt0078723,tt0072562,tt0077975  \n",
       "4           writer,director,actor  tt0083922,tt0060827,tt0050986,tt0050976  "
      ]
     },
     "execution_count": 228,
     "metadata": {},
     "output_type": "execute_result"
    }
   ],
   "source": [
    "df_names.head()"
   ]
  },
  {
   "cell_type": "code",
   "execution_count": 229,
   "metadata": {},
   "outputs": [],
   "source": [
    "principals = pd.merge(df_principals, df_names[['nconst','primaryName']], left_on = 'nconst', right_on = 'nconst', how = 'left')"
   ]
  },
  {
   "cell_type": "code",
   "execution_count": 230,
   "metadata": {},
   "outputs": [],
   "source": [
    "principals = principals[['tconst','primaryName','category']]"
   ]
  },
  {
   "cell_type": "code",
   "execution_count": 231,
   "metadata": {},
   "outputs": [
    {
     "data": {
      "text/html": [
       "<div>\n",
       "<style scoped>\n",
       "    .dataframe tbody tr th:only-of-type {\n",
       "        vertical-align: middle;\n",
       "    }\n",
       "\n",
       "    .dataframe tbody tr th {\n",
       "        vertical-align: top;\n",
       "    }\n",
       "\n",
       "    .dataframe thead th {\n",
       "        text-align: right;\n",
       "    }\n",
       "</style>\n",
       "<table border=\"1\" class=\"dataframe\">\n",
       "  <thead>\n",
       "    <tr style=\"text-align: right;\">\n",
       "      <th></th>\n",
       "      <th>tconst</th>\n",
       "      <th>primaryName</th>\n",
       "      <th>category</th>\n",
       "    </tr>\n",
       "  </thead>\n",
       "  <tbody>\n",
       "    <tr>\n",
       "      <th>0</th>\n",
       "      <td>tt0000001</td>\n",
       "      <td>Carmencita</td>\n",
       "      <td>self</td>\n",
       "    </tr>\n",
       "    <tr>\n",
       "      <th>1</th>\n",
       "      <td>tt0000001</td>\n",
       "      <td>William K.L. Dickson</td>\n",
       "      <td>director</td>\n",
       "    </tr>\n",
       "    <tr>\n",
       "      <th>2</th>\n",
       "      <td>tt0000001</td>\n",
       "      <td>William Heise</td>\n",
       "      <td>cinematographer</td>\n",
       "    </tr>\n",
       "    <tr>\n",
       "      <th>3</th>\n",
       "      <td>tt0000002</td>\n",
       "      <td>Émile Reynaud</td>\n",
       "      <td>director</td>\n",
       "    </tr>\n",
       "    <tr>\n",
       "      <th>4</th>\n",
       "      <td>tt0000002</td>\n",
       "      <td>Gaston Paulin</td>\n",
       "      <td>composer</td>\n",
       "    </tr>\n",
       "  </tbody>\n",
       "</table>\n",
       "</div>"
      ],
      "text/plain": [
       "      tconst           primaryName         category\n",
       "0  tt0000001            Carmencita             self\n",
       "1  tt0000001  William K.L. Dickson         director\n",
       "2  tt0000001         William Heise  cinematographer\n",
       "3  tt0000002         Émile Reynaud         director\n",
       "4  tt0000002         Gaston Paulin         composer"
      ]
     },
     "execution_count": 231,
     "metadata": {},
     "output_type": "execute_result"
    }
   ],
   "source": [
    "principals.head()"
   ]
  },
  {
   "cell_type": "code",
   "execution_count": 47,
   "metadata": {},
   "outputs": [
    {
     "data": {
      "text/plain": [
       "actor                  9105285\n",
       "actress                6816303\n",
       "self                   6638020\n",
       "writer                 5244946\n",
       "director               4552840\n",
       "producer               2396946\n",
       "composer               1414656\n",
       "cinematographer        1395674\n",
       "editor                 1312898\n",
       "production_designer     297712\n",
       "archive_footage         231023\n",
       "archive_sound             2383\n",
       "Name: category, dtype: int64"
      ]
     },
     "execution_count": 47,
     "metadata": {},
     "output_type": "execute_result"
    }
   ],
   "source": [
    "principals.category.value_counts()"
   ]
  },
  {
   "cell_type": "code",
   "execution_count": 48,
   "metadata": {},
   "outputs": [],
   "source": [
    "directors = principals[principals.category == 'director']\n",
    "actors = principals[principals.category == 'actor']\n",
    "actress = principals[principals.category == 'actress']\n",
    "writers = principals[principals.category == 'writer']"
   ]
  },
  {
   "cell_type": "markdown",
   "metadata": {},
   "source": [
    "#### Directors info"
   ]
  },
  {
   "cell_type": "code",
   "execution_count": 232,
   "metadata": {},
   "outputs": [
    {
     "name": "stderr",
     "output_type": "stream",
     "text": [
      "C:\\Users\\cance\\anaconda3\\lib\\site-packages\\pandas\\core\\generic.py:5303: SettingWithCopyWarning: \n",
      "A value is trying to be set on a copy of a slice from a DataFrame.\n",
      "Try using .loc[row_indexer,col_indexer] = value instead\n",
      "\n",
      "See the caveats in the documentation: https://pandas.pydata.org/pandas-docs/stable/user_guide/indexing.html#returning-a-view-versus-a-copy\n",
      "  self[name] = value\n"
     ]
    }
   ],
   "source": [
    "directors = principals[principals.category == 'director']\n",
    "\n",
    "directors.primaryName = '\\'' + directors.primaryName.astype(str) + '\\''\n",
    "directors = directors[['tconst','primaryName']].groupby('tconst')['primaryName'].apply(','.join).reset_index()\n",
    "directors['primaryName'] = directors['primaryName'].str.replace('\\'', '')"
   ]
  },
  {
   "cell_type": "code",
   "execution_count": 233,
   "metadata": {},
   "outputs": [],
   "source": [
    "movies = pd.merge(movies, directors , left_on = 'idMovie', right_on = 'tconst', how = 'left')\n",
    "movies = movies.drop(['tconst'], axis=1)\n",
    "movies=movies.rename(columns = {'primaryName':'director'})"
   ]
  },
  {
   "cell_type": "code",
   "execution_count": 236,
   "metadata": {},
   "outputs": [
    {
     "data": {
      "text/plain": [
       "244841"
      ]
     },
     "execution_count": 236,
     "metadata": {},
     "output_type": "execute_result"
    }
   ],
   "source": [
    "len(movies)"
   ]
  },
  {
   "cell_type": "code",
   "execution_count": 234,
   "metadata": {},
   "outputs": [
    {
     "data": {
      "text/html": [
       "<div>\n",
       "<style scoped>\n",
       "    .dataframe tbody tr th:only-of-type {\n",
       "        vertical-align: middle;\n",
       "    }\n",
       "\n",
       "    .dataframe tbody tr th {\n",
       "        vertical-align: top;\n",
       "    }\n",
       "\n",
       "    .dataframe thead th {\n",
       "        text-align: right;\n",
       "    }\n",
       "</style>\n",
       "<table border=\"1\" class=\"dataframe\">\n",
       "  <thead>\n",
       "    <tr style=\"text-align: right;\">\n",
       "      <th></th>\n",
       "      <th>idMovie</th>\n",
       "      <th>originalTitle</th>\n",
       "      <th>Year</th>\n",
       "      <th>Minutes</th>\n",
       "      <th>Genres</th>\n",
       "      <th>averageRating</th>\n",
       "      <th>numVotes</th>\n",
       "      <th>decade</th>\n",
       "      <th>director</th>\n",
       "    </tr>\n",
       "  </thead>\n",
       "  <tbody>\n",
       "    <tr>\n",
       "      <th>0</th>\n",
       "      <td>tt0000009</td>\n",
       "      <td>Miss Jerry</td>\n",
       "      <td>1894</td>\n",
       "      <td>45</td>\n",
       "      <td>Romance</td>\n",
       "      <td>5.9</td>\n",
       "      <td>153</td>\n",
       "      <td>1890</td>\n",
       "      <td>Alexander Black</td>\n",
       "    </tr>\n",
       "    <tr>\n",
       "      <th>1</th>\n",
       "      <td>tt0000147</td>\n",
       "      <td>The Corbett-Fitzsimmons Fight</td>\n",
       "      <td>1897</td>\n",
       "      <td>20</td>\n",
       "      <td>Documentary,News,Sport</td>\n",
       "      <td>5.2</td>\n",
       "      <td>346</td>\n",
       "      <td>1890</td>\n",
       "      <td>Enoch J. Rector</td>\n",
       "    </tr>\n",
       "    <tr>\n",
       "      <th>2</th>\n",
       "      <td>tt0000335</td>\n",
       "      <td>Soldiers of the Cross</td>\n",
       "      <td>1900</td>\n",
       "      <td>91</td>\n",
       "      <td>Biography,Drama</td>\n",
       "      <td>6.1</td>\n",
       "      <td>40</td>\n",
       "      <td>1900</td>\n",
       "      <td>Herbert Booth,Joseph Perry</td>\n",
       "    </tr>\n",
       "    <tr>\n",
       "      <th>3</th>\n",
       "      <td>tt0000502</td>\n",
       "      <td>Bohemios</td>\n",
       "      <td>1905</td>\n",
       "      <td>100</td>\n",
       "      <td>No available</td>\n",
       "      <td>3.8</td>\n",
       "      <td>6</td>\n",
       "      <td>1900</td>\n",
       "      <td>Ricardo de Baños</td>\n",
       "    </tr>\n",
       "    <tr>\n",
       "      <th>4</th>\n",
       "      <td>tt0000574</td>\n",
       "      <td>The Story of the Kelly Gang</td>\n",
       "      <td>1906</td>\n",
       "      <td>70</td>\n",
       "      <td>Biography,Crime,Drama</td>\n",
       "      <td>6.1</td>\n",
       "      <td>574</td>\n",
       "      <td>1900</td>\n",
       "      <td>Charles Tait</td>\n",
       "    </tr>\n",
       "  </tbody>\n",
       "</table>\n",
       "</div>"
      ],
      "text/plain": [
       "     idMovie                  originalTitle  Year  Minutes  \\\n",
       "0  tt0000009                     Miss Jerry  1894       45   \n",
       "1  tt0000147  The Corbett-Fitzsimmons Fight  1897       20   \n",
       "2  tt0000335          Soldiers of the Cross  1900       91   \n",
       "3  tt0000502                       Bohemios  1905      100   \n",
       "4  tt0000574    The Story of the Kelly Gang  1906       70   \n",
       "\n",
       "                   Genres  averageRating  numVotes  decade  \\\n",
       "0                 Romance            5.9       153    1890   \n",
       "1  Documentary,News,Sport            5.2       346    1890   \n",
       "2         Biography,Drama            6.1        40    1900   \n",
       "3            No available            3.8         6    1900   \n",
       "4   Biography,Crime,Drama            6.1       574    1900   \n",
       "\n",
       "                     director  \n",
       "0             Alexander Black  \n",
       "1             Enoch J. Rector  \n",
       "2  Herbert Booth,Joseph Perry  \n",
       "3            Ricardo de Baños  \n",
       "4                Charles Tait  "
      ]
     },
     "execution_count": 234,
     "metadata": {},
     "output_type": "execute_result"
    }
   ],
   "source": [
    "movies.head()"
   ]
  },
  {
   "cell_type": "markdown",
   "metadata": {},
   "source": [
    "#### Actors info"
   ]
  },
  {
   "cell_type": "code",
   "execution_count": 237,
   "metadata": {},
   "outputs": [
    {
     "name": "stderr",
     "output_type": "stream",
     "text": [
      "C:\\Users\\cance\\anaconda3\\lib\\site-packages\\pandas\\core\\generic.py:5303: SettingWithCopyWarning: \n",
      "A value is trying to be set on a copy of a slice from a DataFrame.\n",
      "Try using .loc[row_indexer,col_indexer] = value instead\n",
      "\n",
      "See the caveats in the documentation: https://pandas.pydata.org/pandas-docs/stable/user_guide/indexing.html#returning-a-view-versus-a-copy\n",
      "  self[name] = value\n"
     ]
    }
   ],
   "source": [
    "actors = principals[principals.category == 'actor']\n",
    "\n",
    "actors.primaryName = '\\'' + actors.primaryName.astype(str) + '\\''\n",
    "actors = actors[['tconst','primaryName']].groupby('tconst')['primaryName'].apply(','.join).reset_index()\n",
    "actors['primaryName'] = actors['primaryName'].str.replace('\\'', '')"
   ]
  },
  {
   "cell_type": "code",
   "execution_count": 238,
   "metadata": {},
   "outputs": [],
   "source": [
    "movies = pd.merge(movies, actors , left_on = 'idMovie', right_on = 'tconst', how = 'left')\n",
    "movies = movies.drop(['tconst'], axis=1)\n",
    "movies=movies.rename(columns = {'primaryName':'actors'})"
   ]
  },
  {
   "cell_type": "code",
   "execution_count": 239,
   "metadata": {},
   "outputs": [
    {
     "data": {
      "text/plain": [
       "244841"
      ]
     },
     "execution_count": 239,
     "metadata": {},
     "output_type": "execute_result"
    }
   ],
   "source": [
    "len(movies)"
   ]
  },
  {
   "cell_type": "code",
   "execution_count": 240,
   "metadata": {},
   "outputs": [
    {
     "data": {
      "text/html": [
       "<div>\n",
       "<style scoped>\n",
       "    .dataframe tbody tr th:only-of-type {\n",
       "        vertical-align: middle;\n",
       "    }\n",
       "\n",
       "    .dataframe tbody tr th {\n",
       "        vertical-align: top;\n",
       "    }\n",
       "\n",
       "    .dataframe thead th {\n",
       "        text-align: right;\n",
       "    }\n",
       "</style>\n",
       "<table border=\"1\" class=\"dataframe\">\n",
       "  <thead>\n",
       "    <tr style=\"text-align: right;\">\n",
       "      <th></th>\n",
       "      <th>idMovie</th>\n",
       "      <th>originalTitle</th>\n",
       "      <th>Year</th>\n",
       "      <th>Minutes</th>\n",
       "      <th>Genres</th>\n",
       "      <th>averageRating</th>\n",
       "      <th>numVotes</th>\n",
       "      <th>decade</th>\n",
       "      <th>director</th>\n",
       "      <th>actors</th>\n",
       "    </tr>\n",
       "  </thead>\n",
       "  <tbody>\n",
       "    <tr>\n",
       "      <th>0</th>\n",
       "      <td>tt0000009</td>\n",
       "      <td>Miss Jerry</td>\n",
       "      <td>1894</td>\n",
       "      <td>45</td>\n",
       "      <td>Romance</td>\n",
       "      <td>5.9</td>\n",
       "      <td>153</td>\n",
       "      <td>1890</td>\n",
       "      <td>Alexander Black</td>\n",
       "      <td>William Courtenay,Chauncey Depew</td>\n",
       "    </tr>\n",
       "    <tr>\n",
       "      <th>1</th>\n",
       "      <td>tt0000147</td>\n",
       "      <td>The Corbett-Fitzsimmons Fight</td>\n",
       "      <td>1897</td>\n",
       "      <td>20</td>\n",
       "      <td>Documentary,News,Sport</td>\n",
       "      <td>5.2</td>\n",
       "      <td>346</td>\n",
       "      <td>1890</td>\n",
       "      <td>Enoch J. Rector</td>\n",
       "      <td>NaN</td>\n",
       "    </tr>\n",
       "    <tr>\n",
       "      <th>2</th>\n",
       "      <td>tt0000335</td>\n",
       "      <td>Soldiers of the Cross</td>\n",
       "      <td>1900</td>\n",
       "      <td>91</td>\n",
       "      <td>Biography,Drama</td>\n",
       "      <td>6.1</td>\n",
       "      <td>40</td>\n",
       "      <td>1900</td>\n",
       "      <td>Herbert Booth,Joseph Perry</td>\n",
       "      <td>Harold Graham,Mr. Graham,John Jones,Orrie Perr...</td>\n",
       "    </tr>\n",
       "    <tr>\n",
       "      <th>3</th>\n",
       "      <td>tt0000502</td>\n",
       "      <td>Bohemios</td>\n",
       "      <td>1905</td>\n",
       "      <td>100</td>\n",
       "      <td>No available</td>\n",
       "      <td>3.8</td>\n",
       "      <td>6</td>\n",
       "      <td>1900</td>\n",
       "      <td>Ricardo de Baños</td>\n",
       "      <td>Antonio del Pozo,El Mochuelo</td>\n",
       "    </tr>\n",
       "    <tr>\n",
       "      <th>4</th>\n",
       "      <td>tt0000574</td>\n",
       "      <td>The Story of the Kelly Gang</td>\n",
       "      <td>1906</td>\n",
       "      <td>70</td>\n",
       "      <td>Biography,Crime,Drama</td>\n",
       "      <td>6.1</td>\n",
       "      <td>574</td>\n",
       "      <td>1900</td>\n",
       "      <td>Charles Tait</td>\n",
       "      <td>John Tait,Norman Campbell</td>\n",
       "    </tr>\n",
       "  </tbody>\n",
       "</table>\n",
       "</div>"
      ],
      "text/plain": [
       "     idMovie                  originalTitle  Year  Minutes  \\\n",
       "0  tt0000009                     Miss Jerry  1894       45   \n",
       "1  tt0000147  The Corbett-Fitzsimmons Fight  1897       20   \n",
       "2  tt0000335          Soldiers of the Cross  1900       91   \n",
       "3  tt0000502                       Bohemios  1905      100   \n",
       "4  tt0000574    The Story of the Kelly Gang  1906       70   \n",
       "\n",
       "                   Genres  averageRating  numVotes  decade  \\\n",
       "0                 Romance            5.9       153    1890   \n",
       "1  Documentary,News,Sport            5.2       346    1890   \n",
       "2         Biography,Drama            6.1        40    1900   \n",
       "3            No available            3.8         6    1900   \n",
       "4   Biography,Crime,Drama            6.1       574    1900   \n",
       "\n",
       "                     director  \\\n",
       "0             Alexander Black   \n",
       "1             Enoch J. Rector   \n",
       "2  Herbert Booth,Joseph Perry   \n",
       "3            Ricardo de Baños   \n",
       "4                Charles Tait   \n",
       "\n",
       "                                              actors  \n",
       "0                   William Courtenay,Chauncey Depew  \n",
       "1                                                NaN  \n",
       "2  Harold Graham,Mr. Graham,John Jones,Orrie Perr...  \n",
       "3                       Antonio del Pozo,El Mochuelo  \n",
       "4                          John Tait,Norman Campbell  "
      ]
     },
     "execution_count": 240,
     "metadata": {},
     "output_type": "execute_result"
    }
   ],
   "source": [
    "movies.head()"
   ]
  },
  {
   "cell_type": "markdown",
   "metadata": {},
   "source": [
    "#### Actress info"
   ]
  },
  {
   "cell_type": "code",
   "execution_count": 241,
   "metadata": {},
   "outputs": [
    {
     "name": "stderr",
     "output_type": "stream",
     "text": [
      "C:\\Users\\cance\\anaconda3\\lib\\site-packages\\pandas\\core\\generic.py:5303: SettingWithCopyWarning: \n",
      "A value is trying to be set on a copy of a slice from a DataFrame.\n",
      "Try using .loc[row_indexer,col_indexer] = value instead\n",
      "\n",
      "See the caveats in the documentation: https://pandas.pydata.org/pandas-docs/stable/user_guide/indexing.html#returning-a-view-versus-a-copy\n",
      "  self[name] = value\n"
     ]
    }
   ],
   "source": [
    "actress = principals[principals.category == 'actress']\n",
    "\n",
    "actress.primaryName = '\\'' + actress.primaryName.astype(str) + '\\''\n",
    "actress = actress[['tconst','primaryName']].groupby('tconst')['primaryName'].apply(','.join).reset_index()\n",
    "actress['primaryName'] = actress['primaryName'].str.replace('\\'', '')"
   ]
  },
  {
   "cell_type": "code",
   "execution_count": 242,
   "metadata": {},
   "outputs": [],
   "source": [
    "movies = pd.merge(movies, actress , left_on = 'idMovie', right_on = 'tconst', how = 'left')\n",
    "movies = movies.drop(['tconst'], axis=1)\n",
    "movies=movies.rename(columns = {'primaryName':'actress'})"
   ]
  },
  {
   "cell_type": "code",
   "execution_count": 243,
   "metadata": {},
   "outputs": [
    {
     "data": {
      "text/plain": [
       "244841"
      ]
     },
     "execution_count": 243,
     "metadata": {},
     "output_type": "execute_result"
    }
   ],
   "source": [
    "len(movies)"
   ]
  },
  {
   "cell_type": "code",
   "execution_count": 244,
   "metadata": {},
   "outputs": [
    {
     "data": {
      "text/html": [
       "<div>\n",
       "<style scoped>\n",
       "    .dataframe tbody tr th:only-of-type {\n",
       "        vertical-align: middle;\n",
       "    }\n",
       "\n",
       "    .dataframe tbody tr th {\n",
       "        vertical-align: top;\n",
       "    }\n",
       "\n",
       "    .dataframe thead th {\n",
       "        text-align: right;\n",
       "    }\n",
       "</style>\n",
       "<table border=\"1\" class=\"dataframe\">\n",
       "  <thead>\n",
       "    <tr style=\"text-align: right;\">\n",
       "      <th></th>\n",
       "      <th>idMovie</th>\n",
       "      <th>originalTitle</th>\n",
       "      <th>Year</th>\n",
       "      <th>Minutes</th>\n",
       "      <th>Genres</th>\n",
       "      <th>averageRating</th>\n",
       "      <th>numVotes</th>\n",
       "      <th>decade</th>\n",
       "      <th>director</th>\n",
       "      <th>actors</th>\n",
       "      <th>actress</th>\n",
       "    </tr>\n",
       "  </thead>\n",
       "  <tbody>\n",
       "    <tr>\n",
       "      <th>0</th>\n",
       "      <td>tt0000009</td>\n",
       "      <td>Miss Jerry</td>\n",
       "      <td>1894</td>\n",
       "      <td>45</td>\n",
       "      <td>Romance</td>\n",
       "      <td>5.9</td>\n",
       "      <td>153</td>\n",
       "      <td>1890</td>\n",
       "      <td>Alexander Black</td>\n",
       "      <td>William Courtenay,Chauncey Depew</td>\n",
       "      <td>Blanche Bayliss</td>\n",
       "    </tr>\n",
       "    <tr>\n",
       "      <th>1</th>\n",
       "      <td>tt0000147</td>\n",
       "      <td>The Corbett-Fitzsimmons Fight</td>\n",
       "      <td>1897</td>\n",
       "      <td>20</td>\n",
       "      <td>Documentary,News,Sport</td>\n",
       "      <td>5.2</td>\n",
       "      <td>346</td>\n",
       "      <td>1890</td>\n",
       "      <td>Enoch J. Rector</td>\n",
       "      <td>NaN</td>\n",
       "      <td>NaN</td>\n",
       "    </tr>\n",
       "    <tr>\n",
       "      <th>2</th>\n",
       "      <td>tt0000335</td>\n",
       "      <td>Soldiers of the Cross</td>\n",
       "      <td>1900</td>\n",
       "      <td>91</td>\n",
       "      <td>Biography,Drama</td>\n",
       "      <td>6.1</td>\n",
       "      <td>40</td>\n",
       "      <td>1900</td>\n",
       "      <td>Herbert Booth,Joseph Perry</td>\n",
       "      <td>Harold Graham,Mr. Graham,John Jones,Orrie Perr...</td>\n",
       "      <td>Beatrice Day</td>\n",
       "    </tr>\n",
       "    <tr>\n",
       "      <th>3</th>\n",
       "      <td>tt0000502</td>\n",
       "      <td>Bohemios</td>\n",
       "      <td>1905</td>\n",
       "      <td>100</td>\n",
       "      <td>No available</td>\n",
       "      <td>3.8</td>\n",
       "      <td>6</td>\n",
       "      <td>1900</td>\n",
       "      <td>Ricardo de Baños</td>\n",
       "      <td>Antonio del Pozo,El Mochuelo</td>\n",
       "      <td>NaN</td>\n",
       "    </tr>\n",
       "    <tr>\n",
       "      <th>4</th>\n",
       "      <td>tt0000574</td>\n",
       "      <td>The Story of the Kelly Gang</td>\n",
       "      <td>1906</td>\n",
       "      <td>70</td>\n",
       "      <td>Biography,Crime,Drama</td>\n",
       "      <td>6.1</td>\n",
       "      <td>574</td>\n",
       "      <td>1900</td>\n",
       "      <td>Charles Tait</td>\n",
       "      <td>John Tait,Norman Campbell</td>\n",
       "      <td>Elizabeth Tait,Bella Cola</td>\n",
       "    </tr>\n",
       "  </tbody>\n",
       "</table>\n",
       "</div>"
      ],
      "text/plain": [
       "     idMovie                  originalTitle  Year  Minutes  \\\n",
       "0  tt0000009                     Miss Jerry  1894       45   \n",
       "1  tt0000147  The Corbett-Fitzsimmons Fight  1897       20   \n",
       "2  tt0000335          Soldiers of the Cross  1900       91   \n",
       "3  tt0000502                       Bohemios  1905      100   \n",
       "4  tt0000574    The Story of the Kelly Gang  1906       70   \n",
       "\n",
       "                   Genres  averageRating  numVotes  decade  \\\n",
       "0                 Romance            5.9       153    1890   \n",
       "1  Documentary,News,Sport            5.2       346    1890   \n",
       "2         Biography,Drama            6.1        40    1900   \n",
       "3            No available            3.8         6    1900   \n",
       "4   Biography,Crime,Drama            6.1       574    1900   \n",
       "\n",
       "                     director  \\\n",
       "0             Alexander Black   \n",
       "1             Enoch J. Rector   \n",
       "2  Herbert Booth,Joseph Perry   \n",
       "3            Ricardo de Baños   \n",
       "4                Charles Tait   \n",
       "\n",
       "                                              actors  \\\n",
       "0                   William Courtenay,Chauncey Depew   \n",
       "1                                                NaN   \n",
       "2  Harold Graham,Mr. Graham,John Jones,Orrie Perr...   \n",
       "3                       Antonio del Pozo,El Mochuelo   \n",
       "4                          John Tait,Norman Campbell   \n",
       "\n",
       "                     actress  \n",
       "0            Blanche Bayliss  \n",
       "1                        NaN  \n",
       "2               Beatrice Day  \n",
       "3                        NaN  \n",
       "4  Elizabeth Tait,Bella Cola  "
      ]
     },
     "execution_count": 244,
     "metadata": {},
     "output_type": "execute_result"
    }
   ],
   "source": [
    "movies.head()"
   ]
  },
  {
   "cell_type": "markdown",
   "metadata": {},
   "source": [
    "#### Writers info"
   ]
  },
  {
   "cell_type": "code",
   "execution_count": 245,
   "metadata": {},
   "outputs": [
    {
     "name": "stderr",
     "output_type": "stream",
     "text": [
      "C:\\Users\\cance\\anaconda3\\lib\\site-packages\\pandas\\core\\generic.py:5303: SettingWithCopyWarning: \n",
      "A value is trying to be set on a copy of a slice from a DataFrame.\n",
      "Try using .loc[row_indexer,col_indexer] = value instead\n",
      "\n",
      "See the caveats in the documentation: https://pandas.pydata.org/pandas-docs/stable/user_guide/indexing.html#returning-a-view-versus-a-copy\n",
      "  self[name] = value\n"
     ]
    }
   ],
   "source": [
    "writers = principals[principals.category == 'writer']\n",
    "\n",
    "writers.primaryName = '\\'' + writers.primaryName.astype(str) + '\\''\n",
    "writers = writers[['tconst','primaryName']].groupby('tconst')['primaryName'].apply(','.join).reset_index()\n",
    "writers['primaryName'] = actress['primaryName'].str.replace('\\'', '')"
   ]
  },
  {
   "cell_type": "code",
   "execution_count": 246,
   "metadata": {},
   "outputs": [],
   "source": [
    "movies = pd.merge(movies, writers , left_on = 'idMovie', right_on = 'tconst', how = 'left')\n",
    "movies = movies.drop(['tconst'], axis=1)\n",
    "movies=movies.rename(columns = {'primaryName':'writers'})"
   ]
  },
  {
   "cell_type": "code",
   "execution_count": 258,
   "metadata": {},
   "outputs": [],
   "source": [
    "movies['director'].fillna('Not available', inplace=True)\n",
    "movies['actors'].fillna('Not available', inplace=True)\n",
    "movies['actress'].fillna('Not available', inplace=True)\n",
    "movies['writers'].fillna('Not available', inplace=True)"
   ]
  },
  {
   "cell_type": "code",
   "execution_count": 259,
   "metadata": {},
   "outputs": [
    {
     "name": "stdout",
     "output_type": "stream",
     "text": [
      "<class 'pandas.core.frame.DataFrame'>\n",
      "Int64Index: 244841 entries, 0 to 244840\n",
      "Data columns (total 12 columns):\n",
      " #   Column         Non-Null Count   Dtype  \n",
      "---  ------         --------------   -----  \n",
      " 0   idMovie        244841 non-null  object \n",
      " 1   originalTitle  244841 non-null  object \n",
      " 2   Year           244841 non-null  int64  \n",
      " 3   Minutes        244841 non-null  int64  \n",
      " 4   Genres         244841 non-null  object \n",
      " 5   averageRating  244841 non-null  float64\n",
      " 6   numVotes       244841 non-null  int64  \n",
      " 7   decade         244841 non-null  int64  \n",
      " 8   director       244841 non-null  object \n",
      " 9   actors         244841 non-null  object \n",
      " 10  actress        244841 non-null  object \n",
      " 11  writers        244841 non-null  object \n",
      "dtypes: float64(1), int64(4), object(7)\n",
      "memory usage: 24.3+ MB\n"
     ]
    }
   ],
   "source": [
    "movies.info()"
   ]
  },
  {
   "cell_type": "markdown",
   "metadata": {},
   "source": [
    "#### Deleting documentaries"
   ]
  },
  {
   "cell_type": "code",
   "execution_count": 13,
   "metadata": {},
   "outputs": [],
   "source": [
    "movies = movies[movies.Genres != 'Documentary']"
   ]
  },
  {
   "cell_type": "code",
   "execution_count": 14,
   "metadata": {},
   "outputs": [
    {
     "data": {
      "text/plain": [
       "Drama                          42485\n",
       "Comedy                         22287\n",
       "No available                    9942\n",
       "Comedy,Drama                    8044\n",
       "Drama,Romance                   7559\n",
       "                               ...  \n",
       "History,Mystery                    1\n",
       "Documentary,Fantasy,Mystery        1\n",
       "Comedy,Film-Noir,Mystery           1\n",
       "Crime,Film-Noir                    1\n",
       "Adventure,Romance,Sport            1\n",
       "Name: Genres, Length: 1172, dtype: int64"
      ]
     },
     "execution_count": 14,
     "metadata": {},
     "output_type": "execute_result"
    }
   ],
   "source": [
    "movies.Genres.value_counts()"
   ]
  },
  {
   "cell_type": "code",
   "execution_count": 15,
   "metadata": {},
   "outputs": [
    {
     "data": {
      "text/plain": [
       "221748"
      ]
     },
     "execution_count": 15,
     "metadata": {},
     "output_type": "execute_result"
    }
   ],
   "source": [
    "len(movies)"
   ]
  },
  {
   "cell_type": "code",
   "execution_count": 16,
   "metadata": {},
   "outputs": [
    {
     "data": {
      "text/html": [
       "<div>\n",
       "<style scoped>\n",
       "    .dataframe tbody tr th:only-of-type {\n",
       "        vertical-align: middle;\n",
       "    }\n",
       "\n",
       "    .dataframe tbody tr th {\n",
       "        vertical-align: top;\n",
       "    }\n",
       "\n",
       "    .dataframe thead th {\n",
       "        text-align: right;\n",
       "    }\n",
       "</style>\n",
       "<table border=\"1\" class=\"dataframe\">\n",
       "  <thead>\n",
       "    <tr style=\"text-align: right;\">\n",
       "      <th></th>\n",
       "      <th>idMovie</th>\n",
       "      <th>originalTitle</th>\n",
       "      <th>Year</th>\n",
       "      <th>Minutes</th>\n",
       "      <th>Genres</th>\n",
       "      <th>averageRating</th>\n",
       "      <th>numVotes</th>\n",
       "      <th>decade</th>\n",
       "      <th>director</th>\n",
       "      <th>actors</th>\n",
       "      <th>actress</th>\n",
       "      <th>writers</th>\n",
       "    </tr>\n",
       "  </thead>\n",
       "  <tbody>\n",
       "    <tr>\n",
       "      <th>0</th>\n",
       "      <td>tt0000009</td>\n",
       "      <td>Miss Jerry</td>\n",
       "      <td>1894</td>\n",
       "      <td>45</td>\n",
       "      <td>Romance</td>\n",
       "      <td>5.9</td>\n",
       "      <td>153</td>\n",
       "      <td>1890</td>\n",
       "      <td>Alexander Black</td>\n",
       "      <td>William Courtenay,Chauncey Depew</td>\n",
       "      <td>Blanche Bayliss</td>\n",
       "      <td>Not available</td>\n",
       "    </tr>\n",
       "    <tr>\n",
       "      <th>1</th>\n",
       "      <td>tt0000147</td>\n",
       "      <td>The Corbett-Fitzsimmons Fight</td>\n",
       "      <td>1897</td>\n",
       "      <td>20</td>\n",
       "      <td>Documentary,News,Sport</td>\n",
       "      <td>5.2</td>\n",
       "      <td>346</td>\n",
       "      <td>1890</td>\n",
       "      <td>Enoch J. Rector</td>\n",
       "      <td>Not available</td>\n",
       "      <td>Not available</td>\n",
       "      <td>Not available</td>\n",
       "    </tr>\n",
       "    <tr>\n",
       "      <th>2</th>\n",
       "      <td>tt0000335</td>\n",
       "      <td>Soldiers of the Cross</td>\n",
       "      <td>1900</td>\n",
       "      <td>91</td>\n",
       "      <td>Biography,Drama</td>\n",
       "      <td>6.1</td>\n",
       "      <td>40</td>\n",
       "      <td>1900</td>\n",
       "      <td>Herbert Booth,Joseph Perry</td>\n",
       "      <td>Harold Graham,Mr. Graham,John Jones,Orrie Perr...</td>\n",
       "      <td>Beatrice Day</td>\n",
       "      <td>Not available</td>\n",
       "    </tr>\n",
       "    <tr>\n",
       "      <th>3</th>\n",
       "      <td>tt0000502</td>\n",
       "      <td>Bohemios</td>\n",
       "      <td>1905</td>\n",
       "      <td>100</td>\n",
       "      <td>No available</td>\n",
       "      <td>3.8</td>\n",
       "      <td>6</td>\n",
       "      <td>1900</td>\n",
       "      <td>Ricardo de Baños</td>\n",
       "      <td>Antonio del Pozo,El Mochuelo</td>\n",
       "      <td>Not available</td>\n",
       "      <td>Marguerite Thévenard,Bleuette Bernon</td>\n",
       "    </tr>\n",
       "    <tr>\n",
       "      <th>4</th>\n",
       "      <td>tt0000574</td>\n",
       "      <td>The Story of the Kelly Gang</td>\n",
       "      <td>1906</td>\n",
       "      <td>70</td>\n",
       "      <td>Biography,Crime,Drama</td>\n",
       "      <td>6.1</td>\n",
       "      <td>574</td>\n",
       "      <td>1900</td>\n",
       "      <td>Charles Tait</td>\n",
       "      <td>John Tait,Norman Campbell</td>\n",
       "      <td>Elizabeth Tait,Bella Cola</td>\n",
       "      <td>Not available</td>\n",
       "    </tr>\n",
       "  </tbody>\n",
       "</table>\n",
       "</div>"
      ],
      "text/plain": [
       "     idMovie                  originalTitle  Year  Minutes  \\\n",
       "0  tt0000009                     Miss Jerry  1894       45   \n",
       "1  tt0000147  The Corbett-Fitzsimmons Fight  1897       20   \n",
       "2  tt0000335          Soldiers of the Cross  1900       91   \n",
       "3  tt0000502                       Bohemios  1905      100   \n",
       "4  tt0000574    The Story of the Kelly Gang  1906       70   \n",
       "\n",
       "                   Genres  averageRating  numVotes  decade  \\\n",
       "0                 Romance            5.9       153    1890   \n",
       "1  Documentary,News,Sport            5.2       346    1890   \n",
       "2         Biography,Drama            6.1        40    1900   \n",
       "3            No available            3.8         6    1900   \n",
       "4   Biography,Crime,Drama            6.1       574    1900   \n",
       "\n",
       "                     director  \\\n",
       "0             Alexander Black   \n",
       "1             Enoch J. Rector   \n",
       "2  Herbert Booth,Joseph Perry   \n",
       "3            Ricardo de Baños   \n",
       "4                Charles Tait   \n",
       "\n",
       "                                              actors  \\\n",
       "0                   William Courtenay,Chauncey Depew   \n",
       "1                                      Not available   \n",
       "2  Harold Graham,Mr. Graham,John Jones,Orrie Perr...   \n",
       "3                       Antonio del Pozo,El Mochuelo   \n",
       "4                          John Tait,Norman Campbell   \n",
       "\n",
       "                     actress                               writers  \n",
       "0            Blanche Bayliss                         Not available  \n",
       "1              Not available                         Not available  \n",
       "2               Beatrice Day                         Not available  \n",
       "3              Not available  Marguerite Thévenard,Bleuette Bernon  \n",
       "4  Elizabeth Tait,Bella Cola                         Not available  "
      ]
     },
     "execution_count": 16,
     "metadata": {},
     "output_type": "execute_result"
    }
   ],
   "source": [
    "movies.head()"
   ]
  },
  {
   "cell_type": "code",
   "execution_count": 17,
   "metadata": {},
   "outputs": [
    {
     "data": {
      "text/plain": [
       "(221748, 12)"
      ]
     },
     "execution_count": 17,
     "metadata": {},
     "output_type": "execute_result"
    }
   ],
   "source": [
    "movies.shape"
   ]
  },
  {
   "cell_type": "markdown",
   "metadata": {},
   "source": [
    "#### MOVIES GENRES"
   ]
  },
  {
   "cell_type": "code",
   "execution_count": 18,
   "metadata": {},
   "outputs": [],
   "source": [
    "val = pd.concat([movies.idMovie, \n",
    "                 movies.Genres.str.split(',', expand=True)], \n",
    "                axis=1)\n",
    "m = pd.melt(val, id_vars=['idMovie']).loc[:, ['idMovie', 'value']]\n",
    "m.columns = ['idMovie', 'Genre']\n",
    "m = m.dropna()"
   ]
  },
  {
   "cell_type": "code",
   "execution_count": 19,
   "metadata": {},
   "outputs": [
    {
     "data": {
      "text/html": [
       "<div>\n",
       "<style scoped>\n",
       "    .dataframe tbody tr th:only-of-type {\n",
       "        vertical-align: middle;\n",
       "    }\n",
       "\n",
       "    .dataframe tbody tr th {\n",
       "        vertical-align: top;\n",
       "    }\n",
       "\n",
       "    .dataframe thead th {\n",
       "        text-align: right;\n",
       "    }\n",
       "</style>\n",
       "<table border=\"1\" class=\"dataframe\">\n",
       "  <thead>\n",
       "    <tr style=\"text-align: right;\">\n",
       "      <th></th>\n",
       "      <th>idMovie</th>\n",
       "      <th>Genre</th>\n",
       "    </tr>\n",
       "  </thead>\n",
       "  <tbody>\n",
       "    <tr>\n",
       "      <th>0</th>\n",
       "      <td>tt0000009</td>\n",
       "      <td>Romance</td>\n",
       "    </tr>\n",
       "    <tr>\n",
       "      <th>443497</th>\n",
       "      <td>tt0000147</td>\n",
       "      <td>Sport</td>\n",
       "    </tr>\n",
       "    <tr>\n",
       "      <th>221749</th>\n",
       "      <td>tt0000147</td>\n",
       "      <td>News</td>\n",
       "    </tr>\n",
       "    <tr>\n",
       "      <th>1</th>\n",
       "      <td>tt0000147</td>\n",
       "      <td>Documentary</td>\n",
       "    </tr>\n",
       "    <tr>\n",
       "      <th>221750</th>\n",
       "      <td>tt0000335</td>\n",
       "      <td>Drama</td>\n",
       "    </tr>\n",
       "    <tr>\n",
       "      <th>...</th>\n",
       "      <td>...</td>\n",
       "      <td>...</td>\n",
       "    </tr>\n",
       "    <tr>\n",
       "      <th>665241</th>\n",
       "      <td>tt9916132</td>\n",
       "      <td>History</td>\n",
       "    </tr>\n",
       "    <tr>\n",
       "      <th>443494</th>\n",
       "      <td>tt9916428</td>\n",
       "      <td>History</td>\n",
       "    </tr>\n",
       "    <tr>\n",
       "      <th>221746</th>\n",
       "      <td>tt9916428</td>\n",
       "      <td>Adventure</td>\n",
       "    </tr>\n",
       "    <tr>\n",
       "      <th>665242</th>\n",
       "      <td>tt9916428</td>\n",
       "      <td>War</td>\n",
       "    </tr>\n",
       "    <tr>\n",
       "      <th>221747</th>\n",
       "      <td>tt9916538</td>\n",
       "      <td>Drama</td>\n",
       "    </tr>\n",
       "  </tbody>\n",
       "</table>\n",
       "<p>399373 rows × 2 columns</p>\n",
       "</div>"
      ],
      "text/plain": [
       "          idMovie        Genre\n",
       "0       tt0000009      Romance\n",
       "443497  tt0000147        Sport\n",
       "221749  tt0000147         News\n",
       "1       tt0000147  Documentary\n",
       "221750  tt0000335        Drama\n",
       "...           ...          ...\n",
       "665241  tt9916132      History\n",
       "443494  tt9916428      History\n",
       "221746  tt9916428    Adventure\n",
       "665242  tt9916428          War\n",
       "221747  tt9916538        Drama\n",
       "\n",
       "[399373 rows x 2 columns]"
      ]
     },
     "execution_count": 19,
     "metadata": {},
     "output_type": "execute_result"
    }
   ],
   "source": [
    "m.sort_values(by ='idMovie')"
   ]
  },
  {
   "cell_type": "code",
   "execution_count": 20,
   "metadata": {},
   "outputs": [],
   "source": [
    "genres = pd.merge(m, movies, left_on = 'idMovie', right_on = 'idMovie', how = 'left')\n",
    "genres = genres.drop(['Genres'], axis=1)"
   ]
  },
  {
   "cell_type": "markdown",
   "metadata": {},
   "source": [
    "- we delete the documentaries and adults"
   ]
  },
  {
   "cell_type": "code",
   "execution_count": 24,
   "metadata": {},
   "outputs": [],
   "source": [
    "genres = genres[genres.Genre != 'Documentary']"
   ]
  },
  {
   "cell_type": "code",
   "execution_count": 25,
   "metadata": {},
   "outputs": [
    {
     "data": {
      "text/plain": [
       "Drama           109905\n",
       "Comedy           62150\n",
       "Romance          28010\n",
       "Action           26934\n",
       "Crime            21014\n",
       "Thriller         19905\n",
       "Horror           17134\n",
       "Adventure        16748\n",
       "No available      9942\n",
       "Family            9535\n",
       "Mystery           9044\n",
       "Biography         7429\n",
       "Fantasy           7128\n",
       "History           6752\n",
       "Music             6006\n",
       "Sci-Fi            5916\n",
       "Musical           5662\n",
       "War               5495\n",
       "Animation         4241\n",
       "Western           3885\n",
       "Sport             2864\n",
       "Film-Noir          785\n",
       "News               666\n",
       "Reality-TV          33\n",
       "Adult                8\n",
       "Talk-Show            3\n",
       "Game-Show            1\n",
       "Name: Genre, dtype: int64"
      ]
     },
     "execution_count": 25,
     "metadata": {},
     "output_type": "execute_result"
    }
   ],
   "source": [
    "genres.Genre.value_counts()"
   ]
  },
  {
   "cell_type": "code",
   "execution_count": 27,
   "metadata": {},
   "outputs": [
    {
     "data": {
      "text/html": [
       "<div>\n",
       "<style scoped>\n",
       "    .dataframe tbody tr th:only-of-type {\n",
       "        vertical-align: middle;\n",
       "    }\n",
       "\n",
       "    .dataframe tbody tr th {\n",
       "        vertical-align: top;\n",
       "    }\n",
       "\n",
       "    .dataframe thead th {\n",
       "        text-align: right;\n",
       "    }\n",
       "</style>\n",
       "<table border=\"1\" class=\"dataframe\">\n",
       "  <thead>\n",
       "    <tr style=\"text-align: right;\">\n",
       "      <th></th>\n",
       "      <th>idMovie</th>\n",
       "      <th>Genre</th>\n",
       "      <th>originalTitle</th>\n",
       "      <th>Year</th>\n",
       "      <th>Minutes</th>\n",
       "      <th>averageRating</th>\n",
       "      <th>numVotes</th>\n",
       "      <th>decade</th>\n",
       "      <th>director</th>\n",
       "      <th>actors</th>\n",
       "      <th>actress</th>\n",
       "      <th>writers</th>\n",
       "    </tr>\n",
       "  </thead>\n",
       "  <tbody>\n",
       "    <tr>\n",
       "      <th>0</th>\n",
       "      <td>tt0000009</td>\n",
       "      <td>Romance</td>\n",
       "      <td>Miss Jerry</td>\n",
       "      <td>1894</td>\n",
       "      <td>45</td>\n",
       "      <td>5.9</td>\n",
       "      <td>153</td>\n",
       "      <td>1890</td>\n",
       "      <td>Alexander Black</td>\n",
       "      <td>William Courtenay,Chauncey Depew</td>\n",
       "      <td>Blanche Bayliss</td>\n",
       "      <td>Not available</td>\n",
       "    </tr>\n",
       "    <tr>\n",
       "      <th>2</th>\n",
       "      <td>tt0000335</td>\n",
       "      <td>Biography</td>\n",
       "      <td>Soldiers of the Cross</td>\n",
       "      <td>1900</td>\n",
       "      <td>91</td>\n",
       "      <td>6.1</td>\n",
       "      <td>40</td>\n",
       "      <td>1900</td>\n",
       "      <td>Herbert Booth,Joseph Perry</td>\n",
       "      <td>Harold Graham,Mr. Graham,John Jones,Orrie Perr...</td>\n",
       "      <td>Beatrice Day</td>\n",
       "      <td>Not available</td>\n",
       "    </tr>\n",
       "    <tr>\n",
       "      <th>3</th>\n",
       "      <td>tt0000502</td>\n",
       "      <td>No available</td>\n",
       "      <td>Bohemios</td>\n",
       "      <td>1905</td>\n",
       "      <td>100</td>\n",
       "      <td>3.8</td>\n",
       "      <td>6</td>\n",
       "      <td>1900</td>\n",
       "      <td>Ricardo de Baños</td>\n",
       "      <td>Antonio del Pozo,El Mochuelo</td>\n",
       "      <td>Not available</td>\n",
       "      <td>Marguerite Thévenard,Bleuette Bernon</td>\n",
       "    </tr>\n",
       "    <tr>\n",
       "      <th>4</th>\n",
       "      <td>tt0000574</td>\n",
       "      <td>Biography</td>\n",
       "      <td>The Story of the Kelly Gang</td>\n",
       "      <td>1906</td>\n",
       "      <td>70</td>\n",
       "      <td>6.1</td>\n",
       "      <td>574</td>\n",
       "      <td>1900</td>\n",
       "      <td>Charles Tait</td>\n",
       "      <td>John Tait,Norman Campbell</td>\n",
       "      <td>Elizabeth Tait,Bella Cola</td>\n",
       "      <td>Not available</td>\n",
       "    </tr>\n",
       "    <tr>\n",
       "      <th>5</th>\n",
       "      <td>tt0000615</td>\n",
       "      <td>Drama</td>\n",
       "      <td>Robbery Under Arms</td>\n",
       "      <td>1907</td>\n",
       "      <td>91</td>\n",
       "      <td>4.5</td>\n",
       "      <td>15</td>\n",
       "      <td>1900</td>\n",
       "      <td>Charles MacMahon</td>\n",
       "      <td>Jim Gerald,George Merriman,Lance Vane,William ...</td>\n",
       "      <td>Rhoda Dendron</td>\n",
       "      <td>Gene Gauntier</td>\n",
       "    </tr>\n",
       "  </tbody>\n",
       "</table>\n",
       "</div>"
      ],
      "text/plain": [
       "     idMovie         Genre                originalTitle  Year  Minutes  \\\n",
       "0  tt0000009       Romance                   Miss Jerry  1894       45   \n",
       "2  tt0000335     Biography        Soldiers of the Cross  1900       91   \n",
       "3  tt0000502  No available                     Bohemios  1905      100   \n",
       "4  tt0000574     Biography  The Story of the Kelly Gang  1906       70   \n",
       "5  tt0000615         Drama           Robbery Under Arms  1907       91   \n",
       "\n",
       "   averageRating  numVotes  decade                    director  \\\n",
       "0            5.9       153    1890             Alexander Black   \n",
       "2            6.1        40    1900  Herbert Booth,Joseph Perry   \n",
       "3            3.8         6    1900            Ricardo de Baños   \n",
       "4            6.1       574    1900                Charles Tait   \n",
       "5            4.5        15    1900            Charles MacMahon   \n",
       "\n",
       "                                              actors  \\\n",
       "0                   William Courtenay,Chauncey Depew   \n",
       "2  Harold Graham,Mr. Graham,John Jones,Orrie Perr...   \n",
       "3                       Antonio del Pozo,El Mochuelo   \n",
       "4                          John Tait,Norman Campbell   \n",
       "5  Jim Gerald,George Merriman,Lance Vane,William ...   \n",
       "\n",
       "                     actress                               writers  \n",
       "0            Blanche Bayliss                         Not available  \n",
       "2               Beatrice Day                         Not available  \n",
       "3              Not available  Marguerite Thévenard,Bleuette Bernon  \n",
       "4  Elizabeth Tait,Bella Cola                         Not available  \n",
       "5              Rhoda Dendron                         Gene Gauntier  "
      ]
     },
     "execution_count": 27,
     "metadata": {},
     "output_type": "execute_result"
    }
   ],
   "source": [
    "genres.head()"
   ]
  },
  {
   "cell_type": "code",
   "execution_count": 28,
   "metadata": {},
   "outputs": [
    {
     "data": {
      "text/plain": [
       "387195"
      ]
     },
     "execution_count": 28,
     "metadata": {},
     "output_type": "execute_result"
    }
   ],
   "source": [
    "len(genres)"
   ]
  },
  {
   "cell_type": "code",
   "execution_count": 328,
   "metadata": {},
   "outputs": [],
   "source": []
  },
  {
   "cell_type": "markdown",
   "metadata": {},
   "source": [
    "### <a class=\"anchor\" id=\"Consolidaion_dataframes\"> 1.c.- Consolidation of dataframes\n",
    "\n",
    "In this section we´re going to consolidate both dataframes into files, that we´ll read for the next sections"
   ]
  },
  {
   "cell_type": "code",
   "execution_count": 29,
   "metadata": {},
   "outputs": [],
   "source": [
    "movies.to_csv('IMDB_clean_movies.csv', index = False)\n",
    "genres.to_csv('IMDB_clean_genres.csv', index = False)"
   ]
  },
  {
   "cell_type": "markdown",
   "metadata": {},
   "source": [
    "## <a class=\"anchor\" id=\"EDA\">Part 2: Exploratory Data Analysis (EDA)\n",
    "\n",
    "In this section, we´ll investigate the distributions variables in the big dataframe. \n",
    "\n",
    "We won´t investigate the columns of passenger id, as it is just an identifier, and its value in a univariate exploration doesn´t make sense, and we won´t either investigate the Survived column as it´s incomplete\n",
    "\n",
    "First we´ll import the data stored previously in files"
   ]
  },
  {
   "cell_type": "code",
   "execution_count": 30,
   "metadata": {},
   "outputs": [],
   "source": [
    "movies = pd.read_csv('IMDB_clean_movies.csv')\n",
    "genres = pd.read_csv('IMDB_clean_genres.csv')"
   ]
  },
  {
   "cell_type": "code",
   "execution_count": 39,
   "metadata": {},
   "outputs": [
    {
     "name": "stdout",
     "output_type": "stream",
     "text": [
      "<class 'pandas.core.frame.DataFrame'>\n",
      "RangeIndex: 221748 entries, 0 to 221747\n",
      "Data columns (total 12 columns):\n",
      " #   Column         Non-Null Count   Dtype  \n",
      "---  ------         --------------   -----  \n",
      " 0   idMovie        221748 non-null  object \n",
      " 1   originalTitle  221748 non-null  object \n",
      " 2   Year           221748 non-null  int64  \n",
      " 3   Minutes        221748 non-null  int64  \n",
      " 4   Genres         221748 non-null  object \n",
      " 5   averageRating  221748 non-null  float64\n",
      " 6   numVotes       221748 non-null  int64  \n",
      " 7   decade         221748 non-null  int64  \n",
      " 8   director       221748 non-null  object \n",
      " 9   actors         221746 non-null  object \n",
      " 10  actress        221740 non-null  object \n",
      " 11  writers        221743 non-null  object \n",
      "dtypes: float64(1), int64(4), object(7)\n",
      "memory usage: 20.3+ MB\n"
     ]
    }
   ],
   "source": [
    "movies.info()"
   ]
  },
  {
   "cell_type": "markdown",
   "metadata": {},
   "source": [
    "**Duration outliers**\n",
    "\n",
    "Let´s check the outliers for movies duration"
   ]
  },
  {
   "cell_type": "code",
   "execution_count": 32,
   "metadata": {},
   "outputs": [
    {
     "data": {
      "text/plain": [
       "count    221748.000000\n",
       "mean         94.930047\n",
       "std          34.030400\n",
       "min           1.000000\n",
       "25%          85.000000\n",
       "50%          91.000000\n",
       "75%         102.000000\n",
       "max       10062.000000\n",
       "Name: Minutes, dtype: float64"
      ]
     },
     "execution_count": 32,
     "metadata": {},
     "output_type": "execute_result"
    }
   ],
   "source": [
    "movies.Minutes.describe()"
   ]
  },
  {
   "cell_type": "code",
   "execution_count": 38,
   "metadata": {},
   "outputs": [
    {
     "data": {
      "text/html": [
       "<div>\n",
       "<style scoped>\n",
       "    .dataframe tbody tr th:only-of-type {\n",
       "        vertical-align: middle;\n",
       "    }\n",
       "\n",
       "    .dataframe tbody tr th {\n",
       "        vertical-align: top;\n",
       "    }\n",
       "\n",
       "    .dataframe thead th {\n",
       "        text-align: right;\n",
       "    }\n",
       "</style>\n",
       "<table border=\"1\" class=\"dataframe\">\n",
       "  <thead>\n",
       "    <tr style=\"text-align: right;\">\n",
       "      <th></th>\n",
       "      <th>originalTitle</th>\n",
       "      <th>Year</th>\n",
       "      <th>Minutes</th>\n",
       "      <th>Genres</th>\n",
       "      <th>director</th>\n",
       "      <th>averageRating</th>\n",
       "      <th>numVotes</th>\n",
       "    </tr>\n",
       "  </thead>\n",
       "  <tbody>\n",
       "    <tr>\n",
       "      <th>134634</th>\n",
       "      <td>Qw</td>\n",
       "      <td>2019</td>\n",
       "      <td>10062</td>\n",
       "      <td>Drama</td>\n",
       "      <td>Marco Romano</td>\n",
       "      <td>8.6</td>\n",
       "      <td>21</td>\n",
       "    </tr>\n",
       "  </tbody>\n",
       "</table>\n",
       "</div>"
      ],
      "text/plain": [
       "       originalTitle  Year  Minutes Genres      director  averageRating  \\\n",
       "134634            Qw  2019    10062  Drama  Marco Romano            8.6   \n",
       "\n",
       "        numVotes  \n",
       "134634        21  "
      ]
     },
     "execution_count": 38,
     "metadata": {},
     "output_type": "execute_result"
    }
   ],
   "source": [
    "movies[movies.Minutes==10062][['originalTitle','Year','Minutes','Genres','director','averageRating','numVotes']].sort_values(by ='averageRating')"
   ]
  },
  {
   "cell_type": "code",
   "execution_count": 37,
   "metadata": {},
   "outputs": [
    {
     "data": {
      "text/html": [
       "<div>\n",
       "<style scoped>\n",
       "    .dataframe tbody tr th:only-of-type {\n",
       "        vertical-align: middle;\n",
       "    }\n",
       "\n",
       "    .dataframe tbody tr th {\n",
       "        vertical-align: top;\n",
       "    }\n",
       "\n",
       "    .dataframe thead th {\n",
       "        text-align: right;\n",
       "    }\n",
       "</style>\n",
       "<table border=\"1\" class=\"dataframe\">\n",
       "  <thead>\n",
       "    <tr style=\"text-align: right;\">\n",
       "      <th></th>\n",
       "      <th>originalTitle</th>\n",
       "      <th>Year</th>\n",
       "      <th>Minutes</th>\n",
       "      <th>Genres</th>\n",
       "      <th>director</th>\n",
       "      <th>averageRating</th>\n",
       "      <th>numVotes</th>\n",
       "    </tr>\n",
       "  </thead>\n",
       "  <tbody>\n",
       "    <tr>\n",
       "      <th>85468</th>\n",
       "      <td>Branding Cattle</td>\n",
       "      <td>1898</td>\n",
       "      <td>1</td>\n",
       "      <td>Documentary,Sci-Fi</td>\n",
       "      <td>James H. White</td>\n",
       "      <td>4.8</td>\n",
       "      <td>17</td>\n",
       "    </tr>\n",
       "    <tr>\n",
       "      <th>90780</th>\n",
       "      <td>Tönendes ABC</td>\n",
       "      <td>1932</td>\n",
       "      <td>1</td>\n",
       "      <td>No available</td>\n",
       "      <td>László Moholy-Nagy</td>\n",
       "      <td>5.8</td>\n",
       "      <td>18</td>\n",
       "    </tr>\n",
       "    <tr>\n",
       "      <th>211414</th>\n",
       "      <td>Tales from the Crypticon: Midnight Madness: Bl...</td>\n",
       "      <td>2015</td>\n",
       "      <td>1</td>\n",
       "      <td>Comedy,Crime</td>\n",
       "      <td>Cole Meyer,Charlie Billadeau,Ryan J. Gilmer,Am...</td>\n",
       "      <td>6.0</td>\n",
       "      <td>6</td>\n",
       "    </tr>\n",
       "    <tr>\n",
       "      <th>189545</th>\n",
       "      <td>Powered By Green Smoothies</td>\n",
       "      <td>2014</td>\n",
       "      <td>1</td>\n",
       "      <td>Adventure,Documentary,Sport</td>\n",
       "      <td>Not available</td>\n",
       "      <td>7.6</td>\n",
       "      <td>5</td>\n",
       "    </tr>\n",
       "    <tr>\n",
       "      <th>148974</th>\n",
       "      <td>Comedy: The Road Less Traveled</td>\n",
       "      <td>2009</td>\n",
       "      <td>1</td>\n",
       "      <td>Documentary,Family</td>\n",
       "      <td>Michael Jr.</td>\n",
       "      <td>8.5</td>\n",
       "      <td>10</td>\n",
       "    </tr>\n",
       "  </tbody>\n",
       "</table>\n",
       "</div>"
      ],
      "text/plain": [
       "                                            originalTitle  Year  Minutes  \\\n",
       "85468                                     Branding Cattle  1898        1   \n",
       "90780                                        Tönendes ABC  1932        1   \n",
       "211414  Tales from the Crypticon: Midnight Madness: Bl...  2015        1   \n",
       "189545                         Powered By Green Smoothies  2014        1   \n",
       "148974                     Comedy: The Road Less Traveled  2009        1   \n",
       "\n",
       "                             Genres  \\\n",
       "85468            Documentary,Sci-Fi   \n",
       "90780                  No available   \n",
       "211414                 Comedy,Crime   \n",
       "189545  Adventure,Documentary,Sport   \n",
       "148974           Documentary,Family   \n",
       "\n",
       "                                                 director  averageRating  \\\n",
       "85468                                      James H. White            4.8   \n",
       "90780                                  László Moholy-Nagy            5.8   \n",
       "211414  Cole Meyer,Charlie Billadeau,Ryan J. Gilmer,Am...            6.0   \n",
       "189545                                      Not available            7.6   \n",
       "148974                                        Michael Jr.            8.5   \n",
       "\n",
       "        numVotes  \n",
       "85468         17  \n",
       "90780         18  \n",
       "211414         6  \n",
       "189545         5  \n",
       "148974        10  "
      ]
     },
     "execution_count": 37,
     "metadata": {},
     "output_type": "execute_result"
    }
   ],
   "source": [
    "movies[movies.Minutes==1][['originalTitle','Year','Minutes','Genres','director','averageRating','numVotes']].sort_values(by ='averageRating')"
   ]
  },
  {
   "cell_type": "code",
   "execution_count": 162,
   "metadata": {},
   "outputs": [
    {
     "data": {
      "text/plain": [
       "Index(['imdb_title_id', 'original_title', 'year', 'genre', 'duration',\n",
       "       'all_countries', 'language', 'director', 'actors', 'description',\n",
       "       'avg_vote', 'votes', 'decade', 'multicountry', 'multilang', 'country',\n",
       "       'median_vote', 'votes_10', 'votes_9', 'votes_8', 'votes_7', 'votes_6',\n",
       "       'votes_5', 'votes_4', 'votes_3', 'votes_2', 'votes_1'],\n",
       "      dtype='object')"
      ]
     },
     "execution_count": 162,
     "metadata": {},
     "output_type": "execute_result"
    }
   ],
   "source": [
    "movies.columns"
   ]
  },
  {
   "cell_type": "code",
   "execution_count": 115,
   "metadata": {},
   "outputs": [
    {
     "data": {
      "text/plain": [
       "count    2587.000000\n",
       "mean       99.463858\n",
       "std        13.853662\n",
       "min        53.000000\n",
       "25%        90.000000\n",
       "50%        98.000000\n",
       "75%       107.000000\n",
       "max       180.000000\n",
       "Name: duration, dtype: float64"
      ]
     },
     "execution_count": 115,
     "metadata": {},
     "output_type": "execute_result"
    }
   ],
   "source": [
    "movies[movies.country=='Spain'].duration.describe()"
   ]
  },
  {
   "cell_type": "markdown",
   "metadata": {},
   "source": [
    "**GET TOP MOVIES**"
   ]
  },
  {
   "cell_type": "code",
   "execution_count": 47,
   "metadata": {},
   "outputs": [
    {
     "data": {
      "text/html": [
       "<div>\n",
       "<style scoped>\n",
       "    .dataframe tbody tr th:only-of-type {\n",
       "        vertical-align: middle;\n",
       "    }\n",
       "\n",
       "    .dataframe tbody tr th {\n",
       "        vertical-align: top;\n",
       "    }\n",
       "\n",
       "    .dataframe thead th {\n",
       "        text-align: right;\n",
       "    }\n",
       "</style>\n",
       "<table border=\"1\" class=\"dataframe\">\n",
       "  <thead>\n",
       "    <tr style=\"text-align: right;\">\n",
       "      <th></th>\n",
       "      <th>originalTitle</th>\n",
       "      <th>Year</th>\n",
       "      <th>Minutes</th>\n",
       "      <th>Genres</th>\n",
       "      <th>director</th>\n",
       "      <th>averageRating</th>\n",
       "      <th>numVotes</th>\n",
       "    </tr>\n",
       "  </thead>\n",
       "  <tbody>\n",
       "    <tr>\n",
       "      <th>181386</th>\n",
       "      <td>Fury Blade</td>\n",
       "      <td>2004</td>\n",
       "      <td>52</td>\n",
       "      <td>Action</td>\n",
       "      <td>Not available</td>\n",
       "      <td>10.0</td>\n",
       "      <td>178</td>\n",
       "    </tr>\n",
       "    <tr>\n",
       "      <th>136172</th>\n",
       "      <td>Lejos de Casa pelicula Venezolana</td>\n",
       "      <td>2020</td>\n",
       "      <td>87</td>\n",
       "      <td>Drama,History</td>\n",
       "      <td>Abner Official</td>\n",
       "      <td>10.0</td>\n",
       "      <td>126</td>\n",
       "    </tr>\n",
       "    <tr>\n",
       "      <th>188653</th>\n",
       "      <td>The Barn Theatre: Tomorrow's Stars Today</td>\n",
       "      <td>2017</td>\n",
       "      <td>75</td>\n",
       "      <td>Biography,Documentary</td>\n",
       "      <td>Phil Wurtzel</td>\n",
       "      <td>10.0</td>\n",
       "      <td>109</td>\n",
       "    </tr>\n",
       "    <tr>\n",
       "      <th>174003</th>\n",
       "      <td>Decompression</td>\n",
       "      <td>2013</td>\n",
       "      <td>29</td>\n",
       "      <td>Adventure,Documentary</td>\n",
       "      <td>Not available</td>\n",
       "      <td>10.0</td>\n",
       "      <td>14</td>\n",
       "    </tr>\n",
       "    <tr>\n",
       "      <th>138682</th>\n",
       "      <td>Mnohaya lita. Stoyko</td>\n",
       "      <td>2020</td>\n",
       "      <td>91</td>\n",
       "      <td>Biography,Documentary,Family</td>\n",
       "      <td>Vyacheslav Bihun</td>\n",
       "      <td>10.0</td>\n",
       "      <td>13</td>\n",
       "    </tr>\n",
       "    <tr>\n",
       "      <th>136369</th>\n",
       "      <td>Rezk El-Bey Lik</td>\n",
       "      <td>2017</td>\n",
       "      <td>200</td>\n",
       "      <td>Drama,History</td>\n",
       "      <td>Habib Meselemani</td>\n",
       "      <td>10.0</td>\n",
       "      <td>10</td>\n",
       "    </tr>\n",
       "    <tr>\n",
       "      <th>133388</th>\n",
       "      <td>Shattered Waves</td>\n",
       "      <td>2017</td>\n",
       "      <td>90</td>\n",
       "      <td>Drama,History</td>\n",
       "      <td>Habib Mestiri</td>\n",
       "      <td>10.0</td>\n",
       "      <td>9</td>\n",
       "    </tr>\n",
       "    <tr>\n",
       "      <th>135696</th>\n",
       "      <td>Fathallah TV, 10 Ans Et Une Révolution Plus Tard</td>\n",
       "      <td>2019</td>\n",
       "      <td>80</td>\n",
       "      <td>Documentary,Drama,Music</td>\n",
       "      <td>Not available</td>\n",
       "      <td>10.0</td>\n",
       "      <td>9</td>\n",
       "    </tr>\n",
       "    <tr>\n",
       "      <th>135734</th>\n",
       "      <td>Bidoun 2</td>\n",
       "      <td>2014</td>\n",
       "      <td>92</td>\n",
       "      <td>Drama</td>\n",
       "      <td>Not available</td>\n",
       "      <td>10.0</td>\n",
       "      <td>9</td>\n",
       "    </tr>\n",
       "    <tr>\n",
       "      <th>136133</th>\n",
       "      <td>Hams Al-Maâ</td>\n",
       "      <td>2017</td>\n",
       "      <td>87</td>\n",
       "      <td>Drama</td>\n",
       "      <td>Taieb Louhichi</td>\n",
       "      <td>10.0</td>\n",
       "      <td>9</td>\n",
       "    </tr>\n",
       "    <tr>\n",
       "      <th>136136</th>\n",
       "      <td>Toefl Al-Shams</td>\n",
       "      <td>2014</td>\n",
       "      <td>72</td>\n",
       "      <td>Drama</td>\n",
       "      <td>Taieb Louhichi</td>\n",
       "      <td>10.0</td>\n",
       "      <td>9</td>\n",
       "    </tr>\n",
       "    <tr>\n",
       "      <th>136164</th>\n",
       "      <td>Al-Rajol Al'dhy Asbaha Mot'haf</td>\n",
       "      <td>2019</td>\n",
       "      <td>65</td>\n",
       "      <td>Biography,Documentary</td>\n",
       "      <td>Marwen Trabelsi</td>\n",
       "      <td>10.0</td>\n",
       "      <td>9</td>\n",
       "    </tr>\n",
       "    <tr>\n",
       "      <th>178360</th>\n",
       "      <td>Mon 14</td>\n",
       "      <td>2012</td>\n",
       "      <td>51</td>\n",
       "      <td>Documentary,History,News</td>\n",
       "      <td>Ismahane Lahmar</td>\n",
       "      <td>10.0</td>\n",
       "      <td>9</td>\n",
       "    </tr>\n",
       "    <tr>\n",
       "      <th>216921</th>\n",
       "      <td>Les Passionnés</td>\n",
       "      <td>2010</td>\n",
       "      <td>52</td>\n",
       "      <td>Documentary,Music</td>\n",
       "      <td>Walid Tayaa</td>\n",
       "      <td>10.0</td>\n",
       "      <td>9</td>\n",
       "    </tr>\n",
       "    <tr>\n",
       "      <th>209399</th>\n",
       "      <td>What Ever Happened to Kathy</td>\n",
       "      <td>1998</td>\n",
       "      <td>78</td>\n",
       "      <td>Drama</td>\n",
       "      <td>Chris Cain</td>\n",
       "      <td>10.0</td>\n",
       "      <td>8</td>\n",
       "    </tr>\n",
       "    <tr>\n",
       "      <th>110702</th>\n",
       "      <td>Bouillabaisse</td>\n",
       "      <td>2003</td>\n",
       "      <td>91</td>\n",
       "      <td>No available</td>\n",
       "      <td>Frank Papenbroock</td>\n",
       "      <td>10.0</td>\n",
       "      <td>7</td>\n",
       "    </tr>\n",
       "    <tr>\n",
       "      <th>138038</th>\n",
       "      <td>Mare Nostrum</td>\n",
       "      <td>2007</td>\n",
       "      <td>76</td>\n",
       "      <td>Documentary,History</td>\n",
       "      <td>Murad Ben Cheikh</td>\n",
       "      <td>10.0</td>\n",
       "      <td>7</td>\n",
       "    </tr>\n",
       "    <tr>\n",
       "      <th>138223</th>\n",
       "      <td>Sadika: l'Artiste Multidimensionnelle</td>\n",
       "      <td>2020</td>\n",
       "      <td>91</td>\n",
       "      <td>Biography,Documentary</td>\n",
       "      <td>Farah Khadhar</td>\n",
       "      <td>10.0</td>\n",
       "      <td>7</td>\n",
       "    </tr>\n",
       "    <tr>\n",
       "      <th>205970</th>\n",
       "      <td>Dreamer in the Falls</td>\n",
       "      <td>2015</td>\n",
       "      <td>91</td>\n",
       "      <td>Fantasy</td>\n",
       "      <td>Jim King</td>\n",
       "      <td>10.0</td>\n",
       "      <td>7</td>\n",
       "    </tr>\n",
       "    <tr>\n",
       "      <th>147460</th>\n",
       "      <td>Shades of Alex Gray</td>\n",
       "      <td>2008</td>\n",
       "      <td>74</td>\n",
       "      <td>Drama</td>\n",
       "      <td>Danny Ramirez</td>\n",
       "      <td>10.0</td>\n",
       "      <td>6</td>\n",
       "    </tr>\n",
       "    <tr>\n",
       "      <th>159730</th>\n",
       "      <td>The Empty Hands</td>\n",
       "      <td>2011</td>\n",
       "      <td>90</td>\n",
       "      <td>Action</td>\n",
       "      <td>Steven Watkins</td>\n",
       "      <td>10.0</td>\n",
       "      <td>6</td>\n",
       "    </tr>\n",
       "    <tr>\n",
       "      <th>169763</th>\n",
       "      <td>Dani the Ranch Hand</td>\n",
       "      <td>2012</td>\n",
       "      <td>86</td>\n",
       "      <td>Drama</td>\n",
       "      <td>Brian Douglas</td>\n",
       "      <td>10.0</td>\n",
       "      <td>6</td>\n",
       "    </tr>\n",
       "    <tr>\n",
       "      <th>190617</th>\n",
       "      <td>Forgotten Heroes: The Robert Hartsock Story</td>\n",
       "      <td>2019</td>\n",
       "      <td>70</td>\n",
       "      <td>History</td>\n",
       "      <td>Not available</td>\n",
       "      <td>10.0</td>\n",
       "      <td>6</td>\n",
       "    </tr>\n",
       "    <tr>\n",
       "      <th>185452</th>\n",
       "      <td>Undertaking Red</td>\n",
       "      <td>2015</td>\n",
       "      <td>91</td>\n",
       "      <td>Comedy,Crime,Drama</td>\n",
       "      <td>Garrett M. Ryan</td>\n",
       "      <td>10.0</td>\n",
       "      <td>5</td>\n",
       "    </tr>\n",
       "    <tr>\n",
       "      <th>200586</th>\n",
       "      <td>The Law of Moises</td>\n",
       "      <td>2019</td>\n",
       "      <td>70</td>\n",
       "      <td>Adventure,Family</td>\n",
       "      <td>Crystal Barnes</td>\n",
       "      <td>10.0</td>\n",
       "      <td>5</td>\n",
       "    </tr>\n",
       "    <tr>\n",
       "      <th>200900</th>\n",
       "      <td>Off Stage: Damon StCloud</td>\n",
       "      <td>2016</td>\n",
       "      <td>16</td>\n",
       "      <td>Documentary,Music</td>\n",
       "      <td>Chris Schnabel</td>\n",
       "      <td>10.0</td>\n",
       "      <td>5</td>\n",
       "    </tr>\n",
       "    <tr>\n",
       "      <th>217601</th>\n",
       "      <td>Last Ship Home</td>\n",
       "      <td>2018</td>\n",
       "      <td>63</td>\n",
       "      <td>Adventure,Documentary,Sport</td>\n",
       "      <td>Michael Weber,Christian Ebert</td>\n",
       "      <td>10.0</td>\n",
       "      <td>5</td>\n",
       "    </tr>\n",
       "    <tr>\n",
       "      <th>220193</th>\n",
       "      <td>Frat House: A College Party Movie</td>\n",
       "      <td>2018</td>\n",
       "      <td>91</td>\n",
       "      <td>Comedy</td>\n",
       "      <td>Rodney Cox</td>\n",
       "      <td>10.0</td>\n",
       "      <td>5</td>\n",
       "    </tr>\n",
       "  </tbody>\n",
       "</table>\n",
       "</div>"
      ],
      "text/plain": [
       "                                           originalTitle  Year  Minutes  \\\n",
       "181386                                        Fury Blade  2004       52   \n",
       "136172                 Lejos de Casa pelicula Venezolana  2020       87   \n",
       "188653          The Barn Theatre: Tomorrow's Stars Today  2017       75   \n",
       "174003                                     Decompression  2013       29   \n",
       "138682                              Mnohaya lita. Stoyko  2020       91   \n",
       "136369                                   Rezk El-Bey Lik  2017      200   \n",
       "133388                                   Shattered Waves  2017       90   \n",
       "135696  Fathallah TV, 10 Ans Et Une Révolution Plus Tard  2019       80   \n",
       "135734                                          Bidoun 2  2014       92   \n",
       "136133                                       Hams Al-Maâ  2017       87   \n",
       "136136                                    Toefl Al-Shams  2014       72   \n",
       "136164                    Al-Rajol Al'dhy Asbaha Mot'haf  2019       65   \n",
       "178360                                            Mon 14  2012       51   \n",
       "216921                                    Les Passionnés  2010       52   \n",
       "209399                       What Ever Happened to Kathy  1998       78   \n",
       "110702                                     Bouillabaisse  2003       91   \n",
       "138038                                      Mare Nostrum  2007       76   \n",
       "138223             Sadika: l'Artiste Multidimensionnelle  2020       91   \n",
       "205970                              Dreamer in the Falls  2015       91   \n",
       "147460                               Shades of Alex Gray  2008       74   \n",
       "159730                                   The Empty Hands  2011       90   \n",
       "169763                               Dani the Ranch Hand  2012       86   \n",
       "190617       Forgotten Heroes: The Robert Hartsock Story  2019       70   \n",
       "185452                                   Undertaking Red  2015       91   \n",
       "200586                                 The Law of Moises  2019       70   \n",
       "200900                          Off Stage: Damon StCloud  2016       16   \n",
       "217601                                    Last Ship Home  2018       63   \n",
       "220193                 Frat House: A College Party Movie  2018       91   \n",
       "\n",
       "                              Genres                       director  \\\n",
       "181386                        Action                  Not available   \n",
       "136172                 Drama,History                 Abner Official   \n",
       "188653         Biography,Documentary                   Phil Wurtzel   \n",
       "174003         Adventure,Documentary                  Not available   \n",
       "138682  Biography,Documentary,Family               Vyacheslav Bihun   \n",
       "136369                 Drama,History               Habib Meselemani   \n",
       "133388                 Drama,History                  Habib Mestiri   \n",
       "135696       Documentary,Drama,Music                  Not available   \n",
       "135734                         Drama                  Not available   \n",
       "136133                         Drama                 Taieb Louhichi   \n",
       "136136                         Drama                 Taieb Louhichi   \n",
       "136164         Biography,Documentary                Marwen Trabelsi   \n",
       "178360      Documentary,History,News                Ismahane Lahmar   \n",
       "216921             Documentary,Music                    Walid Tayaa   \n",
       "209399                         Drama                     Chris Cain   \n",
       "110702                  No available              Frank Papenbroock   \n",
       "138038           Documentary,History               Murad Ben Cheikh   \n",
       "138223         Biography,Documentary                  Farah Khadhar   \n",
       "205970                       Fantasy                       Jim King   \n",
       "147460                         Drama                  Danny Ramirez   \n",
       "159730                        Action                 Steven Watkins   \n",
       "169763                         Drama                  Brian Douglas   \n",
       "190617                       History                  Not available   \n",
       "185452            Comedy,Crime,Drama                Garrett M. Ryan   \n",
       "200586              Adventure,Family                 Crystal Barnes   \n",
       "200900             Documentary,Music                 Chris Schnabel   \n",
       "217601   Adventure,Documentary,Sport  Michael Weber,Christian Ebert   \n",
       "220193                        Comedy                     Rodney Cox   \n",
       "\n",
       "        averageRating  numVotes  \n",
       "181386           10.0       178  \n",
       "136172           10.0       126  \n",
       "188653           10.0       109  \n",
       "174003           10.0        14  \n",
       "138682           10.0        13  \n",
       "136369           10.0        10  \n",
       "133388           10.0         9  \n",
       "135696           10.0         9  \n",
       "135734           10.0         9  \n",
       "136133           10.0         9  \n",
       "136136           10.0         9  \n",
       "136164           10.0         9  \n",
       "178360           10.0         9  \n",
       "216921           10.0         9  \n",
       "209399           10.0         8  \n",
       "110702           10.0         7  \n",
       "138038           10.0         7  \n",
       "138223           10.0         7  \n",
       "205970           10.0         7  \n",
       "147460           10.0         6  \n",
       "159730           10.0         6  \n",
       "169763           10.0         6  \n",
       "190617           10.0         6  \n",
       "185452           10.0         5  \n",
       "200586           10.0         5  \n",
       "200900           10.0         5  \n",
       "217601           10.0         5  \n",
       "220193           10.0         5  "
      ]
     },
     "execution_count": 47,
     "metadata": {},
     "output_type": "execute_result"
    }
   ],
   "source": [
    "movies[['originalTitle','Year','Minutes','Genres','director','averageRating','numVotes']].sort_values(by =['averageRating', 'numVotes'], ascending = False).head(28)"
   ]
  },
  {
   "cell_type": "code",
   "execution_count": 52,
   "metadata": {},
   "outputs": [
    {
     "data": {
      "text/html": [
       "<div>\n",
       "<style scoped>\n",
       "    .dataframe tbody tr th:only-of-type {\n",
       "        vertical-align: middle;\n",
       "    }\n",
       "\n",
       "    .dataframe tbody tr th {\n",
       "        vertical-align: top;\n",
       "    }\n",
       "\n",
       "    .dataframe thead th {\n",
       "        text-align: right;\n",
       "    }\n",
       "</style>\n",
       "<table border=\"1\" class=\"dataframe\">\n",
       "  <thead>\n",
       "    <tr style=\"text-align: right;\">\n",
       "      <th></th>\n",
       "      <th>originalTitle</th>\n",
       "      <th>Year</th>\n",
       "      <th>Minutes</th>\n",
       "      <th>Genres</th>\n",
       "      <th>director</th>\n",
       "      <th>averageRating</th>\n",
       "      <th>numVotes</th>\n",
       "    </tr>\n",
       "  </thead>\n",
       "  <tbody>\n",
       "    <tr>\n",
       "      <th>204165</th>\n",
       "      <td>The Transcendents</td>\n",
       "      <td>2018</td>\n",
       "      <td>96</td>\n",
       "      <td>Music,Mystery,Thriller</td>\n",
       "      <td>Derek Ahonen</td>\n",
       "      <td>9.5</td>\n",
       "      <td>2002</td>\n",
       "    </tr>\n",
       "    <tr>\n",
       "      <th>209198</th>\n",
       "      <td>Love in Kilnerry</td>\n",
       "      <td>2019</td>\n",
       "      <td>100</td>\n",
       "      <td>Comedy</td>\n",
       "      <td>Snorri Sturluson</td>\n",
       "      <td>9.5</td>\n",
       "      <td>1550</td>\n",
       "    </tr>\n",
       "    <tr>\n",
       "      <th>135232</th>\n",
       "      <td>Our Scripted Life</td>\n",
       "      <td>2020</td>\n",
       "      <td>88</td>\n",
       "      <td>Comedy</td>\n",
       "      <td>David Towner</td>\n",
       "      <td>9.4</td>\n",
       "      <td>2484</td>\n",
       "    </tr>\n",
       "    <tr>\n",
       "      <th>130731</th>\n",
       "      <td>Jibon Theke Neya</td>\n",
       "      <td>1970</td>\n",
       "      <td>150</td>\n",
       "      <td>Drama,Family,War</td>\n",
       "      <td>Zahir Raihan</td>\n",
       "      <td>9.4</td>\n",
       "      <td>1740</td>\n",
       "    </tr>\n",
       "    <tr>\n",
       "      <th>58546</th>\n",
       "      <td>The Shawshank Redemption</td>\n",
       "      <td>1994</td>\n",
       "      <td>142</td>\n",
       "      <td>Drama</td>\n",
       "      <td>Frank Darabont</td>\n",
       "      <td>9.3</td>\n",
       "      <td>2242140</td>\n",
       "    </tr>\n",
       "    <tr>\n",
       "      <th>91144</th>\n",
       "      <td>Hababam Sinifi</td>\n",
       "      <td>1975</td>\n",
       "      <td>87</td>\n",
       "      <td>Comedy,Drama</td>\n",
       "      <td>Ertem Egilmez</td>\n",
       "      <td>9.3</td>\n",
       "      <td>35804</td>\n",
       "    </tr>\n",
       "    <tr>\n",
       "      <th>35181</th>\n",
       "      <td>The Godfather</td>\n",
       "      <td>1972</td>\n",
       "      <td>175</td>\n",
       "      <td>Crime,Drama</td>\n",
       "      <td>Francis Ford Coppola</td>\n",
       "      <td>9.2</td>\n",
       "      <td>1546493</td>\n",
       "    </tr>\n",
       "    <tr>\n",
       "      <th>173312</th>\n",
       "      <td>CM101MMXI Fundamentals</td>\n",
       "      <td>2013</td>\n",
       "      <td>139</td>\n",
       "      <td>Comedy,Documentary</td>\n",
       "      <td>Murat Dündar</td>\n",
       "      <td>9.2</td>\n",
       "      <td>43119</td>\n",
       "    </tr>\n",
       "    <tr>\n",
       "      <th>90530</th>\n",
       "      <td>Maya Bazaar</td>\n",
       "      <td>1957</td>\n",
       "      <td>192</td>\n",
       "      <td>Comedy,Drama,Family</td>\n",
       "      <td>Kadiri Venkata Reddy</td>\n",
       "      <td>9.2</td>\n",
       "      <td>3680</td>\n",
       "    </tr>\n",
       "    <tr>\n",
       "      <th>199622</th>\n",
       "      <td>Aynabaji</td>\n",
       "      <td>2016</td>\n",
       "      <td>147</td>\n",
       "      <td>Crime,Mystery,Thriller</td>\n",
       "      <td>Amitabh Reza Chowdhury</td>\n",
       "      <td>9.1</td>\n",
       "      <td>19447</td>\n",
       "    </tr>\n",
       "  </tbody>\n",
       "</table>\n",
       "</div>"
      ],
      "text/plain": [
       "                   originalTitle  Year  Minutes                  Genres  \\\n",
       "204165         The Transcendents  2018       96  Music,Mystery,Thriller   \n",
       "209198          Love in Kilnerry  2019      100                  Comedy   \n",
       "135232         Our Scripted Life  2020       88                  Comedy   \n",
       "130731          Jibon Theke Neya  1970      150        Drama,Family,War   \n",
       "58546   The Shawshank Redemption  1994      142                   Drama   \n",
       "91144             Hababam Sinifi  1975       87            Comedy,Drama   \n",
       "35181              The Godfather  1972      175             Crime,Drama   \n",
       "173312    CM101MMXI Fundamentals  2013      139      Comedy,Documentary   \n",
       "90530                Maya Bazaar  1957      192     Comedy,Drama,Family   \n",
       "199622                  Aynabaji  2016      147  Crime,Mystery,Thriller   \n",
       "\n",
       "                      director  averageRating  numVotes  \n",
       "204165            Derek Ahonen            9.5      2002  \n",
       "209198        Snorri Sturluson            9.5      1550  \n",
       "135232            David Towner            9.4      2484  \n",
       "130731            Zahir Raihan            9.4      1740  \n",
       "58546           Frank Darabont            9.3   2242140  \n",
       "91144            Ertem Egilmez            9.3     35804  \n",
       "35181     Francis Ford Coppola            9.2   1546493  \n",
       "173312            Murat Dündar            9.2     43119  \n",
       "90530     Kadiri Venkata Reddy            9.2      3680  \n",
       "199622  Amitabh Reza Chowdhury            9.1     19447  "
      ]
     },
     "execution_count": 52,
     "metadata": {},
     "output_type": "execute_result"
    }
   ],
   "source": [
    "movies[movies.numVotes > 1000][['originalTitle','Year','Minutes','Genres','director','averageRating','numVotes']].sort_values(by =['averageRating', 'numVotes'], ascending = False).head(10)"
   ]
  },
  {
   "cell_type": "code",
   "execution_count": 53,
   "metadata": {},
   "outputs": [
    {
     "data": {
      "text/html": [
       "<div>\n",
       "<style scoped>\n",
       "    .dataframe tbody tr th:only-of-type {\n",
       "        vertical-align: middle;\n",
       "    }\n",
       "\n",
       "    .dataframe tbody tr th {\n",
       "        vertical-align: top;\n",
       "    }\n",
       "\n",
       "    .dataframe thead th {\n",
       "        text-align: right;\n",
       "    }\n",
       "</style>\n",
       "<table border=\"1\" class=\"dataframe\">\n",
       "  <thead>\n",
       "    <tr style=\"text-align: right;\">\n",
       "      <th></th>\n",
       "      <th>originalTitle</th>\n",
       "      <th>Year</th>\n",
       "      <th>Minutes</th>\n",
       "      <th>Genres</th>\n",
       "      <th>director</th>\n",
       "      <th>averageRating</th>\n",
       "      <th>numVotes</th>\n",
       "    </tr>\n",
       "  </thead>\n",
       "  <tbody>\n",
       "    <tr>\n",
       "      <th>58546</th>\n",
       "      <td>The Shawshank Redemption</td>\n",
       "      <td>1994</td>\n",
       "      <td>142</td>\n",
       "      <td>Drama</td>\n",
       "      <td>Frank Darabont</td>\n",
       "      <td>9.3</td>\n",
       "      <td>2242140</td>\n",
       "    </tr>\n",
       "    <tr>\n",
       "      <th>35181</th>\n",
       "      <td>The Godfather</td>\n",
       "      <td>1972</td>\n",
       "      <td>175</td>\n",
       "      <td>Crime,Drama</td>\n",
       "      <td>Francis Ford Coppola</td>\n",
       "      <td>9.2</td>\n",
       "      <td>1546493</td>\n",
       "    </tr>\n",
       "    <tr>\n",
       "      <th>121946</th>\n",
       "      <td>The Dark Knight</td>\n",
       "      <td>2008</td>\n",
       "      <td>152</td>\n",
       "      <td>Action,Crime,Drama</td>\n",
       "      <td>Christopher Nolan</td>\n",
       "      <td>9.0</td>\n",
       "      <td>2211374</td>\n",
       "    </tr>\n",
       "    <tr>\n",
       "      <th>37019</th>\n",
       "      <td>The Godfather: Part II</td>\n",
       "      <td>1974</td>\n",
       "      <td>202</td>\n",
       "      <td>Crime,Drama</td>\n",
       "      <td>Francis Ford Coppola</td>\n",
       "      <td>9.0</td>\n",
       "      <td>1081305</td>\n",
       "    </tr>\n",
       "    <tr>\n",
       "      <th>58405</th>\n",
       "      <td>Pulp Fiction</td>\n",
       "      <td>1994</td>\n",
       "      <td>154</td>\n",
       "      <td>Crime,Drama</td>\n",
       "      <td>Quentin Tarantino</td>\n",
       "      <td>8.9</td>\n",
       "      <td>1756398</td>\n",
       "    </tr>\n",
       "    <tr>\n",
       "      <th>73154</th>\n",
       "      <td>The Lord of the Rings: The Return of the King</td>\n",
       "      <td>2003</td>\n",
       "      <td>201</td>\n",
       "      <td>Adventure,Drama,Fantasy</td>\n",
       "      <td>Peter Jackson</td>\n",
       "      <td>8.9</td>\n",
       "      <td>1584922</td>\n",
       "    </tr>\n",
       "    <tr>\n",
       "      <th>57082</th>\n",
       "      <td>Schindler's List</td>\n",
       "      <td>1993</td>\n",
       "      <td>195</td>\n",
       "      <td>Biography,Drama,History</td>\n",
       "      <td>Steven Spielberg</td>\n",
       "      <td>8.9</td>\n",
       "      <td>1165600</td>\n",
       "    </tr>\n",
       "    <tr>\n",
       "      <th>22561</th>\n",
       "      <td>12 Angry Men</td>\n",
       "      <td>1957</td>\n",
       "      <td>96</td>\n",
       "      <td>Crime,Drama</td>\n",
       "      <td>Sidney Lumet</td>\n",
       "      <td>8.9</td>\n",
       "      <td>655954</td>\n",
       "    </tr>\n",
       "    <tr>\n",
       "      <th>202882</th>\n",
       "      <td>Dag II</td>\n",
       "      <td>2016</td>\n",
       "      <td>135</td>\n",
       "      <td>Action,Drama,War</td>\n",
       "      <td>Alper Caglar</td>\n",
       "      <td>8.9</td>\n",
       "      <td>103327</td>\n",
       "    </tr>\n",
       "    <tr>\n",
       "      <th>143996</th>\n",
       "      <td>Inception</td>\n",
       "      <td>2010</td>\n",
       "      <td>148</td>\n",
       "      <td>Action,Adventure,Sci-Fi</td>\n",
       "      <td>Christopher Nolan</td>\n",
       "      <td>8.8</td>\n",
       "      <td>1965288</td>\n",
       "    </tr>\n",
       "  </tbody>\n",
       "</table>\n",
       "</div>"
      ],
      "text/plain": [
       "                                        originalTitle  Year  Minutes  \\\n",
       "58546                        The Shawshank Redemption  1994      142   \n",
       "35181                                   The Godfather  1972      175   \n",
       "121946                                The Dark Knight  2008      152   \n",
       "37019                          The Godfather: Part II  1974      202   \n",
       "58405                                    Pulp Fiction  1994      154   \n",
       "73154   The Lord of the Rings: The Return of the King  2003      201   \n",
       "57082                                Schindler's List  1993      195   \n",
       "22561                                    12 Angry Men  1957       96   \n",
       "202882                                         Dag II  2016      135   \n",
       "143996                                      Inception  2010      148   \n",
       "\n",
       "                         Genres              director  averageRating  numVotes  \n",
       "58546                     Drama        Frank Darabont            9.3   2242140  \n",
       "35181               Crime,Drama  Francis Ford Coppola            9.2   1546493  \n",
       "121946       Action,Crime,Drama     Christopher Nolan            9.0   2211374  \n",
       "37019               Crime,Drama  Francis Ford Coppola            9.0   1081305  \n",
       "58405               Crime,Drama     Quentin Tarantino            8.9   1756398  \n",
       "73154   Adventure,Drama,Fantasy         Peter Jackson            8.9   1584922  \n",
       "57082   Biography,Drama,History      Steven Spielberg            8.9   1165600  \n",
       "22561               Crime,Drama          Sidney Lumet            8.9    655954  \n",
       "202882         Action,Drama,War          Alper Caglar            8.9    103327  \n",
       "143996  Action,Adventure,Sci-Fi     Christopher Nolan            8.8   1965288  "
      ]
     },
     "execution_count": 53,
     "metadata": {},
     "output_type": "execute_result"
    }
   ],
   "source": [
    "movies[movies.numVotes > 50000][['originalTitle','Year','Minutes','Genres','director','averageRating','numVotes']].sort_values(by =['averageRating', 'numVotes'], ascending = False).head(10)"
   ]
  },
  {
   "cell_type": "code",
   "execution_count": 166,
   "metadata": {},
   "outputs": [
    {
     "data": {
      "text/html": [
       "<div>\n",
       "<style scoped>\n",
       "    .dataframe tbody tr th:only-of-type {\n",
       "        vertical-align: middle;\n",
       "    }\n",
       "\n",
       "    .dataframe tbody tr th {\n",
       "        vertical-align: top;\n",
       "    }\n",
       "\n",
       "    .dataframe thead th {\n",
       "        text-align: right;\n",
       "    }\n",
       "</style>\n",
       "<table border=\"1\" class=\"dataframe\">\n",
       "  <thead>\n",
       "    <tr style=\"text-align: right;\">\n",
       "      <th></th>\n",
       "      <th>original_title</th>\n",
       "      <th>year</th>\n",
       "      <th>director</th>\n",
       "      <th>all_countries</th>\n",
       "      <th>avg_vote</th>\n",
       "      <th>votes</th>\n",
       "    </tr>\n",
       "  </thead>\n",
       "  <tbody>\n",
       "    <tr>\n",
       "      <th>64642</th>\n",
       "      <td>Love in Kilnerry</td>\n",
       "      <td>2019</td>\n",
       "      <td>Daniel Keith, Snorri Sturluson</td>\n",
       "      <td>USA</td>\n",
       "      <td>10.0</td>\n",
       "      <td>2360</td>\n",
       "    </tr>\n",
       "    <tr>\n",
       "      <th>43375</th>\n",
       "      <td>Kirket</td>\n",
       "      <td>2019</td>\n",
       "      <td>Yogendra Singh</td>\n",
       "      <td>India</td>\n",
       "      <td>10.0</td>\n",
       "      <td>587</td>\n",
       "    </tr>\n",
       "    <tr>\n",
       "      <th>67395</th>\n",
       "      <td>Gini Helida Kathe</td>\n",
       "      <td>2019</td>\n",
       "      <td>Nagaraja Uppunda</td>\n",
       "      <td>India</td>\n",
       "      <td>9.8</td>\n",
       "      <td>425</td>\n",
       "    </tr>\n",
       "    <tr>\n",
       "      <th>42790</th>\n",
       "      <td>Runam</td>\n",
       "      <td>2019</td>\n",
       "      <td>Srinivas Gundareddy</td>\n",
       "      <td>India</td>\n",
       "      <td>9.7</td>\n",
       "      <td>133</td>\n",
       "    </tr>\n",
       "    <tr>\n",
       "      <th>43314</th>\n",
       "      <td>Fan</td>\n",
       "      <td>2019</td>\n",
       "      <td>Balavalli Darshith Bhat</td>\n",
       "      <td>India</td>\n",
       "      <td>9.6</td>\n",
       "      <td>1010</td>\n",
       "    </tr>\n",
       "    <tr>\n",
       "      <th>67390</th>\n",
       "      <td>Android Kunjappan Version 5.25</td>\n",
       "      <td>2019</td>\n",
       "      <td>Ratheesh Balakrishnan Poduval</td>\n",
       "      <td>India</td>\n",
       "      <td>9.6</td>\n",
       "      <td>1176</td>\n",
       "    </tr>\n",
       "    <tr>\n",
       "      <th>43357</th>\n",
       "      <td>The Brighton Miracle</td>\n",
       "      <td>2019</td>\n",
       "      <td>Max Mannix</td>\n",
       "      <td>Australia</td>\n",
       "      <td>9.5</td>\n",
       "      <td>617</td>\n",
       "    </tr>\n",
       "    <tr>\n",
       "      <th>67452</th>\n",
       "      <td>Yeh Suhaagraat Impossible</td>\n",
       "      <td>2019</td>\n",
       "      <td>Abhinav Thakur</td>\n",
       "      <td>India</td>\n",
       "      <td>9.5</td>\n",
       "      <td>635</td>\n",
       "    </tr>\n",
       "    <tr>\n",
       "      <th>43318</th>\n",
       "      <td>Safe</td>\n",
       "      <td>2019</td>\n",
       "      <td>Pradeep Kalipurayath</td>\n",
       "      <td>India</td>\n",
       "      <td>9.5</td>\n",
       "      <td>1017</td>\n",
       "    </tr>\n",
       "    <tr>\n",
       "      <th>42843</th>\n",
       "      <td>Shibu</td>\n",
       "      <td>2019</td>\n",
       "      <td>Arjun Prabhakaran</td>\n",
       "      <td>India</td>\n",
       "      <td>9.4</td>\n",
       "      <td>533</td>\n",
       "    </tr>\n",
       "  </tbody>\n",
       "</table>\n",
       "</div>"
      ],
      "text/plain": [
       "                       original_title  year                        director  \\\n",
       "64642                Love in Kilnerry  2019  Daniel Keith, Snorri Sturluson   \n",
       "43375                          Kirket  2019                  Yogendra Singh   \n",
       "67395               Gini Helida Kathe  2019                Nagaraja Uppunda   \n",
       "42790                           Runam  2019             Srinivas Gundareddy   \n",
       "43314                             Fan  2019         Balavalli Darshith Bhat   \n",
       "67390  Android Kunjappan Version 5.25  2019   Ratheesh Balakrishnan Poduval   \n",
       "43357            The Brighton Miracle  2019                      Max Mannix   \n",
       "67452       Yeh Suhaagraat Impossible  2019                  Abhinav Thakur   \n",
       "43318                            Safe  2019            Pradeep Kalipurayath   \n",
       "42843                           Shibu  2019               Arjun Prabhakaran   \n",
       "\n",
       "      all_countries  avg_vote  votes  \n",
       "64642           USA      10.0   2360  \n",
       "43375         India      10.0    587  \n",
       "67395         India       9.8    425  \n",
       "42790         India       9.7    133  \n",
       "43314         India       9.6   1010  \n",
       "67390         India       9.6   1176  \n",
       "43357     Australia       9.5    617  \n",
       "67452         India       9.5    635  \n",
       "43318         India       9.5   1017  \n",
       "42843         India       9.4    533  "
      ]
     },
     "execution_count": 166,
     "metadata": {},
     "output_type": "execute_result"
    }
   ],
   "source": [
    "movies[movies.country=='Rest_of_the_world'][['original_title','year','director','all_countries','avg_vote', 'votes']].sort_values(by = 'avg_vote', ascending = False).head(10)"
   ]
  },
  {
   "cell_type": "code",
   "execution_count": 201,
   "metadata": {},
   "outputs": [
    {
     "data": {
      "text/html": [
       "<div>\n",
       "<style scoped>\n",
       "    .dataframe tbody tr th:only-of-type {\n",
       "        vertical-align: middle;\n",
       "    }\n",
       "\n",
       "    .dataframe tbody tr th {\n",
       "        vertical-align: top;\n",
       "    }\n",
       "\n",
       "    .dataframe thead th {\n",
       "        text-align: right;\n",
       "    }\n",
       "</style>\n",
       "<table border=\"1\" class=\"dataframe\">\n",
       "  <thead>\n",
       "    <tr style=\"text-align: right;\">\n",
       "      <th></th>\n",
       "      <th>imdb_title_id</th>\n",
       "      <th>Genre</th>\n",
       "      <th>original_title</th>\n",
       "      <th>year</th>\n",
       "      <th>duration</th>\n",
       "      <th>language</th>\n",
       "      <th>description</th>\n",
       "      <th>avg_vote</th>\n",
       "      <th>votes</th>\n",
       "      <th>decade</th>\n",
       "      <th>multicountry</th>\n",
       "      <th>multilang</th>\n",
       "      <th>country</th>\n",
       "      <th>median_vote</th>\n",
       "    </tr>\n",
       "  </thead>\n",
       "  <tbody>\n",
       "    <tr>\n",
       "      <th>0</th>\n",
       "      <td>tt0000574</td>\n",
       "      <td>Biography</td>\n",
       "      <td>The Story of the Kelly Gang</td>\n",
       "      <td>1906</td>\n",
       "      <td>70</td>\n",
       "      <td>No available</td>\n",
       "      <td>True story of notorious Australian outlaw Ned ...</td>\n",
       "      <td>6.1</td>\n",
       "      <td>537</td>\n",
       "      <td>1900</td>\n",
       "      <td>0</td>\n",
       "      <td>0</td>\n",
       "      <td>Rest_of_the_world</td>\n",
       "      <td>6.0</td>\n",
       "    </tr>\n",
       "    <tr>\n",
       "      <th>1</th>\n",
       "      <td>tt0001892</td>\n",
       "      <td>Drama</td>\n",
       "      <td>Den sorte drøm</td>\n",
       "      <td>1911</td>\n",
       "      <td>53</td>\n",
       "      <td>No available</td>\n",
       "      <td>Two men of high rank are both wooing the beaut...</td>\n",
       "      <td>5.9</td>\n",
       "      <td>171</td>\n",
       "      <td>1910</td>\n",
       "      <td>1</td>\n",
       "      <td>0</td>\n",
       "      <td>Rest_of_the_world</td>\n",
       "      <td>6.0</td>\n",
       "    </tr>\n",
       "    <tr>\n",
       "      <th>2</th>\n",
       "      <td>tt0002101</td>\n",
       "      <td>Drama</td>\n",
       "      <td>Cleopatra</td>\n",
       "      <td>1912</td>\n",
       "      <td>100</td>\n",
       "      <td>English</td>\n",
       "      <td>The fabled queen of Egypt's affair with Roman ...</td>\n",
       "      <td>5.2</td>\n",
       "      <td>420</td>\n",
       "      <td>1910</td>\n",
       "      <td>0</td>\n",
       "      <td>0</td>\n",
       "      <td>Rest_of_the_world</td>\n",
       "      <td>5.0</td>\n",
       "    </tr>\n",
       "    <tr>\n",
       "      <th>3</th>\n",
       "      <td>tt0002130</td>\n",
       "      <td>Adventure</td>\n",
       "      <td>L'Inferno</td>\n",
       "      <td>1911</td>\n",
       "      <td>68</td>\n",
       "      <td>Italian</td>\n",
       "      <td>Loosely adapted from Dante's Divine Comedy and...</td>\n",
       "      <td>7.0</td>\n",
       "      <td>2019</td>\n",
       "      <td>1910</td>\n",
       "      <td>0</td>\n",
       "      <td>0</td>\n",
       "      <td>Rest_of_the_world</td>\n",
       "      <td>7.0</td>\n",
       "    </tr>\n",
       "    <tr>\n",
       "      <th>4</th>\n",
       "      <td>tt0002199</td>\n",
       "      <td>Biography</td>\n",
       "      <td>From the Manger to the Cross; or, Jesus of Naz...</td>\n",
       "      <td>1912</td>\n",
       "      <td>60</td>\n",
       "      <td>English</td>\n",
       "      <td>An account of the life of Jesus Christ, based ...</td>\n",
       "      <td>5.7</td>\n",
       "      <td>438</td>\n",
       "      <td>1910</td>\n",
       "      <td>0</td>\n",
       "      <td>0</td>\n",
       "      <td>Rest_of_the_world</td>\n",
       "      <td>6.0</td>\n",
       "    </tr>\n",
       "  </tbody>\n",
       "</table>\n",
       "</div>"
      ],
      "text/plain": [
       "  imdb_title_id      Genre                                     original_title  \\\n",
       "0     tt0000574  Biography                        The Story of the Kelly Gang   \n",
       "1     tt0001892      Drama                                     Den sorte drøm   \n",
       "2     tt0002101      Drama                                          Cleopatra   \n",
       "3     tt0002130  Adventure                                          L'Inferno   \n",
       "4     tt0002199  Biography  From the Manger to the Cross; or, Jesus of Naz...   \n",
       "\n",
       "   year  duration      language  \\\n",
       "0  1906        70  No available   \n",
       "1  1911        53  No available   \n",
       "2  1912       100       English   \n",
       "3  1911        68       Italian   \n",
       "4  1912        60       English   \n",
       "\n",
       "                                         description  avg_vote  votes  decade  \\\n",
       "0  True story of notorious Australian outlaw Ned ...       6.1    537    1900   \n",
       "1  Two men of high rank are both wooing the beaut...       5.9    171    1910   \n",
       "2  The fabled queen of Egypt's affair with Roman ...       5.2    420    1910   \n",
       "3  Loosely adapted from Dante's Divine Comedy and...       7.0   2019    1910   \n",
       "4  An account of the life of Jesus Christ, based ...       5.7    438    1910   \n",
       "\n",
       "   multicountry  multilang            country  median_vote  \n",
       "0             0          0  Rest_of_the_world          6.0  \n",
       "1             1          0  Rest_of_the_world          6.0  \n",
       "2             0          0  Rest_of_the_world          5.0  \n",
       "3             0          0  Rest_of_the_world          7.0  \n",
       "4             0          0  Rest_of_the_world          6.0  "
      ]
     },
     "execution_count": 201,
     "metadata": {},
     "output_type": "execute_result"
    }
   ],
   "source": [
    "genres.head()"
   ]
  },
  {
   "cell_type": "code",
   "execution_count": 214,
   "metadata": {},
   "outputs": [
    {
     "data": {
      "text/plain": [
       "Index(['imdb_title_id', 'Genre', 'original_title', 'year', 'duration',\n",
       "       'all_countries', 'language', 'director', 'actors', 'description',\n",
       "       'avg_vote', 'votes', 'decade', 'multicountry', 'multilang', 'country',\n",
       "       'median_vote'],\n",
       "      dtype='object')"
      ]
     },
     "execution_count": 214,
     "metadata": {},
     "output_type": "execute_result"
    }
   ],
   "source": [
    "genres.columns"
   ]
  },
  {
   "cell_type": "code",
   "execution_count": null,
   "metadata": {},
   "outputs": [],
   "source": []
  }
 ],
 "metadata": {
  "kernelspec": {
   "display_name": "Python 3",
   "language": "python",
   "name": "python3"
  },
  "language_info": {
   "codemirror_mode": {
    "name": "ipython",
    "version": 3
   },
   "file_extension": ".py",
   "mimetype": "text/x-python",
   "name": "python",
   "nbconvert_exporter": "python",
   "pygments_lexer": "ipython3",
   "version": "3.7.6"
  }
 },
 "nbformat": 4,
 "nbformat_minor": 2
}
