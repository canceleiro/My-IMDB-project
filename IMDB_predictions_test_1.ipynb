{
 "cells": [
  {
   "cell_type": "markdown",
   "metadata": {},
   "source": [
    "# IMDB project: predicting movies scores\n",
    "### by Javier Alonso\n",
    "\n",
    "This Jupyter Notebook is part of \"My IMDB project\" and tries to predict the rates of the movies in IMDB, based on the database published by IMDB\n",
    "\n",
    "The database was downloaded from IMDB on 2020/05/25 but some days after they changed all the system for retrieving the data, so I won´t be able to upgrade easily the project with new data.\n",
    "\n",
    "In this case we will try to predict the rates in movies that are in the top % voted movies, because having more votes means a more efficient average rating, as statistics always works better with higher population\n",
    "\n",
    "The results have been posted in my [blog](xxxx)\n",
    "\n",
    "## Table of Contents\n",
    "\n",
    "1. [Preliminary Wrangling](#Preliminary_Wrangling)<br>\n",
    "1.a.-[Gathering Data](#Gathering_Data)<br>\n",
    "1.b.-[Assesing and Cleaning Data](#Assesing_cleaning_data)<br>\n",
    "1.c.-[Consolidation of Dataframes](#Consolidaion_dataframes)<br>\n",
    "2. [Machine Learning Algorithm](#MLA)<br>\n",
    "3.a.-[Data preparation](#Data_preparation)<br>\n",
    "3.b.-[Algorithm Selection](#Alg_Selection)<br>\n",
    "\n",
    "\n",
    "## <a class=\"anchor\" id=\"Preliminary_Wrangling\">Part 1: Preliminary Wrangling"
   ]
  },
  {
   "cell_type": "code",
   "execution_count": 1,
   "metadata": {},
   "outputs": [],
   "source": [
    "# import all packages and set plots to be embedded inline\n",
    "import numpy as np\n",
    "import pandas as pd\n",
    "import matplotlib.pyplot as plt\n",
    "import seaborn as sb\n",
    "import time\n",
    "\n",
    "%matplotlib inline\n",
    "\n",
    "# machine learning\n",
    "from sklearn.linear_model import LogisticRegression\n",
    "from sklearn.svm import SVC, LinearSVC\n",
    "from sklearn.ensemble import RandomForestClassifier\n",
    "from sklearn.neighbors import KNeighborsClassifier\n",
    "from sklearn.naive_bayes import GaussianNB\n",
    "from sklearn.linear_model import Perceptron\n",
    "from sklearn.linear_model import SGDClassifier\n",
    "from sklearn.tree import DecisionTreeClassifier\n",
    "from sklearn.model_selection import KFold\n",
    "from sklearn.model_selection import train_test_split\n",
    "from sklearn.model_selection import cross_val_score, cross_val_predict\n",
    "from sklearn.ensemble import AdaBoostClassifier\n",
    "from sklearn.metrics import confusion_matrix\n",
    "from sklearn.model_selection import GridSearchCV\n",
    "from sklearn.preprocessing import MinMaxScaler\n",
    "\n",
    "\n",
    "from sklearn.pipeline import Pipeline, FeatureUnion\n",
    "from sklearn.base import BaseEstimator, TransformerMixin\n",
    "from sklearn.feature_extraction.text import CountVectorizer, TfidfTransformer\n",
    "from sklearn.datasets import make_multilabel_classification\n",
    "from sklearn.multioutput import MultiOutputClassifier\n",
    "from sklearn.metrics import classification_report\n",
    "from sklearn.metrics import accuracy_score\n",
    "from sklearn import tree\n",
    "from sklearn.metrics import f1_score\n",
    "from sklearn import linear_model\n",
    "from sklearn.metrics import mean_squared_error\n",
    "from sklearn.linear_model import LinearRegression\n",
    "from sklearn.datasets import load_digits\n",
    "from sklearn.feature_selection import SelectPercentile, chi2\n",
    "from sklearn.linear_model import LinearRegression\n",
    "from sklearn.linear_model import Lasso\n",
    "from sklearn.linear_model import ElasticNet\n",
    "from sklearn.tree import DecisionTreeRegressor\n",
    "from sklearn.neighbors import KNeighborsRegressor\n",
    "from sklearn.ensemble import GradientBoostingRegressor\n",
    "from sklearn.decomposition import PCA\n",
    "from sklearn.model_selection import RandomizedSearchCV\n",
    "\n",
    "from scipy.stats import uniform as sp_rand\n",
    "from scipy.stats import uniform as sp_randFloat\n",
    "from scipy.stats import uniform as sp_randInt\n",
    "from scipy.stats import uniform as sp_random"
   ]
  },
  {
   "cell_type": "markdown",
   "metadata": {},
   "source": [
    "### <a class=\"anchor\" id=\"Gathering_Data\"> 1.a.- Gathering Data\n",
    "\n",
    "In this section we´ll gather data from the precleaned dataset for the EDA"
   ]
  },
  {
   "cell_type": "code",
   "execution_count": 2,
   "metadata": {},
   "outputs": [
    {
     "data": {
      "text/plain": [
       "(221748, 12)"
      ]
     },
     "execution_count": 2,
     "metadata": {},
     "output_type": "execute_result"
    }
   ],
   "source": [
    "df_movies = pd.read_csv('IMDB_clean_movies.csv')\n",
    "df_movies.shape"
   ]
  },
  {
   "cell_type": "markdown",
   "metadata": {},
   "source": [
    "A view of the dataframe"
   ]
  },
  {
   "cell_type": "code",
   "execution_count": 3,
   "metadata": {
    "scrolled": true
   },
   "outputs": [
    {
     "data": {
      "text/html": [
       "<div>\n",
       "<style scoped>\n",
       "    .dataframe tbody tr th:only-of-type {\n",
       "        vertical-align: middle;\n",
       "    }\n",
       "\n",
       "    .dataframe tbody tr th {\n",
       "        vertical-align: top;\n",
       "    }\n",
       "\n",
       "    .dataframe thead th {\n",
       "        text-align: right;\n",
       "    }\n",
       "</style>\n",
       "<table border=\"1\" class=\"dataframe\">\n",
       "  <thead>\n",
       "    <tr style=\"text-align: right;\">\n",
       "      <th></th>\n",
       "      <th>idMovie</th>\n",
       "      <th>originalTitle</th>\n",
       "      <th>Year</th>\n",
       "      <th>Minutes</th>\n",
       "      <th>Genres</th>\n",
       "      <th>averageRating</th>\n",
       "      <th>numVotes</th>\n",
       "      <th>decade</th>\n",
       "      <th>director</th>\n",
       "      <th>actors</th>\n",
       "      <th>actress</th>\n",
       "      <th>writers</th>\n",
       "    </tr>\n",
       "  </thead>\n",
       "  <tbody>\n",
       "    <tr>\n",
       "      <th>0</th>\n",
       "      <td>tt0000009</td>\n",
       "      <td>Miss Jerry</td>\n",
       "      <td>1894</td>\n",
       "      <td>45</td>\n",
       "      <td>Romance</td>\n",
       "      <td>5.9</td>\n",
       "      <td>153</td>\n",
       "      <td>1890</td>\n",
       "      <td>Alexander Black</td>\n",
       "      <td>William Courtenay,Chauncey Depew</td>\n",
       "      <td>Blanche Bayliss</td>\n",
       "      <td>Not available</td>\n",
       "    </tr>\n",
       "    <tr>\n",
       "      <th>1</th>\n",
       "      <td>tt0000147</td>\n",
       "      <td>The Corbett-Fitzsimmons Fight</td>\n",
       "      <td>1897</td>\n",
       "      <td>20</td>\n",
       "      <td>Documentary,News,Sport</td>\n",
       "      <td>5.2</td>\n",
       "      <td>346</td>\n",
       "      <td>1890</td>\n",
       "      <td>Enoch J. Rector</td>\n",
       "      <td>Not available</td>\n",
       "      <td>Not available</td>\n",
       "      <td>Not available</td>\n",
       "    </tr>\n",
       "    <tr>\n",
       "      <th>2</th>\n",
       "      <td>tt0000335</td>\n",
       "      <td>Soldiers of the Cross</td>\n",
       "      <td>1900</td>\n",
       "      <td>91</td>\n",
       "      <td>Biography,Drama</td>\n",
       "      <td>6.1</td>\n",
       "      <td>40</td>\n",
       "      <td>1900</td>\n",
       "      <td>Herbert Booth,Joseph Perry</td>\n",
       "      <td>Harold Graham,Mr. Graham,John Jones,Orrie Perr...</td>\n",
       "      <td>Beatrice Day</td>\n",
       "      <td>Not available</td>\n",
       "    </tr>\n",
       "    <tr>\n",
       "      <th>3</th>\n",
       "      <td>tt0000502</td>\n",
       "      <td>Bohemios</td>\n",
       "      <td>1905</td>\n",
       "      <td>100</td>\n",
       "      <td>No available</td>\n",
       "      <td>3.8</td>\n",
       "      <td>6</td>\n",
       "      <td>1900</td>\n",
       "      <td>Ricardo de Baños</td>\n",
       "      <td>Antonio del Pozo,El Mochuelo</td>\n",
       "      <td>Not available</td>\n",
       "      <td>Marguerite Thévenard,Bleuette Bernon</td>\n",
       "    </tr>\n",
       "    <tr>\n",
       "      <th>4</th>\n",
       "      <td>tt0000574</td>\n",
       "      <td>The Story of the Kelly Gang</td>\n",
       "      <td>1906</td>\n",
       "      <td>70</td>\n",
       "      <td>Biography,Crime,Drama</td>\n",
       "      <td>6.1</td>\n",
       "      <td>574</td>\n",
       "      <td>1900</td>\n",
       "      <td>Charles Tait</td>\n",
       "      <td>John Tait,Norman Campbell</td>\n",
       "      <td>Elizabeth Tait,Bella Cola</td>\n",
       "      <td>Not available</td>\n",
       "    </tr>\n",
       "  </tbody>\n",
       "</table>\n",
       "</div>"
      ],
      "text/plain": [
       "     idMovie                  originalTitle  Year  Minutes  \\\n",
       "0  tt0000009                     Miss Jerry  1894       45   \n",
       "1  tt0000147  The Corbett-Fitzsimmons Fight  1897       20   \n",
       "2  tt0000335          Soldiers of the Cross  1900       91   \n",
       "3  tt0000502                       Bohemios  1905      100   \n",
       "4  tt0000574    The Story of the Kelly Gang  1906       70   \n",
       "\n",
       "                   Genres  averageRating  numVotes  decade  \\\n",
       "0                 Romance            5.9       153    1890   \n",
       "1  Documentary,News,Sport            5.2       346    1890   \n",
       "2         Biography,Drama            6.1        40    1900   \n",
       "3            No available            3.8         6    1900   \n",
       "4   Biography,Crime,Drama            6.1       574    1900   \n",
       "\n",
       "                     director  \\\n",
       "0             Alexander Black   \n",
       "1             Enoch J. Rector   \n",
       "2  Herbert Booth,Joseph Perry   \n",
       "3            Ricardo de Baños   \n",
       "4                Charles Tait   \n",
       "\n",
       "                                              actors  \\\n",
       "0                   William Courtenay,Chauncey Depew   \n",
       "1                                      Not available   \n",
       "2  Harold Graham,Mr. Graham,John Jones,Orrie Perr...   \n",
       "3                       Antonio del Pozo,El Mochuelo   \n",
       "4                          John Tait,Norman Campbell   \n",
       "\n",
       "                     actress                               writers  \n",
       "0            Blanche Bayliss                         Not available  \n",
       "1              Not available                         Not available  \n",
       "2               Beatrice Day                         Not available  \n",
       "3              Not available  Marguerite Thévenard,Bleuette Bernon  \n",
       "4  Elizabeth Tait,Bella Cola                         Not available  "
      ]
     },
     "execution_count": 3,
     "metadata": {},
     "output_type": "execute_result"
    }
   ],
   "source": [
    "df_movies.head(5)"
   ]
  },
  {
   "cell_type": "markdown",
   "metadata": {},
   "source": [
    "### <a class=\"anchor\" id=\"Assesing_cleaning_data\"> 1.b.- Asessing and cleaning data\n",
    "\n",
    "Now, we´re going to assess the dataframe visually and programmatically for quality and tidiness issues, and do the cleaning of these issues\n",
    "\n",
    "First thing we do a copy of my dataframe\n"
   ]
  },
  {
   "cell_type": "code",
   "execution_count": 4,
   "metadata": {},
   "outputs": [],
   "source": [
    "movies = df_movies.copy()"
   ]
  },
  {
   "cell_type": "code",
   "execution_count": 5,
   "metadata": {},
   "outputs": [
    {
     "data": {
      "text/html": [
       "<div>\n",
       "<style scoped>\n",
       "    .dataframe tbody tr th:only-of-type {\n",
       "        vertical-align: middle;\n",
       "    }\n",
       "\n",
       "    .dataframe tbody tr th {\n",
       "        vertical-align: top;\n",
       "    }\n",
       "\n",
       "    .dataframe thead th {\n",
       "        text-align: right;\n",
       "    }\n",
       "</style>\n",
       "<table border=\"1\" class=\"dataframe\">\n",
       "  <thead>\n",
       "    <tr style=\"text-align: right;\">\n",
       "      <th></th>\n",
       "      <th>idMovie</th>\n",
       "      <th>originalTitle</th>\n",
       "      <th>Year</th>\n",
       "      <th>Minutes</th>\n",
       "      <th>Genres</th>\n",
       "      <th>averageRating</th>\n",
       "      <th>numVotes</th>\n",
       "      <th>decade</th>\n",
       "      <th>director</th>\n",
       "      <th>actors</th>\n",
       "      <th>actress</th>\n",
       "      <th>writers</th>\n",
       "    </tr>\n",
       "  </thead>\n",
       "  <tbody>\n",
       "    <tr>\n",
       "      <th>0</th>\n",
       "      <td>tt0000009</td>\n",
       "      <td>Miss Jerry</td>\n",
       "      <td>1894</td>\n",
       "      <td>45</td>\n",
       "      <td>Romance</td>\n",
       "      <td>5.9</td>\n",
       "      <td>153</td>\n",
       "      <td>1890</td>\n",
       "      <td>Alexander Black</td>\n",
       "      <td>William Courtenay,Chauncey Depew</td>\n",
       "      <td>Blanche Bayliss</td>\n",
       "      <td>Not available</td>\n",
       "    </tr>\n",
       "    <tr>\n",
       "      <th>1</th>\n",
       "      <td>tt0000147</td>\n",
       "      <td>The Corbett-Fitzsimmons Fight</td>\n",
       "      <td>1897</td>\n",
       "      <td>20</td>\n",
       "      <td>Documentary,News,Sport</td>\n",
       "      <td>5.2</td>\n",
       "      <td>346</td>\n",
       "      <td>1890</td>\n",
       "      <td>Enoch J. Rector</td>\n",
       "      <td>Not available</td>\n",
       "      <td>Not available</td>\n",
       "      <td>Not available</td>\n",
       "    </tr>\n",
       "    <tr>\n",
       "      <th>2</th>\n",
       "      <td>tt0000335</td>\n",
       "      <td>Soldiers of the Cross</td>\n",
       "      <td>1900</td>\n",
       "      <td>91</td>\n",
       "      <td>Biography,Drama</td>\n",
       "      <td>6.1</td>\n",
       "      <td>40</td>\n",
       "      <td>1900</td>\n",
       "      <td>Herbert Booth,Joseph Perry</td>\n",
       "      <td>Harold Graham,Mr. Graham,John Jones,Orrie Perr...</td>\n",
       "      <td>Beatrice Day</td>\n",
       "      <td>Not available</td>\n",
       "    </tr>\n",
       "    <tr>\n",
       "      <th>3</th>\n",
       "      <td>tt0000502</td>\n",
       "      <td>Bohemios</td>\n",
       "      <td>1905</td>\n",
       "      <td>100</td>\n",
       "      <td>No available</td>\n",
       "      <td>3.8</td>\n",
       "      <td>6</td>\n",
       "      <td>1900</td>\n",
       "      <td>Ricardo de Baños</td>\n",
       "      <td>Antonio del Pozo,El Mochuelo</td>\n",
       "      <td>Not available</td>\n",
       "      <td>Marguerite Thévenard,Bleuette Bernon</td>\n",
       "    </tr>\n",
       "    <tr>\n",
       "      <th>4</th>\n",
       "      <td>tt0000574</td>\n",
       "      <td>The Story of the Kelly Gang</td>\n",
       "      <td>1906</td>\n",
       "      <td>70</td>\n",
       "      <td>Biography,Crime,Drama</td>\n",
       "      <td>6.1</td>\n",
       "      <td>574</td>\n",
       "      <td>1900</td>\n",
       "      <td>Charles Tait</td>\n",
       "      <td>John Tait,Norman Campbell</td>\n",
       "      <td>Elizabeth Tait,Bella Cola</td>\n",
       "      <td>Not available</td>\n",
       "    </tr>\n",
       "  </tbody>\n",
       "</table>\n",
       "</div>"
      ],
      "text/plain": [
       "     idMovie                  originalTitle  Year  Minutes  \\\n",
       "0  tt0000009                     Miss Jerry  1894       45   \n",
       "1  tt0000147  The Corbett-Fitzsimmons Fight  1897       20   \n",
       "2  tt0000335          Soldiers of the Cross  1900       91   \n",
       "3  tt0000502                       Bohemios  1905      100   \n",
       "4  tt0000574    The Story of the Kelly Gang  1906       70   \n",
       "\n",
       "                   Genres  averageRating  numVotes  decade  \\\n",
       "0                 Romance            5.9       153    1890   \n",
       "1  Documentary,News,Sport            5.2       346    1890   \n",
       "2         Biography,Drama            6.1        40    1900   \n",
       "3            No available            3.8         6    1900   \n",
       "4   Biography,Crime,Drama            6.1       574    1900   \n",
       "\n",
       "                     director  \\\n",
       "0             Alexander Black   \n",
       "1             Enoch J. Rector   \n",
       "2  Herbert Booth,Joseph Perry   \n",
       "3            Ricardo de Baños   \n",
       "4                Charles Tait   \n",
       "\n",
       "                                              actors  \\\n",
       "0                   William Courtenay,Chauncey Depew   \n",
       "1                                      Not available   \n",
       "2  Harold Graham,Mr. Graham,John Jones,Orrie Perr...   \n",
       "3                       Antonio del Pozo,El Mochuelo   \n",
       "4                          John Tait,Norman Campbell   \n",
       "\n",
       "                     actress                               writers  \n",
       "0            Blanche Bayliss                         Not available  \n",
       "1              Not available                         Not available  \n",
       "2               Beatrice Day                         Not available  \n",
       "3              Not available  Marguerite Thévenard,Bleuette Bernon  \n",
       "4  Elizabeth Tait,Bella Cola                         Not available  "
      ]
     },
     "execution_count": 5,
     "metadata": {},
     "output_type": "execute_result"
    }
   ],
   "source": [
    "movies.head()"
   ]
  },
  {
   "cell_type": "markdown",
   "metadata": {},
   "source": [
    "#### Keeping top voted movies\n",
    "\n",
    "For the prediction we will keep only the 5% top voted movies. Let´s see if these can be predicted better than in the first case of the project"
   ]
  },
  {
   "cell_type": "code",
   "execution_count": 16,
   "metadata": {},
   "outputs": [
    {
     "data": {
      "text/plain": [
       "count    2.217480e+05\n",
       "mean     3.667128e+03\n",
       "std      3.315393e+04\n",
       "min      5.000000e+00\n",
       "50%      5.600000e+01\n",
       "90%      1.791000e+03\n",
       "95%      6.293000e+03\n",
       "max      2.242140e+06\n",
       "Name: numVotes, dtype: float64"
      ]
     },
     "execution_count": 16,
     "metadata": {},
     "output_type": "execute_result"
    }
   ],
   "source": [
    "movies['numVotes'].describe(percentiles=[0.5,0.9,0.95])"
   ]
  },
  {
   "cell_type": "code",
   "execution_count": 17,
   "metadata": {},
   "outputs": [
    {
     "data": {
      "text/plain": [
       "221748"
      ]
     },
     "execution_count": 17,
     "metadata": {},
     "output_type": "execute_result"
    }
   ],
   "source": [
    "len(movies)"
   ]
  },
  {
   "cell_type": "code",
   "execution_count": 18,
   "metadata": {},
   "outputs": [],
   "source": [
    "movies = movies[movies.numVotes>6293]"
   ]
  },
  {
   "cell_type": "code",
   "execution_count": 19,
   "metadata": {},
   "outputs": [
    {
     "data": {
      "text/plain": [
       "11086"
      ]
     },
     "execution_count": 19,
     "metadata": {},
     "output_type": "execute_result"
    }
   ],
   "source": [
    "len(movies)"
   ]
  },
  {
   "cell_type": "markdown",
   "metadata": {},
   "source": [
    "So we will try to predict the rates in 11.086 movies that are the top 5% most voted movies."
   ]
  },
  {
   "cell_type": "markdown",
   "metadata": {},
   "source": [
    "#### Incorrect datatypes\n",
    "\n",
    "Decade should be string. We change the datatype"
   ]
  },
  {
   "cell_type": "code",
   "execution_count": 20,
   "metadata": {},
   "outputs": [],
   "source": [
    "movies.decade = movies.decade.astype(str)"
   ]
  },
  {
   "cell_type": "code",
   "execution_count": 21,
   "metadata": {},
   "outputs": [
    {
     "name": "stdout",
     "output_type": "stream",
     "text": [
      "<class 'pandas.core.frame.DataFrame'>\n",
      "Int64Index: 11086 entries, 263 to 221712\n",
      "Data columns (total 12 columns):\n",
      " #   Column         Non-Null Count  Dtype  \n",
      "---  ------         --------------  -----  \n",
      " 0   idMovie        11086 non-null  object \n",
      " 1   originalTitle  11086 non-null  object \n",
      " 2   Year           11086 non-null  int64  \n",
      " 3   Minutes        11086 non-null  int64  \n",
      " 4   Genres         11086 non-null  object \n",
      " 5   averageRating  11086 non-null  float64\n",
      " 6   numVotes       11086 non-null  int64  \n",
      " 7   decade         11086 non-null  object \n",
      " 8   director       11086 non-null  object \n",
      " 9   actors         11086 non-null  object \n",
      " 10  actress        11085 non-null  object \n",
      " 11  writers        11086 non-null  object \n",
      "dtypes: float64(1), int64(3), object(8)\n",
      "memory usage: 1.1+ MB\n"
     ]
    }
   ],
   "source": [
    "movies.info()"
   ]
  },
  {
   "cell_type": "markdown",
   "metadata": {},
   "source": [
    "#### Deleting columns\n",
    "\n",
    "**Director, actors, actress and writers column** as we will get them from other dataframe"
   ]
  },
  {
   "cell_type": "code",
   "execution_count": 22,
   "metadata": {},
   "outputs": [],
   "source": [
    "movies = movies.drop(['director'], axis=1)\n",
    "movies = movies.drop(['actors'], axis=1)\n",
    "movies = movies.drop(['actress'], axis=1)\n",
    "movies = movies.drop(['writers'], axis=1)"
   ]
  },
  {
   "cell_type": "code",
   "execution_count": 23,
   "metadata": {
    "scrolled": true
   },
   "outputs": [
    {
     "name": "stdout",
     "output_type": "stream",
     "text": [
      "<class 'pandas.core.frame.DataFrame'>\n",
      "Int64Index: 11086 entries, 263 to 221712\n",
      "Data columns (total 8 columns):\n",
      " #   Column         Non-Null Count  Dtype  \n",
      "---  ------         --------------  -----  \n",
      " 0   idMovie        11086 non-null  object \n",
      " 1   originalTitle  11086 non-null  object \n",
      " 2   Year           11086 non-null  int64  \n",
      " 3   Minutes        11086 non-null  int64  \n",
      " 4   Genres         11086 non-null  object \n",
      " 5   averageRating  11086 non-null  float64\n",
      " 6   numVotes       11086 non-null  int64  \n",
      " 7   decade         11086 non-null  object \n",
      "dtypes: float64(1), int64(3), object(4)\n",
      "memory usage: 779.5+ KB\n"
     ]
    }
   ],
   "source": [
    "movies.info()"
   ]
  },
  {
   "cell_type": "markdown",
   "metadata": {},
   "source": [
    "#### Transforming Skewed Continuous Features"
   ]
  },
  {
   "cell_type": "code",
   "execution_count": 24,
   "metadata": {},
   "outputs": [
    {
     "data": {
      "text/plain": [
       "Year            -1.539074\n",
       "Minutes          2.912184\n",
       "averageRating   -0.914441\n",
       "numVotes         5.659420\n",
       "decade          -1.553628\n",
       "dtype: float64"
      ]
     },
     "execution_count": 24,
     "metadata": {},
     "output_type": "execute_result"
    }
   ],
   "source": [
    "movies.skew(axis = 0) "
   ]
  },
  {
   "cell_type": "markdown",
   "metadata": {},
   "source": [
    "The rating is aprox Symetric and decade is in reality a cathegory, so we don´t mind Skew of both of them.\n",
    "\n",
    "We are going to transform Minutes and numVotes for reducing Skewness, due to their high level"
   ]
  },
  {
   "cell_type": "code",
   "execution_count": 25,
   "metadata": {},
   "outputs": [],
   "source": [
    "movies.Minutes = movies.Minutes.apply(lambda x: np.log(x + 1))\n",
    "movies.numVotes = movies.numVotes.apply(lambda x: np.log(x + 1))"
   ]
  },
  {
   "cell_type": "markdown",
   "metadata": {},
   "source": [
    "The skewness has been reduced"
   ]
  },
  {
   "cell_type": "code",
   "execution_count": 26,
   "metadata": {},
   "outputs": [
    {
     "data": {
      "text/plain": [
       "Year            -1.539074\n",
       "Minutes          0.836633\n",
       "averageRating   -0.914441\n",
       "numVotes         0.795493\n",
       "decade          -1.553628\n",
       "dtype: float64"
      ]
     },
     "execution_count": 26,
     "metadata": {},
     "output_type": "execute_result"
    }
   ],
   "source": [
    "movies.skew(axis = 0) "
   ]
  },
  {
   "cell_type": "markdown",
   "metadata": {},
   "source": [
    "#### Normalizing Numerical Features"
   ]
  },
  {
   "cell_type": "code",
   "execution_count": 27,
   "metadata": {},
   "outputs": [
    {
     "data": {
      "text/html": [
       "<div>\n",
       "<style scoped>\n",
       "    .dataframe tbody tr th:only-of-type {\n",
       "        vertical-align: middle;\n",
       "    }\n",
       "\n",
       "    .dataframe tbody tr th {\n",
       "        vertical-align: top;\n",
       "    }\n",
       "\n",
       "    .dataframe thead th {\n",
       "        text-align: right;\n",
       "    }\n",
       "</style>\n",
       "<table border=\"1\" class=\"dataframe\">\n",
       "  <thead>\n",
       "    <tr style=\"text-align: right;\">\n",
       "      <th></th>\n",
       "      <th>Year</th>\n",
       "      <th>Minutes</th>\n",
       "      <th>averageRating</th>\n",
       "      <th>numVotes</th>\n",
       "    </tr>\n",
       "  </thead>\n",
       "  <tbody>\n",
       "    <tr>\n",
       "      <th>count</th>\n",
       "      <td>11086.000000</td>\n",
       "      <td>11086.000000</td>\n",
       "      <td>11086.000000</td>\n",
       "      <td>11086.000000</td>\n",
       "    </tr>\n",
       "    <tr>\n",
       "      <th>mean</th>\n",
       "      <td>1999.153707</td>\n",
       "      <td>4.682196</td>\n",
       "      <td>6.617427</td>\n",
       "      <td>10.249179</td>\n",
       "    </tr>\n",
       "    <tr>\n",
       "      <th>std</th>\n",
       "      <td>18.498871</td>\n",
       "      <td>0.181684</td>\n",
       "      <td>1.034833</td>\n",
       "      <td>1.185785</td>\n",
       "    </tr>\n",
       "    <tr>\n",
       "      <th>min</th>\n",
       "      <td>1915.000000</td>\n",
       "      <td>3.828641</td>\n",
       "      <td>1.000000</td>\n",
       "      <td>8.747511</td>\n",
       "    </tr>\n",
       "    <tr>\n",
       "      <th>25%</th>\n",
       "      <td>1992.000000</td>\n",
       "      <td>4.553877</td>\n",
       "      <td>6.000000</td>\n",
       "      <td>9.250954</td>\n",
       "    </tr>\n",
       "    <tr>\n",
       "      <th>50%</th>\n",
       "      <td>2005.000000</td>\n",
       "      <td>4.663439</td>\n",
       "      <td>6.700000</td>\n",
       "      <td>9.964771</td>\n",
       "    </tr>\n",
       "    <tr>\n",
       "      <th>75%</th>\n",
       "      <td>2012.000000</td>\n",
       "      <td>4.779123</td>\n",
       "      <td>7.300000</td>\n",
       "      <td>11.041056</td>\n",
       "    </tr>\n",
       "    <tr>\n",
       "      <th>max</th>\n",
       "      <td>2020.000000</td>\n",
       "      <td>6.340359</td>\n",
       "      <td>9.300000</td>\n",
       "      <td>14.622942</td>\n",
       "    </tr>\n",
       "  </tbody>\n",
       "</table>\n",
       "</div>"
      ],
      "text/plain": [
       "               Year       Minutes  averageRating      numVotes\n",
       "count  11086.000000  11086.000000   11086.000000  11086.000000\n",
       "mean    1999.153707      4.682196       6.617427     10.249179\n",
       "std       18.498871      0.181684       1.034833      1.185785\n",
       "min     1915.000000      3.828641       1.000000      8.747511\n",
       "25%     1992.000000      4.553877       6.000000      9.250954\n",
       "50%     2005.000000      4.663439       6.700000      9.964771\n",
       "75%     2012.000000      4.779123       7.300000     11.041056\n",
       "max     2020.000000      6.340359       9.300000     14.622942"
      ]
     },
     "execution_count": 27,
     "metadata": {},
     "output_type": "execute_result"
    }
   ],
   "source": [
    "movies.describe()"
   ]
  },
  {
   "cell_type": "code",
   "execution_count": 28,
   "metadata": {},
   "outputs": [],
   "source": [
    "# Initialize a scaler, then apply it to the features\n",
    "scaler = MinMaxScaler() # default=(0, 1)\n",
    "numerical = ['Minutes', 'averageRating', 'numVotes','Year']\n",
    "\n",
    "movies[numerical] = scaler.fit_transform(movies[numerical])"
   ]
  },
  {
   "cell_type": "code",
   "execution_count": 29,
   "metadata": {},
   "outputs": [
    {
     "data": {
      "text/html": [
       "<div>\n",
       "<style scoped>\n",
       "    .dataframe tbody tr th:only-of-type {\n",
       "        vertical-align: middle;\n",
       "    }\n",
       "\n",
       "    .dataframe tbody tr th {\n",
       "        vertical-align: top;\n",
       "    }\n",
       "\n",
       "    .dataframe thead th {\n",
       "        text-align: right;\n",
       "    }\n",
       "</style>\n",
       "<table border=\"1\" class=\"dataframe\">\n",
       "  <thead>\n",
       "    <tr style=\"text-align: right;\">\n",
       "      <th></th>\n",
       "      <th>Year</th>\n",
       "      <th>Minutes</th>\n",
       "      <th>averageRating</th>\n",
       "      <th>numVotes</th>\n",
       "    </tr>\n",
       "  </thead>\n",
       "  <tbody>\n",
       "    <tr>\n",
       "      <th>count</th>\n",
       "      <td>11086.000000</td>\n",
       "      <td>11086.000000</td>\n",
       "      <td>11086.000000</td>\n",
       "      <td>11086.000000</td>\n",
       "    </tr>\n",
       "    <tr>\n",
       "      <th>mean</th>\n",
       "      <td>0.801464</td>\n",
       "      <td>0.339829</td>\n",
       "      <td>0.676798</td>\n",
       "      <td>0.255584</td>\n",
       "    </tr>\n",
       "    <tr>\n",
       "      <th>std</th>\n",
       "      <td>0.176180</td>\n",
       "      <td>0.072335</td>\n",
       "      <td>0.124679</td>\n",
       "      <td>0.201821</td>\n",
       "    </tr>\n",
       "    <tr>\n",
       "      <th>min</th>\n",
       "      <td>0.000000</td>\n",
       "      <td>0.000000</td>\n",
       "      <td>0.000000</td>\n",
       "      <td>0.000000</td>\n",
       "    </tr>\n",
       "    <tr>\n",
       "      <th>25%</th>\n",
       "      <td>0.733333</td>\n",
       "      <td>0.288741</td>\n",
       "      <td>0.602410</td>\n",
       "      <td>0.085686</td>\n",
       "    </tr>\n",
       "    <tr>\n",
       "      <th>50%</th>\n",
       "      <td>0.857143</td>\n",
       "      <td>0.332361</td>\n",
       "      <td>0.686747</td>\n",
       "      <td>0.207178</td>\n",
       "    </tr>\n",
       "    <tr>\n",
       "      <th>75%</th>\n",
       "      <td>0.923810</td>\n",
       "      <td>0.378419</td>\n",
       "      <td>0.759036</td>\n",
       "      <td>0.390362</td>\n",
       "    </tr>\n",
       "    <tr>\n",
       "      <th>max</th>\n",
       "      <td>1.000000</td>\n",
       "      <td>1.000000</td>\n",
       "      <td>1.000000</td>\n",
       "      <td>1.000000</td>\n",
       "    </tr>\n",
       "  </tbody>\n",
       "</table>\n",
       "</div>"
      ],
      "text/plain": [
       "               Year       Minutes  averageRating      numVotes\n",
       "count  11086.000000  11086.000000   11086.000000  11086.000000\n",
       "mean       0.801464      0.339829       0.676798      0.255584\n",
       "std        0.176180      0.072335       0.124679      0.201821\n",
       "min        0.000000      0.000000       0.000000      0.000000\n",
       "25%        0.733333      0.288741       0.602410      0.085686\n",
       "50%        0.857143      0.332361       0.686747      0.207178\n",
       "75%        0.923810      0.378419       0.759036      0.390362\n",
       "max        1.000000      1.000000       1.000000      1.000000"
      ]
     },
     "execution_count": 29,
     "metadata": {},
     "output_type": "execute_result"
    }
   ],
   "source": [
    "movies.describe()"
   ]
  },
  {
   "cell_type": "code",
   "execution_count": 30,
   "metadata": {},
   "outputs": [
    {
     "data": {
      "text/html": [
       "<div>\n",
       "<style scoped>\n",
       "    .dataframe tbody tr th:only-of-type {\n",
       "        vertical-align: middle;\n",
       "    }\n",
       "\n",
       "    .dataframe tbody tr th {\n",
       "        vertical-align: top;\n",
       "    }\n",
       "\n",
       "    .dataframe thead th {\n",
       "        text-align: right;\n",
       "    }\n",
       "</style>\n",
       "<table border=\"1\" class=\"dataframe\">\n",
       "  <thead>\n",
       "    <tr style=\"text-align: right;\">\n",
       "      <th></th>\n",
       "      <th>idMovie</th>\n",
       "      <th>originalTitle</th>\n",
       "      <th>Year</th>\n",
       "      <th>Minutes</th>\n",
       "      <th>Genres</th>\n",
       "      <th>averageRating</th>\n",
       "      <th>numVotes</th>\n",
       "      <th>decade</th>\n",
       "    </tr>\n",
       "  </thead>\n",
       "  <tbody>\n",
       "    <tr>\n",
       "      <th>263</th>\n",
       "      <td>tt0004972</td>\n",
       "      <td>The Birth of a Nation</td>\n",
       "      <td>0.000000</td>\n",
       "      <td>0.577084</td>\n",
       "      <td>Drama,History,War</td>\n",
       "      <td>0.638554</td>\n",
       "      <td>0.210468</td>\n",
       "      <td>1910</td>\n",
       "    </tr>\n",
       "    <tr>\n",
       "      <th>478</th>\n",
       "      <td>tt0006864</td>\n",
       "      <td>Intolerance: Love's Struggle Throughout the Ages</td>\n",
       "      <td>0.009524</td>\n",
       "      <td>0.506118</td>\n",
       "      <td>Drama,History</td>\n",
       "      <td>0.819277</td>\n",
       "      <td>0.131383</td>\n",
       "      <td>1910</td>\n",
       "    </tr>\n",
       "    <tr>\n",
       "      <th>931</th>\n",
       "      <td>tt0009968</td>\n",
       "      <td>Broken Blossoms or The Yellow Man and the Girl</td>\n",
       "      <td>0.038095</td>\n",
       "      <td>0.271614</td>\n",
       "      <td>Drama,Romance</td>\n",
       "      <td>0.759036</td>\n",
       "      <td>0.063002</td>\n",
       "      <td>1910</td>\n",
       "    </tr>\n",
       "    <tr>\n",
       "      <th>1003</th>\n",
       "      <td>tt0010323</td>\n",
       "      <td>Das Cabinet des Dr. Caligari</td>\n",
       "      <td>0.047619</td>\n",
       "      <td>0.205104</td>\n",
       "      <td>Fantasy,Horror,Mystery</td>\n",
       "      <td>0.855422</td>\n",
       "      <td>0.367274</td>\n",
       "      <td>1920</td>\n",
       "    </tr>\n",
       "    <tr>\n",
       "      <th>1170</th>\n",
       "      <td>tt0011237</td>\n",
       "      <td>Der Golem, wie er in die Welt kam</td>\n",
       "      <td>0.047619</td>\n",
       "      <td>0.205104</td>\n",
       "      <td>Fantasy,Horror</td>\n",
       "      <td>0.746988</td>\n",
       "      <td>0.001347</td>\n",
       "      <td>1920</td>\n",
       "    </tr>\n",
       "  </tbody>\n",
       "</table>\n",
       "</div>"
      ],
      "text/plain": [
       "        idMovie                                     originalTitle      Year  \\\n",
       "263   tt0004972                             The Birth of a Nation  0.000000   \n",
       "478   tt0006864  Intolerance: Love's Struggle Throughout the Ages  0.009524   \n",
       "931   tt0009968    Broken Blossoms or The Yellow Man and the Girl  0.038095   \n",
       "1003  tt0010323                      Das Cabinet des Dr. Caligari  0.047619   \n",
       "1170  tt0011237                 Der Golem, wie er in die Welt kam  0.047619   \n",
       "\n",
       "       Minutes                  Genres  averageRating  numVotes decade  \n",
       "263   0.577084       Drama,History,War       0.638554  0.210468   1910  \n",
       "478   0.506118           Drama,History       0.819277  0.131383   1910  \n",
       "931   0.271614           Drama,Romance       0.759036  0.063002   1910  \n",
       "1003  0.205104  Fantasy,Horror,Mystery       0.855422  0.367274   1920  \n",
       "1170  0.205104          Fantasy,Horror       0.746988  0.001347   1920  "
      ]
     },
     "execution_count": 30,
     "metadata": {},
     "output_type": "execute_result"
    }
   ],
   "source": [
    "movies.head()"
   ]
  },
  {
   "cell_type": "markdown",
   "metadata": {},
   "source": [
    "#### Getting the crews info\n",
    "\n",
    "I read the file created in the first part of the predictions ( IMDB_predictions_test_0.ipynb )"
   ]
  },
  {
   "cell_type": "code",
   "execution_count": 31,
   "metadata": {},
   "outputs": [],
   "source": [
    "crew = pd.read_csv('IMDB_clean_crew.csv')"
   ]
  },
  {
   "cell_type": "markdown",
   "metadata": {},
   "source": [
    "**Merging the information**"
   ]
  },
  {
   "cell_type": "code",
   "execution_count": 32,
   "metadata": {},
   "outputs": [],
   "source": [
    "movies = pd.merge(movies, crew, left_on = 'idMovie', right_on = 'tconst', how = 'left')"
   ]
  },
  {
   "cell_type": "code",
   "execution_count": 33,
   "metadata": {},
   "outputs": [
    {
     "data": {
      "text/plain": [
       "Index(['idMovie', 'originalTitle', 'Year', 'Minutes', 'Genres',\n",
       "       'averageRating', 'numVotes', 'decade', 'tconst', 'actor', 'actress',\n",
       "       'director', 'writer'],\n",
       "      dtype='object')"
      ]
     },
     "execution_count": 33,
     "metadata": {},
     "output_type": "execute_result"
    }
   ],
   "source": [
    "movies.columns"
   ]
  },
  {
   "cell_type": "code",
   "execution_count": 34,
   "metadata": {},
   "outputs": [
    {
     "data": {
      "text/plain": [
       "11086"
      ]
     },
     "execution_count": 34,
     "metadata": {},
     "output_type": "execute_result"
    }
   ],
   "source": [
    "len(movies)"
   ]
  },
  {
   "cell_type": "code",
   "execution_count": 35,
   "metadata": {},
   "outputs": [
    {
     "name": "stdout",
     "output_type": "stream",
     "text": [
      "<class 'pandas.core.frame.DataFrame'>\n",
      "Int64Index: 11086 entries, 0 to 11085\n",
      "Data columns (total 13 columns):\n",
      " #   Column         Non-Null Count  Dtype  \n",
      "---  ------         --------------  -----  \n",
      " 0   idMovie        11086 non-null  object \n",
      " 1   originalTitle  11086 non-null  object \n",
      " 2   Year           11086 non-null  float64\n",
      " 3   Minutes        11086 non-null  float64\n",
      " 4   Genres         11086 non-null  object \n",
      " 5   averageRating  11086 non-null  float64\n",
      " 6   numVotes       11086 non-null  float64\n",
      " 7   decade         11086 non-null  object \n",
      " 8   tconst         11066 non-null  object \n",
      " 9   actor          11066 non-null  object \n",
      " 10  actress        11066 non-null  object \n",
      " 11  director       11066 non-null  object \n",
      " 12  writer         11066 non-null  object \n",
      "dtypes: float64(4), object(9)\n",
      "memory usage: 1.2+ MB\n"
     ]
    }
   ],
   "source": [
    "movies.info()"
   ]
  },
  {
   "cell_type": "code",
   "execution_count": 36,
   "metadata": {},
   "outputs": [],
   "source": [
    "#We delete the nans\n",
    "movies = movies.dropna()"
   ]
  },
  {
   "cell_type": "code",
   "execution_count": 37,
   "metadata": {},
   "outputs": [
    {
     "name": "stdout",
     "output_type": "stream",
     "text": [
      "<class 'pandas.core.frame.DataFrame'>\n",
      "Int64Index: 11066 entries, 0 to 11085\n",
      "Data columns (total 13 columns):\n",
      " #   Column         Non-Null Count  Dtype  \n",
      "---  ------         --------------  -----  \n",
      " 0   idMovie        11066 non-null  object \n",
      " 1   originalTitle  11066 non-null  object \n",
      " 2   Year           11066 non-null  float64\n",
      " 3   Minutes        11066 non-null  float64\n",
      " 4   Genres         11066 non-null  object \n",
      " 5   averageRating  11066 non-null  float64\n",
      " 6   numVotes       11066 non-null  float64\n",
      " 7   decade         11066 non-null  object \n",
      " 8   tconst         11066 non-null  object \n",
      " 9   actor          11066 non-null  object \n",
      " 10  actress        11066 non-null  object \n",
      " 11  director       11066 non-null  object \n",
      " 12  writer         11066 non-null  object \n",
      "dtypes: float64(4), object(9)\n",
      "memory usage: 1.2+ MB\n"
     ]
    }
   ],
   "source": [
    "movies.info()"
   ]
  },
  {
   "cell_type": "markdown",
   "metadata": {},
   "source": [
    "**Keeping only the important crew**"
   ]
  },
  {
   "cell_type": "code",
   "execution_count": 38,
   "metadata": {},
   "outputs": [
    {
     "data": {
      "text/html": [
       "<div>\n",
       "<style scoped>\n",
       "    .dataframe tbody tr th:only-of-type {\n",
       "        vertical-align: middle;\n",
       "    }\n",
       "\n",
       "    .dataframe tbody tr th {\n",
       "        vertical-align: top;\n",
       "    }\n",
       "\n",
       "    .dataframe thead th {\n",
       "        text-align: right;\n",
       "    }\n",
       "</style>\n",
       "<table border=\"1\" class=\"dataframe\">\n",
       "  <thead>\n",
       "    <tr style=\"text-align: right;\">\n",
       "      <th></th>\n",
       "      <th>idMovie</th>\n",
       "      <th>originalTitle</th>\n",
       "      <th>Year</th>\n",
       "      <th>Minutes</th>\n",
       "      <th>Genres</th>\n",
       "      <th>averageRating</th>\n",
       "      <th>numVotes</th>\n",
       "      <th>decade</th>\n",
       "      <th>tconst</th>\n",
       "      <th>actor</th>\n",
       "      <th>actress</th>\n",
       "      <th>director</th>\n",
       "      <th>writer</th>\n",
       "    </tr>\n",
       "  </thead>\n",
       "  <tbody>\n",
       "    <tr>\n",
       "      <th>0</th>\n",
       "      <td>tt0004972</td>\n",
       "      <td>The Birth of a Nation</td>\n",
       "      <td>0.000000</td>\n",
       "      <td>0.577084</td>\n",
       "      <td>Drama,History,War</td>\n",
       "      <td>0.638554</td>\n",
       "      <td>0.210468</td>\n",
       "      <td>1910</td>\n",
       "      <td>tt0004972</td>\n",
       "      <td>Henry B. Walthall</td>\n",
       "      <td>Lillian Gish</td>\n",
       "      <td>D.W. Griffith</td>\n",
       "      <td>Thomas Dixon Jr.</td>\n",
       "    </tr>\n",
       "    <tr>\n",
       "      <th>1</th>\n",
       "      <td>tt0006864</td>\n",
       "      <td>Intolerance: Love's Struggle Throughout the Ages</td>\n",
       "      <td>0.009524</td>\n",
       "      <td>0.506118</td>\n",
       "      <td>Drama,History</td>\n",
       "      <td>0.819277</td>\n",
       "      <td>0.131383</td>\n",
       "      <td>1910</td>\n",
       "      <td>tt0006864</td>\n",
       "      <td>Robert Harron</td>\n",
       "      <td>Lillian Gish</td>\n",
       "      <td>D.W. Griffith</td>\n",
       "      <td>Hettie Grey Baker</td>\n",
       "    </tr>\n",
       "    <tr>\n",
       "      <th>2</th>\n",
       "      <td>tt0009968</td>\n",
       "      <td>Broken Blossoms or The Yellow Man and the Girl</td>\n",
       "      <td>0.038095</td>\n",
       "      <td>0.271614</td>\n",
       "      <td>Drama,Romance</td>\n",
       "      <td>0.759036</td>\n",
       "      <td>0.063002</td>\n",
       "      <td>1910</td>\n",
       "      <td>tt0009968</td>\n",
       "      <td>Richard Barthelmess</td>\n",
       "      <td>Lillian Gish</td>\n",
       "      <td>D.W. Griffith</td>\n",
       "      <td>Thomas Burke</td>\n",
       "    </tr>\n",
       "    <tr>\n",
       "      <th>3</th>\n",
       "      <td>tt0010323</td>\n",
       "      <td>Das Cabinet des Dr. Caligari</td>\n",
       "      <td>0.047619</td>\n",
       "      <td>0.205104</td>\n",
       "      <td>Fantasy,Horror,Mystery</td>\n",
       "      <td>0.855422</td>\n",
       "      <td>0.367274</td>\n",
       "      <td>1920</td>\n",
       "      <td>tt0010323</td>\n",
       "      <td>Werner Krauss</td>\n",
       "      <td>Lil Dagover</td>\n",
       "      <td>Robert Wiene</td>\n",
       "      <td>Carl Mayer</td>\n",
       "    </tr>\n",
       "    <tr>\n",
       "      <th>4</th>\n",
       "      <td>tt0011237</td>\n",
       "      <td>Der Golem, wie er in die Welt kam</td>\n",
       "      <td>0.047619</td>\n",
       "      <td>0.205104</td>\n",
       "      <td>Fantasy,Horror</td>\n",
       "      <td>0.746988</td>\n",
       "      <td>0.001347</td>\n",
       "      <td>1920</td>\n",
       "      <td>tt0011237</td>\n",
       "      <td>Paul Wegener</td>\n",
       "      <td>Lyda Salmonova</td>\n",
       "      <td>Carl Boese</td>\n",
       "      <td>Henrik Galeen</td>\n",
       "    </tr>\n",
       "  </tbody>\n",
       "</table>\n",
       "</div>"
      ],
      "text/plain": [
       "     idMovie                                     originalTitle      Year  \\\n",
       "0  tt0004972                             The Birth of a Nation  0.000000   \n",
       "1  tt0006864  Intolerance: Love's Struggle Throughout the Ages  0.009524   \n",
       "2  tt0009968    Broken Blossoms or The Yellow Man and the Girl  0.038095   \n",
       "3  tt0010323                      Das Cabinet des Dr. Caligari  0.047619   \n",
       "4  tt0011237                 Der Golem, wie er in die Welt kam  0.047619   \n",
       "\n",
       "    Minutes                  Genres  averageRating  numVotes decade  \\\n",
       "0  0.577084       Drama,History,War       0.638554  0.210468   1910   \n",
       "1  0.506118           Drama,History       0.819277  0.131383   1910   \n",
       "2  0.271614           Drama,Romance       0.759036  0.063002   1910   \n",
       "3  0.205104  Fantasy,Horror,Mystery       0.855422  0.367274   1920   \n",
       "4  0.205104          Fantasy,Horror       0.746988  0.001347   1920   \n",
       "\n",
       "      tconst                actor         actress       director  \\\n",
       "0  tt0004972    Henry B. Walthall    Lillian Gish  D.W. Griffith   \n",
       "1  tt0006864        Robert Harron    Lillian Gish  D.W. Griffith   \n",
       "2  tt0009968  Richard Barthelmess    Lillian Gish  D.W. Griffith   \n",
       "3  tt0010323        Werner Krauss     Lil Dagover   Robert Wiene   \n",
       "4  tt0011237         Paul Wegener  Lyda Salmonova     Carl Boese   \n",
       "\n",
       "              writer  \n",
       "0   Thomas Dixon Jr.  \n",
       "1  Hettie Grey Baker  \n",
       "2       Thomas Burke  \n",
       "3         Carl Mayer  \n",
       "4      Henrik Galeen  "
      ]
     },
     "execution_count": 38,
     "metadata": {},
     "output_type": "execute_result"
    }
   ],
   "source": [
    "movies.head()"
   ]
  },
  {
   "cell_type": "code",
   "execution_count": 39,
   "metadata": {},
   "outputs": [],
   "source": [
    "n_actors = len(movies.actor.unique())\n",
    "n_actress = len(movies.actress.unique())\n",
    "n_director = len(movies.director.unique())\n",
    "n_writer = len(movies.writer.unique())"
   ]
  },
  {
   "cell_type": "code",
   "execution_count": 40,
   "metadata": {},
   "outputs": [
    {
     "name": "stdout",
     "output_type": "stream",
     "text": [
      "There are 3813 different actors, 3960 different actresses, 4232  different directors and 5770 different writers\n"
     ]
    }
   ],
   "source": [
    "print(\"There are\", n_actors, \"different actors,\", n_actress,\"different actresses,\", n_director,\" different directors and\", n_writer,\"different writers\")"
   ]
  },
  {
   "cell_type": "markdown",
   "metadata": {},
   "source": [
    "With these numbers a lot of different dummies columns will be created, so we are going to delimit them to 1000 for each category, that will be the ones that are present in more movies"
   ]
  },
  {
   "cell_type": "code",
   "execution_count": 41,
   "metadata": {},
   "outputs": [],
   "source": [
    "n = 1000\n",
    "top_actors = movies[movies.actor != 'Not available'].groupby(\"actor\")['idMovie'].count()\n",
    "top_actors = top_actors.to_frame().reset_index().sort_values(by = 'idMovie', ascending = False)['actor'].head(n).to_list()\n",
    "top_actress = movies[movies.actress != 'Not available'].groupby(\"actress\")['idMovie'].count()\n",
    "top_actress = top_actress.to_frame().reset_index().sort_values(by = 'idMovie', ascending = False)['actress'].head(n).to_list()\n",
    "top_director = movies[movies.director != 'Not available'].groupby(\"director\")['idMovie'].count()\n",
    "top_director = top_director.to_frame().reset_index().sort_values(by = 'idMovie', ascending = False)['director'].head(n).to_list()\n",
    "top_writer = movies[movies.writer != 'Not available'].groupby(\"writer\")['idMovie'].count()\n",
    "top_writer = top_writer.to_frame().reset_index().sort_values(by = 'idMovie', ascending = False)['writer'].head(n).to_list()"
   ]
  },
  {
   "cell_type": "code",
   "execution_count": 42,
   "metadata": {},
   "outputs": [
    {
     "data": {
      "text/plain": [
       "Not available     298\n",
       "Nicolas Cage       60\n",
       "Robert De Niro     52\n",
       "Bruce Willis       44\n",
       "Jackie Chan        44\n",
       "                 ... \n",
       "Jô Shishido         1\n",
       "David Moscow        1\n",
       "Grant Williams      1\n",
       "Johnny Pacar        1\n",
       "Tom Felton          1\n",
       "Name: actor, Length: 3813, dtype: int64"
      ]
     },
     "execution_count": 42,
     "metadata": {},
     "output_type": "execute_result"
    }
   ],
   "source": [
    "movies.actor.value_counts()"
   ]
  },
  {
   "cell_type": "code",
   "execution_count": 43,
   "metadata": {},
   "outputs": [],
   "source": [
    "movies.actor = movies.actor.apply(lambda x: x if x in top_actors else \"Not available\")\n",
    "movies.actress = movies.actress.apply(lambda x: x if x in top_actress else \"Not available\")\n",
    "movies.director = movies.director.apply(lambda x: x if x in top_director else \"Not available\")\n",
    "movies.writer = movies.writer.apply(lambda x: x if x in top_writer else \"Not available\")"
   ]
  },
  {
   "cell_type": "code",
   "execution_count": 44,
   "metadata": {},
   "outputs": [
    {
     "data": {
      "text/plain": [
       "Not available      3495\n",
       "Nicolas Cage         60\n",
       "Robert De Niro       52\n",
       "Clint Eastwood       44\n",
       "Jackie Chan          44\n",
       "                   ... \n",
       "Rami Malek            2\n",
       "Ronald Zehrfeld       2\n",
       "Nivin Pauly           2\n",
       "In-Sung Jo            2\n",
       "Jake Lacy             2\n",
       "Name: actor, Length: 1001, dtype: int64"
      ]
     },
     "execution_count": 44,
     "metadata": {},
     "output_type": "execute_result"
    }
   ],
   "source": [
    "movies.actor.value_counts()"
   ]
  },
  {
   "cell_type": "markdown",
   "metadata": {},
   "source": [
    "### Creating Dummy columns\n",
    "\n",
    "**Genres**"
   ]
  },
  {
   "cell_type": "code",
   "execution_count": 45,
   "metadata": {},
   "outputs": [],
   "source": [
    "movies = movies.join(movies.Genres.str.get_dummies(sep=',').add_prefix('genre_'))\n",
    "movies = movies.drop(['Genres'], axis=1)"
   ]
  },
  {
   "cell_type": "code",
   "execution_count": 47,
   "metadata": {},
   "outputs": [
    {
     "data": {
      "text/plain": [
       "Index(['idMovie', 'originalTitle', 'Year', 'Minutes', 'averageRating',\n",
       "       'numVotes', 'decade', 'tconst', 'actor', 'actress', 'director',\n",
       "       'writer', 'genre_Action', 'genre_Adventure', 'genre_Animation',\n",
       "       'genre_Biography', 'genre_Comedy', 'genre_Crime', 'genre_Documentary',\n",
       "       'genre_Drama', 'genre_Family', 'genre_Fantasy', 'genre_Film-Noir',\n",
       "       'genre_History', 'genre_Horror', 'genre_Music', 'genre_Musical',\n",
       "       'genre_Mystery', 'genre_News', 'genre_Romance', 'genre_Sci-Fi',\n",
       "       'genre_Sport', 'genre_Thriller', 'genre_War', 'genre_Western'],\n",
       "      dtype='object')"
      ]
     },
     "execution_count": 47,
     "metadata": {},
     "output_type": "execute_result"
    }
   ],
   "source": [
    "movies.columns"
   ]
  },
  {
   "cell_type": "code",
   "execution_count": 48,
   "metadata": {},
   "outputs": [],
   "source": [
    "# movies = movies.drop(['genre_No available'], axis=1)\n",
    "movies = movies.drop(['tconst'], axis=1)"
   ]
  },
  {
   "cell_type": "markdown",
   "metadata": {},
   "source": [
    "**Rest of dummies**"
   ]
  },
  {
   "cell_type": "code",
   "execution_count": 49,
   "metadata": {},
   "outputs": [],
   "source": [
    "movies_final = pd.get_dummies(movies, prefix=['dec_','actor_','actress_','dir_','writ_'], columns=['decade','actor','actress','director','writer'])"
   ]
  },
  {
   "cell_type": "code",
   "execution_count": 52,
   "metadata": {},
   "outputs": [],
   "source": [
    "movies_final = movies_final.drop(['actor__Not available','dir__Not available','actress__Not available','writ__Not available'], axis=1)"
   ]
  },
  {
   "cell_type": "code",
   "execution_count": 53,
   "metadata": {},
   "outputs": [
    {
     "data": {
      "text/html": [
       "<div>\n",
       "<style scoped>\n",
       "    .dataframe tbody tr th:only-of-type {\n",
       "        vertical-align: middle;\n",
       "    }\n",
       "\n",
       "    .dataframe tbody tr th {\n",
       "        vertical-align: top;\n",
       "    }\n",
       "\n",
       "    .dataframe thead th {\n",
       "        text-align: right;\n",
       "    }\n",
       "</style>\n",
       "<table border=\"1\" class=\"dataframe\">\n",
       "  <thead>\n",
       "    <tr style=\"text-align: right;\">\n",
       "      <th></th>\n",
       "      <th>idMovie</th>\n",
       "      <th>originalTitle</th>\n",
       "      <th>Year</th>\n",
       "      <th>Minutes</th>\n",
       "      <th>averageRating</th>\n",
       "      <th>numVotes</th>\n",
       "      <th>genre_Action</th>\n",
       "      <th>genre_Adventure</th>\n",
       "      <th>genre_Animation</th>\n",
       "      <th>genre_Biography</th>\n",
       "      <th>...</th>\n",
       "      <th>writ__William Rose</th>\n",
       "      <th>writ__William Shakespeare</th>\n",
       "      <th>writ__William Steig</th>\n",
       "      <th>writ__William Wheeler</th>\n",
       "      <th>writ__William Wisher</th>\n",
       "      <th>writ__Won-Chan Hong</th>\n",
       "      <th>writ__Yavuz Turgul</th>\n",
       "      <th>writ__Yunus Sajawal</th>\n",
       "      <th>writ__Zak Penn</th>\n",
       "      <th>writ__Émile Zola</th>\n",
       "    </tr>\n",
       "  </thead>\n",
       "  <tbody>\n",
       "    <tr>\n",
       "      <th>0</th>\n",
       "      <td>tt0004972</td>\n",
       "      <td>The Birth of a Nation</td>\n",
       "      <td>0.000000</td>\n",
       "      <td>0.577084</td>\n",
       "      <td>0.638554</td>\n",
       "      <td>0.210468</td>\n",
       "      <td>0</td>\n",
       "      <td>0</td>\n",
       "      <td>0</td>\n",
       "      <td>0</td>\n",
       "      <td>...</td>\n",
       "      <td>0</td>\n",
       "      <td>0</td>\n",
       "      <td>0</td>\n",
       "      <td>0</td>\n",
       "      <td>0</td>\n",
       "      <td>0</td>\n",
       "      <td>0</td>\n",
       "      <td>0</td>\n",
       "      <td>0</td>\n",
       "      <td>0</td>\n",
       "    </tr>\n",
       "    <tr>\n",
       "      <th>1</th>\n",
       "      <td>tt0006864</td>\n",
       "      <td>Intolerance: Love's Struggle Throughout the Ages</td>\n",
       "      <td>0.009524</td>\n",
       "      <td>0.506118</td>\n",
       "      <td>0.819277</td>\n",
       "      <td>0.131383</td>\n",
       "      <td>0</td>\n",
       "      <td>0</td>\n",
       "      <td>0</td>\n",
       "      <td>0</td>\n",
       "      <td>...</td>\n",
       "      <td>0</td>\n",
       "      <td>0</td>\n",
       "      <td>0</td>\n",
       "      <td>0</td>\n",
       "      <td>0</td>\n",
       "      <td>0</td>\n",
       "      <td>0</td>\n",
       "      <td>0</td>\n",
       "      <td>0</td>\n",
       "      <td>0</td>\n",
       "    </tr>\n",
       "    <tr>\n",
       "      <th>2</th>\n",
       "      <td>tt0009968</td>\n",
       "      <td>Broken Blossoms or The Yellow Man and the Girl</td>\n",
       "      <td>0.038095</td>\n",
       "      <td>0.271614</td>\n",
       "      <td>0.759036</td>\n",
       "      <td>0.063002</td>\n",
       "      <td>0</td>\n",
       "      <td>0</td>\n",
       "      <td>0</td>\n",
       "      <td>0</td>\n",
       "      <td>...</td>\n",
       "      <td>0</td>\n",
       "      <td>0</td>\n",
       "      <td>0</td>\n",
       "      <td>0</td>\n",
       "      <td>0</td>\n",
       "      <td>0</td>\n",
       "      <td>0</td>\n",
       "      <td>0</td>\n",
       "      <td>0</td>\n",
       "      <td>0</td>\n",
       "    </tr>\n",
       "    <tr>\n",
       "      <th>3</th>\n",
       "      <td>tt0010323</td>\n",
       "      <td>Das Cabinet des Dr. Caligari</td>\n",
       "      <td>0.047619</td>\n",
       "      <td>0.205104</td>\n",
       "      <td>0.855422</td>\n",
       "      <td>0.367274</td>\n",
       "      <td>0</td>\n",
       "      <td>0</td>\n",
       "      <td>0</td>\n",
       "      <td>0</td>\n",
       "      <td>...</td>\n",
       "      <td>0</td>\n",
       "      <td>0</td>\n",
       "      <td>0</td>\n",
       "      <td>0</td>\n",
       "      <td>0</td>\n",
       "      <td>0</td>\n",
       "      <td>0</td>\n",
       "      <td>0</td>\n",
       "      <td>0</td>\n",
       "      <td>0</td>\n",
       "    </tr>\n",
       "    <tr>\n",
       "      <th>4</th>\n",
       "      <td>tt0011237</td>\n",
       "      <td>Der Golem, wie er in die Welt kam</td>\n",
       "      <td>0.047619</td>\n",
       "      <td>0.205104</td>\n",
       "      <td>0.746988</td>\n",
       "      <td>0.001347</td>\n",
       "      <td>0</td>\n",
       "      <td>0</td>\n",
       "      <td>0</td>\n",
       "      <td>0</td>\n",
       "      <td>...</td>\n",
       "      <td>0</td>\n",
       "      <td>0</td>\n",
       "      <td>0</td>\n",
       "      <td>0</td>\n",
       "      <td>0</td>\n",
       "      <td>0</td>\n",
       "      <td>0</td>\n",
       "      <td>0</td>\n",
       "      <td>0</td>\n",
       "      <td>0</td>\n",
       "    </tr>\n",
       "  </tbody>\n",
       "</table>\n",
       "<p>5 rows × 4041 columns</p>\n",
       "</div>"
      ],
      "text/plain": [
       "     idMovie                                     originalTitle      Year  \\\n",
       "0  tt0004972                             The Birth of a Nation  0.000000   \n",
       "1  tt0006864  Intolerance: Love's Struggle Throughout the Ages  0.009524   \n",
       "2  tt0009968    Broken Blossoms or The Yellow Man and the Girl  0.038095   \n",
       "3  tt0010323                      Das Cabinet des Dr. Caligari  0.047619   \n",
       "4  tt0011237                 Der Golem, wie er in die Welt kam  0.047619   \n",
       "\n",
       "    Minutes  averageRating  numVotes  genre_Action  genre_Adventure  \\\n",
       "0  0.577084       0.638554  0.210468             0                0   \n",
       "1  0.506118       0.819277  0.131383             0                0   \n",
       "2  0.271614       0.759036  0.063002             0                0   \n",
       "3  0.205104       0.855422  0.367274             0                0   \n",
       "4  0.205104       0.746988  0.001347             0                0   \n",
       "\n",
       "   genre_Animation  genre_Biography  ...  writ__William Rose  \\\n",
       "0                0                0  ...                   0   \n",
       "1                0                0  ...                   0   \n",
       "2                0                0  ...                   0   \n",
       "3                0                0  ...                   0   \n",
       "4                0                0  ...                   0   \n",
       "\n",
       "   writ__William Shakespeare  writ__William Steig  writ__William Wheeler  \\\n",
       "0                          0                    0                      0   \n",
       "1                          0                    0                      0   \n",
       "2                          0                    0                      0   \n",
       "3                          0                    0                      0   \n",
       "4                          0                    0                      0   \n",
       "\n",
       "   writ__William Wisher  writ__Won-Chan Hong  writ__Yavuz Turgul  \\\n",
       "0                     0                    0                   0   \n",
       "1                     0                    0                   0   \n",
       "2                     0                    0                   0   \n",
       "3                     0                    0                   0   \n",
       "4                     0                    0                   0   \n",
       "\n",
       "   writ__Yunus Sajawal  writ__Zak Penn  writ__Émile Zola  \n",
       "0                    0               0                 0  \n",
       "1                    0               0                 0  \n",
       "2                    0               0                 0  \n",
       "3                    0               0                 0  \n",
       "4                    0               0                 0  \n",
       "\n",
       "[5 rows x 4041 columns]"
      ]
     },
     "execution_count": 53,
     "metadata": {},
     "output_type": "execute_result"
    }
   ],
   "source": [
    "movies_final.head()"
   ]
  },
  {
   "cell_type": "code",
   "execution_count": 54,
   "metadata": {},
   "outputs": [
    {
     "data": {
      "text/plain": [
       "(11066, 4041)"
      ]
     },
     "execution_count": 54,
     "metadata": {},
     "output_type": "execute_result"
    }
   ],
   "source": [
    "movies_final.shape"
   ]
  },
  {
   "cell_type": "markdown",
   "metadata": {},
   "source": [
    "### <a class=\"anchor\" id=\"Consolidaion_dataframes\"> 1.c.- Consolidation of dataframes\n",
    "\n",
    "In this section we´re going to consolidate both dataframes into files, that we´ll read for the next sections"
   ]
  },
  {
   "cell_type": "code",
   "execution_count": 55,
   "metadata": {},
   "outputs": [],
   "source": [
    "movies_final.to_csv('IMDB_clean_movies_test_1.csv', index = False)"
   ]
  },
  {
   "cell_type": "markdown",
   "metadata": {},
   "source": [
    "## <a class=\"anchor\" id=\"MLA\">Part 2: Machine learning algorithm"
   ]
  },
  {
   "cell_type": "markdown",
   "metadata": {},
   "source": [
    "### <a class=\"anchor\" id=\"Data_preparation\"> 2.a.- Data preparation\n",
    "We import the data and fix importation issues"
   ]
  },
  {
   "cell_type": "code",
   "execution_count": 56,
   "metadata": {},
   "outputs": [],
   "source": [
    "movies = pd.read_csv('IMDB_clean_movies_test_1.csv')"
   ]
  },
  {
   "cell_type": "code",
   "execution_count": 57,
   "metadata": {},
   "outputs": [
    {
     "data": {
      "text/plain": [
       "(11066, 4041)"
      ]
     },
     "execution_count": 57,
     "metadata": {},
     "output_type": "execute_result"
    }
   ],
   "source": [
    "movies.shape"
   ]
  },
  {
   "cell_type": "code",
   "execution_count": 58,
   "metadata": {},
   "outputs": [
    {
     "data": {
      "text/html": [
       "<div>\n",
       "<style scoped>\n",
       "    .dataframe tbody tr th:only-of-type {\n",
       "        vertical-align: middle;\n",
       "    }\n",
       "\n",
       "    .dataframe tbody tr th {\n",
       "        vertical-align: top;\n",
       "    }\n",
       "\n",
       "    .dataframe thead th {\n",
       "        text-align: right;\n",
       "    }\n",
       "</style>\n",
       "<table border=\"1\" class=\"dataframe\">\n",
       "  <thead>\n",
       "    <tr style=\"text-align: right;\">\n",
       "      <th></th>\n",
       "      <th>idMovie</th>\n",
       "      <th>originalTitle</th>\n",
       "      <th>Year</th>\n",
       "      <th>Minutes</th>\n",
       "      <th>averageRating</th>\n",
       "      <th>numVotes</th>\n",
       "      <th>genre_Action</th>\n",
       "      <th>genre_Adventure</th>\n",
       "      <th>genre_Animation</th>\n",
       "      <th>genre_Biography</th>\n",
       "      <th>...</th>\n",
       "      <th>writ__William Rose</th>\n",
       "      <th>writ__William Shakespeare</th>\n",
       "      <th>writ__William Steig</th>\n",
       "      <th>writ__William Wheeler</th>\n",
       "      <th>writ__William Wisher</th>\n",
       "      <th>writ__Won-Chan Hong</th>\n",
       "      <th>writ__Yavuz Turgul</th>\n",
       "      <th>writ__Yunus Sajawal</th>\n",
       "      <th>writ__Zak Penn</th>\n",
       "      <th>writ__Émile Zola</th>\n",
       "    </tr>\n",
       "  </thead>\n",
       "  <tbody>\n",
       "    <tr>\n",
       "      <th>0</th>\n",
       "      <td>tt0004972</td>\n",
       "      <td>The Birth of a Nation</td>\n",
       "      <td>0.000000</td>\n",
       "      <td>0.577084</td>\n",
       "      <td>0.638554</td>\n",
       "      <td>0.210468</td>\n",
       "      <td>0</td>\n",
       "      <td>0</td>\n",
       "      <td>0</td>\n",
       "      <td>0</td>\n",
       "      <td>...</td>\n",
       "      <td>0</td>\n",
       "      <td>0</td>\n",
       "      <td>0</td>\n",
       "      <td>0</td>\n",
       "      <td>0</td>\n",
       "      <td>0</td>\n",
       "      <td>0</td>\n",
       "      <td>0</td>\n",
       "      <td>0</td>\n",
       "      <td>0</td>\n",
       "    </tr>\n",
       "    <tr>\n",
       "      <th>1</th>\n",
       "      <td>tt0006864</td>\n",
       "      <td>Intolerance: Love's Struggle Throughout the Ages</td>\n",
       "      <td>0.009524</td>\n",
       "      <td>0.506118</td>\n",
       "      <td>0.819277</td>\n",
       "      <td>0.131383</td>\n",
       "      <td>0</td>\n",
       "      <td>0</td>\n",
       "      <td>0</td>\n",
       "      <td>0</td>\n",
       "      <td>...</td>\n",
       "      <td>0</td>\n",
       "      <td>0</td>\n",
       "      <td>0</td>\n",
       "      <td>0</td>\n",
       "      <td>0</td>\n",
       "      <td>0</td>\n",
       "      <td>0</td>\n",
       "      <td>0</td>\n",
       "      <td>0</td>\n",
       "      <td>0</td>\n",
       "    </tr>\n",
       "    <tr>\n",
       "      <th>2</th>\n",
       "      <td>tt0009968</td>\n",
       "      <td>Broken Blossoms or The Yellow Man and the Girl</td>\n",
       "      <td>0.038095</td>\n",
       "      <td>0.271614</td>\n",
       "      <td>0.759036</td>\n",
       "      <td>0.063002</td>\n",
       "      <td>0</td>\n",
       "      <td>0</td>\n",
       "      <td>0</td>\n",
       "      <td>0</td>\n",
       "      <td>...</td>\n",
       "      <td>0</td>\n",
       "      <td>0</td>\n",
       "      <td>0</td>\n",
       "      <td>0</td>\n",
       "      <td>0</td>\n",
       "      <td>0</td>\n",
       "      <td>0</td>\n",
       "      <td>0</td>\n",
       "      <td>0</td>\n",
       "      <td>0</td>\n",
       "    </tr>\n",
       "    <tr>\n",
       "      <th>3</th>\n",
       "      <td>tt0010323</td>\n",
       "      <td>Das Cabinet des Dr. Caligari</td>\n",
       "      <td>0.047619</td>\n",
       "      <td>0.205104</td>\n",
       "      <td>0.855422</td>\n",
       "      <td>0.367274</td>\n",
       "      <td>0</td>\n",
       "      <td>0</td>\n",
       "      <td>0</td>\n",
       "      <td>0</td>\n",
       "      <td>...</td>\n",
       "      <td>0</td>\n",
       "      <td>0</td>\n",
       "      <td>0</td>\n",
       "      <td>0</td>\n",
       "      <td>0</td>\n",
       "      <td>0</td>\n",
       "      <td>0</td>\n",
       "      <td>0</td>\n",
       "      <td>0</td>\n",
       "      <td>0</td>\n",
       "    </tr>\n",
       "    <tr>\n",
       "      <th>4</th>\n",
       "      <td>tt0011237</td>\n",
       "      <td>Der Golem, wie er in die Welt kam</td>\n",
       "      <td>0.047619</td>\n",
       "      <td>0.205104</td>\n",
       "      <td>0.746988</td>\n",
       "      <td>0.001347</td>\n",
       "      <td>0</td>\n",
       "      <td>0</td>\n",
       "      <td>0</td>\n",
       "      <td>0</td>\n",
       "      <td>...</td>\n",
       "      <td>0</td>\n",
       "      <td>0</td>\n",
       "      <td>0</td>\n",
       "      <td>0</td>\n",
       "      <td>0</td>\n",
       "      <td>0</td>\n",
       "      <td>0</td>\n",
       "      <td>0</td>\n",
       "      <td>0</td>\n",
       "      <td>0</td>\n",
       "    </tr>\n",
       "  </tbody>\n",
       "</table>\n",
       "<p>5 rows × 4041 columns</p>\n",
       "</div>"
      ],
      "text/plain": [
       "     idMovie                                     originalTitle      Year  \\\n",
       "0  tt0004972                             The Birth of a Nation  0.000000   \n",
       "1  tt0006864  Intolerance: Love's Struggle Throughout the Ages  0.009524   \n",
       "2  tt0009968    Broken Blossoms or The Yellow Man and the Girl  0.038095   \n",
       "3  tt0010323                      Das Cabinet des Dr. Caligari  0.047619   \n",
       "4  tt0011237                 Der Golem, wie er in die Welt kam  0.047619   \n",
       "\n",
       "    Minutes  averageRating  numVotes  genre_Action  genre_Adventure  \\\n",
       "0  0.577084       0.638554  0.210468             0                0   \n",
       "1  0.506118       0.819277  0.131383             0                0   \n",
       "2  0.271614       0.759036  0.063002             0                0   \n",
       "3  0.205104       0.855422  0.367274             0                0   \n",
       "4  0.205104       0.746988  0.001347             0                0   \n",
       "\n",
       "   genre_Animation  genre_Biography  ...  writ__William Rose  \\\n",
       "0                0                0  ...                   0   \n",
       "1                0                0  ...                   0   \n",
       "2                0                0  ...                   0   \n",
       "3                0                0  ...                   0   \n",
       "4                0                0  ...                   0   \n",
       "\n",
       "   writ__William Shakespeare  writ__William Steig  writ__William Wheeler  \\\n",
       "0                          0                    0                      0   \n",
       "1                          0                    0                      0   \n",
       "2                          0                    0                      0   \n",
       "3                          0                    0                      0   \n",
       "4                          0                    0                      0   \n",
       "\n",
       "   writ__William Wisher  writ__Won-Chan Hong  writ__Yavuz Turgul  \\\n",
       "0                     0                    0                   0   \n",
       "1                     0                    0                   0   \n",
       "2                     0                    0                   0   \n",
       "3                     0                    0                   0   \n",
       "4                     0                    0                   0   \n",
       "\n",
       "   writ__Yunus Sajawal  writ__Zak Penn  writ__Émile Zola  \n",
       "0                    0               0                 0  \n",
       "1                    0               0                 0  \n",
       "2                    0               0                 0  \n",
       "3                    0               0                 0  \n",
       "4                    0               0                 0  \n",
       "\n",
       "[5 rows x 4041 columns]"
      ]
     },
     "execution_count": 58,
     "metadata": {},
     "output_type": "execute_result"
    }
   ],
   "source": [
    "movies.head()"
   ]
  },
  {
   "cell_type": "code",
   "execution_count": 59,
   "metadata": {},
   "outputs": [],
   "source": [
    "movies1 = movies.copy()\n",
    "movies1 = movies1[['averageRating']]"
   ]
  },
  {
   "cell_type": "code",
   "execution_count": 60,
   "metadata": {},
   "outputs": [
    {
     "data": {
      "text/plain": [
       "(11066, 1)"
      ]
     },
     "execution_count": 60,
     "metadata": {},
     "output_type": "execute_result"
    }
   ],
   "source": [
    "movies1.shape"
   ]
  },
  {
   "cell_type": "code",
   "execution_count": 61,
   "metadata": {},
   "outputs": [],
   "source": [
    "movies2 = movies.copy()\n",
    "movies2 = movies2.drop(['idMovie','originalTitle','averageRating'], axis=1)"
   ]
  },
  {
   "cell_type": "code",
   "execution_count": 62,
   "metadata": {},
   "outputs": [
    {
     "data": {
      "text/plain": [
       "(11066, 4038)"
      ]
     },
     "execution_count": 62,
     "metadata": {},
     "output_type": "execute_result"
    }
   ],
   "source": [
    "movies2.shape"
   ]
  },
  {
   "cell_type": "markdown",
   "metadata": {},
   "source": [
    "#### Applying PCA\n",
    "\n",
    "In this section we will apply feature reduction with PCA to the dataset with default values, without fixing the number of components. We will do it over movies2, that hasn´t categorical variables"
   ]
  },
  {
   "cell_type": "code",
   "execution_count": 63,
   "metadata": {},
   "outputs": [],
   "source": [
    "# Apply PCA to the data.\n",
    "pca = PCA()\n",
    "movies_pca = pca.fit_transform(movies2)"
   ]
  },
  {
   "cell_type": "code",
   "execution_count": 64,
   "metadata": {},
   "outputs": [],
   "source": [
    "column_names = [\"Component\", \"variance\", \"acumulative_variance\"]\n",
    "variances = pd.DataFrame(columns = column_names)\n",
    "var_acu = 0\n",
    "for i in range(len(pca.explained_variance_ratio_)):\n",
    "    comp = i +1 \n",
    "    var = pca.explained_variance_ratio_[i]\n",
    "    var_acu = var_acu +  var\n",
    "    variances.loc[i] = [comp, var, var_acu]"
   ]
  },
  {
   "cell_type": "markdown",
   "metadata": {},
   "source": [
    "Now we plot the acumulative and individual variance ratio versus the number oc principal components used"
   ]
  },
  {
   "cell_type": "code",
   "execution_count": 65,
   "metadata": {},
   "outputs": [
    {
     "data": {
      "image/png": "[encoded data removed]",
      "text/plain": [
       "<Figure size 432x288 with 1 Axes>"
      ]
     },
     "metadata": {
      "needs_background": "light"
     },
     "output_type": "display_data"
    }
   ],
   "source": [
    "plt.plot(variances.Component, variances.acumulative_variance);\n",
    "plt.bar(variances.Component, variances.variance);\n",
    "plt.xlabel('Component number') \n",
    "plt.ylabel('Variance');\n",
    "plt.legend(['Acumulative variance','Individual variance']);\n",
    "plt.title('Variance vs Dimensionality Reduction');"
   ]
  },
  {
   "cell_type": "code",
   "execution_count": 66,
   "metadata": {},
   "outputs": [
    {
     "data": {
      "text/html": [
       "<div>\n",
       "<style scoped>\n",
       "    .dataframe tbody tr th:only-of-type {\n",
       "        vertical-align: middle;\n",
       "    }\n",
       "\n",
       "    .dataframe tbody tr th {\n",
       "        vertical-align: top;\n",
       "    }\n",
       "\n",
       "    .dataframe thead th {\n",
       "        text-align: right;\n",
       "    }\n",
       "</style>\n",
       "<table border=\"1\" class=\"dataframe\">\n",
       "  <thead>\n",
       "    <tr style=\"text-align: right;\">\n",
       "      <th></th>\n",
       "      <th>Component</th>\n",
       "      <th>variance</th>\n",
       "      <th>acumulative_variance</th>\n",
       "    </tr>\n",
       "  </thead>\n",
       "  <tbody>\n",
       "    <tr>\n",
       "      <th>0</th>\n",
       "      <td>1.0</td>\n",
       "      <td>0.069829</td>\n",
       "      <td>0.069829</td>\n",
       "    </tr>\n",
       "    <tr>\n",
       "      <th>1</th>\n",
       "      <td>2.0</td>\n",
       "      <td>0.069047</td>\n",
       "      <td>0.138876</td>\n",
       "    </tr>\n",
       "    <tr>\n",
       "      <th>2</th>\n",
       "      <td>3.0</td>\n",
       "      <td>0.059549</td>\n",
       "      <td>0.198425</td>\n",
       "    </tr>\n",
       "    <tr>\n",
       "      <th>3</th>\n",
       "      <td>4.0</td>\n",
       "      <td>0.041773</td>\n",
       "      <td>0.240198</td>\n",
       "    </tr>\n",
       "    <tr>\n",
       "      <th>4</th>\n",
       "      <td>5.0</td>\n",
       "      <td>0.040349</td>\n",
       "      <td>0.280547</td>\n",
       "    </tr>\n",
       "  </tbody>\n",
       "</table>\n",
       "</div>"
      ],
      "text/plain": [
       "   Component  variance  acumulative_variance\n",
       "0        1.0  0.069829              0.069829\n",
       "1        2.0  0.069047              0.138876\n",
       "2        3.0  0.059549              0.198425\n",
       "3        4.0  0.041773              0.240198\n",
       "4        5.0  0.040349              0.280547"
      ]
     },
     "execution_count": 66,
     "metadata": {},
     "output_type": "execute_result"
    }
   ],
   "source": [
    "variances.head()"
   ]
  },
  {
   "cell_type": "markdown",
   "metadata": {},
   "source": [
    "We´ve decided to keep the 95% of the variability in the original data, so we are going to reduce the dataframe to 2360 dimensions (the initial variables where 4038)"
   ]
  },
  {
   "cell_type": "code",
   "execution_count": 67,
   "metadata": {},
   "outputs": [
    {
     "name": "stdout",
     "output_type": "stream",
     "text": [
      "Using 2360 variables, we can explain 0.95 of the variability in the original data.\n"
     ]
    }
   ],
   "source": [
    "for i in range(len(variances)):\n",
    "    if variances.acumulative_variance[i] > 0.95:\n",
    "        num = i\n",
    "        var = variances.acumulative_variance[i]\n",
    "        break\n",
    "        \n",
    "print(\"Using\", i, \"variables, we can explain\", round(var,2), \"of the variability in the original data.\")"
   ]
  },
  {
   "cell_type": "code",
   "execution_count": 68,
   "metadata": {},
   "outputs": [],
   "source": [
    "# Re-apply PCA to the data while selecting for number of components to retain.\n",
    "pca = PCA(n_components = 2360)\n",
    "movies_pca = pca.fit_transform(movies2)"
   ]
  },
  {
   "cell_type": "code",
   "execution_count": 69,
   "metadata": {},
   "outputs": [
    {
     "data": {
      "text/html": [
       "<div>\n",
       "<style scoped>\n",
       "    .dataframe tbody tr th:only-of-type {\n",
       "        vertical-align: middle;\n",
       "    }\n",
       "\n",
       "    .dataframe tbody tr th {\n",
       "        vertical-align: top;\n",
       "    }\n",
       "\n",
       "    .dataframe thead th {\n",
       "        text-align: right;\n",
       "    }\n",
       "</style>\n",
       "<table border=\"1\" class=\"dataframe\">\n",
       "  <thead>\n",
       "    <tr style=\"text-align: right;\">\n",
       "      <th></th>\n",
       "      <th>0</th>\n",
       "      <th>1</th>\n",
       "      <th>2</th>\n",
       "      <th>3</th>\n",
       "      <th>4</th>\n",
       "      <th>5</th>\n",
       "      <th>6</th>\n",
       "      <th>7</th>\n",
       "      <th>8</th>\n",
       "      <th>9</th>\n",
       "      <th>...</th>\n",
       "      <th>2350</th>\n",
       "      <th>2351</th>\n",
       "      <th>2352</th>\n",
       "      <th>2353</th>\n",
       "      <th>2354</th>\n",
       "      <th>2355</th>\n",
       "      <th>2356</th>\n",
       "      <th>2357</th>\n",
       "      <th>2358</th>\n",
       "      <th>2359</th>\n",
       "    </tr>\n",
       "  </thead>\n",
       "  <tbody>\n",
       "    <tr>\n",
       "      <th>0</th>\n",
       "      <td>-0.313689</td>\n",
       "      <td>-0.597162</td>\n",
       "      <td>0.128842</td>\n",
       "      <td>0.330291</td>\n",
       "      <td>-0.026077</td>\n",
       "      <td>-0.459146</td>\n",
       "      <td>-0.338470</td>\n",
       "      <td>0.265075</td>\n",
       "      <td>0.117596</td>\n",
       "      <td>-0.198416</td>\n",
       "      <td>...</td>\n",
       "      <td>0.002364</td>\n",
       "      <td>0.004838</td>\n",
       "      <td>-0.001615</td>\n",
       "      <td>0.002401</td>\n",
       "      <td>-0.012468</td>\n",
       "      <td>-0.001802</td>\n",
       "      <td>-0.001164</td>\n",
       "      <td>-0.001745</td>\n",
       "      <td>-0.001856</td>\n",
       "      <td>0.000547</td>\n",
       "    </tr>\n",
       "    <tr>\n",
       "      <th>1</th>\n",
       "      <td>-0.298847</td>\n",
       "      <td>-0.574206</td>\n",
       "      <td>0.121152</td>\n",
       "      <td>0.325026</td>\n",
       "      <td>-0.009466</td>\n",
       "      <td>-0.413827</td>\n",
       "      <td>-0.327309</td>\n",
       "      <td>0.247606</td>\n",
       "      <td>0.100154</td>\n",
       "      <td>-0.166438</td>\n",
       "      <td>...</td>\n",
       "      <td>0.002250</td>\n",
       "      <td>0.006698</td>\n",
       "      <td>-0.000252</td>\n",
       "      <td>0.004020</td>\n",
       "      <td>-0.012722</td>\n",
       "      <td>-0.000143</td>\n",
       "      <td>-0.002631</td>\n",
       "      <td>0.000178</td>\n",
       "      <td>-0.000795</td>\n",
       "      <td>0.000714</td>\n",
       "    </tr>\n",
       "    <tr>\n",
       "      <th>2</th>\n",
       "      <td>-0.146172</td>\n",
       "      <td>-0.806537</td>\n",
       "      <td>-0.139703</td>\n",
       "      <td>0.250200</td>\n",
       "      <td>0.049599</td>\n",
       "      <td>-0.459049</td>\n",
       "      <td>0.495977</td>\n",
       "      <td>0.532852</td>\n",
       "      <td>0.007198</td>\n",
       "      <td>0.204848</td>\n",
       "      <td>...</td>\n",
       "      <td>0.003879</td>\n",
       "      <td>0.006271</td>\n",
       "      <td>0.000197</td>\n",
       "      <td>0.006699</td>\n",
       "      <td>-0.012567</td>\n",
       "      <td>-0.000628</td>\n",
       "      <td>-0.002414</td>\n",
       "      <td>-0.000456</td>\n",
       "      <td>-0.000014</td>\n",
       "      <td>0.003899</td>\n",
       "    </tr>\n",
       "    <tr>\n",
       "      <th>3</th>\n",
       "      <td>0.092787</td>\n",
       "      <td>0.304939</td>\n",
       "      <td>0.404004</td>\n",
       "      <td>0.212250</td>\n",
       "      <td>1.086380</td>\n",
       "      <td>-0.414995</td>\n",
       "      <td>-0.356969</td>\n",
       "      <td>0.261278</td>\n",
       "      <td>-0.799672</td>\n",
       "      <td>0.261945</td>\n",
       "      <td>...</td>\n",
       "      <td>0.004386</td>\n",
       "      <td>-0.000465</td>\n",
       "      <td>0.003043</td>\n",
       "      <td>0.000428</td>\n",
       "      <td>-0.001795</td>\n",
       "      <td>0.003828</td>\n",
       "      <td>-0.003754</td>\n",
       "      <td>0.000948</td>\n",
       "      <td>0.000681</td>\n",
       "      <td>-0.001532</td>\n",
       "    </tr>\n",
       "    <tr>\n",
       "      <th>4</th>\n",
       "      <td>0.178087</td>\n",
       "      <td>0.279010</td>\n",
       "      <td>0.277412</td>\n",
       "      <td>0.245441</td>\n",
       "      <td>0.854464</td>\n",
       "      <td>-0.480230</td>\n",
       "      <td>-0.298539</td>\n",
       "      <td>0.343962</td>\n",
       "      <td>-0.627673</td>\n",
       "      <td>-0.015954</td>\n",
       "      <td>...</td>\n",
       "      <td>-0.003278</td>\n",
       "      <td>0.002029</td>\n",
       "      <td>-0.001147</td>\n",
       "      <td>0.002163</td>\n",
       "      <td>0.006695</td>\n",
       "      <td>-0.002591</td>\n",
       "      <td>0.002271</td>\n",
       "      <td>0.004459</td>\n",
       "      <td>0.004102</td>\n",
       "      <td>0.007186</td>\n",
       "    </tr>\n",
       "  </tbody>\n",
       "</table>\n",
       "<p>5 rows × 2360 columns</p>\n",
       "</div>"
      ],
      "text/plain": [
       "       0         1         2         3         4         5         6     \\\n",
       "0 -0.313689 -0.597162  0.128842  0.330291 -0.026077 -0.459146 -0.338470   \n",
       "1 -0.298847 -0.574206  0.121152  0.325026 -0.009466 -0.413827 -0.327309   \n",
       "2 -0.146172 -0.806537 -0.139703  0.250200  0.049599 -0.459049  0.495977   \n",
       "3  0.092787  0.304939  0.404004  0.212250  1.086380 -0.414995 -0.356969   \n",
       "4  0.178087  0.279010  0.277412  0.245441  0.854464 -0.480230 -0.298539   \n",
       "\n",
       "       7         8         9     ...      2350      2351      2352      2353  \\\n",
       "0  0.265075  0.117596 -0.198416  ...  0.002364  0.004838 -0.001615  0.002401   \n",
       "1  0.247606  0.100154 -0.166438  ...  0.002250  0.006698 -0.000252  0.004020   \n",
       "2  0.532852  0.007198  0.204848  ...  0.003879  0.006271  0.000197  0.006699   \n",
       "3  0.261278 -0.799672  0.261945  ...  0.004386 -0.000465  0.003043  0.000428   \n",
       "4  0.343962 -0.627673 -0.015954  ... -0.003278  0.002029 -0.001147  0.002163   \n",
       "\n",
       "       2354      2355      2356      2357      2358      2359  \n",
       "0 -0.012468 -0.001802 -0.001164 -0.001745 -0.001856  0.000547  \n",
       "1 -0.012722 -0.000143 -0.002631  0.000178 -0.000795  0.000714  \n",
       "2 -0.012567 -0.000628 -0.002414 -0.000456 -0.000014  0.003899  \n",
       "3 -0.001795  0.003828 -0.003754  0.000948  0.000681 -0.001532  \n",
       "4  0.006695 -0.002591  0.002271  0.004459  0.004102  0.007186  \n",
       "\n",
       "[5 rows x 2360 columns]"
      ]
     },
     "execution_count": 69,
     "metadata": {},
     "output_type": "execute_result"
    }
   ],
   "source": [
    "movies_pca_end = pd.DataFrame(movies_pca)\n",
    "movies_pca_end.head()"
   ]
  },
  {
   "cell_type": "markdown",
   "metadata": {},
   "source": [
    "#### Interpreting Principal Components\n",
    "\n",
    "Now that we have our transformed principal components, we are going to check out the weight of each variable on the first few components to see if they can be interpreted in some fashion."
   ]
  },
  {
   "cell_type": "code",
   "execution_count": 70,
   "metadata": {},
   "outputs": [],
   "source": [
    "def pc_indexes(df, pca, n):\n",
    "    \"\"\"\n",
    "    Gives the 10 most important variables with its weights in the component n after applying pca to de dataframe df\n",
    "    \n",
    "    INPUT: df (dataframe), pca (transformation applied), n(principal component to analyze)\n",
    "    OUTPUT: list of the top 10 variables and their weights\n",
    "    \"\"\"\n",
    "\n",
    "    # Dimension indexing\n",
    "    dimensions = dimensions = ['Dimension {}'.format(i) for i in range(1,len(pca.components_)+1)]\n",
    "    # PCA components\n",
    "    components = pd.DataFrame(np.round(pca.components_, 4), columns = df.keys())\n",
    "    components.index = dimensions\n",
    "    df_comp = components.iloc[n-1].to_frame()\n",
    "    df_comp[\"Abs_value\"] = df_comp.abs()\n",
    "    df_comp = df_comp.sort_values(by='Abs_value', ascending = False)\n",
    "    df_comp = df_comp[df_comp.columns[0]].head(10)\n",
    "    return df_comp\n"
   ]
  },
  {
   "cell_type": "code",
   "execution_count": 71,
   "metadata": {},
   "outputs": [
    {
     "data": {
      "text/plain": [
       "genre_Comedy       0.5640\n",
       "dec__2010         -0.5134\n",
       "genre_Drama       -0.4305\n",
       "dec__2000          0.3448\n",
       "genre_Thriller    -0.1734\n",
       "genre_Adventure    0.1203\n",
       "genre_Romance      0.1040\n",
       "dec__1990          0.0960\n",
       "genre_Crime       -0.0947\n",
       "genre_Mystery     -0.0900\n",
       "Name: Dimension 1, dtype: float64"
      ]
     },
     "execution_count": 71,
     "metadata": {},
     "output_type": "execute_result"
    }
   ],
   "source": [
    "# Get weights for the first principal component\n",
    "pc_indexes(movies2, pca, 1)"
   ]
  },
  {
   "cell_type": "code",
   "execution_count": 72,
   "metadata": {},
   "outputs": [
    {
     "data": {
      "text/plain": [
       "genre_Drama       -0.6524\n",
       "genre_Action       0.4012\n",
       "dec__2010          0.3545\n",
       "genre_Adventure    0.2836\n",
       "genre_Romance     -0.2707\n",
       "dec__2000         -0.2509\n",
       "genre_Thriller     0.1360\n",
       "genre_Horror       0.1182\n",
       "genre_Sci-Fi       0.0960\n",
       "Year               0.0685\n",
       "Name: Dimension 2, dtype: float64"
      ]
     },
     "execution_count": 72,
     "metadata": {},
     "output_type": "execute_result"
    }
   ],
   "source": [
    "pc_indexes(movies2, pca, 2)"
   ]
  },
  {
   "cell_type": "code",
   "execution_count": 73,
   "metadata": {},
   "outputs": [
    {
     "data": {
      "text/plain": [
       "genre_Comedy     -0.5426\n",
       "dec__2010        -0.4686\n",
       "dec__2000         0.4239\n",
       "genre_Action      0.2726\n",
       "genre_Thriller    0.2673\n",
       "genre_Romance    -0.2493\n",
       "genre_Crime       0.2326\n",
       "genre_Horror      0.1100\n",
       "genre_Mystery     0.1093\n",
       "genre_Drama      -0.0629\n",
       "Name: Dimension 3, dtype: float64"
      ]
     },
     "execution_count": 73,
     "metadata": {},
     "output_type": "execute_result"
    }
   ],
   "source": [
    "pc_indexes(movies2, pca, 3)"
   ]
  },
  {
   "cell_type": "code",
   "execution_count": 74,
   "metadata": {},
   "outputs": [
    {
     "data": {
      "text/plain": [
       "dec__2000       -0.6124\n",
       "dec__1990        0.6005\n",
       "dec__2010       -0.3431\n",
       "genre_Crime      0.2245\n",
       "Year            -0.2009\n",
       "dec__1980        0.1568\n",
       "genre_Romance   -0.0750\n",
       "dec__1970        0.0679\n",
       "genre_Horror    -0.0543\n",
       "dec__1960        0.0472\n",
       "Name: Dimension 4, dtype: float64"
      ]
     },
     "execution_count": 74,
     "metadata": {},
     "output_type": "execute_result"
    }
   ],
   "source": [
    "pc_indexes(movies2, pca, 4)"
   ]
  },
  {
   "cell_type": "markdown",
   "metadata": {},
   "source": [
    "We can see that the first 4 principal components are based on the genre and when it was filmed (different decades or year)"
   ]
  },
  {
   "cell_type": "markdown",
   "metadata": {},
   "source": [
    "#### Merging dataframes"
   ]
  },
  {
   "cell_type": "code",
   "execution_count": 75,
   "metadata": {},
   "outputs": [
    {
     "data": {
      "text/html": [
       "<div>\n",
       "<style scoped>\n",
       "    .dataframe tbody tr th:only-of-type {\n",
       "        vertical-align: middle;\n",
       "    }\n",
       "\n",
       "    .dataframe tbody tr th {\n",
       "        vertical-align: top;\n",
       "    }\n",
       "\n",
       "    .dataframe thead th {\n",
       "        text-align: right;\n",
       "    }\n",
       "</style>\n",
       "<table border=\"1\" class=\"dataframe\">\n",
       "  <thead>\n",
       "    <tr style=\"text-align: right;\">\n",
       "      <th></th>\n",
       "      <th>0</th>\n",
       "      <th>1</th>\n",
       "      <th>2</th>\n",
       "      <th>3</th>\n",
       "      <th>4</th>\n",
       "      <th>5</th>\n",
       "      <th>6</th>\n",
       "      <th>7</th>\n",
       "      <th>8</th>\n",
       "      <th>9</th>\n",
       "      <th>...</th>\n",
       "      <th>2350</th>\n",
       "      <th>2351</th>\n",
       "      <th>2352</th>\n",
       "      <th>2353</th>\n",
       "      <th>2354</th>\n",
       "      <th>2355</th>\n",
       "      <th>2356</th>\n",
       "      <th>2357</th>\n",
       "      <th>2358</th>\n",
       "      <th>2359</th>\n",
       "    </tr>\n",
       "  </thead>\n",
       "  <tbody>\n",
       "    <tr>\n",
       "      <th>0</th>\n",
       "      <td>-0.313689</td>\n",
       "      <td>-0.597162</td>\n",
       "      <td>0.128842</td>\n",
       "      <td>0.330291</td>\n",
       "      <td>-0.026077</td>\n",
       "      <td>-0.459146</td>\n",
       "      <td>-0.338470</td>\n",
       "      <td>0.265075</td>\n",
       "      <td>0.117596</td>\n",
       "      <td>-0.198416</td>\n",
       "      <td>...</td>\n",
       "      <td>0.002364</td>\n",
       "      <td>0.004838</td>\n",
       "      <td>-0.001615</td>\n",
       "      <td>0.002401</td>\n",
       "      <td>-0.012468</td>\n",
       "      <td>-0.001802</td>\n",
       "      <td>-0.001164</td>\n",
       "      <td>-0.001745</td>\n",
       "      <td>-0.001856</td>\n",
       "      <td>0.000547</td>\n",
       "    </tr>\n",
       "    <tr>\n",
       "      <th>1</th>\n",
       "      <td>-0.298847</td>\n",
       "      <td>-0.574206</td>\n",
       "      <td>0.121152</td>\n",
       "      <td>0.325026</td>\n",
       "      <td>-0.009466</td>\n",
       "      <td>-0.413827</td>\n",
       "      <td>-0.327309</td>\n",
       "      <td>0.247606</td>\n",
       "      <td>0.100154</td>\n",
       "      <td>-0.166438</td>\n",
       "      <td>...</td>\n",
       "      <td>0.002250</td>\n",
       "      <td>0.006698</td>\n",
       "      <td>-0.000252</td>\n",
       "      <td>0.004020</td>\n",
       "      <td>-0.012722</td>\n",
       "      <td>-0.000143</td>\n",
       "      <td>-0.002631</td>\n",
       "      <td>0.000178</td>\n",
       "      <td>-0.000795</td>\n",
       "      <td>0.000714</td>\n",
       "    </tr>\n",
       "    <tr>\n",
       "      <th>2</th>\n",
       "      <td>-0.146172</td>\n",
       "      <td>-0.806537</td>\n",
       "      <td>-0.139703</td>\n",
       "      <td>0.250200</td>\n",
       "      <td>0.049599</td>\n",
       "      <td>-0.459049</td>\n",
       "      <td>0.495977</td>\n",
       "      <td>0.532852</td>\n",
       "      <td>0.007198</td>\n",
       "      <td>0.204848</td>\n",
       "      <td>...</td>\n",
       "      <td>0.003879</td>\n",
       "      <td>0.006271</td>\n",
       "      <td>0.000197</td>\n",
       "      <td>0.006699</td>\n",
       "      <td>-0.012567</td>\n",
       "      <td>-0.000628</td>\n",
       "      <td>-0.002414</td>\n",
       "      <td>-0.000456</td>\n",
       "      <td>-0.000014</td>\n",
       "      <td>0.003899</td>\n",
       "    </tr>\n",
       "    <tr>\n",
       "      <th>3</th>\n",
       "      <td>0.092787</td>\n",
       "      <td>0.304939</td>\n",
       "      <td>0.404004</td>\n",
       "      <td>0.212250</td>\n",
       "      <td>1.086380</td>\n",
       "      <td>-0.414995</td>\n",
       "      <td>-0.356969</td>\n",
       "      <td>0.261278</td>\n",
       "      <td>-0.799672</td>\n",
       "      <td>0.261945</td>\n",
       "      <td>...</td>\n",
       "      <td>0.004386</td>\n",
       "      <td>-0.000465</td>\n",
       "      <td>0.003043</td>\n",
       "      <td>0.000428</td>\n",
       "      <td>-0.001795</td>\n",
       "      <td>0.003828</td>\n",
       "      <td>-0.003754</td>\n",
       "      <td>0.000948</td>\n",
       "      <td>0.000681</td>\n",
       "      <td>-0.001532</td>\n",
       "    </tr>\n",
       "    <tr>\n",
       "      <th>4</th>\n",
       "      <td>0.178087</td>\n",
       "      <td>0.279010</td>\n",
       "      <td>0.277412</td>\n",
       "      <td>0.245441</td>\n",
       "      <td>0.854464</td>\n",
       "      <td>-0.480230</td>\n",
       "      <td>-0.298539</td>\n",
       "      <td>0.343962</td>\n",
       "      <td>-0.627673</td>\n",
       "      <td>-0.015954</td>\n",
       "      <td>...</td>\n",
       "      <td>-0.003278</td>\n",
       "      <td>0.002029</td>\n",
       "      <td>-0.001147</td>\n",
       "      <td>0.002163</td>\n",
       "      <td>0.006695</td>\n",
       "      <td>-0.002591</td>\n",
       "      <td>0.002271</td>\n",
       "      <td>0.004459</td>\n",
       "      <td>0.004102</td>\n",
       "      <td>0.007186</td>\n",
       "    </tr>\n",
       "    <tr>\n",
       "      <th>...</th>\n",
       "      <td>...</td>\n",
       "      <td>...</td>\n",
       "      <td>...</td>\n",
       "      <td>...</td>\n",
       "      <td>...</td>\n",
       "      <td>...</td>\n",
       "      <td>...</td>\n",
       "      <td>...</td>\n",
       "      <td>...</td>\n",
       "      <td>...</td>\n",
       "      <td>...</td>\n",
       "      <td>...</td>\n",
       "      <td>...</td>\n",
       "      <td>...</td>\n",
       "      <td>...</td>\n",
       "      <td>...</td>\n",
       "      <td>...</td>\n",
       "      <td>...</td>\n",
       "      <td>...</td>\n",
       "      <td>...</td>\n",
       "      <td>...</td>\n",
       "    </tr>\n",
       "    <tr>\n",
       "      <th>11061</th>\n",
       "      <td>0.779257</td>\n",
       "      <td>-0.054088</td>\n",
       "      <td>-0.666233</td>\n",
       "      <td>0.032057</td>\n",
       "      <td>0.255374</td>\n",
       "      <td>0.048129</td>\n",
       "      <td>0.570094</td>\n",
       "      <td>0.317912</td>\n",
       "      <td>-0.015818</td>\n",
       "      <td>0.155142</td>\n",
       "      <td>...</td>\n",
       "      <td>-0.000648</td>\n",
       "      <td>0.000673</td>\n",
       "      <td>0.001479</td>\n",
       "      <td>-0.005310</td>\n",
       "      <td>0.002933</td>\n",
       "      <td>-0.001812</td>\n",
       "      <td>0.000180</td>\n",
       "      <td>-0.001075</td>\n",
       "      <td>0.004129</td>\n",
       "      <td>0.000620</td>\n",
       "    </tr>\n",
       "    <tr>\n",
       "      <th>11062</th>\n",
       "      <td>-0.740066</td>\n",
       "      <td>0.008587</td>\n",
       "      <td>-0.423146</td>\n",
       "      <td>-0.273674</td>\n",
       "      <td>-0.088458</td>\n",
       "      <td>-0.305347</td>\n",
       "      <td>-0.349565</td>\n",
       "      <td>-0.191655</td>\n",
       "      <td>-0.116923</td>\n",
       "      <td>0.184301</td>\n",
       "      <td>...</td>\n",
       "      <td>0.004292</td>\n",
       "      <td>-0.002037</td>\n",
       "      <td>0.005459</td>\n",
       "      <td>0.002902</td>\n",
       "      <td>-0.001262</td>\n",
       "      <td>-0.018424</td>\n",
       "      <td>-0.009953</td>\n",
       "      <td>-0.018614</td>\n",
       "      <td>-0.008223</td>\n",
       "      <td>0.009463</td>\n",
       "    </tr>\n",
       "    <tr>\n",
       "      <th>11063</th>\n",
       "      <td>0.267366</td>\n",
       "      <td>0.297247</td>\n",
       "      <td>-1.137719</td>\n",
       "      <td>-0.311929</td>\n",
       "      <td>0.213045</td>\n",
       "      <td>0.210269</td>\n",
       "      <td>0.619867</td>\n",
       "      <td>0.195659</td>\n",
       "      <td>-0.071977</td>\n",
       "      <td>0.221898</td>\n",
       "      <td>...</td>\n",
       "      <td>0.035844</td>\n",
       "      <td>-0.014355</td>\n",
       "      <td>-0.022498</td>\n",
       "      <td>-0.004909</td>\n",
       "      <td>0.001140</td>\n",
       "      <td>-0.027466</td>\n",
       "      <td>0.003385</td>\n",
       "      <td>-0.001770</td>\n",
       "      <td>0.015715</td>\n",
       "      <td>-0.006672</td>\n",
       "    </tr>\n",
       "    <tr>\n",
       "      <th>11064</th>\n",
       "      <td>0.648093</td>\n",
       "      <td>0.615286</td>\n",
       "      <td>-0.151195</td>\n",
       "      <td>0.150485</td>\n",
       "      <td>-0.288017</td>\n",
       "      <td>0.149552</td>\n",
       "      <td>0.142450</td>\n",
       "      <td>0.122085</td>\n",
       "      <td>-0.093968</td>\n",
       "      <td>-0.615604</td>\n",
       "      <td>...</td>\n",
       "      <td>0.026943</td>\n",
       "      <td>-0.016551</td>\n",
       "      <td>-0.005547</td>\n",
       "      <td>-0.006136</td>\n",
       "      <td>-0.013362</td>\n",
       "      <td>-0.001087</td>\n",
       "      <td>-0.010360</td>\n",
       "      <td>0.004860</td>\n",
       "      <td>0.028285</td>\n",
       "      <td>-0.005910</td>\n",
       "    </tr>\n",
       "    <tr>\n",
       "      <th>11065</th>\n",
       "      <td>-0.608526</td>\n",
       "      <td>1.068478</td>\n",
       "      <td>0.191840</td>\n",
       "      <td>-0.154082</td>\n",
       "      <td>0.081798</td>\n",
       "      <td>0.134848</td>\n",
       "      <td>0.602576</td>\n",
       "      <td>-0.068356</td>\n",
       "      <td>0.412828</td>\n",
       "      <td>-0.420203</td>\n",
       "      <td>...</td>\n",
       "      <td>0.001605</td>\n",
       "      <td>-0.000522</td>\n",
       "      <td>-0.003451</td>\n",
       "      <td>0.000135</td>\n",
       "      <td>-0.002499</td>\n",
       "      <td>0.000255</td>\n",
       "      <td>-0.000626</td>\n",
       "      <td>0.001262</td>\n",
       "      <td>0.000902</td>\n",
       "      <td>-0.002518</td>\n",
       "    </tr>\n",
       "  </tbody>\n",
       "</table>\n",
       "<p>11066 rows × 2360 columns</p>\n",
       "</div>"
      ],
      "text/plain": [
       "           0         1         2         3         4         5         6     \\\n",
       "0     -0.313689 -0.597162  0.128842  0.330291 -0.026077 -0.459146 -0.338470   \n",
       "1     -0.298847 -0.574206  0.121152  0.325026 -0.009466 -0.413827 -0.327309   \n",
       "2     -0.146172 -0.806537 -0.139703  0.250200  0.049599 -0.459049  0.495977   \n",
       "3      0.092787  0.304939  0.404004  0.212250  1.086380 -0.414995 -0.356969   \n",
       "4      0.178087  0.279010  0.277412  0.245441  0.854464 -0.480230 -0.298539   \n",
       "...         ...       ...       ...       ...       ...       ...       ...   \n",
       "11061  0.779257 -0.054088 -0.666233  0.032057  0.255374  0.048129  0.570094   \n",
       "11062 -0.740066  0.008587 -0.423146 -0.273674 -0.088458 -0.305347 -0.349565   \n",
       "11063  0.267366  0.297247 -1.137719 -0.311929  0.213045  0.210269  0.619867   \n",
       "11064  0.648093  0.615286 -0.151195  0.150485 -0.288017  0.149552  0.142450   \n",
       "11065 -0.608526  1.068478  0.191840 -0.154082  0.081798  0.134848  0.602576   \n",
       "\n",
       "           7         8         9     ...      2350      2351      2352  \\\n",
       "0      0.265075  0.117596 -0.198416  ...  0.002364  0.004838 -0.001615   \n",
       "1      0.247606  0.100154 -0.166438  ...  0.002250  0.006698 -0.000252   \n",
       "2      0.532852  0.007198  0.204848  ...  0.003879  0.006271  0.000197   \n",
       "3      0.261278 -0.799672  0.261945  ...  0.004386 -0.000465  0.003043   \n",
       "4      0.343962 -0.627673 -0.015954  ... -0.003278  0.002029 -0.001147   \n",
       "...         ...       ...       ...  ...       ...       ...       ...   \n",
       "11061  0.317912 -0.015818  0.155142  ... -0.000648  0.000673  0.001479   \n",
       "11062 -0.191655 -0.116923  0.184301  ...  0.004292 -0.002037  0.005459   \n",
       "11063  0.195659 -0.071977  0.221898  ...  0.035844 -0.014355 -0.022498   \n",
       "11064  0.122085 -0.093968 -0.615604  ...  0.026943 -0.016551 -0.005547   \n",
       "11065 -0.068356  0.412828 -0.420203  ...  0.001605 -0.000522 -0.003451   \n",
       "\n",
       "           2353      2354      2355      2356      2357      2358      2359  \n",
       "0      0.002401 -0.012468 -0.001802 -0.001164 -0.001745 -0.001856  0.000547  \n",
       "1      0.004020 -0.012722 -0.000143 -0.002631  0.000178 -0.000795  0.000714  \n",
       "2      0.006699 -0.012567 -0.000628 -0.002414 -0.000456 -0.000014  0.003899  \n",
       "3      0.000428 -0.001795  0.003828 -0.003754  0.000948  0.000681 -0.001532  \n",
       "4      0.002163  0.006695 -0.002591  0.002271  0.004459  0.004102  0.007186  \n",
       "...         ...       ...       ...       ...       ...       ...       ...  \n",
       "11061 -0.005310  0.002933 -0.001812  0.000180 -0.001075  0.004129  0.000620  \n",
       "11062  0.002902 -0.001262 -0.018424 -0.009953 -0.018614 -0.008223  0.009463  \n",
       "11063 -0.004909  0.001140 -0.027466  0.003385 -0.001770  0.015715 -0.006672  \n",
       "11064 -0.006136 -0.013362 -0.001087 -0.010360  0.004860  0.028285 -0.005910  \n",
       "11065  0.000135 -0.002499  0.000255 -0.000626  0.001262  0.000902 -0.002518  \n",
       "\n",
       "[11066 rows x 2360 columns]"
      ]
     },
     "execution_count": 75,
     "metadata": {},
     "output_type": "execute_result"
    }
   ],
   "source": [
    "movies_pca_end"
   ]
  },
  {
   "cell_type": "code",
   "execution_count": 76,
   "metadata": {},
   "outputs": [
    {
     "data": {
      "text/html": [
       "<div>\n",
       "<style scoped>\n",
       "    .dataframe tbody tr th:only-of-type {\n",
       "        vertical-align: middle;\n",
       "    }\n",
       "\n",
       "    .dataframe tbody tr th {\n",
       "        vertical-align: top;\n",
       "    }\n",
       "\n",
       "    .dataframe thead th {\n",
       "        text-align: right;\n",
       "    }\n",
       "</style>\n",
       "<table border=\"1\" class=\"dataframe\">\n",
       "  <thead>\n",
       "    <tr style=\"text-align: right;\">\n",
       "      <th></th>\n",
       "      <th>averageRating</th>\n",
       "    </tr>\n",
       "  </thead>\n",
       "  <tbody>\n",
       "    <tr>\n",
       "      <th>0</th>\n",
       "      <td>0.638554</td>\n",
       "    </tr>\n",
       "    <tr>\n",
       "      <th>1</th>\n",
       "      <td>0.819277</td>\n",
       "    </tr>\n",
       "    <tr>\n",
       "      <th>2</th>\n",
       "      <td>0.759036</td>\n",
       "    </tr>\n",
       "    <tr>\n",
       "      <th>3</th>\n",
       "      <td>0.855422</td>\n",
       "    </tr>\n",
       "    <tr>\n",
       "      <th>4</th>\n",
       "      <td>0.746988</td>\n",
       "    </tr>\n",
       "    <tr>\n",
       "      <th>...</th>\n",
       "      <td>...</td>\n",
       "    </tr>\n",
       "    <tr>\n",
       "      <th>11061</th>\n",
       "      <td>0.722892</td>\n",
       "    </tr>\n",
       "    <tr>\n",
       "      <th>11062</th>\n",
       "      <td>0.795181</td>\n",
       "    </tr>\n",
       "    <tr>\n",
       "      <th>11063</th>\n",
       "      <td>0.554217</td>\n",
       "    </tr>\n",
       "    <tr>\n",
       "      <th>11064</th>\n",
       "      <td>0.493976</td>\n",
       "    </tr>\n",
       "    <tr>\n",
       "      <th>11065</th>\n",
       "      <td>0.903614</td>\n",
       "    </tr>\n",
       "  </tbody>\n",
       "</table>\n",
       "<p>11066 rows × 1 columns</p>\n",
       "</div>"
      ],
      "text/plain": [
       "       averageRating\n",
       "0           0.638554\n",
       "1           0.819277\n",
       "2           0.759036\n",
       "3           0.855422\n",
       "4           0.746988\n",
       "...              ...\n",
       "11061       0.722892\n",
       "11062       0.795181\n",
       "11063       0.554217\n",
       "11064       0.493976\n",
       "11065       0.903614\n",
       "\n",
       "[11066 rows x 1 columns]"
      ]
     },
     "execution_count": 76,
     "metadata": {},
     "output_type": "execute_result"
    }
   ],
   "source": [
    "movies1"
   ]
  },
  {
   "cell_type": "code",
   "execution_count": 77,
   "metadata": {},
   "outputs": [],
   "source": [
    "df_movies = pd.merge(movies1, movies_pca_end, left_index=True, right_index=True)"
   ]
  },
  {
   "cell_type": "code",
   "execution_count": 78,
   "metadata": {},
   "outputs": [
    {
     "data": {
      "text/html": [
       "<div>\n",
       "<style scoped>\n",
       "    .dataframe tbody tr th:only-of-type {\n",
       "        vertical-align: middle;\n",
       "    }\n",
       "\n",
       "    .dataframe tbody tr th {\n",
       "        vertical-align: top;\n",
       "    }\n",
       "\n",
       "    .dataframe thead th {\n",
       "        text-align: right;\n",
       "    }\n",
       "</style>\n",
       "<table border=\"1\" class=\"dataframe\">\n",
       "  <thead>\n",
       "    <tr style=\"text-align: right;\">\n",
       "      <th></th>\n",
       "      <th>averageRating</th>\n",
       "      <th>0</th>\n",
       "      <th>1</th>\n",
       "      <th>2</th>\n",
       "      <th>3</th>\n",
       "      <th>4</th>\n",
       "      <th>5</th>\n",
       "      <th>6</th>\n",
       "      <th>7</th>\n",
       "      <th>8</th>\n",
       "      <th>...</th>\n",
       "      <th>2350</th>\n",
       "      <th>2351</th>\n",
       "      <th>2352</th>\n",
       "      <th>2353</th>\n",
       "      <th>2354</th>\n",
       "      <th>2355</th>\n",
       "      <th>2356</th>\n",
       "      <th>2357</th>\n",
       "      <th>2358</th>\n",
       "      <th>2359</th>\n",
       "    </tr>\n",
       "  </thead>\n",
       "  <tbody>\n",
       "    <tr>\n",
       "      <th>0</th>\n",
       "      <td>0.638554</td>\n",
       "      <td>-0.313689</td>\n",
       "      <td>-0.597162</td>\n",
       "      <td>0.128842</td>\n",
       "      <td>0.330291</td>\n",
       "      <td>-0.026077</td>\n",
       "      <td>-0.459146</td>\n",
       "      <td>-0.338470</td>\n",
       "      <td>0.265075</td>\n",
       "      <td>0.117596</td>\n",
       "      <td>...</td>\n",
       "      <td>0.002364</td>\n",
       "      <td>0.004838</td>\n",
       "      <td>-0.001615</td>\n",
       "      <td>0.002401</td>\n",
       "      <td>-0.012468</td>\n",
       "      <td>-0.001802</td>\n",
       "      <td>-0.001164</td>\n",
       "      <td>-0.001745</td>\n",
       "      <td>-0.001856</td>\n",
       "      <td>0.000547</td>\n",
       "    </tr>\n",
       "    <tr>\n",
       "      <th>1</th>\n",
       "      <td>0.819277</td>\n",
       "      <td>-0.298847</td>\n",
       "      <td>-0.574206</td>\n",
       "      <td>0.121152</td>\n",
       "      <td>0.325026</td>\n",
       "      <td>-0.009466</td>\n",
       "      <td>-0.413827</td>\n",
       "      <td>-0.327309</td>\n",
       "      <td>0.247606</td>\n",
       "      <td>0.100154</td>\n",
       "      <td>...</td>\n",
       "      <td>0.002250</td>\n",
       "      <td>0.006698</td>\n",
       "      <td>-0.000252</td>\n",
       "      <td>0.004020</td>\n",
       "      <td>-0.012722</td>\n",
       "      <td>-0.000143</td>\n",
       "      <td>-0.002631</td>\n",
       "      <td>0.000178</td>\n",
       "      <td>-0.000795</td>\n",
       "      <td>0.000714</td>\n",
       "    </tr>\n",
       "    <tr>\n",
       "      <th>2</th>\n",
       "      <td>0.759036</td>\n",
       "      <td>-0.146172</td>\n",
       "      <td>-0.806537</td>\n",
       "      <td>-0.139703</td>\n",
       "      <td>0.250200</td>\n",
       "      <td>0.049599</td>\n",
       "      <td>-0.459049</td>\n",
       "      <td>0.495977</td>\n",
       "      <td>0.532852</td>\n",
       "      <td>0.007198</td>\n",
       "      <td>...</td>\n",
       "      <td>0.003879</td>\n",
       "      <td>0.006271</td>\n",
       "      <td>0.000197</td>\n",
       "      <td>0.006699</td>\n",
       "      <td>-0.012567</td>\n",
       "      <td>-0.000628</td>\n",
       "      <td>-0.002414</td>\n",
       "      <td>-0.000456</td>\n",
       "      <td>-0.000014</td>\n",
       "      <td>0.003899</td>\n",
       "    </tr>\n",
       "    <tr>\n",
       "      <th>3</th>\n",
       "      <td>0.855422</td>\n",
       "      <td>0.092787</td>\n",
       "      <td>0.304939</td>\n",
       "      <td>0.404004</td>\n",
       "      <td>0.212250</td>\n",
       "      <td>1.086380</td>\n",
       "      <td>-0.414995</td>\n",
       "      <td>-0.356969</td>\n",
       "      <td>0.261278</td>\n",
       "      <td>-0.799672</td>\n",
       "      <td>...</td>\n",
       "      <td>0.004386</td>\n",
       "      <td>-0.000465</td>\n",
       "      <td>0.003043</td>\n",
       "      <td>0.000428</td>\n",
       "      <td>-0.001795</td>\n",
       "      <td>0.003828</td>\n",
       "      <td>-0.003754</td>\n",
       "      <td>0.000948</td>\n",
       "      <td>0.000681</td>\n",
       "      <td>-0.001532</td>\n",
       "    </tr>\n",
       "    <tr>\n",
       "      <th>4</th>\n",
       "      <td>0.746988</td>\n",
       "      <td>0.178087</td>\n",
       "      <td>0.279010</td>\n",
       "      <td>0.277412</td>\n",
       "      <td>0.245441</td>\n",
       "      <td>0.854464</td>\n",
       "      <td>-0.480230</td>\n",
       "      <td>-0.298539</td>\n",
       "      <td>0.343962</td>\n",
       "      <td>-0.627673</td>\n",
       "      <td>...</td>\n",
       "      <td>-0.003278</td>\n",
       "      <td>0.002029</td>\n",
       "      <td>-0.001147</td>\n",
       "      <td>0.002163</td>\n",
       "      <td>0.006695</td>\n",
       "      <td>-0.002591</td>\n",
       "      <td>0.002271</td>\n",
       "      <td>0.004459</td>\n",
       "      <td>0.004102</td>\n",
       "      <td>0.007186</td>\n",
       "    </tr>\n",
       "  </tbody>\n",
       "</table>\n",
       "<p>5 rows × 2361 columns</p>\n",
       "</div>"
      ],
      "text/plain": [
       "   averageRating         0         1         2         3         4         5  \\\n",
       "0       0.638554 -0.313689 -0.597162  0.128842  0.330291 -0.026077 -0.459146   \n",
       "1       0.819277 -0.298847 -0.574206  0.121152  0.325026 -0.009466 -0.413827   \n",
       "2       0.759036 -0.146172 -0.806537 -0.139703  0.250200  0.049599 -0.459049   \n",
       "3       0.855422  0.092787  0.304939  0.404004  0.212250  1.086380 -0.414995   \n",
       "4       0.746988  0.178087  0.279010  0.277412  0.245441  0.854464 -0.480230   \n",
       "\n",
       "          6         7         8  ...      2350      2351      2352      2353  \\\n",
       "0 -0.338470  0.265075  0.117596  ...  0.002364  0.004838 -0.001615  0.002401   \n",
       "1 -0.327309  0.247606  0.100154  ...  0.002250  0.006698 -0.000252  0.004020   \n",
       "2  0.495977  0.532852  0.007198  ...  0.003879  0.006271  0.000197  0.006699   \n",
       "3 -0.356969  0.261278 -0.799672  ...  0.004386 -0.000465  0.003043  0.000428   \n",
       "4 -0.298539  0.343962 -0.627673  ... -0.003278  0.002029 -0.001147  0.002163   \n",
       "\n",
       "       2354      2355      2356      2357      2358      2359  \n",
       "0 -0.012468 -0.001802 -0.001164 -0.001745 -0.001856  0.000547  \n",
       "1 -0.012722 -0.000143 -0.002631  0.000178 -0.000795  0.000714  \n",
       "2 -0.012567 -0.000628 -0.002414 -0.000456 -0.000014  0.003899  \n",
       "3 -0.001795  0.003828 -0.003754  0.000948  0.000681 -0.001532  \n",
       "4  0.006695 -0.002591  0.002271  0.004459  0.004102  0.007186  \n",
       "\n",
       "[5 rows x 2361 columns]"
      ]
     },
     "execution_count": 78,
     "metadata": {},
     "output_type": "execute_result"
    }
   ],
   "source": [
    "df_movies.head()"
   ]
  },
  {
   "cell_type": "markdown",
   "metadata": {},
   "source": [
    "### <a class=\"anchor\" id=\"Alg_Selection\"> 2.b.- Algorithm Selection\n",
    "We´re going to test a few regression algorithms with all the features and the default parameters to see which one works better"
   ]
  },
  {
   "cell_type": "code",
   "execution_count": 79,
   "metadata": {},
   "outputs": [
    {
     "data": {
      "text/plain": [
       "((8852, 2360), (8852,), (2214, 2360), (2214,))"
      ]
     },
     "execution_count": 79,
     "metadata": {},
     "output_type": "execute_result"
    }
   ],
   "source": [
    "X = df_movies.drop(\"averageRating\", axis=1).copy()\n",
    "y = df_movies[\"averageRating\"]\n",
    "X_train, X_test, y_train, y_test = train_test_split(X, y, test_size=0.2, random_state=42, shuffle = True)\n",
    "X_train.shape, y_train.shape, X_test.shape, y_test.shape"
   ]
  },
  {
   "cell_type": "code",
   "execution_count": 80,
   "metadata": {},
   "outputs": [],
   "source": [
    "#function to test the algorithm\n",
    "def test_model(alg):\n",
    "    train_score = 0\n",
    "    test_score = 0\n",
    "    clf = alg\n",
    "    clf.fit(X_train, y_train)\n",
    "    y_pred = clf.predict(X_test)\n",
    "    train_score = clf.score(X_train, y_train)\n",
    "    test_score = clf.score(X_test, y_test) \n",
    "    \n",
    "    return train_score, test_score"
   ]
  },
  {
   "cell_type": "code",
   "execution_count": 81,
   "metadata": {},
   "outputs": [],
   "source": [
    "#Test Linear Regression, create df of scores and its score\n",
    "model = test_model(LinearRegression())\n",
    "scores = pd.DataFrame({'Algorithm': 'Linear Regression', 'Train_score': [model[0]], 'Test_score': [model[1]]},columns = ['Algorithm','Train_score','Test_score'])"
   ]
  },
  {
   "cell_type": "code",
   "execution_count": 83,
   "metadata": {},
   "outputs": [],
   "source": [
    "#Test Lasso, create add score to df\n",
    "model =test_model(Lasso())\n",
    "scores = scores.append({'Algorithm' : 'Lasso' , 'Train_score' : model[0], 'Test_score' : model[1]} , ignore_index=True)"
   ]
  },
  {
   "cell_type": "code",
   "execution_count": 85,
   "metadata": {},
   "outputs": [],
   "source": [
    "#Test Elastic Net, create add score to df\n",
    "model =test_model(ElasticNet())\n",
    "scores = scores.append({'Algorithm' : 'Elastic Net' , 'Train_score' : model[0], 'Test_score' : model[1]} , ignore_index=True)\n"
   ]
  },
  {
   "cell_type": "code",
   "execution_count": 87,
   "metadata": {},
   "outputs": [],
   "source": [
    "#Test KNeighborsRegressor(), create add score to df\n",
    "model =test_model(KNeighborsRegressor())\n",
    "scores = scores.append({'Algorithm' :'KNeighbors Regressor' , 'Train_score' : model[0], 'Test_score' : model[1]} , ignore_index=True)"
   ]
  },
  {
   "cell_type": "code",
   "execution_count": 89,
   "metadata": {},
   "outputs": [],
   "source": [
    "#Test DecisionTreeRegressor(), create add score to df\n",
    "model =test_model(DecisionTreeRegressor())\n",
    "scores = scores.append({'Algorithm' : 'Decision Tree Regressor' , 'Train_score' : model[0], 'Test_score' : model[1]} , ignore_index=True)"
   ]
  },
  {
   "cell_type": "code",
   "execution_count": 91,
   "metadata": {},
   "outputs": [],
   "source": [
    "#Test GradientBoostingRegressor(), create add score to df\n",
    "model =test_model(GradientBoostingRegressor())\n",
    "scores = scores.append({'Algorithm' : 'Gradient Boosting Regressor' , 'Train_score' : model[0], 'Test_score' : model[1]} , ignore_index=True)"
   ]
  },
  {
   "cell_type": "code",
   "execution_count": 92,
   "metadata": {},
   "outputs": [
    {
     "name": "stdout",
     "output_type": "stream",
     "text": [
      "The score of the different algorithms is\n"
     ]
    },
    {
     "data": {
      "text/html": [
       "<div>\n",
       "<style scoped>\n",
       "    .dataframe tbody tr th:only-of-type {\n",
       "        vertical-align: middle;\n",
       "    }\n",
       "\n",
       "    .dataframe tbody tr th {\n",
       "        vertical-align: top;\n",
       "    }\n",
       "\n",
       "    .dataframe thead th {\n",
       "        text-align: right;\n",
       "    }\n",
       "</style>\n",
       "<table border=\"1\" class=\"dataframe\">\n",
       "  <thead>\n",
       "    <tr style=\"text-align: right;\">\n",
       "      <th></th>\n",
       "      <th>Algorithm</th>\n",
       "      <th>Train_score</th>\n",
       "      <th>Test_score</th>\n",
       "    </tr>\n",
       "  </thead>\n",
       "  <tbody>\n",
       "    <tr>\n",
       "      <th>4</th>\n",
       "      <td>Decision Tree Regressor</td>\n",
       "      <td>1.000000</td>\n",
       "      <td>-0.314014</td>\n",
       "    </tr>\n",
       "    <tr>\n",
       "      <th>1</th>\n",
       "      <td>Lasso</td>\n",
       "      <td>0.000000</td>\n",
       "      <td>-0.001798</td>\n",
       "    </tr>\n",
       "    <tr>\n",
       "      <th>2</th>\n",
       "      <td>Elastic Net</td>\n",
       "      <td>0.000000</td>\n",
       "      <td>-0.001798</td>\n",
       "    </tr>\n",
       "    <tr>\n",
       "      <th>3</th>\n",
       "      <td>KNeighbors Regressor</td>\n",
       "      <td>0.428934</td>\n",
       "      <td>0.184156</td>\n",
       "    </tr>\n",
       "    <tr>\n",
       "      <th>0</th>\n",
       "      <td>Linear Regression</td>\n",
       "      <td>0.645531</td>\n",
       "      <td>0.399437</td>\n",
       "    </tr>\n",
       "    <tr>\n",
       "      <th>5</th>\n",
       "      <td>Gradient Boosting Regressor</td>\n",
       "      <td>0.573026</td>\n",
       "      <td>0.491279</td>\n",
       "    </tr>\n",
       "  </tbody>\n",
       "</table>\n",
       "</div>"
      ],
      "text/plain": [
       "                     Algorithm  Train_score  Test_score\n",
       "4      Decision Tree Regressor     1.000000   -0.314014\n",
       "1                        Lasso     0.000000   -0.001798\n",
       "2                  Elastic Net     0.000000   -0.001798\n",
       "3         KNeighbors Regressor     0.428934    0.184156\n",
       "0            Linear Regression     0.645531    0.399437\n",
       "5  Gradient Boosting Regressor     0.573026    0.491279"
      ]
     },
     "execution_count": 92,
     "metadata": {},
     "output_type": "execute_result"
    }
   ],
   "source": [
    "print(\"The score of the different algorithms is\")\n",
    "scores.sort_values(by ='Test_score', ascending = True)"
   ]
  },
  {
   "cell_type": "markdown",
   "metadata": {},
   "source": [
    "We are using R2 score:\n",
    "\n",
    "- There are negative values in test score. This is because because the model can be arbitrarily worse, and it´s not a good model for this case (Decision Tree, Lasso and Elastic Net)\n",
    "\n",
    "- Look at the Decision Tree...thats overfitting!!!! Almost one in train and negative in test.\n",
    "\n",
    "- The two best are Linear Regression and Gradient Boosting Regressor, with similar results, around 0.4 score\n",
    "\n",
    "This is a really poor prediction, telling us that is very difficult to predict wether or not people is going to like a movie or not. The next step should be tuning with parameters but it has not much sense with these poor results.\n",
    "\n",
    "But the results of the prediction with Gradient Boosting Regressors are better here (movies with more than 10.000 votes) that in the previous case (movies with more than 100 votes\n",
    "\n",
    "One possible reason for this poor results is the variety of movies, and depending on different things people like them or not. People don´t like the same way comedies than dramas, or even classical comedies than modern commedies.\n",
    "\n",
    "In the next example we are going to try to predict the rating for commedies in 2010´s decade. Let´s see what happens"
   ]
  }
 ],
 "metadata": {
  "kernelspec": {
   "display_name": "Python 3",
   "language": "python",
   "name": "python3"
  },
  "language_info": {
   "codemirror_mode": {
    "name": "ipython",
    "version": 3
   },
   "file_extension": ".py",
   "mimetype": "text/x-python",
   "name": "python",
   "nbconvert_exporter": "python",
   "pygments_lexer": "ipython3",
   "version": "3.7.6"
  }
 },
 "nbformat": 4,
 "nbformat_minor": 2
}
